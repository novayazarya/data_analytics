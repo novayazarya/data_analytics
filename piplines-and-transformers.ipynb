{
 "cells": [
  {
   "cell_type": "markdown",
   "metadata": {
    "id": "7pSLe9qFfBwT"
   },
   "source": [
    "# Scikit-Learn's new integration with Pandas"
   ]
  },
  {
   "cell_type": "code",
   "execution_count": 1,
   "metadata": {
    "id": "Jj-QoCBifQPe"
   },
   "outputs": [],
   "source": [
    "import pandas as pd\n",
    "import numpy as np"
   ]
  },
  {
   "cell_type": "code",
   "execution_count": 4,
   "metadata": {
    "id": "QH2GLoz6fBwe",
    "outputId": "46354fe2-05c2-43a2-9459-32090acc3de5",
    "scrolled": true
   },
   "outputs": [
    {
     "data": {
      "text/html": [
       "<div>\n",
       "<style scoped>\n",
       "    .dataframe tbody tr th:only-of-type {\n",
       "        vertical-align: middle;\n",
       "    }\n",
       "\n",
       "    .dataframe tbody tr th {\n",
       "        vertical-align: top;\n",
       "    }\n",
       "\n",
       "    .dataframe thead th {\n",
       "        text-align: right;\n",
       "    }\n",
       "</style>\n",
       "<table border=\"1\" class=\"dataframe\">\n",
       "  <thead>\n",
       "    <tr style=\"text-align: right;\">\n",
       "      <th></th>\n",
       "      <th>Id</th>\n",
       "      <th>MSSubClass</th>\n",
       "      <th>MSZoning</th>\n",
       "      <th>LotFrontage</th>\n",
       "      <th>LotArea</th>\n",
       "      <th>Street</th>\n",
       "      <th>Alley</th>\n",
       "      <th>LotShape</th>\n",
       "      <th>LandContour</th>\n",
       "      <th>Utilities</th>\n",
       "      <th>...</th>\n",
       "      <th>PoolArea</th>\n",
       "      <th>PoolQC</th>\n",
       "      <th>Fence</th>\n",
       "      <th>MiscFeature</th>\n",
       "      <th>MiscVal</th>\n",
       "      <th>MoSold</th>\n",
       "      <th>YrSold</th>\n",
       "      <th>SaleType</th>\n",
       "      <th>SaleCondition</th>\n",
       "      <th>SalePrice</th>\n",
       "    </tr>\n",
       "  </thead>\n",
       "  <tbody>\n",
       "    <tr>\n",
       "      <th>0</th>\n",
       "      <td>1</td>\n",
       "      <td>60</td>\n",
       "      <td>RL</td>\n",
       "      <td>65.0</td>\n",
       "      <td>8450</td>\n",
       "      <td>Pave</td>\n",
       "      <td>NaN</td>\n",
       "      <td>Reg</td>\n",
       "      <td>Lvl</td>\n",
       "      <td>AllPub</td>\n",
       "      <td>...</td>\n",
       "      <td>0</td>\n",
       "      <td>NaN</td>\n",
       "      <td>NaN</td>\n",
       "      <td>NaN</td>\n",
       "      <td>0</td>\n",
       "      <td>2</td>\n",
       "      <td>2008</td>\n",
       "      <td>WD</td>\n",
       "      <td>Normal</td>\n",
       "      <td>208500</td>\n",
       "    </tr>\n",
       "    <tr>\n",
       "      <th>1</th>\n",
       "      <td>2</td>\n",
       "      <td>20</td>\n",
       "      <td>RL</td>\n",
       "      <td>80.0</td>\n",
       "      <td>9600</td>\n",
       "      <td>Pave</td>\n",
       "      <td>NaN</td>\n",
       "      <td>Reg</td>\n",
       "      <td>Lvl</td>\n",
       "      <td>AllPub</td>\n",
       "      <td>...</td>\n",
       "      <td>0</td>\n",
       "      <td>NaN</td>\n",
       "      <td>NaN</td>\n",
       "      <td>NaN</td>\n",
       "      <td>0</td>\n",
       "      <td>5</td>\n",
       "      <td>2007</td>\n",
       "      <td>WD</td>\n",
       "      <td>Normal</td>\n",
       "      <td>181500</td>\n",
       "    </tr>\n",
       "    <tr>\n",
       "      <th>2</th>\n",
       "      <td>3</td>\n",
       "      <td>60</td>\n",
       "      <td>RL</td>\n",
       "      <td>68.0</td>\n",
       "      <td>11250</td>\n",
       "      <td>Pave</td>\n",
       "      <td>NaN</td>\n",
       "      <td>IR1</td>\n",
       "      <td>Lvl</td>\n",
       "      <td>AllPub</td>\n",
       "      <td>...</td>\n",
       "      <td>0</td>\n",
       "      <td>NaN</td>\n",
       "      <td>NaN</td>\n",
       "      <td>NaN</td>\n",
       "      <td>0</td>\n",
       "      <td>9</td>\n",
       "      <td>2008</td>\n",
       "      <td>WD</td>\n",
       "      <td>Normal</td>\n",
       "      <td>223500</td>\n",
       "    </tr>\n",
       "    <tr>\n",
       "      <th>3</th>\n",
       "      <td>4</td>\n",
       "      <td>70</td>\n",
       "      <td>RL</td>\n",
       "      <td>60.0</td>\n",
       "      <td>9550</td>\n",
       "      <td>Pave</td>\n",
       "      <td>NaN</td>\n",
       "      <td>IR1</td>\n",
       "      <td>Lvl</td>\n",
       "      <td>AllPub</td>\n",
       "      <td>...</td>\n",
       "      <td>0</td>\n",
       "      <td>NaN</td>\n",
       "      <td>NaN</td>\n",
       "      <td>NaN</td>\n",
       "      <td>0</td>\n",
       "      <td>2</td>\n",
       "      <td>2006</td>\n",
       "      <td>WD</td>\n",
       "      <td>Abnorml</td>\n",
       "      <td>140000</td>\n",
       "    </tr>\n",
       "    <tr>\n",
       "      <th>4</th>\n",
       "      <td>5</td>\n",
       "      <td>60</td>\n",
       "      <td>RL</td>\n",
       "      <td>84.0</td>\n",
       "      <td>14260</td>\n",
       "      <td>Pave</td>\n",
       "      <td>NaN</td>\n",
       "      <td>IR1</td>\n",
       "      <td>Lvl</td>\n",
       "      <td>AllPub</td>\n",
       "      <td>...</td>\n",
       "      <td>0</td>\n",
       "      <td>NaN</td>\n",
       "      <td>NaN</td>\n",
       "      <td>NaN</td>\n",
       "      <td>0</td>\n",
       "      <td>12</td>\n",
       "      <td>2008</td>\n",
       "      <td>WD</td>\n",
       "      <td>Normal</td>\n",
       "      <td>250000</td>\n",
       "    </tr>\n",
       "  </tbody>\n",
       "</table>\n",
       "<p>5 rows × 81 columns</p>\n",
       "</div>"
      ],
      "text/plain": [
       "   Id  MSSubClass MSZoning  LotFrontage  LotArea Street Alley LotShape  \\\n",
       "0   1          60       RL         65.0     8450   Pave   NaN      Reg   \n",
       "1   2          20       RL         80.0     9600   Pave   NaN      Reg   \n",
       "2   3          60       RL         68.0    11250   Pave   NaN      IR1   \n",
       "3   4          70       RL         60.0     9550   Pave   NaN      IR1   \n",
       "4   5          60       RL         84.0    14260   Pave   NaN      IR1   \n",
       "\n",
       "  LandContour Utilities  ... PoolArea PoolQC Fence MiscFeature MiscVal MoSold  \\\n",
       "0         Lvl    AllPub  ...        0    NaN   NaN         NaN       0      2   \n",
       "1         Lvl    AllPub  ...        0    NaN   NaN         NaN       0      5   \n",
       "2         Lvl    AllPub  ...        0    NaN   NaN         NaN       0      9   \n",
       "3         Lvl    AllPub  ...        0    NaN   NaN         NaN       0      2   \n",
       "4         Lvl    AllPub  ...        0    NaN   NaN         NaN       0     12   \n",
       "\n",
       "  YrSold  SaleType  SaleCondition  SalePrice  \n",
       "0   2008        WD         Normal     208500  \n",
       "1   2007        WD         Normal     181500  \n",
       "2   2008        WD         Normal     223500  \n",
       "3   2006        WD        Abnorml     140000  \n",
       "4   2008        WD         Normal     250000  \n",
       "\n",
       "[5 rows x 81 columns]"
      ]
     },
     "execution_count": 4,
     "metadata": {},
     "output_type": "execute_result"
    }
   ],
   "source": [
    "train = pd.read_csv('https://raw.githubusercontent.com/DunderData/Tutorials/'\n",
    "                    'master/Machine%20Learning%20Tutorials/'\n",
    "                    'From%20Pandas%20to%20Scikit-Learn%E2%80%8A-%E2%80%8AA%20new%20exciting%C2%A0workflow/'\n",
    "                    'data/housing/train.csv')\n",
    "train.head()"
   ]
  },
  {
   "cell_type": "code",
   "execution_count": 5,
   "metadata": {
    "id": "gzykfEQEfBwk",
    "outputId": "905e3060-f29e-4d29-fa69-958b80af2280"
   },
   "outputs": [
    {
     "data": {
      "text/plain": [
       "(1460, 81)"
      ]
     },
     "execution_count": 5,
     "metadata": {},
     "output_type": "execute_result"
    }
   ],
   "source": [
    "train.shape"
   ]
  },
  {
   "cell_type": "markdown",
   "metadata": {
    "id": "4fZ6WV_wfBwl"
   },
   "source": [
    "### Удаление зависимой переменной из обучающего набора\n",
    "Зависимой переменной является `SalesPrice`, которую мы превратим в массив меток. Он будет использован позднее при обучении модели."
   ]
  },
  {
   "cell_type": "code",
   "execution_count": 7,
   "metadata": {
    "id": "Gm1NDMWGfBwl"
   },
   "outputs": [],
   "source": [
    "y = train.pop('SalePrice').values"
   ]
  },
  {
   "cell_type": "markdown",
   "metadata": {
    "id": "QNEGmHY4fBwl"
   },
   "source": [
    "## Кодировка отдельного столбца со строковыми значениями\n",
    "Для начала закодируем отдельный столбец со строковыми значениями `HouseStyle`, который содержит значения, описывающие внешний облик дома. Давайте выведем частоту каждого строкового значения."
   ]
  },
  {
   "cell_type": "code",
   "execution_count": 9,
   "metadata": {
    "id": "FB11jzdJfBwm",
    "outputId": "707d2c5d-2944-43ce-df9d-48bf1bee003d"
   },
   "outputs": [
    {
     "data": {
      "text/plain": [
       "1Story    726\n",
       "2Story    445\n",
       "1.5Fin    154\n",
       "SLvl       65\n",
       "SFoyer     37\n",
       "1.5Unf     14\n",
       "2.5Unf     11\n",
       "2.5Fin      8\n",
       "Name: HouseStyle, dtype: int64"
      ]
     },
     "execution_count": 9,
     "metadata": {},
     "output_type": "execute_result"
    }
   ],
   "source": [
    "vc = train['HouseStyle'].value_counts()\n",
    "vc"
   ]
  },
  {
   "cell_type": "code",
   "execution_count": 10,
   "metadata": {
    "id": "a4iJS5ATfBwp",
    "outputId": "4c24d8cf-5e0d-4cc2-f2c5-42e9f6faf1e3"
   },
   "outputs": [
    {
     "data": {
      "text/plain": [
       "8"
      ]
     },
     "execution_count": 10,
     "metadata": {},
     "output_type": "execute_result"
    }
   ],
   "source": [
    "len(vc)"
   ]
  },
  {
   "cell_type": "markdown",
   "metadata": {
    "id": "9QxSfqOMfBwq"
   },
   "source": [
    "## Scikit-Learn – только двумерные данные\n",
    "Большинство моделей scikit-Learn требуют, чтобы данными были строго двумерными. Если мы выбираем столбец `train['HouseStyle']`, технически будет создан объект Series, который является одномерным объектом данных. Можно заставить библиотеку Pandas создать объект DataFrame с единственным столбцом, передав список, состоящий из одного элемента, в квадратные скобки:"
   ]
  },
  {
   "cell_type": "code",
   "execution_count": 12,
   "metadata": {
    "id": "FOORbptvfBwq",
    "outputId": "946b67ea-7f71-406c-fe33-26d931251060"
   },
   "outputs": [
    {
     "data": {
      "text/plain": [
       "2"
      ]
     },
     "execution_count": 12,
     "metadata": {},
     "output_type": "execute_result"
    }
   ],
   "source": [
    "hs_train = train[['HouseStyle']].copy()\n",
    "hs_train.ndim"
   ]
  },
  {
   "cell_type": "markdown",
   "metadata": {
    "id": "y7v1tkLRfBwr"
   },
   "source": [
    "## Импортируем класс, создаем экземпляр класса — модель, обучаем модель – трехэтапный процесс работы с моделью\n",
    "Интерфейс библиотеки scikit-learn совместим со всеми моделями машинного обучения и использует трехэтапный процесс обучения на данных\n",
    "\n",
    "1. Импортируем нужный нам класс из соответствующего модуля.\n",
    "1. Создаем экземпляр класса – модель, возможно изменив значения гиперпараметров по умолчанию.\n",
    "1. Обучаем модель на данных. Возможно при необходимости мы преобразуем данные в новое пространство.\n",
    "\n",
    "Ниже мы импортируем класс `OneHotEncoder`, создаем экземпляр класса, убеждаемся в том, что мы получаем плотный (а не разреженный) массив, наконец, выполняем дамми-кодирование нашего отдельного столбца с помощью метода `.fit_transform()`."
   ]
  },
  {
   "cell_type": "code",
   "execution_count": 18,
   "metadata": {
    "id": "Ib9Wb8D-fBwr",
    "outputId": "4dd15cfa-d761-4312-821b-e29ca8370158"
   },
   "outputs": [
    {
     "data": {
      "text/plain": [
       "array([[0., 0., 0., ..., 1., 0., 0.],\n",
       "       [0., 0., 1., ..., 0., 0., 0.],\n",
       "       [0., 0., 0., ..., 1., 0., 0.],\n",
       "       ...,\n",
       "       [0., 0., 0., ..., 1., 0., 0.],\n",
       "       [0., 0., 1., ..., 0., 0., 0.],\n",
       "       [0., 0., 1., ..., 0., 0., 0.]])"
      ]
     },
     "execution_count": 18,
     "metadata": {},
     "output_type": "execute_result"
    }
   ],
   "source": [
    "from sklearn.preprocessing import OneHotEncoder\n",
    "ohe = OneHotEncoder(sparse=False)\n",
    "hs_train_transformed = ohe.fit_transform(hs_train)\n",
    "hs_train_transformed"
   ]
  },
  {
   "cell_type": "markdown",
   "metadata": {
    "id": "dxrcxS0wfBws"
   },
   "source": [
    "Как и ожидалось, каждое уникальное значение становится отдельным бинарным признаком."
   ]
  },
  {
   "cell_type": "code",
   "execution_count": 20,
   "metadata": {
    "id": "ypoqXklyfBwt",
    "outputId": "6eba9685-af87-4cb6-a831-cb4c69b68ceb"
   },
   "outputs": [
    {
     "data": {
      "text/plain": [
       "(1460, 8)"
      ]
     },
     "execution_count": 20,
     "metadata": {},
     "output_type": "execute_result"
    }
   ],
   "source": [
    "hs_train_transformed.shape"
   ]
  },
  {
   "cell_type": "markdown",
   "metadata": {
    "id": "2qpIEFB1fBwt"
   },
   "source": [
    "## У нас NumPy массив. Где имена столбцов?\n",
    "Отметим, что полученный нами объект представляет собой массив NumPy, а не датафрейм pandas. Библиотека scikit-learn изначально не предполагала непосредственной интеграции с библиотекой pandas. Все объекты библиотеки pandas конвертируются в массивы NumPy под капотом и именно они всегда возвращаются после выполнения преобразования.\n",
    "\n",
    "Однако мы все же можно извлечь имя столбца из объекта `OneHotEncoder` c помощью метода `.get_feature_names()`."
   ]
  },
  {
   "cell_type": "code",
   "execution_count": 22,
   "metadata": {
    "id": "cL0VMLDMfBwu",
    "outputId": "07c490bc-54ff-4c08-e2e4-cc74a01f3efd"
   },
   "outputs": [
    {
     "data": {
      "text/plain": [
       "array(['x0_1.5Fin', 'x0_1.5Unf', 'x0_1Story', 'x0_2.5Fin', 'x0_2.5Unf',\n",
       "       'x0_2Story', 'x0_SFoyer', 'x0_SLvl'], dtype=object)"
      ]
     },
     "execution_count": 22,
     "metadata": {},
     "output_type": "execute_result"
    }
   ],
   "source": [
    "feature_names = ohe.get_feature_names()\n",
    "feature_names"
   ]
  },
  {
   "cell_type": "markdown",
   "metadata": {
    "id": "lfc1sPyIfBwu"
   },
   "source": [
    "## Проверка корректности первой строки данных\n",
    "Полезной привычкой будет проверка корректной работы модели. Давайте выведем первую строку преобразованных данных."
   ]
  },
  {
   "cell_type": "code",
   "execution_count": 25,
   "metadata": {
    "id": "tjYgaCMCfBwu",
    "outputId": "e68a1f74-4e7b-47a9-82cf-9041cbd1c0fd"
   },
   "outputs": [
    {
     "data": {
      "text/plain": [
       "array([0., 0., 0., 0., 0., 1., 0., 0.])"
      ]
     },
     "execution_count": 25,
     "metadata": {},
     "output_type": "execute_result"
    }
   ],
   "source": [
    "row0 = hs_train_transformed[0]\n",
    "row0"
   ]
  },
  {
   "cell_type": "markdown",
   "metadata": {
    "id": "9ut_nQF8fBwv"
   },
   "source": [
    "Шестое значение массива было закодировано единицей. Используя логическое индексирование, можно выяснить имя переменной."
   ]
  },
  {
   "cell_type": "code",
   "execution_count": 26,
   "metadata": {
    "id": "5CigbEDofBwv",
    "outputId": "ca3efa77-8cf0-47dd-c9d8-f38f86066a90"
   },
   "outputs": [
    {
     "data": {
      "text/plain": [
       "array(['x0_2Story'], dtype=object)"
      ]
     },
     "execution_count": 26,
     "metadata": {},
     "output_type": "execute_result"
    }
   ],
   "source": [
    "feature_names[row0 == 1]"
   ]
  },
  {
   "cell_type": "markdown",
   "metadata": {
    "id": "cAb6kxqBfBww"
   },
   "source": [
    "Теперь убедимся, что первое значение в нашем исходном столбце является тем же самым."
   ]
  },
  {
   "cell_type": "code",
   "execution_count": 28,
   "metadata": {
    "id": "BgwLs_AjfBww",
    "outputId": "ec5bf69c-793e-4b87-c147-fdf7e1e6fb9b"
   },
   "outputs": [
    {
     "data": {
      "text/plain": [
       "array(['2Story'], dtype=object)"
      ]
     },
     "execution_count": 28,
     "metadata": {},
     "output_type": "execute_result"
    }
   ],
   "source": [
    "hs_train.values[0]"
   ]
  },
  {
   "cell_type": "markdown",
   "metadata": {
    "id": "dJMTtBPlfBwx"
   },
   "source": [
    "### Используем метод `inverse_transform()` для автоматизации данной операции\n",
    "Как и у большинства классов-трансформеров, у объекта `OneHotEncoder` есть метод `inverse_transform()`, который вернет вам исходные данные. Здесь мы должны обернуть `row0` в список, чтобы получить двумерный массив."
   ]
  },
  {
   "cell_type": "code",
   "execution_count": 30,
   "metadata": {
    "id": "_xqVhbLAfBwx",
    "outputId": "02b1634f-863e-4c8f-cd8c-dfc89fc07f0a"
   },
   "outputs": [
    {
     "data": {
      "text/plain": [
       "array([['2Story']], dtype=object)"
      ]
     },
     "execution_count": 30,
     "metadata": {},
     "output_type": "execute_result"
    }
   ],
   "source": [
    "ohe.inverse_transform([row0])"
   ]
  },
  {
   "cell_type": "markdown",
   "metadata": {
    "id": "gj3KFw53fBwx"
   },
   "source": [
    "Мы можем проверить все значения сразу, выполнив инвертирование всего преобразованного массива."
   ]
  },
  {
   "cell_type": "code",
   "execution_count": 32,
   "metadata": {
    "id": "RZetZZhDfBwx",
    "outputId": "7a43ef29-290d-46dc-f0c4-bf34ebb39843"
   },
   "outputs": [
    {
     "data": {
      "text/plain": [
       "array([['2Story'],\n",
       "       ['1Story'],\n",
       "       ['2Story'],\n",
       "       ...,\n",
       "       ['2Story'],\n",
       "       ['1Story'],\n",
       "       ['1Story']], dtype=object)"
      ]
     },
     "execution_count": 32,
     "metadata": {},
     "output_type": "execute_result"
    }
   ],
   "source": [
    "hs_inv = ohe.inverse_transform(hs_train_transformed)\n",
    "hs_inv"
   ]
  },
  {
   "cell_type": "code",
   "execution_count": 33,
   "metadata": {
    "id": "jfxk9sUqfBwy",
    "outputId": "baff30ac-f30e-4bd7-851f-c518cf9eff33"
   },
   "outputs": [
    {
     "data": {
      "text/plain": [
       "True"
      ]
     },
     "execution_count": 33,
     "metadata": {},
     "output_type": "execute_result"
    }
   ],
   "source": [
    "np.array_equal(hs_inv, hs_train.values)"
   ]
  },
  {
   "cell_type": "markdown",
   "metadata": {
    "id": "KDjsPfwSfBwy"
   },
   "source": [
    "## Применение преобразования к тестовому набору\n",
    "Любое преобразование, применяемое к обучающему набору, должно быть применено и к тестовому набору. Давайте прочитаем тестовый набор данных, извлечем тот же самый столбец и применим к нему наше преобразование."
   ]
  },
  {
   "cell_type": "code",
   "execution_count": 35,
   "metadata": {
    "id": "xCOEhQmIfBwy",
    "outputId": "aea9d7c0-6882-46e7-b5e8-8e312de7581f"
   },
   "outputs": [
    {
     "data": {
      "text/html": [
       "<div>\n",
       "<style scoped>\n",
       "    .dataframe tbody tr th:only-of-type {\n",
       "        vertical-align: middle;\n",
       "    }\n",
       "\n",
       "    .dataframe tbody tr th {\n",
       "        vertical-align: top;\n",
       "    }\n",
       "\n",
       "    .dataframe thead th {\n",
       "        text-align: right;\n",
       "    }\n",
       "</style>\n",
       "<table border=\"1\" class=\"dataframe\">\n",
       "  <thead>\n",
       "    <tr style=\"text-align: right;\">\n",
       "      <th></th>\n",
       "      <th>Id</th>\n",
       "      <th>MSSubClass</th>\n",
       "      <th>MSZoning</th>\n",
       "      <th>LotFrontage</th>\n",
       "      <th>LotArea</th>\n",
       "      <th>Street</th>\n",
       "      <th>Alley</th>\n",
       "      <th>LotShape</th>\n",
       "      <th>LandContour</th>\n",
       "      <th>Utilities</th>\n",
       "      <th>...</th>\n",
       "      <th>ScreenPorch</th>\n",
       "      <th>PoolArea</th>\n",
       "      <th>PoolQC</th>\n",
       "      <th>Fence</th>\n",
       "      <th>MiscFeature</th>\n",
       "      <th>MiscVal</th>\n",
       "      <th>MoSold</th>\n",
       "      <th>YrSold</th>\n",
       "      <th>SaleType</th>\n",
       "      <th>SaleCondition</th>\n",
       "    </tr>\n",
       "  </thead>\n",
       "  <tbody>\n",
       "    <tr>\n",
       "      <th>0</th>\n",
       "      <td>1461</td>\n",
       "      <td>20</td>\n",
       "      <td>RH</td>\n",
       "      <td>80.0</td>\n",
       "      <td>11622</td>\n",
       "      <td>Pave</td>\n",
       "      <td>NaN</td>\n",
       "      <td>Reg</td>\n",
       "      <td>Lvl</td>\n",
       "      <td>AllPub</td>\n",
       "      <td>...</td>\n",
       "      <td>120</td>\n",
       "      <td>0</td>\n",
       "      <td>NaN</td>\n",
       "      <td>MnPrv</td>\n",
       "      <td>NaN</td>\n",
       "      <td>0</td>\n",
       "      <td>6</td>\n",
       "      <td>2010</td>\n",
       "      <td>WD</td>\n",
       "      <td>Normal</td>\n",
       "    </tr>\n",
       "    <tr>\n",
       "      <th>1</th>\n",
       "      <td>1462</td>\n",
       "      <td>20</td>\n",
       "      <td>RL</td>\n",
       "      <td>81.0</td>\n",
       "      <td>14267</td>\n",
       "      <td>Pave</td>\n",
       "      <td>NaN</td>\n",
       "      <td>IR1</td>\n",
       "      <td>Lvl</td>\n",
       "      <td>AllPub</td>\n",
       "      <td>...</td>\n",
       "      <td>0</td>\n",
       "      <td>0</td>\n",
       "      <td>NaN</td>\n",
       "      <td>NaN</td>\n",
       "      <td>Gar2</td>\n",
       "      <td>12500</td>\n",
       "      <td>6</td>\n",
       "      <td>2010</td>\n",
       "      <td>WD</td>\n",
       "      <td>Normal</td>\n",
       "    </tr>\n",
       "    <tr>\n",
       "      <th>2</th>\n",
       "      <td>1463</td>\n",
       "      <td>60</td>\n",
       "      <td>RL</td>\n",
       "      <td>74.0</td>\n",
       "      <td>13830</td>\n",
       "      <td>Pave</td>\n",
       "      <td>NaN</td>\n",
       "      <td>IR1</td>\n",
       "      <td>Lvl</td>\n",
       "      <td>AllPub</td>\n",
       "      <td>...</td>\n",
       "      <td>0</td>\n",
       "      <td>0</td>\n",
       "      <td>NaN</td>\n",
       "      <td>MnPrv</td>\n",
       "      <td>NaN</td>\n",
       "      <td>0</td>\n",
       "      <td>3</td>\n",
       "      <td>2010</td>\n",
       "      <td>WD</td>\n",
       "      <td>Normal</td>\n",
       "    </tr>\n",
       "    <tr>\n",
       "      <th>3</th>\n",
       "      <td>1464</td>\n",
       "      <td>60</td>\n",
       "      <td>RL</td>\n",
       "      <td>78.0</td>\n",
       "      <td>9978</td>\n",
       "      <td>Pave</td>\n",
       "      <td>NaN</td>\n",
       "      <td>IR1</td>\n",
       "      <td>Lvl</td>\n",
       "      <td>AllPub</td>\n",
       "      <td>...</td>\n",
       "      <td>0</td>\n",
       "      <td>0</td>\n",
       "      <td>NaN</td>\n",
       "      <td>NaN</td>\n",
       "      <td>NaN</td>\n",
       "      <td>0</td>\n",
       "      <td>6</td>\n",
       "      <td>2010</td>\n",
       "      <td>WD</td>\n",
       "      <td>Normal</td>\n",
       "    </tr>\n",
       "    <tr>\n",
       "      <th>4</th>\n",
       "      <td>1465</td>\n",
       "      <td>120</td>\n",
       "      <td>RL</td>\n",
       "      <td>43.0</td>\n",
       "      <td>5005</td>\n",
       "      <td>Pave</td>\n",
       "      <td>NaN</td>\n",
       "      <td>IR1</td>\n",
       "      <td>HLS</td>\n",
       "      <td>AllPub</td>\n",
       "      <td>...</td>\n",
       "      <td>144</td>\n",
       "      <td>0</td>\n",
       "      <td>NaN</td>\n",
       "      <td>NaN</td>\n",
       "      <td>NaN</td>\n",
       "      <td>0</td>\n",
       "      <td>1</td>\n",
       "      <td>2010</td>\n",
       "      <td>WD</td>\n",
       "      <td>Normal</td>\n",
       "    </tr>\n",
       "  </tbody>\n",
       "</table>\n",
       "<p>5 rows × 80 columns</p>\n",
       "</div>"
      ],
      "text/plain": [
       "     Id  MSSubClass MSZoning  LotFrontage  LotArea Street Alley LotShape  \\\n",
       "0  1461          20       RH         80.0    11622   Pave   NaN      Reg   \n",
       "1  1462          20       RL         81.0    14267   Pave   NaN      IR1   \n",
       "2  1463          60       RL         74.0    13830   Pave   NaN      IR1   \n",
       "3  1464          60       RL         78.0     9978   Pave   NaN      IR1   \n",
       "4  1465         120       RL         43.0     5005   Pave   NaN      IR1   \n",
       "\n",
       "  LandContour Utilities  ... ScreenPorch PoolArea PoolQC  Fence MiscFeature  \\\n",
       "0         Lvl    AllPub  ...         120        0    NaN  MnPrv         NaN   \n",
       "1         Lvl    AllPub  ...           0        0    NaN    NaN        Gar2   \n",
       "2         Lvl    AllPub  ...           0        0    NaN  MnPrv         NaN   \n",
       "3         Lvl    AllPub  ...           0        0    NaN    NaN         NaN   \n",
       "4         HLS    AllPub  ...         144        0    NaN    NaN         NaN   \n",
       "\n",
       "  MiscVal MoSold  YrSold  SaleType  SaleCondition  \n",
       "0       0      6    2010        WD         Normal  \n",
       "1   12500      6    2010        WD         Normal  \n",
       "2       0      3    2010        WD         Normal  \n",
       "3       0      6    2010        WD         Normal  \n",
       "4       0      1    2010        WD         Normal  \n",
       "\n",
       "[5 rows x 80 columns]"
      ]
     },
     "execution_count": 35,
     "metadata": {},
     "output_type": "execute_result"
    }
   ],
   "source": [
    "test = pd.read_csv('https://raw.githubusercontent.com/DunderData/Tutorials/'\n",
    "                    'master/Machine%20Learning%20Tutorials/'\n",
    "                    'From%20Pandas%20to%20Scikit-Learn%E2%80%8A-%E2%80%8AA%20new%20exciting%C2%A0workflow/'\n",
    "                    'data/housing/test.csv')\n",
    "test.head()"
   ]
  },
  {
   "cell_type": "code",
   "execution_count": 36,
   "metadata": {
    "id": "U1dAy5SvfBwz",
    "outputId": "35986af1-4908-4d0e-d5ff-ab42ffd6355c"
   },
   "outputs": [
    {
     "data": {
      "text/plain": [
       "array([[0., 0., 1., ..., 0., 0., 0.],\n",
       "       [0., 0., 1., ..., 0., 0., 0.],\n",
       "       [0., 0., 0., ..., 1., 0., 0.],\n",
       "       ...,\n",
       "       [0., 0., 1., ..., 0., 0., 0.],\n",
       "       [0., 0., 0., ..., 0., 1., 0.],\n",
       "       [0., 0., 0., ..., 1., 0., 0.]])"
      ]
     },
     "execution_count": 36,
     "metadata": {},
     "output_type": "execute_result"
    }
   ],
   "source": [
    "hs_test = test[['HouseStyle']].copy()\n",
    "hs_test_transformed = ohe.transform(hs_test)\n",
    "hs_test_transformed"
   ]
  },
  {
   "cell_type": "markdown",
   "metadata": {
    "id": "gSpGXuxTfBwz"
   },
   "source": [
    "По итогам дамми-кодирования должно получиться 8 столбцов, что мы и видим."
   ]
  },
  {
   "cell_type": "code",
   "execution_count": 38,
   "metadata": {
    "id": "HXinJ85jfBwz",
    "outputId": "5bdf00f3-9979-4d51-9beb-378074a6fa64"
   },
   "outputs": [
    {
     "data": {
      "text/plain": [
       "(1459, 8)"
      ]
     },
     "execution_count": 38,
     "metadata": {},
     "output_type": "execute_result"
    }
   ],
   "source": [
    "hs_test_transformed.shape"
   ]
  },
  {
   "cell_type": "markdown",
   "metadata": {
    "id": "OAzBSuFofBw0"
   },
   "source": [
    "Этот пример работает исправно, однако существует множество случаев, когда мы можем столкнуться с проблемами. Они будут рассмотрены ниже."
   ]
  },
  {
   "cell_type": "markdown",
   "metadata": {
    "id": "e3sZ01wXfBw0"
   },
   "source": [
    "## Проблема No1 – Новые категории в тестовом наборе\n",
    "Что случится, если в тестовом наборе попадется такая категория переменной `HouseStyle`, уникальна только для него? Например, значение `3Story`. Давайте заменим значение переменной `HouseStyle` в первой строке тестового набора и попытаемся выполнить дамми-кодирование."
   ]
  },
  {
   "cell_type": "code",
   "execution_count": 41,
   "metadata": {
    "id": "XeCnBxGpfBw0",
    "outputId": "6ed7856e-66af-4c0a-c000-0cfbb5057be5"
   },
   "outputs": [
    {
     "data": {
      "text/html": [
       "<div>\n",
       "<style scoped>\n",
       "    .dataframe tbody tr th:only-of-type {\n",
       "        vertical-align: middle;\n",
       "    }\n",
       "\n",
       "    .dataframe tbody tr th {\n",
       "        vertical-align: top;\n",
       "    }\n",
       "\n",
       "    .dataframe thead th {\n",
       "        text-align: right;\n",
       "    }\n",
       "</style>\n",
       "<table border=\"1\" class=\"dataframe\">\n",
       "  <thead>\n",
       "    <tr style=\"text-align: right;\">\n",
       "      <th></th>\n",
       "      <th>HouseStyle</th>\n",
       "    </tr>\n",
       "  </thead>\n",
       "  <tbody>\n",
       "    <tr>\n",
       "      <th>0</th>\n",
       "      <td>3Story</td>\n",
       "    </tr>\n",
       "    <tr>\n",
       "      <th>1</th>\n",
       "      <td>1Story</td>\n",
       "    </tr>\n",
       "    <tr>\n",
       "      <th>2</th>\n",
       "      <td>2Story</td>\n",
       "    </tr>\n",
       "  </tbody>\n",
       "</table>\n",
       "</div>"
      ],
      "text/plain": [
       "  HouseStyle\n",
       "0     3Story\n",
       "1     1Story\n",
       "2     2Story"
      ]
     },
     "execution_count": 41,
     "metadata": {},
     "output_type": "execute_result"
    }
   ],
   "source": [
    "hs_test = test[['HouseStyle']].copy()\n",
    "hs_test.iloc[0, 0] = '3Story'\n",
    "hs_test.head(3)"
   ]
  },
  {
   "cell_type": "code",
   "execution_count": 42,
   "metadata": {
    "id": "3gamPsKYfBw1",
    "outputId": "c8828fec-261e-4aba-874a-c20159133942"
   },
   "outputs": [
    {
     "ename": "ValueError",
     "evalue": "Found unknown categories ['3Story'] in column 0 during transform",
     "output_type": "error",
     "traceback": [
      "\u001b[0;31m---------------------------------------------------------------------------\u001b[0m",
      "\u001b[0;31mValueError\u001b[0m                                Traceback (most recent call last)",
      "\u001b[0;32m<ipython-input-42-2d33a65e4f12>\u001b[0m in \u001b[0;36m<module>\u001b[0;34m\u001b[0m\n\u001b[0;32m----> 1\u001b[0;31m \u001b[0mohe\u001b[0m\u001b[0;34m.\u001b[0m\u001b[0mtransform\u001b[0m\u001b[0;34m(\u001b[0m\u001b[0mhs_test\u001b[0m\u001b[0;34m)\u001b[0m\u001b[0;34m\u001b[0m\u001b[0;34m\u001b[0m\u001b[0m\n\u001b[0m",
      "\u001b[0;32m~/anaconda3/lib/python3.8/site-packages/sklearn/preprocessing/_encoders.py\u001b[0m in \u001b[0;36mtransform\u001b[0;34m(self, X)\u001b[0m\n\u001b[1;32m    426\u001b[0m         \u001b[0mcheck_is_fitted\u001b[0m\u001b[0;34m(\u001b[0m\u001b[0mself\u001b[0m\u001b[0;34m)\u001b[0m\u001b[0;34m\u001b[0m\u001b[0;34m\u001b[0m\u001b[0m\n\u001b[1;32m    427\u001b[0m         \u001b[0;31m# validation of X happens in _check_X called by _transform\u001b[0m\u001b[0;34m\u001b[0m\u001b[0;34m\u001b[0m\u001b[0;34m\u001b[0m\u001b[0m\n\u001b[0;32m--> 428\u001b[0;31m         \u001b[0mX_int\u001b[0m\u001b[0;34m,\u001b[0m \u001b[0mX_mask\u001b[0m \u001b[0;34m=\u001b[0m \u001b[0mself\u001b[0m\u001b[0;34m.\u001b[0m\u001b[0m_transform\u001b[0m\u001b[0;34m(\u001b[0m\u001b[0mX\u001b[0m\u001b[0;34m,\u001b[0m \u001b[0mhandle_unknown\u001b[0m\u001b[0;34m=\u001b[0m\u001b[0mself\u001b[0m\u001b[0;34m.\u001b[0m\u001b[0mhandle_unknown\u001b[0m\u001b[0;34m)\u001b[0m\u001b[0;34m\u001b[0m\u001b[0;34m\u001b[0m\u001b[0m\n\u001b[0m\u001b[1;32m    429\u001b[0m \u001b[0;34m\u001b[0m\u001b[0m\n\u001b[1;32m    430\u001b[0m         \u001b[0mn_samples\u001b[0m\u001b[0;34m,\u001b[0m \u001b[0mn_features\u001b[0m \u001b[0;34m=\u001b[0m \u001b[0mX_int\u001b[0m\u001b[0;34m.\u001b[0m\u001b[0mshape\u001b[0m\u001b[0;34m\u001b[0m\u001b[0;34m\u001b[0m\u001b[0m\n",
      "\u001b[0;32m~/anaconda3/lib/python3.8/site-packages/sklearn/preprocessing/_encoders.py\u001b[0m in \u001b[0;36m_transform\u001b[0;34m(self, X, handle_unknown)\u001b[0m\n\u001b[1;32m    122\u001b[0m                     msg = (\"Found unknown categories {0} in column {1}\"\n\u001b[1;32m    123\u001b[0m                            \" during transform\".format(diff, i))\n\u001b[0;32m--> 124\u001b[0;31m                     \u001b[0;32mraise\u001b[0m \u001b[0mValueError\u001b[0m\u001b[0;34m(\u001b[0m\u001b[0mmsg\u001b[0m\u001b[0;34m)\u001b[0m\u001b[0;34m\u001b[0m\u001b[0;34m\u001b[0m\u001b[0m\n\u001b[0m\u001b[1;32m    125\u001b[0m                 \u001b[0;32melse\u001b[0m\u001b[0;34m:\u001b[0m\u001b[0;34m\u001b[0m\u001b[0;34m\u001b[0m\u001b[0m\n\u001b[1;32m    126\u001b[0m                     \u001b[0;31m# Set the problematic rows to an acceptable value and\u001b[0m\u001b[0;34m\u001b[0m\u001b[0;34m\u001b[0m\u001b[0;34m\u001b[0m\u001b[0m\n",
      "\u001b[0;31mValueError\u001b[0m: Found unknown categories ['3Story'] in column 0 during transform"
     ]
    }
   ],
   "source": [
    "ohe.transform(hs_test)"
   ]
  },
  {
   "cell_type": "markdown",
   "metadata": {
    "id": "NdPYvjHpfBw1"
   },
   "source": [
    "## Error: Unknown Category\n",
    "\n",
    "По умолчанию энкодер выдаст ошибку. Вероятно, это то, что нужно, ведь нам необходимо знать, есть ли в тестовом наборе новые категории. Если такая проблема возникла, то необходимо более детальное исследование. Сейчас же мы проигнорируем эту проблему и соответствующее наблюдение закодируем строкой, состоящей из нулей, задав для параметра `handle_unknown значение` 'ignore' при создании экземпляра класса `OneHotEncoder`."
   ]
  },
  {
   "cell_type": "code",
   "execution_count": 44,
   "metadata": {
    "id": "Y51AdkjRfBw1",
    "outputId": "23291335-5aac-4f5d-8095-76aeaca9237f"
   },
   "outputs": [
    {
     "data": {
      "text/plain": [
       "array([[0., 0., 0., ..., 0., 0., 0.],\n",
       "       [0., 0., 1., ..., 0., 0., 0.],\n",
       "       [0., 0., 0., ..., 1., 0., 0.],\n",
       "       ...,\n",
       "       [0., 0., 1., ..., 0., 0., 0.],\n",
       "       [0., 0., 0., ..., 0., 1., 0.],\n",
       "       [0., 0., 0., ..., 1., 0., 0.]])"
      ]
     },
     "execution_count": 44,
     "metadata": {},
     "output_type": "execute_result"
    }
   ],
   "source": [
    "ohe = OneHotEncoder(sparse=False, handle_unknown='ignore')\n",
    "ohe.fit(hs_train)\n",
    "\n",
    "hs_test_transformed = ohe.transform(hs_test)\n",
    "hs_test_transformed"
   ]
  },
  {
   "cell_type": "markdown",
   "metadata": {
    "id": "rRfxdHfSfBw1"
   },
   "source": [
    "Теперь проверим, состоит ли первая строка из одних нулей."
   ]
  },
  {
   "cell_type": "code",
   "execution_count": 46,
   "metadata": {
    "id": "jnjdmfGUfBw1",
    "outputId": "93cf9efe-9317-4cad-b03d-d473fde1040b"
   },
   "outputs": [
    {
     "data": {
      "text/plain": [
       "array([0., 0., 0., 0., 0., 0., 0., 0.])"
      ]
     },
     "execution_count": 46,
     "metadata": {},
     "output_type": "execute_result"
    }
   ],
   "source": [
    "hs_test_transformed[0]"
   ]
  },
  {
   "cell_type": "markdown",
   "metadata": {
    "id": "3C-6GbRkfBw2"
   },
   "source": [
    "## Проблема No2 – Пропущенные значения в тестовом наборе\n",
    "\n",
    "Если тестовый набор содержит пропущенные значения (NaN или None), то они будут проигнорированы при условии, что для параметра `handle_unknown` задано значение 'ignore'. Давайте заменим первые два значения переменной `HouseStyle` в тестовом наборе на пропуски."
   ]
  },
  {
   "cell_type": "code",
   "execution_count": 50,
   "metadata": {
    "id": "kc7b3f_efBw2",
    "outputId": "3a055fca-057f-40ee-b8ef-9e06ed305108"
   },
   "outputs": [
    {
     "data": {
      "text/html": [
       "<div>\n",
       "<style scoped>\n",
       "    .dataframe tbody tr th:only-of-type {\n",
       "        vertical-align: middle;\n",
       "    }\n",
       "\n",
       "    .dataframe tbody tr th {\n",
       "        vertical-align: top;\n",
       "    }\n",
       "\n",
       "    .dataframe thead th {\n",
       "        text-align: right;\n",
       "    }\n",
       "</style>\n",
       "<table border=\"1\" class=\"dataframe\">\n",
       "  <thead>\n",
       "    <tr style=\"text-align: right;\">\n",
       "      <th></th>\n",
       "      <th>HouseStyle</th>\n",
       "    </tr>\n",
       "  </thead>\n",
       "  <tbody>\n",
       "    <tr>\n",
       "      <th>0</th>\n",
       "      <td>NaN</td>\n",
       "    </tr>\n",
       "    <tr>\n",
       "      <th>1</th>\n",
       "      <td>None</td>\n",
       "    </tr>\n",
       "    <tr>\n",
       "      <th>2</th>\n",
       "      <td>2Story</td>\n",
       "    </tr>\n",
       "    <tr>\n",
       "      <th>3</th>\n",
       "      <td>2Story</td>\n",
       "    </tr>\n",
       "  </tbody>\n",
       "</table>\n",
       "</div>"
      ],
      "text/plain": [
       "  HouseStyle\n",
       "0        NaN\n",
       "1       None\n",
       "2     2Story\n",
       "3     2Story"
      ]
     },
     "execution_count": 50,
     "metadata": {},
     "output_type": "execute_result"
    }
   ],
   "source": [
    "hs_test = test[['HouseStyle']].copy()\n",
    "hs_test.iloc[0, 0] = np.nan\n",
    "hs_test.iloc[1, 0] = None\n",
    "hs_test.head(4)"
   ]
  },
  {
   "cell_type": "markdown",
   "metadata": {
    "id": "mDsaIm6BfBw3"
   },
   "source": [
    "## Проблема No3 – Пропущенные значения в обучающе наборе\n",
    "Пропущенные значения в обучающей выборке являются большей проблемой. На данный момент мы не можем обучить `OneHotEncoder` на данных, содержащих пропуски."
   ]
  },
  {
   "cell_type": "code",
   "execution_count": 52,
   "metadata": {
    "id": "rmEclFwmfBw3",
    "outputId": "c663d162-2597-46be-c6e7-a16ef840c0d0"
   },
   "outputs": [
    {
     "data": {
      "text/html": [
       "<div>\n",
       "<style scoped>\n",
       "    .dataframe tbody tr th:only-of-type {\n",
       "        vertical-align: middle;\n",
       "    }\n",
       "\n",
       "    .dataframe tbody tr th {\n",
       "        vertical-align: top;\n",
       "    }\n",
       "\n",
       "    .dataframe thead th {\n",
       "        text-align: right;\n",
       "    }\n",
       "</style>\n",
       "<table border=\"1\" class=\"dataframe\">\n",
       "  <thead>\n",
       "    <tr style=\"text-align: right;\">\n",
       "      <th></th>\n",
       "      <th>HouseStyle</th>\n",
       "    </tr>\n",
       "  </thead>\n",
       "  <tbody>\n",
       "    <tr>\n",
       "      <th>0</th>\n",
       "      <td>NaN</td>\n",
       "    </tr>\n",
       "    <tr>\n",
       "      <th>1</th>\n",
       "      <td>1Story</td>\n",
       "    </tr>\n",
       "    <tr>\n",
       "      <th>2</th>\n",
       "      <td>2Story</td>\n",
       "    </tr>\n",
       "  </tbody>\n",
       "</table>\n",
       "</div>"
      ],
      "text/plain": [
       "  HouseStyle\n",
       "0        NaN\n",
       "1     1Story\n",
       "2     2Story"
      ]
     },
     "execution_count": 52,
     "metadata": {},
     "output_type": "execute_result"
    }
   ],
   "source": [
    "hs_train = hs_train.copy()\n",
    "hs_train.iloc[0, 0] = np.nan\n",
    "hs_train.head(3)"
   ]
  },
  {
   "cell_type": "code",
   "execution_count": 53,
   "metadata": {
    "id": "6TsTX5qQfBw3",
    "outputId": "e249686a-2703-41ab-d23c-676946871547"
   },
   "outputs": [
    {
     "ename": "ValueError",
     "evalue": "Input contains NaN",
     "output_type": "error",
     "traceback": [
      "\u001b[0;31m---------------------------------------------------------------------------\u001b[0m",
      "\u001b[0;31mValueError\u001b[0m                                Traceback (most recent call last)",
      "\u001b[0;32m<ipython-input-53-6b0498cdc461>\u001b[0m in \u001b[0;36m<module>\u001b[0;34m\u001b[0m\n\u001b[1;32m      1\u001b[0m \u001b[0mohe\u001b[0m \u001b[0;34m=\u001b[0m \u001b[0mOneHotEncoder\u001b[0m\u001b[0;34m(\u001b[0m\u001b[0msparse\u001b[0m\u001b[0;34m=\u001b[0m\u001b[0;32mFalse\u001b[0m\u001b[0;34m,\u001b[0m \u001b[0mhandle_unknown\u001b[0m\u001b[0;34m=\u001b[0m\u001b[0;34m'ignore'\u001b[0m\u001b[0;34m)\u001b[0m\u001b[0;34m\u001b[0m\u001b[0;34m\u001b[0m\u001b[0m\n\u001b[0;32m----> 2\u001b[0;31m \u001b[0mohe\u001b[0m\u001b[0;34m.\u001b[0m\u001b[0mfit_transform\u001b[0m\u001b[0;34m(\u001b[0m\u001b[0mhs_train\u001b[0m\u001b[0;34m)\u001b[0m\u001b[0;34m\u001b[0m\u001b[0;34m\u001b[0m\u001b[0m\n\u001b[0m",
      "\u001b[0;32m~/anaconda3/lib/python3.8/site-packages/sklearn/preprocessing/_encoders.py\u001b[0m in \u001b[0;36mfit_transform\u001b[0;34m(self, X, y)\u001b[0m\n\u001b[1;32m    408\u001b[0m         \"\"\"\n\u001b[1;32m    409\u001b[0m         \u001b[0mself\u001b[0m\u001b[0;34m.\u001b[0m\u001b[0m_validate_keywords\u001b[0m\u001b[0;34m(\u001b[0m\u001b[0;34m)\u001b[0m\u001b[0;34m\u001b[0m\u001b[0;34m\u001b[0m\u001b[0m\n\u001b[0;32m--> 410\u001b[0;31m         \u001b[0;32mreturn\u001b[0m \u001b[0msuper\u001b[0m\u001b[0;34m(\u001b[0m\u001b[0;34m)\u001b[0m\u001b[0;34m.\u001b[0m\u001b[0mfit_transform\u001b[0m\u001b[0;34m(\u001b[0m\u001b[0mX\u001b[0m\u001b[0;34m,\u001b[0m \u001b[0my\u001b[0m\u001b[0;34m)\u001b[0m\u001b[0;34m\u001b[0m\u001b[0;34m\u001b[0m\u001b[0m\n\u001b[0m\u001b[1;32m    411\u001b[0m \u001b[0;34m\u001b[0m\u001b[0m\n\u001b[1;32m    412\u001b[0m     \u001b[0;32mdef\u001b[0m \u001b[0mtransform\u001b[0m\u001b[0;34m(\u001b[0m\u001b[0mself\u001b[0m\u001b[0;34m,\u001b[0m \u001b[0mX\u001b[0m\u001b[0;34m)\u001b[0m\u001b[0;34m:\u001b[0m\u001b[0;34m\u001b[0m\u001b[0;34m\u001b[0m\u001b[0m\n",
      "\u001b[0;32m~/anaconda3/lib/python3.8/site-packages/sklearn/base.py\u001b[0m in \u001b[0;36mfit_transform\u001b[0;34m(self, X, y, **fit_params)\u001b[0m\n\u001b[1;32m    688\u001b[0m         \u001b[0;32mif\u001b[0m \u001b[0my\u001b[0m \u001b[0;32mis\u001b[0m \u001b[0;32mNone\u001b[0m\u001b[0;34m:\u001b[0m\u001b[0;34m\u001b[0m\u001b[0;34m\u001b[0m\u001b[0m\n\u001b[1;32m    689\u001b[0m             \u001b[0;31m# fit method of arity 1 (unsupervised transformation)\u001b[0m\u001b[0;34m\u001b[0m\u001b[0;34m\u001b[0m\u001b[0;34m\u001b[0m\u001b[0m\n\u001b[0;32m--> 690\u001b[0;31m             \u001b[0;32mreturn\u001b[0m \u001b[0mself\u001b[0m\u001b[0;34m.\u001b[0m\u001b[0mfit\u001b[0m\u001b[0;34m(\u001b[0m\u001b[0mX\u001b[0m\u001b[0;34m,\u001b[0m \u001b[0;34m**\u001b[0m\u001b[0mfit_params\u001b[0m\u001b[0;34m)\u001b[0m\u001b[0;34m.\u001b[0m\u001b[0mtransform\u001b[0m\u001b[0;34m(\u001b[0m\u001b[0mX\u001b[0m\u001b[0;34m)\u001b[0m\u001b[0;34m\u001b[0m\u001b[0;34m\u001b[0m\u001b[0m\n\u001b[0m\u001b[1;32m    691\u001b[0m         \u001b[0;32melse\u001b[0m\u001b[0;34m:\u001b[0m\u001b[0;34m\u001b[0m\u001b[0;34m\u001b[0m\u001b[0m\n\u001b[1;32m    692\u001b[0m             \u001b[0;31m# fit method of arity 2 (supervised transformation)\u001b[0m\u001b[0;34m\u001b[0m\u001b[0;34m\u001b[0m\u001b[0;34m\u001b[0m\u001b[0m\n",
      "\u001b[0;32m~/anaconda3/lib/python3.8/site-packages/sklearn/preprocessing/_encoders.py\u001b[0m in \u001b[0;36mfit\u001b[0;34m(self, X, y)\u001b[0m\n\u001b[1;32m    383\u001b[0m         \"\"\"\n\u001b[1;32m    384\u001b[0m         \u001b[0mself\u001b[0m\u001b[0;34m.\u001b[0m\u001b[0m_validate_keywords\u001b[0m\u001b[0;34m(\u001b[0m\u001b[0;34m)\u001b[0m\u001b[0;34m\u001b[0m\u001b[0;34m\u001b[0m\u001b[0m\n\u001b[0;32m--> 385\u001b[0;31m         \u001b[0mself\u001b[0m\u001b[0;34m.\u001b[0m\u001b[0m_fit\u001b[0m\u001b[0;34m(\u001b[0m\u001b[0mX\u001b[0m\u001b[0;34m,\u001b[0m \u001b[0mhandle_unknown\u001b[0m\u001b[0;34m=\u001b[0m\u001b[0mself\u001b[0m\u001b[0;34m.\u001b[0m\u001b[0mhandle_unknown\u001b[0m\u001b[0;34m)\u001b[0m\u001b[0;34m\u001b[0m\u001b[0;34m\u001b[0m\u001b[0m\n\u001b[0m\u001b[1;32m    386\u001b[0m         \u001b[0mself\u001b[0m\u001b[0;34m.\u001b[0m\u001b[0mdrop_idx_\u001b[0m \u001b[0;34m=\u001b[0m \u001b[0mself\u001b[0m\u001b[0;34m.\u001b[0m\u001b[0m_compute_drop_idx\u001b[0m\u001b[0;34m(\u001b[0m\u001b[0;34m)\u001b[0m\u001b[0;34m\u001b[0m\u001b[0;34m\u001b[0m\u001b[0m\n\u001b[1;32m    387\u001b[0m         \u001b[0;32mreturn\u001b[0m \u001b[0mself\u001b[0m\u001b[0;34m\u001b[0m\u001b[0;34m\u001b[0m\u001b[0m\n",
      "\u001b[0;32m~/anaconda3/lib/python3.8/site-packages/sklearn/preprocessing/_encoders.py\u001b[0m in \u001b[0;36m_fit\u001b[0;34m(self, X, handle_unknown)\u001b[0m\n\u001b[1;32m     72\u001b[0m \u001b[0;34m\u001b[0m\u001b[0m\n\u001b[1;32m     73\u001b[0m     \u001b[0;32mdef\u001b[0m \u001b[0m_fit\u001b[0m\u001b[0;34m(\u001b[0m\u001b[0mself\u001b[0m\u001b[0;34m,\u001b[0m \u001b[0mX\u001b[0m\u001b[0;34m,\u001b[0m \u001b[0mhandle_unknown\u001b[0m\u001b[0;34m=\u001b[0m\u001b[0;34m'error'\u001b[0m\u001b[0;34m)\u001b[0m\u001b[0;34m:\u001b[0m\u001b[0;34m\u001b[0m\u001b[0;34m\u001b[0m\u001b[0m\n\u001b[0;32m---> 74\u001b[0;31m         \u001b[0mX_list\u001b[0m\u001b[0;34m,\u001b[0m \u001b[0mn_samples\u001b[0m\u001b[0;34m,\u001b[0m \u001b[0mn_features\u001b[0m \u001b[0;34m=\u001b[0m \u001b[0mself\u001b[0m\u001b[0;34m.\u001b[0m\u001b[0m_check_X\u001b[0m\u001b[0;34m(\u001b[0m\u001b[0mX\u001b[0m\u001b[0;34m)\u001b[0m\u001b[0;34m\u001b[0m\u001b[0;34m\u001b[0m\u001b[0m\n\u001b[0m\u001b[1;32m     75\u001b[0m \u001b[0;34m\u001b[0m\u001b[0m\n\u001b[1;32m     76\u001b[0m         \u001b[0;32mif\u001b[0m \u001b[0mself\u001b[0m\u001b[0;34m.\u001b[0m\u001b[0mcategories\u001b[0m \u001b[0;34m!=\u001b[0m \u001b[0;34m'auto'\u001b[0m\u001b[0;34m:\u001b[0m\u001b[0;34m\u001b[0m\u001b[0;34m\u001b[0m\u001b[0m\n",
      "\u001b[0;32m~/anaconda3/lib/python3.8/site-packages/sklearn/preprocessing/_encoders.py\u001b[0m in \u001b[0;36m_check_X\u001b[0;34m(self, X)\u001b[0m\n\u001b[1;32m     58\u001b[0m         \u001b[0;32mfor\u001b[0m \u001b[0mi\u001b[0m \u001b[0;32min\u001b[0m \u001b[0mrange\u001b[0m\u001b[0;34m(\u001b[0m\u001b[0mn_features\u001b[0m\u001b[0;34m)\u001b[0m\u001b[0;34m:\u001b[0m\u001b[0;34m\u001b[0m\u001b[0;34m\u001b[0m\u001b[0m\n\u001b[1;32m     59\u001b[0m             \u001b[0mXi\u001b[0m \u001b[0;34m=\u001b[0m \u001b[0mself\u001b[0m\u001b[0;34m.\u001b[0m\u001b[0m_get_feature\u001b[0m\u001b[0;34m(\u001b[0m\u001b[0mX\u001b[0m\u001b[0;34m,\u001b[0m \u001b[0mfeature_idx\u001b[0m\u001b[0;34m=\u001b[0m\u001b[0mi\u001b[0m\u001b[0;34m)\u001b[0m\u001b[0;34m\u001b[0m\u001b[0;34m\u001b[0m\u001b[0m\n\u001b[0;32m---> 60\u001b[0;31m             Xi = check_array(Xi, ensure_2d=False, dtype=None,\n\u001b[0m\u001b[1;32m     61\u001b[0m                              force_all_finite=needs_validation)\n\u001b[1;32m     62\u001b[0m             \u001b[0mX_columns\u001b[0m\u001b[0;34m.\u001b[0m\u001b[0mappend\u001b[0m\u001b[0;34m(\u001b[0m\u001b[0mXi\u001b[0m\u001b[0;34m)\u001b[0m\u001b[0;34m\u001b[0m\u001b[0;34m\u001b[0m\u001b[0m\n",
      "\u001b[0;32m~/anaconda3/lib/python3.8/site-packages/sklearn/utils/validation.py\u001b[0m in \u001b[0;36minner_f\u001b[0;34m(*args, **kwargs)\u001b[0m\n\u001b[1;32m     71\u001b[0m                           FutureWarning)\n\u001b[1;32m     72\u001b[0m         \u001b[0mkwargs\u001b[0m\u001b[0;34m.\u001b[0m\u001b[0mupdate\u001b[0m\u001b[0;34m(\u001b[0m\u001b[0;34m{\u001b[0m\u001b[0mk\u001b[0m\u001b[0;34m:\u001b[0m \u001b[0marg\u001b[0m \u001b[0;32mfor\u001b[0m \u001b[0mk\u001b[0m\u001b[0;34m,\u001b[0m \u001b[0marg\u001b[0m \u001b[0;32min\u001b[0m \u001b[0mzip\u001b[0m\u001b[0;34m(\u001b[0m\u001b[0msig\u001b[0m\u001b[0;34m.\u001b[0m\u001b[0mparameters\u001b[0m\u001b[0;34m,\u001b[0m \u001b[0margs\u001b[0m\u001b[0;34m)\u001b[0m\u001b[0;34m}\u001b[0m\u001b[0;34m)\u001b[0m\u001b[0;34m\u001b[0m\u001b[0;34m\u001b[0m\u001b[0m\n\u001b[0;32m---> 73\u001b[0;31m         \u001b[0;32mreturn\u001b[0m \u001b[0mf\u001b[0m\u001b[0;34m(\u001b[0m\u001b[0;34m**\u001b[0m\u001b[0mkwargs\u001b[0m\u001b[0;34m)\u001b[0m\u001b[0;34m\u001b[0m\u001b[0;34m\u001b[0m\u001b[0m\n\u001b[0m\u001b[1;32m     74\u001b[0m     \u001b[0;32mreturn\u001b[0m \u001b[0minner_f\u001b[0m\u001b[0;34m\u001b[0m\u001b[0;34m\u001b[0m\u001b[0m\n\u001b[1;32m     75\u001b[0m \u001b[0;34m\u001b[0m\u001b[0m\n",
      "\u001b[0;32m~/anaconda3/lib/python3.8/site-packages/sklearn/utils/validation.py\u001b[0m in \u001b[0;36mcheck_array\u001b[0;34m(array, accept_sparse, accept_large_sparse, dtype, order, copy, force_all_finite, ensure_2d, allow_nd, ensure_min_samples, ensure_min_features, estimator)\u001b[0m\n\u001b[1;32m    643\u001b[0m \u001b[0;34m\u001b[0m\u001b[0m\n\u001b[1;32m    644\u001b[0m         \u001b[0;32mif\u001b[0m \u001b[0mforce_all_finite\u001b[0m\u001b[0;34m:\u001b[0m\u001b[0;34m\u001b[0m\u001b[0;34m\u001b[0m\u001b[0m\n\u001b[0;32m--> 645\u001b[0;31m             _assert_all_finite(array,\n\u001b[0m\u001b[1;32m    646\u001b[0m                                allow_nan=force_all_finite == 'allow-nan')\n\u001b[1;32m    647\u001b[0m \u001b[0;34m\u001b[0m\u001b[0m\n",
      "\u001b[0;32m~/anaconda3/lib/python3.8/site-packages/sklearn/utils/validation.py\u001b[0m in \u001b[0;36m_assert_all_finite\u001b[0;34m(X, allow_nan, msg_dtype)\u001b[0m\n\u001b[1;32m    103\u001b[0m     \u001b[0;32melif\u001b[0m \u001b[0mX\u001b[0m\u001b[0;34m.\u001b[0m\u001b[0mdtype\u001b[0m \u001b[0;34m==\u001b[0m \u001b[0mnp\u001b[0m\u001b[0;34m.\u001b[0m\u001b[0mdtype\u001b[0m\u001b[0;34m(\u001b[0m\u001b[0;34m'object'\u001b[0m\u001b[0;34m)\u001b[0m \u001b[0;32mand\u001b[0m \u001b[0;32mnot\u001b[0m \u001b[0mallow_nan\u001b[0m\u001b[0;34m:\u001b[0m\u001b[0;34m\u001b[0m\u001b[0;34m\u001b[0m\u001b[0m\n\u001b[1;32m    104\u001b[0m         \u001b[0;32mif\u001b[0m \u001b[0m_object_dtype_isnan\u001b[0m\u001b[0;34m(\u001b[0m\u001b[0mX\u001b[0m\u001b[0;34m)\u001b[0m\u001b[0;34m.\u001b[0m\u001b[0many\u001b[0m\u001b[0;34m(\u001b[0m\u001b[0;34m)\u001b[0m\u001b[0;34m:\u001b[0m\u001b[0;34m\u001b[0m\u001b[0;34m\u001b[0m\u001b[0m\n\u001b[0;32m--> 105\u001b[0;31m             \u001b[0;32mraise\u001b[0m \u001b[0mValueError\u001b[0m\u001b[0;34m(\u001b[0m\u001b[0;34m\"Input contains NaN\"\u001b[0m\u001b[0;34m)\u001b[0m\u001b[0;34m\u001b[0m\u001b[0;34m\u001b[0m\u001b[0m\n\u001b[0m\u001b[1;32m    106\u001b[0m \u001b[0;34m\u001b[0m\u001b[0m\n\u001b[1;32m    107\u001b[0m \u001b[0;34m\u001b[0m\u001b[0m\n",
      "\u001b[0;31mValueError\u001b[0m: Input contains NaN"
     ]
    }
   ],
   "source": [
    "ohe = OneHotEncoder(sparse=False, handle_unknown='ignore')\n",
    "ohe.fit_transform(hs_train)"
   ]
  },
  {
   "cell_type": "markdown",
   "metadata": {
    "id": "Ee04BqFafBw3"
   },
   "source": [
    "В данной ситуации было бы воспользоваться той же самой возможностью проигнорировать пропуски, как в примере с тестовым набором выше. Но на данный момент такой возможности нет, поэтому необходимо их импутировать."
   ]
  },
  {
   "cell_type": "markdown",
   "metadata": {
    "id": "rgHIbmqFfBw4"
   },
   "source": [
    "## Необходимость импутации пропущенных значений\n",
    "\n",
    "Теперь необходимо заполнить пропущенные значения. Класс `Imputer` из модуля preprocessing объявлен устаревшим. Новый модуль `impute` пришел ему на замену со своим классом `SimpleImputer` и новой стратегией 'constant'. По умолчанию при использовании этой стратегии пропуски будут заменены на строку 'missing_value'. Но есть возможность заполнять пропуски любыми значениями с помощью параметра fill_value."
   ]
  },
  {
   "cell_type": "code",
   "execution_count": 56,
   "metadata": {
    "id": "tmearCDefBw4",
    "outputId": "1a4c7a88-1576-4ec9-c92c-bd4beb42e66b"
   },
   "outputs": [
    {
     "data": {
      "text/plain": [
       "array([['MISSING'],\n",
       "       ['1Story'],\n",
       "       ['2Story'],\n",
       "       ...,\n",
       "       ['2Story'],\n",
       "       ['1Story'],\n",
       "       ['1Story']], dtype=object)"
      ]
     },
     "execution_count": 56,
     "metadata": {},
     "output_type": "execute_result"
    }
   ],
   "source": [
    "hs_train = train[['HouseStyle']].copy()\n",
    "hs_train.iloc[0, 0] = np.nan\n",
    "\n",
    "from sklearn.impute import SimpleImputer\n",
    "si = SimpleImputer(strategy='constant', fill_value='MISSING')\n",
    "hs_train_imputed = si.fit_transform(hs_train)\n",
    "hs_train_imputed"
   ]
  },
  {
   "cell_type": "markdown",
   "metadata": {
    "id": "Iyu7laXzfBw4"
   },
   "source": [
    "Вот теперь мы можем выполнить дамми-кодирование, как уже делали это ранее."
   ]
  },
  {
   "cell_type": "code",
   "execution_count": 58,
   "metadata": {
    "id": "Cb608vi0fBw5",
    "outputId": "62849503-6707-4883-d9c0-0e6d2615dbc1"
   },
   "outputs": [
    {
     "data": {
      "text/plain": [
       "array([[0., 0., 0., ..., 1., 0., 0.],\n",
       "       [0., 0., 1., ..., 0., 0., 0.],\n",
       "       [0., 0., 0., ..., 0., 0., 0.],\n",
       "       ...,\n",
       "       [0., 0., 0., ..., 0., 0., 0.],\n",
       "       [0., 0., 1., ..., 0., 0., 0.],\n",
       "       [0., 0., 1., ..., 0., 0., 0.]])"
      ]
     },
     "execution_count": 58,
     "metadata": {},
     "output_type": "execute_result"
    }
   ],
   "source": [
    "hs_train_transformed = ohe.fit_transform(hs_train_imputed)\n",
    "hs_train_transformed"
   ]
  },
  {
   "cell_type": "markdown",
   "metadata": {
    "id": "embjeUNXfBw5"
   },
   "source": [
    "Стоит отметить, что теперь в наборе данных присутствует дополнительный столбец и дополнительное имя столбца."
   ]
  },
  {
   "cell_type": "code",
   "execution_count": 60,
   "metadata": {
    "id": "a7qgf_PpfBw5",
    "outputId": "b34afb7c-2b5a-425a-9597-c684672c48dd"
   },
   "outputs": [
    {
     "data": {
      "text/plain": [
       "(1460, 9)"
      ]
     },
     "execution_count": 60,
     "metadata": {},
     "output_type": "execute_result"
    }
   ],
   "source": [
    "hs_train_transformed.shape"
   ]
  },
  {
   "cell_type": "code",
   "execution_count": null,
   "metadata": {
    "id": "MjRmFE0yfBw5",
    "outputId": "5c8bb150-9e31-4ffa-c9d6-63449083b03c"
   },
   "outputs": [
    {
     "data": {
      "text/plain": [
       "array(['x0_1.5Fin', 'x0_1.5Unf', 'x0_1Story', 'x0_2.5Fin', 'x0_2.5Unf',\n",
       "       'x0_2Story', 'x0_MISSING', 'x0_SFoyer', 'x0_SLvl'], dtype=object)"
      ]
     },
     "execution_count": 30,
     "metadata": {},
     "output_type": "execute_result"
    }
   ],
   "source": [
    "ohe.get_feature_names()"
   ]
  },
  {
   "cell_type": "markdown",
   "metadata": {},
   "source": [
    "## Больше о методе `fit_transform()`\n",
    "\n",
    "Для всех моделей метод `fit_transform()` сначала вызывает метод `fit()`, а затем вызывает метод `transform()`. Метод `fit()` вычисляет то, что будет использовано в ходе преобразования. Например, если бы мы задали для `SimpleImputer` стратегию 'mean', то при вызове метода `fit()` мы бы вычисляли и сохраняли среднее значение по каждому признаку. А метод `transform()` использует эти средние значения для заполнения пропусков в каждом соответствующем столбце и возвращает преобразованный массив.\n",
    "\n",
    "`OneHotEncoder` работает аналогично. Во время выполнения метода `fit()`, он находит все уникальные значения для каждого столбца и сохраняет их. Когда вызывается метод `transform()`, сохраненные уникальные значения для каждого столбца используются для создания бинарных признаков."
   ]
  },
  {
   "cell_type": "markdown",
   "metadata": {},
   "source": [
    "### Применение нескольких преобразований к тестовому набору\n",
    "Кроме того, мы можем вручную применить каждое из описанных выше преобразований в следующем порядке:"
   ]
  },
  {
   "cell_type": "code",
   "execution_count": 63,
   "metadata": {
    "id": "iObiERcdfBw6",
    "outputId": "8748b6fb-b931-4aaa-e974-413481ce4ee0"
   },
   "outputs": [
    {
     "data": {
      "text/plain": [
       "(1459, 9)"
      ]
     },
     "execution_count": 63,
     "metadata": {},
     "output_type": "execute_result"
    }
   ],
   "source": [
    "hs_test = test[['HouseStyle']].copy()\n",
    "hs_test.iloc[0, 0] = 'unique value to test set'\n",
    "hs_test.iloc[1, 0] = np.nan\n",
    "\n",
    "hs_test_imputed = si.transform(hs_test)\n",
    "hs_test_transformed = ohe.transform(hs_test_imputed)\n",
    "hs_test_transformed.shape"
   ]
  },
  {
   "cell_type": "markdown",
   "metadata": {
    "id": "tJWyZqQIfBw7"
   },
   "source": [
    "## Применение конвейера\n",
    "\n",
    "Библиотека scikit-learn предлагает класс `Pipeline`, который принимает список преобразований и выполняет их последовательно. Кроме того, в него можно поместить модель машинного обучения в качестве конечного класса. Ниже приведен пример простой импутации и дамми- кодирования."
   ]
  },
  {
   "cell_type": "code",
   "execution_count": 65,
   "metadata": {
    "id": "wqnD5_LFfBw7"
   },
   "outputs": [],
   "source": [
    "from sklearn.pipeline import Pipeline"
   ]
  },
  {
   "cell_type": "markdown",
   "metadata": {
    "id": "GVRnSiP9fBw7"
   },
   "source": [
    "Каждый этап конвейера представляет собой кортеж, состоящий из двух элементов – названия шага и экземпляра класса. Результат предыдущего этапа будет входными данными для последующего этапа."
   ]
  },
  {
   "cell_type": "code",
   "execution_count": 67,
   "metadata": {
    "id": "fnNwq4h2fBw7",
    "outputId": "e52a3bb9-0cc8-43a6-9e63-96b766b78c4c"
   },
   "outputs": [
    {
     "data": {
      "text/plain": [
       "(1460, 9)"
      ]
     },
     "execution_count": 67,
     "metadata": {},
     "output_type": "execute_result"
    }
   ],
   "source": [
    "si_step = ('si', SimpleImputer(strategy='constant', fill_value='MISSING'))\n",
    "ohe_step = ('ohe', OneHotEncoder(sparse=False, handle_unknown='ignore'))\n",
    "steps = [si_step, ohe_step]\n",
    "\n",
    "pipe = Pipeline(steps)\n",
    "\n",
    "hs_train = train[['HouseStyle']].copy()\n",
    "hs_train.iloc[0, 0] = np.nan\n",
    "\n",
    "hs_transformed = pipe.fit_transform(hs_train)\n",
    "hs_transformed.shape"
   ]
  },
  {
   "cell_type": "markdown",
   "metadata": {
    "id": "ufM5wZd1fBw8"
   },
   "source": [
    "Преобразования для тестового набора легко выполняются с помощью соответствующего этапа конвейера, для этого нужно просто передать тестовый набор в метод `transform()`."
   ]
  },
  {
   "cell_type": "code",
   "execution_count": 69,
   "metadata": {
    "id": "LRBObtnHfBw8",
    "outputId": "92799b81-b70d-4ca5-e70d-6f36cdfa7b1a"
   },
   "outputs": [
    {
     "data": {
      "text/plain": [
       "(1459, 9)"
      ]
     },
     "execution_count": 69,
     "metadata": {},
     "output_type": "execute_result"
    }
   ],
   "source": [
    "hs_test = test[['HouseStyle']].copy()\n",
    "hs_test_transformed = pipe.transform(hs_test)\n",
    "hs_test_transformed.shape"
   ]
  },
  {
   "cell_type": "markdown",
   "metadata": {
    "id": "jcTOlJQrfBw6"
   },
   "source": [
    "## Почему для тестового набора мы вызываем только метод `transform()`?\n",
    "\n",
    "Для выполнения преобразований тестового набора нам нужно вызвать метод `transform()`, а не `fit_transform()`, поскольку библиотека scikit-learn уже нашла всю необходимую информацию, которая ей понадобиться для преобразования любого другого набора, содержащего те же самые имена столбцов."
   ]
  },
  {
   "cell_type": "code",
   "execution_count": 71,
   "metadata": {
    "id": "laVjNgSRfBw6",
    "outputId": "b42af7b8-189b-4eba-9080-fd104c41bf1b"
   },
   "outputs": [
    {
     "data": {
      "text/plain": [
       "array(['x0_1.5Fin', 'x0_1.5Unf', 'x0_1Story', 'x0_2.5Fin', 'x0_2.5Unf',\n",
       "       'x0_2Story', 'x0_MISSING', 'x0_SFoyer', 'x0_SLvl'], dtype=object)"
      ]
     },
     "execution_count": 71,
     "metadata": {},
     "output_type": "execute_result"
    }
   ],
   "source": [
    "ohe.get_feature_names()"
   ]
  },
  {
   "cell_type": "markdown",
   "metadata": {
    "id": "e3q9TSz2fBw8"
   },
   "source": [
    "## Выполнение преобразований для нескольких столбцов со строковыми значениями\n",
    "\n",
    "Выполнить преобразование нескольких столбцов со строковыми значениями так же просто. Необходимо выбрать нужные столбцы и передать их в тот же самый конвейер."
   ]
  },
  {
   "cell_type": "code",
   "execution_count": 73,
   "metadata": {
    "id": "Wudx48ypfBw8",
    "outputId": "ee270b60-e386-40bb-90c3-d2de5dc7aa71"
   },
   "outputs": [
    {
     "data": {
      "text/html": [
       "<div>\n",
       "<style scoped>\n",
       "    .dataframe tbody tr th:only-of-type {\n",
       "        vertical-align: middle;\n",
       "    }\n",
       "\n",
       "    .dataframe tbody tr th {\n",
       "        vertical-align: top;\n",
       "    }\n",
       "\n",
       "    .dataframe thead th {\n",
       "        text-align: right;\n",
       "    }\n",
       "</style>\n",
       "<table border=\"1\" class=\"dataframe\">\n",
       "  <thead>\n",
       "    <tr style=\"text-align: right;\">\n",
       "      <th></th>\n",
       "      <th>RoofMatl</th>\n",
       "      <th>HouseStyle</th>\n",
       "    </tr>\n",
       "  </thead>\n",
       "  <tbody>\n",
       "    <tr>\n",
       "      <th>0</th>\n",
       "      <td>CompShg</td>\n",
       "      <td>2Story</td>\n",
       "    </tr>\n",
       "    <tr>\n",
       "      <th>1</th>\n",
       "      <td>CompShg</td>\n",
       "      <td>1Story</td>\n",
       "    </tr>\n",
       "    <tr>\n",
       "      <th>2</th>\n",
       "      <td>CompShg</td>\n",
       "      <td>2Story</td>\n",
       "    </tr>\n",
       "  </tbody>\n",
       "</table>\n",
       "</div>"
      ],
      "text/plain": [
       "  RoofMatl HouseStyle\n",
       "0  CompShg     2Story\n",
       "1  CompShg     1Story\n",
       "2  CompShg     2Story"
      ]
     },
     "execution_count": 73,
     "metadata": {},
     "output_type": "execute_result"
    }
   ],
   "source": [
    "string_cols = ['RoofMatl', 'HouseStyle']\n",
    "string_train = train[string_cols]\n",
    "string_train.head(3)"
   ]
  },
  {
   "cell_type": "code",
   "execution_count": 74,
   "metadata": {
    "id": "CK28wBZDfBw8",
    "outputId": "6c3d6b5f-08fe-4ae1-d388-26193228491e"
   },
   "outputs": [
    {
     "data": {
      "text/plain": [
       "(1460, 16)"
      ]
     },
     "execution_count": 74,
     "metadata": {},
     "output_type": "execute_result"
    }
   ],
   "source": [
    "string_train_transformed = pipe.fit_transform(string_train)\n",
    "string_train_transformed.shape"
   ]
  },
  {
   "cell_type": "markdown",
   "metadata": {
    "id": "x-SWCjzwfBw9"
   },
   "source": [
    "### Обращение к отдельным этапам конвейера\n",
    "\n",
    "При необходимости можно обратиться к отдельному этапу конвейера по его имени с помощью атрибута `named_steps`. В этом примере обратимся к `OneHotEncoder`, чтобы вывести названия признаков."
   ]
  },
  {
   "cell_type": "code",
   "execution_count": 76,
   "metadata": {
    "id": "OuVo5DTmfBw9",
    "outputId": "6cdd6b54-474c-424b-83ab-e5cc90dc0a1f"
   },
   "outputs": [
    {
     "data": {
      "text/plain": [
       "array(['x0_ClyTile', 'x0_CompShg', 'x0_Membran', 'x0_Metal', 'x0_Roll',\n",
       "       'x0_Tar&Grv', 'x0_WdShake', 'x0_WdShngl', 'x1_1.5Fin', 'x1_1.5Unf',\n",
       "       'x1_1Story', 'x1_2.5Fin', 'x1_2.5Unf', 'x1_2Story', 'x1_SFoyer',\n",
       "       'x1_SLvl'], dtype=object)"
      ]
     },
     "execution_count": 76,
     "metadata": {},
     "output_type": "execute_result"
    }
   ],
   "source": [
    "ohe = pipe.named_steps['ohe']\n",
    "ohe.get_feature_names()"
   ]
  },
  {
   "cell_type": "markdown",
   "metadata": {
    "id": "YfcLXCJrfBw9"
   },
   "source": [
    "## Использование нового `ColumnTransformer` для отбора столбцов\n",
    "\n",
    "Класс `ColumnTransformer` (входящий в новый модуль compose) позволяет определить, для каких столбцов нужно выполнить определенные преобразования. Категориальные признаки мы почти всегда преобразовываем иначе, чем количественные.\n",
    "\n",
    "В настоящее время класс `ColumnTransformer` проходит испытание, а значит его функционал может измениться в будущем. ColumnTransformer принимает список трехэлементных кортежей. Первое значение в кортеже является именем самого кортежа, второе – экземпляр класса, третье – список столбцов, которые нужно преобразовать. Кортеж будет выглядеть следующим образом:\n",
    "\n",
    "```('name', SomeTransformer(parameters), columns)```\n",
    "\n",
    "Столбцы необязательно должны быть именами столбцов, вы можете использовать целочисленные индексы столбцов, массив булевых значений и даже функцию, которая принимает в качестве аргумента весь DataFrame и возвращает набор столбцов.\n",
    "\n",
    "Также предусмотрена возможность использовать массив NumPy вместе с `ColumnTransformer`.\n",
    "\n",
    "## Передаем конвейер в `ColumnTransformer`\n",
    "\n",
    "Мы даже можем передать конвейер с множетвом преобразований в `ColumnTransformer`, что мы и сделаем ниже, поскольку нам нужно применить несколько преобразований к столбцам со строковыми значениями.\n",
    "\n",
    "Ниже мы выполним ту же самую импутацию и дамми-кодирование, что и в предыдущих примерах, но теперь с использованием ColumnTransformer. При этом конвейер остается тем же самым, что и прежде, просто к имени каждого этапа добавим префикс `cat`. В следующем разделе мы добавим дополнительный конвейер для количественных столбцов."
   ]
  },
  {
   "cell_type": "code",
   "execution_count": 80,
   "metadata": {
    "id": "xn8cEanqfBw-"
   },
   "outputs": [],
   "source": [
    "from sklearn.compose import ColumnTransformer\n",
    "\n",
    "cat_si_step = ('si', SimpleImputer(strategy='constant', fill_value='MISSING'))\n",
    "cat_ohe_step = ('ohe', OneHotEncoder(sparse=False, handle_unknown='ignore'))\n",
    "cat_steps = [cat_si_step, cat_ohe_step]\n",
    "\n",
    "cat_pipe = Pipeline(cat_steps)\n",
    "cat_cols = ['RoofMatl', 'HouseStyle']\n",
    "cat_transformers = [('cat', cat_pipe, cat_cols)]\n",
    "\n",
    "ct = ColumnTransformer(transformers=cat_transformers)"
   ]
  },
  {
   "cell_type": "markdown",
   "metadata": {
    "id": "QnYdnuPvfBw-"
   },
   "source": [
    "## Передаем весь объект DataFrame в `ColumnTransformer`\n",
    "Экземпляр класса `ColumnTransformer` отбирает нужные нам столбцы, поэтому мы можем просто передать весь датафрейм в метод `fit_transform()`. Нужные столбцы будут выбраны автоматически."
   ]
  },
  {
   "cell_type": "code",
   "execution_count": 82,
   "metadata": {
    "id": "GBrD3sKpfBw-",
    "outputId": "7500119f-2f90-4d98-962d-fc1ccc17875c"
   },
   "outputs": [
    {
     "data": {
      "text/plain": [
       "array([[0., 1., 0., ..., 1., 0., 0.],\n",
       "       [0., 1., 0., ..., 0., 0., 0.],\n",
       "       [0., 1., 0., ..., 1., 0., 0.],\n",
       "       ...,\n",
       "       [0., 1., 0., ..., 1., 0., 0.],\n",
       "       [0., 1., 0., ..., 0., 0., 0.],\n",
       "       [0., 1., 0., ..., 0., 0., 0.]])"
      ]
     },
     "execution_count": 82,
     "metadata": {},
     "output_type": "execute_result"
    }
   ],
   "source": [
    "X_cat_transformed = ct.fit_transform(train)\n",
    "X_cat_transformed"
   ]
  },
  {
   "cell_type": "code",
   "execution_count": 83,
   "metadata": {
    "id": "LGoWQ9InfBw_",
    "outputId": "0a311e19-ef84-4de1-950a-31d8f76a294d"
   },
   "outputs": [
    {
     "data": {
      "text/plain": [
       "(1460, 16)"
      ]
     },
     "execution_count": 83,
     "metadata": {},
     "output_type": "execute_result"
    }
   ],
   "source": [
    "X_cat_transformed.shape"
   ]
  },
  {
   "cell_type": "markdown",
   "metadata": {
    "id": "YWz7L7cpfBw_"
   },
   "source": [
    "Тестовый набор можно преобразовать аналогичным образом."
   ]
  },
  {
   "cell_type": "code",
   "execution_count": 85,
   "metadata": {
    "id": "H4hcy1lzfBw_",
    "outputId": "f6d2a32b-4e4d-47ec-a4cf-7be9dc977814"
   },
   "outputs": [
    {
     "data": {
      "text/plain": [
       "(1459, 16)"
      ]
     },
     "execution_count": 85,
     "metadata": {},
     "output_type": "execute_result"
    }
   ],
   "source": [
    "X_cat_transformed_test = ct.transform(test)\n",
    "X_cat_transformed_test.shape"
   ]
  },
  {
   "cell_type": "markdown",
   "metadata": {
    "id": "NOD6-zq-fBxA"
   },
   "source": [
    "### Извлечение названий признаков\n",
    "\n",
    "Придется немного поковыряться, чтобы достать названия признаков. Все классы, выполняющие преобразования, хранятся в атрибуте `named_transformers_`. Ниже мы выбираем наш трансформер. Пока он только один – конвейер под названием 'cat', где 'cat' – это имя, первый элемент в трехэлементном кортеже."
   ]
  },
  {
   "cell_type": "code",
   "execution_count": 88,
   "metadata": {
    "id": "mWS19-tVfBxA"
   },
   "outputs": [],
   "source": [
    "pl = ct.named_transformers_['cat']"
   ]
  },
  {
   "cell_type": "markdown",
   "metadata": {
    "id": "Bb_C5_EFfBxA"
   },
   "source": [
    "Теперь из этого конвейера мы извлекаем объект OneHotEncoder и уже из него можно извлечь имена предикторов."
   ]
  },
  {
   "cell_type": "code",
   "execution_count": 91,
   "metadata": {
    "id": "sK120smdfBxA",
    "outputId": "1d790746-47f4-4314-8754-3db9d8503315"
   },
   "outputs": [
    {
     "data": {
      "text/plain": [
       "array(['x0_ClyTile', 'x0_CompShg', 'x0_Membran', 'x0_Metal', 'x0_Roll',\n",
       "       'x0_Tar&Grv', 'x0_WdShake', 'x0_WdShngl', 'x1_1.5Fin', 'x1_1.5Unf',\n",
       "       'x1_1Story', 'x1_2.5Fin', 'x1_2.5Unf', 'x1_2Story', 'x1_SFoyer',\n",
       "       'x1_SLvl'], dtype=object)"
      ]
     },
     "execution_count": 91,
     "metadata": {},
     "output_type": "execute_result"
    }
   ],
   "source": [
    "ohe = pl.named_steps['ohe']\n",
    "ohe.get_feature_names()"
   ]
  },
  {
   "cell_type": "markdown",
   "metadata": {
    "id": "aOiM1JyQfBxB"
   },
   "source": [
    "## Преобразование количественных переменных\n",
    "\n",
    "Количественным переменным могут потребоваться совершенно другие преобразования. Вместо импутации пропусков константами чаще используется импутация средним значением или медианой. И вместо дамми-кодирования обычно выполняют стандартизацию путем вычитания из исходного значения признака среднего значения и делением полученного результата на стандартное отклонение. Это позволяет улучшить качество регрессионных моделей.\n",
    "\n",
    "## Работа со всеми количественными признаками\n",
    "\n",
    "Вместо выбора одного или нескольких столбцов вручную, как мы делали это выше, работая со столбцами, содержащими строковые значения, можно выбрать все количественные переменные. Чтобы это сделать, нужно сперва найти тип каждого признака с помощью аттрибута `dtypes`, после чего проверить, имеет ли данный признак тип object. Атрибут `dtypes` позволяет выяснить тип каждого столбца. Мы можем использовать его для поиска столбцов с числовыми или строковыми значениями. Библиотека pandas хранит все столбцы со строковыми значениями как столбцы типа object."
   ]
  },
  {
   "cell_type": "code",
   "execution_count": 94,
   "metadata": {
    "id": "zHgc89KXfBxB",
    "outputId": "d52816b0-631c-452b-d2c5-2f6958cd16f9"
   },
   "outputs": [
    {
     "data": {
      "text/plain": [
       "Id               int64\n",
       "MSSubClass       int64\n",
       "MSZoning        object\n",
       "LotFrontage    float64\n",
       "LotArea          int64\n",
       "dtype: object"
      ]
     },
     "execution_count": 94,
     "metadata": {},
     "output_type": "execute_result"
    }
   ],
   "source": [
    "train.dtypes.head()"
   ]
  },
  {
   "cell_type": "markdown",
   "metadata": {
    "id": "b3sZFZUifBxC"
   },
   "source": [
    "С помощью атрибута `kind` выводим тип каждой переменной в виде одной буквы."
   ]
  },
  {
   "cell_type": "code",
   "execution_count": 96,
   "metadata": {},
   "outputs": [],
   "source": [
    "from operator import attrgetter"
   ]
  },
  {
   "cell_type": "code",
   "execution_count": 104,
   "metadata": {},
   "outputs": [
    {
     "data": {
      "text/plain": [
       "Id               i\n",
       "MSSubClass       i\n",
       "MSZoning         O\n",
       "LotFrontage      f\n",
       "LotArea          i\n",
       "                ..\n",
       "MiscVal          i\n",
       "MoSold           i\n",
       "YrSold           i\n",
       "SaleType         O\n",
       "SaleCondition    O\n",
       "Length: 80, dtype: object"
      ]
     },
     "execution_count": 104,
     "metadata": {},
     "output_type": "execute_result"
    }
   ],
   "source": [
    "train.dtypes.apply(attrgetter('kind'))"
   ]
  },
  {
   "cell_type": "code",
   "execution_count": 106,
   "metadata": {},
   "outputs": [],
   "source": [
    "# kinds = np.array([dt.kind for dt in train.dtypes])\n",
    "kinds = train.dtypes.apply(attrgetter('kind')).values"
   ]
  },
  {
   "cell_type": "code",
   "execution_count": 107,
   "metadata": {
    "id": "4m22b9uqfBxC",
    "outputId": "0484ba50-27e9-4edd-af07-8a032582067f"
   },
   "outputs": [
    {
     "data": {
      "text/plain": [
       "array(['i', 'i', 'O', 'f', 'i'], dtype=object)"
      ]
     },
     "execution_count": 107,
     "metadata": {},
     "output_type": "execute_result"
    }
   ],
   "source": [
    "kinds[:5]"
   ]
  },
  {
   "cell_type": "markdown",
   "metadata": {
    "id": "0KlCmCvWfBxC"
   },
   "source": [
    "Предположим, что все количественные предикторы не относятся к типу object. Исходя из этого, мы можем извлечь категориальные признаки."
   ]
  },
  {
   "cell_type": "code",
   "execution_count": 109,
   "metadata": {
    "id": "pctJ26R0fBxD",
    "outputId": "c1ec66fa-00f5-4639-f4e5-0618a2941f1d"
   },
   "outputs": [
    {
     "data": {
      "text/plain": [
       "array(['Id', 'MSSubClass', 'LotFrontage', 'LotArea', 'OverallQual'],\n",
       "      dtype=object)"
      ]
     },
     "execution_count": 109,
     "metadata": {},
     "output_type": "execute_result"
    }
   ],
   "source": [
    "all_columns = train.columns.values\n",
    "is_num = kinds != 'O'\n",
    "num_cols = all_columns[is_num]\n",
    "num_cols[:5]"
   ]
  },
  {
   "cell_type": "code",
   "execution_count": 110,
   "metadata": {
    "id": "Ff4pqBF5fBxD",
    "outputId": "7c64971d-d154-41ba-fa32-633b196be2cb"
   },
   "outputs": [
    {
     "data": {
      "text/plain": [
       "array(['MSZoning', 'Street', 'Alley', 'LotShape', 'LandContour'],\n",
       "      dtype=object)"
      ]
     },
     "execution_count": 110,
     "metadata": {},
     "output_type": "execute_result"
    }
   ],
   "source": [
    "cat_cols = all_columns[~is_num]\n",
    "cat_cols[:5]"
   ]
  },
  {
   "cell_type": "markdown",
   "metadata": {
    "id": "88YbCe2-fBxD"
   },
   "source": [
    "Как только количественные признаки определены, мы вновь можем воспользоваться классом `ColumnTransformer`."
   ]
  },
  {
   "cell_type": "code",
   "execution_count": 112,
   "metadata": {
    "id": "dvEc-WeufBxD",
    "outputId": "5e2557a3-64fb-4fde-d9c3-23b20a64267c"
   },
   "outputs": [
    {
     "data": {
      "text/plain": [
       "(1460, 37)"
      ]
     },
     "execution_count": 112,
     "metadata": {},
     "output_type": "execute_result"
    }
   ],
   "source": [
    "from sklearn.preprocessing import StandardScaler\n",
    "\n",
    "num_si_step = ('si', SimpleImputer(strategy='median'))\n",
    "num_ss_step = ('ss', StandardScaler())\n",
    "num_steps = [num_si_step, num_ss_step]\n",
    "\n",
    "num_pipe = Pipeline(num_steps)\n",
    "num_transformers = [('num', num_pipe, num_cols)]\n",
    "\n",
    "ct = ColumnTransformer(transformers=num_transformers)\n",
    "\n",
    "X_num_transformed = ct.fit_transform(train)\n",
    "X_num_transformed.shape"
   ]
  },
  {
   "cell_type": "markdown",
   "metadata": {
    "id": "tbE0ApopfBxE"
   },
   "source": [
    "## Передаем конвейер с преобразованиями для категориальных признаков и конвейер с преобразования для количественных признаков в `ColumnTransformer`\n",
    "\n",
    "С помощью `ColumnTransformer` для каждого типа столбцов можно применить отдельные преобразования. Нам нужно определиться с операциями преобразования для категориальных признаков и операциями преобразования для количественных признаков. После этого создаем отдельный конвейер для категориальных признаков, отдельный конвейер для количественных признаков, затем используем `ColumnTransformer` для независимого преобразования признаков. Преобразования в обоих конвейерах будут выполняться **параллельно**, а их результаты будут сконкатенированы."
   ]
  },
  {
   "cell_type": "code",
   "execution_count": 114,
   "metadata": {
    "id": "x4Kh0mSdfBxE",
    "outputId": "9eab5a75-f156-42c8-898c-10a851d61de0"
   },
   "outputs": [
    {
     "data": {
      "text/plain": [
       "(1460, 305)"
      ]
     },
     "execution_count": 114,
     "metadata": {},
     "output_type": "execute_result"
    }
   ],
   "source": [
    "transformers = [('cat', cat_pipe, cat_cols),\n",
    "                ('num', num_pipe, num_cols)]\n",
    "\n",
    "ct = ColumnTransformer(transformers=transformers)\n",
    "\n",
    "X = ct.fit_transform(train)\n",
    "X.shape"
   ]
  },
  {
   "cell_type": "markdown",
   "metadata": {
    "id": "fJWYs0NGfBxE"
   },
   "source": [
    "# Machine Learning\n",
    "\n",
    "Целью всех вышеописанных этапов была подготовка данных для последующего машинного обучения. Мы можем создать итоговый конвейер и добавить в него в качестве последнего этапа модель машинного обучения. Первым этапом этого конвейера будет преобразование данных, описанное выше. В качестве зависимой переменной $y$, как было принято выше, берется переменная `SalePrice`. Здесь мы просто используем метод `fit` вместо `fit_transform`, поскольку итоговым этапом конвейера будет модель машинного обучения, которая не производит никаких преобразований."
   ]
  },
  {
   "cell_type": "code",
   "execution_count": 116,
   "metadata": {
    "id": "n9CY-j8QfBxF",
    "outputId": "f370e9fa-9c73-4e4a-b657-cd91db70e189"
   },
   "outputs": [
    {
     "data": {
      "text/plain": [
       "Pipeline(steps=[('transform',\n",
       "                 ColumnTransformer(transformers=[('cat',\n",
       "                                                  Pipeline(steps=[('si',\n",
       "                                                                   SimpleImputer(fill_value='MISSING',\n",
       "                                                                                 strategy='constant')),\n",
       "                                                                  ('ohe',\n",
       "                                                                   OneHotEncoder(handle_unknown='ignore',\n",
       "                                                                                 sparse=False))]),\n",
       "                                                  array(['MSZoning', 'Street', 'Alley', 'LotShape', 'LandContour',\n",
       "       'Utilities', 'LotConfig', 'LandSlope', 'Neighborhood',\n",
       "       'Condition1', 'Condition2', 'Bld...\n",
       "       'BsmtFinSF1', 'BsmtFinSF2', 'BsmtUnfSF', 'TotalBsmtSF', '1stFlrSF',\n",
       "       '2ndFlrSF', 'LowQualFinSF', 'GrLivArea', 'BsmtFullBath',\n",
       "       'BsmtHalfBath', 'FullBath', 'HalfBath', 'BedroomAbvGr',\n",
       "       'KitchenAbvGr', 'TotRmsAbvGrd', 'Fireplaces', 'GarageYrBlt',\n",
       "       'GarageCars', 'GarageArea', 'WoodDeckSF', 'OpenPorchSF',\n",
       "       'EnclosedPorch', '3SsnPorch', 'ScreenPorch', 'PoolArea', 'MiscVal',\n",
       "       'MoSold', 'YrSold'], dtype=object))])),\n",
       "                ('ridge', Ridge())])"
      ]
     },
     "execution_count": 116,
     "metadata": {},
     "output_type": "execute_result"
    }
   ],
   "source": [
    "from sklearn.linear_model import Ridge\n",
    "\n",
    "ml_pipe = Pipeline([('transform', ct), ('ridge', Ridge())])\n",
    "ml_pipe.fit(train, y)"
   ]
  },
  {
   "cell_type": "code",
   "execution_count": 117,
   "metadata": {
    "id": "F5gWb29GfBxF",
    "outputId": "600baacf-8fb1-4383-9612-b157093e69a3"
   },
   "outputs": [
    {
     "data": {
      "text/plain": [
       "0.9220545988101001"
      ]
     },
     "execution_count": 117,
     "metadata": {},
     "output_type": "execute_result"
    }
   ],
   "source": [
    "ml_pipe.score(train, y)"
   ]
  },
  {
   "cell_type": "markdown",
   "metadata": {},
   "source": [
    "Оценить качество модели можно, например, с помощью метода `score()`, возвращающего значение R-квадрат."
   ]
  },
  {
   "cell_type": "markdown",
   "metadata": {
    "id": "EnbGoRlCfBxF"
   },
   "source": [
    "## Перекрестная проверка\n",
    "\n",
    "Разумеется, оценка модели на обучающем наборе данных бесполезна. Чтобы лучше понять, как модель поведет себя на неизвестных ей данных, нужно провести k-блочную перекрестную проверку. Для воспроизводимости результатов нужно задать значение random_state."
   ]
  },
  {
   "cell_type": "code",
   "execution_count": 120,
   "metadata": {
    "id": "GOQ89NsffBxG",
    "outputId": "710abd82-e2cb-43dc-809e-df365efa1744"
   },
   "outputs": [
    {
     "data": {
      "text/plain": [
       "0.8133920019569674"
      ]
     },
     "execution_count": 120,
     "metadata": {},
     "output_type": "execute_result"
    }
   ],
   "source": [
    "from sklearn.model_selection import KFold, cross_val_score\n",
    "kf = KFold(n_splits=5, shuffle=True, random_state=123)\n",
    "\n",
    "cross_val_score(ml_pipe, train, y, cv=kf).mean()"
   ]
  },
  {
   "cell_type": "markdown",
   "metadata": {
    "id": "ogcdx-fMfBxH"
   },
   "source": [
    "## Отбор наилучших значений гиперпараметров с помощью поиска по решетке\n",
    "Решетчатый поиск в библиотеке scikit-learn требует передачи словаря, ключами которого будут названия гиперпараметров, а значениями – списки значений этих гиперпараметров. При работе с конвейером мы должны взять имя этапа с двумя символами нижнего подчеркивания на конце и после этого указать имя гиперпараметра. Если мы работаем с многоуровневым конвейером, как в примере ниже, то тогда двойное нижнее подчеркивание должно разделять имена всех уровней (`transform__num__si__strategy`, здесь мы работаем с уровнями `transform`, `num` и `si`), пока не будет достигнуто название гиперпараметра экземпляра класса (в данном случае название гиперпараметра `strategy` объект `si`, экземпляр класса `SimpleImputer`), по значениям которого должен быть осуществлен поиск (в данном случае, как можно увидеть ниже, поиск должен быть осуществлен по значениям 'mean' и 'median')."
   ]
  },
  {
   "cell_type": "code",
   "execution_count": 122,
   "metadata": {
    "id": "o3k1BewOfBxH"
   },
   "outputs": [],
   "source": [
    "from sklearn.model_selection import GridSearchCV\n",
    "\n",
    "param_grid = {\n",
    "    'transform__num__si__strategy': ['mean', 'median'],\n",
    "    'ridge__alpha': [.001, 0.1, 1.0, 5, 10, 50, 100, 1000],\n",
    "}\n",
    "gs = GridSearchCV(ml_pipe, param_grid, cv=kf)"
   ]
  },
  {
   "cell_type": "code",
   "execution_count": 123,
   "metadata": {
    "id": "ZwExgmPifBxI",
    "outputId": "9d9b36b3-b804-4c98-e509-03f079448611"
   },
   "outputs": [
    {
     "data": {
      "text/plain": [
       "{'ridge__alpha': 10, 'transform__num__si__strategy': 'median'}"
      ]
     },
     "execution_count": 123,
     "metadata": {},
     "output_type": "execute_result"
    }
   ],
   "source": [
    "gs.fit(train, y)\n",
    "gs.best_params_"
   ]
  },
  {
   "cell_type": "code",
   "execution_count": 124,
   "metadata": {
    "id": "vbB4xuC_fBxJ",
    "outputId": "f0e5f712-a4f9-4e36-a574-1cd2062e96e7"
   },
   "outputs": [
    {
     "data": {
      "text/plain": [
       "0.8190367464419683"
      ]
     },
     "execution_count": 124,
     "metadata": {},
     "output_type": "execute_result"
    }
   ],
   "source": [
    "gs.best_score_"
   ]
  },
  {
   "cell_type": "markdown",
   "metadata": {
    "id": "BCmb0OrbfBxK"
   },
   "source": [
    "## Представление результатов решетчатого поиска в виде датафрейма pandas\n",
    "Результаты решетчатого поиска хранятся в атрибуте `cv_results_`. Он представляет собой словарь, а значит его можно представить в виде объекта DataFrame для удобства чтения."
   ]
  },
  {
   "cell_type": "code",
   "execution_count": 126,
   "metadata": {
    "id": "DkwTsB4nfBxK"
   },
   "outputs": [],
   "source": [
    "pd.options.display.max_columns = 100\n",
    "pd.options.display.max_colwidth = 200"
   ]
  },
  {
   "cell_type": "code",
   "execution_count": 127,
   "metadata": {
    "id": "YQkmUgtHfBxL",
    "outputId": "ae9625fb-cd9f-448f-82c0-bc27c6e20b3b"
   },
   "outputs": [
    {
     "data": {
      "text/html": [
       "<div>\n",
       "<style scoped>\n",
       "    .dataframe tbody tr th:only-of-type {\n",
       "        vertical-align: middle;\n",
       "    }\n",
       "\n",
       "    .dataframe tbody tr th {\n",
       "        vertical-align: top;\n",
       "    }\n",
       "\n",
       "    .dataframe thead th {\n",
       "        text-align: right;\n",
       "    }\n",
       "</style>\n",
       "<table border=\"1\" class=\"dataframe\">\n",
       "  <thead>\n",
       "    <tr style=\"text-align: right;\">\n",
       "      <th></th>\n",
       "      <th>mean_fit_time</th>\n",
       "      <th>std_fit_time</th>\n",
       "      <th>mean_score_time</th>\n",
       "      <th>std_score_time</th>\n",
       "      <th>param_ridge__alpha</th>\n",
       "      <th>param_transform__num__si__strategy</th>\n",
       "      <th>params</th>\n",
       "      <th>split0_test_score</th>\n",
       "      <th>split1_test_score</th>\n",
       "      <th>split2_test_score</th>\n",
       "      <th>split3_test_score</th>\n",
       "      <th>split4_test_score</th>\n",
       "      <th>mean_test_score</th>\n",
       "      <th>std_test_score</th>\n",
       "      <th>rank_test_score</th>\n",
       "    </tr>\n",
       "  </thead>\n",
       "  <tbody>\n",
       "    <tr>\n",
       "      <th>0</th>\n",
       "      <td>0.094233</td>\n",
       "      <td>0.032500</td>\n",
       "      <td>0.022859</td>\n",
       "      <td>0.003429</td>\n",
       "      <td>0.001</td>\n",
       "      <td>mean</td>\n",
       "      <td>{'ridge__alpha': 0.001, 'transform__num__si__strategy': 'mean'}</td>\n",
       "      <td>0.898019</td>\n",
       "      <td>0.024032</td>\n",
       "      <td>0.775950</td>\n",
       "      <td>0.883812</td>\n",
       "      <td>0.662549</td>\n",
       "      <td>0.648872</td>\n",
       "      <td>0.323738</td>\n",
       "      <td>16</td>\n",
       "    </tr>\n",
       "    <tr>\n",
       "      <th>1</th>\n",
       "      <td>0.086549</td>\n",
       "      <td>0.033288</td>\n",
       "      <td>0.024504</td>\n",
       "      <td>0.004903</td>\n",
       "      <td>0.001</td>\n",
       "      <td>median</td>\n",
       "      <td>{'ridge__alpha': 0.001, 'transform__num__si__strategy': 'median'}</td>\n",
       "      <td>0.898015</td>\n",
       "      <td>0.024086</td>\n",
       "      <td>0.775946</td>\n",
       "      <td>0.883812</td>\n",
       "      <td>0.662624</td>\n",
       "      <td>0.648897</td>\n",
       "      <td>0.323717</td>\n",
       "      <td>15</td>\n",
       "    </tr>\n",
       "    <tr>\n",
       "      <th>2</th>\n",
       "      <td>0.069132</td>\n",
       "      <td>0.005389</td>\n",
       "      <td>0.020773</td>\n",
       "      <td>0.001036</td>\n",
       "      <td>0.1</td>\n",
       "      <td>mean</td>\n",
       "      <td>{'ridge__alpha': 0.1, 'transform__num__si__strategy': 'mean'}</td>\n",
       "      <td>0.897111</td>\n",
       "      <td>0.779393</td>\n",
       "      <td>0.800366</td>\n",
       "      <td>0.884558</td>\n",
       "      <td>0.653398</td>\n",
       "      <td>0.802965</td>\n",
       "      <td>0.087697</td>\n",
       "      <td>12</td>\n",
       "    </tr>\n",
       "    <tr>\n",
       "      <th>3</th>\n",
       "      <td>0.080703</td>\n",
       "      <td>0.012485</td>\n",
       "      <td>0.027079</td>\n",
       "      <td>0.009833</td>\n",
       "      <td>0.1</td>\n",
       "      <td>median</td>\n",
       "      <td>{'ridge__alpha': 0.1, 'transform__num__si__strategy': 'median'}</td>\n",
       "      <td>0.897114</td>\n",
       "      <td>0.779408</td>\n",
       "      <td>0.800366</td>\n",
       "      <td>0.884561</td>\n",
       "      <td>0.653472</td>\n",
       "      <td>0.802984</td>\n",
       "      <td>0.087672</td>\n",
       "      <td>11</td>\n",
       "    </tr>\n",
       "    <tr>\n",
       "      <th>4</th>\n",
       "      <td>0.115897</td>\n",
       "      <td>0.028878</td>\n",
       "      <td>0.065654</td>\n",
       "      <td>0.047379</td>\n",
       "      <td>1</td>\n",
       "      <td>mean</td>\n",
       "      <td>{'ridge__alpha': 1.0, 'transform__num__si__strategy': 'mean'}</td>\n",
       "      <td>0.891715</td>\n",
       "      <td>0.809381</td>\n",
       "      <td>0.822107</td>\n",
       "      <td>0.876908</td>\n",
       "      <td>0.666710</td>\n",
       "      <td>0.813364</td>\n",
       "      <td>0.079720</td>\n",
       "      <td>8</td>\n",
       "    </tr>\n",
       "    <tr>\n",
       "      <th>5</th>\n",
       "      <td>0.114244</td>\n",
       "      <td>0.025624</td>\n",
       "      <td>0.031586</td>\n",
       "      <td>0.004470</td>\n",
       "      <td>1</td>\n",
       "      <td>median</td>\n",
       "      <td>{'ridge__alpha': 1.0, 'transform__num__si__strategy': 'median'}</td>\n",
       "      <td>0.891728</td>\n",
       "      <td>0.809413</td>\n",
       "      <td>0.822128</td>\n",
       "      <td>0.876924</td>\n",
       "      <td>0.666768</td>\n",
       "      <td>0.813392</td>\n",
       "      <td>0.079704</td>\n",
       "      <td>7</td>\n",
       "    </tr>\n",
       "    <tr>\n",
       "      <th>6</th>\n",
       "      <td>0.131342</td>\n",
       "      <td>0.025240</td>\n",
       "      <td>0.049480</td>\n",
       "      <td>0.026445</td>\n",
       "      <td>5</td>\n",
       "      <td>mean</td>\n",
       "      <td>{'ridge__alpha': 5, 'transform__num__si__strategy': 'mean'}</td>\n",
       "      <td>0.889795</td>\n",
       "      <td>0.820456</td>\n",
       "      <td>0.820334</td>\n",
       "      <td>0.871716</td>\n",
       "      <td>0.684609</td>\n",
       "      <td>0.817382</td>\n",
       "      <td>0.071892</td>\n",
       "      <td>4</td>\n",
       "    </tr>\n",
       "    <tr>\n",
       "      <th>7</th>\n",
       "      <td>0.097935</td>\n",
       "      <td>0.018528</td>\n",
       "      <td>0.023620</td>\n",
       "      <td>0.004404</td>\n",
       "      <td>5</td>\n",
       "      <td>median</td>\n",
       "      <td>{'ridge__alpha': 5, 'transform__num__si__strategy': 'median'}</td>\n",
       "      <td>0.889804</td>\n",
       "      <td>0.820471</td>\n",
       "      <td>0.820383</td>\n",
       "      <td>0.871755</td>\n",
       "      <td>0.684598</td>\n",
       "      <td>0.817402</td>\n",
       "      <td>0.071905</td>\n",
       "      <td>3</td>\n",
       "    </tr>\n",
       "    <tr>\n",
       "      <th>8</th>\n",
       "      <td>0.075922</td>\n",
       "      <td>0.017133</td>\n",
       "      <td>0.025066</td>\n",
       "      <td>0.008326</td>\n",
       "      <td>10</td>\n",
       "      <td>mean</td>\n",
       "      <td>{'ridge__alpha': 10, 'transform__num__si__strategy': 'mean'}</td>\n",
       "      <td>0.890470</td>\n",
       "      <td>0.824359</td>\n",
       "      <td>0.819779</td>\n",
       "      <td>0.871443</td>\n",
       "      <td>0.689068</td>\n",
       "      <td>0.819024</td>\n",
       "      <td>0.070385</td>\n",
       "      <td>2</td>\n",
       "    </tr>\n",
       "    <tr>\n",
       "      <th>9</th>\n",
       "      <td>0.070075</td>\n",
       "      <td>0.006050</td>\n",
       "      <td>0.019205</td>\n",
       "      <td>0.001232</td>\n",
       "      <td>10</td>\n",
       "      <td>median</td>\n",
       "      <td>{'ridge__alpha': 10, 'transform__num__si__strategy': 'median'}</td>\n",
       "      <td>0.890488</td>\n",
       "      <td>0.824358</td>\n",
       "      <td>0.819844</td>\n",
       "      <td>0.871495</td>\n",
       "      <td>0.688998</td>\n",
       "      <td>0.819037</td>\n",
       "      <td>0.070422</td>\n",
       "      <td>1</td>\n",
       "    </tr>\n",
       "    <tr>\n",
       "      <th>10</th>\n",
       "      <td>0.108711</td>\n",
       "      <td>0.033713</td>\n",
       "      <td>0.050532</td>\n",
       "      <td>0.024651</td>\n",
       "      <td>50</td>\n",
       "      <td>mean</td>\n",
       "      <td>{'ridge__alpha': 50, 'transform__num__si__strategy': 'mean'}</td>\n",
       "      <td>0.888784</td>\n",
       "      <td>0.829182</td>\n",
       "      <td>0.812185</td>\n",
       "      <td>0.869512</td>\n",
       "      <td>0.684799</td>\n",
       "      <td>0.816893</td>\n",
       "      <td>0.071497</td>\n",
       "      <td>5</td>\n",
       "    </tr>\n",
       "    <tr>\n",
       "      <th>11</th>\n",
       "      <td>0.106790</td>\n",
       "      <td>0.044695</td>\n",
       "      <td>0.031004</td>\n",
       "      <td>0.016257</td>\n",
       "      <td>50</td>\n",
       "      <td>median</td>\n",
       "      <td>{'ridge__alpha': 50, 'transform__num__si__strategy': 'median'}</td>\n",
       "      <td>0.888869</td>\n",
       "      <td>0.829144</td>\n",
       "      <td>0.812289</td>\n",
       "      <td>0.869587</td>\n",
       "      <td>0.684570</td>\n",
       "      <td>0.816892</td>\n",
       "      <td>0.071607</td>\n",
       "      <td>6</td>\n",
       "    </tr>\n",
       "    <tr>\n",
       "      <th>12</th>\n",
       "      <td>0.137057</td>\n",
       "      <td>0.081732</td>\n",
       "      <td>0.034684</td>\n",
       "      <td>0.023781</td>\n",
       "      <td>100</td>\n",
       "      <td>mean</td>\n",
       "      <td>{'ridge__alpha': 100, 'transform__num__si__strategy': 'mean'}</td>\n",
       "      <td>0.883419</td>\n",
       "      <td>0.828564</td>\n",
       "      <td>0.805405</td>\n",
       "      <td>0.866115</td>\n",
       "      <td>0.682165</td>\n",
       "      <td>0.813134</td>\n",
       "      <td>0.070990</td>\n",
       "      <td>9</td>\n",
       "    </tr>\n",
       "    <tr>\n",
       "      <th>13</th>\n",
       "      <td>0.087172</td>\n",
       "      <td>0.017394</td>\n",
       "      <td>0.027214</td>\n",
       "      <td>0.005120</td>\n",
       "      <td>100</td>\n",
       "      <td>median</td>\n",
       "      <td>{'ridge__alpha': 100, 'transform__num__si__strategy': 'median'}</td>\n",
       "      <td>0.883538</td>\n",
       "      <td>0.828526</td>\n",
       "      <td>0.805521</td>\n",
       "      <td>0.866185</td>\n",
       "      <td>0.681869</td>\n",
       "      <td>0.813128</td>\n",
       "      <td>0.071129</td>\n",
       "      <td>10</td>\n",
       "    </tr>\n",
       "    <tr>\n",
       "      <th>14</th>\n",
       "      <td>0.060576</td>\n",
       "      <td>0.001350</td>\n",
       "      <td>0.022831</td>\n",
       "      <td>0.006264</td>\n",
       "      <td>1000</td>\n",
       "      <td>mean</td>\n",
       "      <td>{'ridge__alpha': 1000, 'transform__num__si__strategy': 'mean'}</td>\n",
       "      <td>0.827384</td>\n",
       "      <td>0.802843</td>\n",
       "      <td>0.770604</td>\n",
       "      <td>0.824862</td>\n",
       "      <td>0.708974</td>\n",
       "      <td>0.786933</td>\n",
       "      <td>0.043982</td>\n",
       "      <td>13</td>\n",
       "    </tr>\n",
       "    <tr>\n",
       "      <th>15</th>\n",
       "      <td>0.098299</td>\n",
       "      <td>0.056225</td>\n",
       "      <td>0.026171</td>\n",
       "      <td>0.007014</td>\n",
       "      <td>1000</td>\n",
       "      <td>median</td>\n",
       "      <td>{'ridge__alpha': 1000, 'transform__num__si__strategy': 'median'}</td>\n",
       "      <td>0.827546</td>\n",
       "      <td>0.802913</td>\n",
       "      <td>0.770733</td>\n",
       "      <td>0.824912</td>\n",
       "      <td>0.708546</td>\n",
       "      <td>0.786930</td>\n",
       "      <td>0.044168</td>\n",
       "      <td>14</td>\n",
       "    </tr>\n",
       "  </tbody>\n",
       "</table>\n",
       "</div>"
      ],
      "text/plain": [
       "    mean_fit_time  std_fit_time  mean_score_time  std_score_time  \\\n",
       "0        0.094233      0.032500         0.022859        0.003429   \n",
       "1        0.086549      0.033288         0.024504        0.004903   \n",
       "2        0.069132      0.005389         0.020773        0.001036   \n",
       "3        0.080703      0.012485         0.027079        0.009833   \n",
       "4        0.115897      0.028878         0.065654        0.047379   \n",
       "5        0.114244      0.025624         0.031586        0.004470   \n",
       "6        0.131342      0.025240         0.049480        0.026445   \n",
       "7        0.097935      0.018528         0.023620        0.004404   \n",
       "8        0.075922      0.017133         0.025066        0.008326   \n",
       "9        0.070075      0.006050         0.019205        0.001232   \n",
       "10       0.108711      0.033713         0.050532        0.024651   \n",
       "11       0.106790      0.044695         0.031004        0.016257   \n",
       "12       0.137057      0.081732         0.034684        0.023781   \n",
       "13       0.087172      0.017394         0.027214        0.005120   \n",
       "14       0.060576      0.001350         0.022831        0.006264   \n",
       "15       0.098299      0.056225         0.026171        0.007014   \n",
       "\n",
       "   param_ridge__alpha param_transform__num__si__strategy  \\\n",
       "0               0.001                               mean   \n",
       "1               0.001                             median   \n",
       "2                 0.1                               mean   \n",
       "3                 0.1                             median   \n",
       "4                   1                               mean   \n",
       "5                   1                             median   \n",
       "6                   5                               mean   \n",
       "7                   5                             median   \n",
       "8                  10                               mean   \n",
       "9                  10                             median   \n",
       "10                 50                               mean   \n",
       "11                 50                             median   \n",
       "12                100                               mean   \n",
       "13                100                             median   \n",
       "14               1000                               mean   \n",
       "15               1000                             median   \n",
       "\n",
       "                                                               params  \\\n",
       "0     {'ridge__alpha': 0.001, 'transform__num__si__strategy': 'mean'}   \n",
       "1   {'ridge__alpha': 0.001, 'transform__num__si__strategy': 'median'}   \n",
       "2       {'ridge__alpha': 0.1, 'transform__num__si__strategy': 'mean'}   \n",
       "3     {'ridge__alpha': 0.1, 'transform__num__si__strategy': 'median'}   \n",
       "4       {'ridge__alpha': 1.0, 'transform__num__si__strategy': 'mean'}   \n",
       "5     {'ridge__alpha': 1.0, 'transform__num__si__strategy': 'median'}   \n",
       "6         {'ridge__alpha': 5, 'transform__num__si__strategy': 'mean'}   \n",
       "7       {'ridge__alpha': 5, 'transform__num__si__strategy': 'median'}   \n",
       "8        {'ridge__alpha': 10, 'transform__num__si__strategy': 'mean'}   \n",
       "9      {'ridge__alpha': 10, 'transform__num__si__strategy': 'median'}   \n",
       "10       {'ridge__alpha': 50, 'transform__num__si__strategy': 'mean'}   \n",
       "11     {'ridge__alpha': 50, 'transform__num__si__strategy': 'median'}   \n",
       "12      {'ridge__alpha': 100, 'transform__num__si__strategy': 'mean'}   \n",
       "13    {'ridge__alpha': 100, 'transform__num__si__strategy': 'median'}   \n",
       "14     {'ridge__alpha': 1000, 'transform__num__si__strategy': 'mean'}   \n",
       "15   {'ridge__alpha': 1000, 'transform__num__si__strategy': 'median'}   \n",
       "\n",
       "    split0_test_score  split1_test_score  split2_test_score  \\\n",
       "0            0.898019           0.024032           0.775950   \n",
       "1            0.898015           0.024086           0.775946   \n",
       "2            0.897111           0.779393           0.800366   \n",
       "3            0.897114           0.779408           0.800366   \n",
       "4            0.891715           0.809381           0.822107   \n",
       "5            0.891728           0.809413           0.822128   \n",
       "6            0.889795           0.820456           0.820334   \n",
       "7            0.889804           0.820471           0.820383   \n",
       "8            0.890470           0.824359           0.819779   \n",
       "9            0.890488           0.824358           0.819844   \n",
       "10           0.888784           0.829182           0.812185   \n",
       "11           0.888869           0.829144           0.812289   \n",
       "12           0.883419           0.828564           0.805405   \n",
       "13           0.883538           0.828526           0.805521   \n",
       "14           0.827384           0.802843           0.770604   \n",
       "15           0.827546           0.802913           0.770733   \n",
       "\n",
       "    split3_test_score  split4_test_score  mean_test_score  std_test_score  \\\n",
       "0            0.883812           0.662549         0.648872        0.323738   \n",
       "1            0.883812           0.662624         0.648897        0.323717   \n",
       "2            0.884558           0.653398         0.802965        0.087697   \n",
       "3            0.884561           0.653472         0.802984        0.087672   \n",
       "4            0.876908           0.666710         0.813364        0.079720   \n",
       "5            0.876924           0.666768         0.813392        0.079704   \n",
       "6            0.871716           0.684609         0.817382        0.071892   \n",
       "7            0.871755           0.684598         0.817402        0.071905   \n",
       "8            0.871443           0.689068         0.819024        0.070385   \n",
       "9            0.871495           0.688998         0.819037        0.070422   \n",
       "10           0.869512           0.684799         0.816893        0.071497   \n",
       "11           0.869587           0.684570         0.816892        0.071607   \n",
       "12           0.866115           0.682165         0.813134        0.070990   \n",
       "13           0.866185           0.681869         0.813128        0.071129   \n",
       "14           0.824862           0.708974         0.786933        0.043982   \n",
       "15           0.824912           0.708546         0.786930        0.044168   \n",
       "\n",
       "    rank_test_score  \n",
       "0                16  \n",
       "1                15  \n",
       "2                12  \n",
       "3                11  \n",
       "4                 8  \n",
       "5                 7  \n",
       "6                 4  \n",
       "7                 3  \n",
       "8                 2  \n",
       "9                 1  \n",
       "10                5  \n",
       "11                6  \n",
       "12                9  \n",
       "13               10  \n",
       "14               13  \n",
       "15               14  "
      ]
     },
     "execution_count": 127,
     "metadata": {},
     "output_type": "execute_result"
    }
   ],
   "source": [
    "pd.DataFrame(gs.cv_results_)"
   ]
  },
  {
   "cell_type": "markdown",
   "metadata": {
    "id": "BlQSr7nvfBxL"
   },
   "source": [
    "## Создание пользовательского трансформера, выполняющего основные преобразования\n",
    "У вышеописанного подхода к обработке данных есть недостатки. Например, было бы удобно, если бы `OneHotEncoder` позволял игнорировать пропущенные данные в ходе применения метода `fit()`. Ведь можно закодировать пропущенные значения, просто заполнив строку нулями. Но сейчас метод требует, чтобы пропуски были заменены некоторым строковым значением, которое потом будет представлено в виде отдельного бинарного признака.\n",
    "\n",
    "### Редкие категории\n",
    "Строковые значения признака, которые встретились в обучающем наборе несколько раз, вряд ли будут полезными при валидации модели. Иногда их желательно закодировать так, как если бы эти значения были пропусками.\n",
    "\n",
    "### Написание собственного пользовательского класса\n",
    "В документации scikit-learn дается справка по написанию собственного класса. Класс `BaseEstimator`, расположенный внутри модуля base предлагает методы `get_params` и `set_params`. Метод `set_params` необходим при выполнении поиска по решетке. Можно написать собственный класс или наследовать из `BaseEstimator`. Существует также класс `TransformerMixin`, однако он позволяет лишь написать метод `fit_transform`.\n",
    "\n",
    "Класс `BasicTransformer`, который мы сейчас создадим, выполнет следующие операции:\n",
    "\n",
    "* заполняет пропуски в количественных признаках средним значением или медианой;\n",
    "* стандартизирует все количественные признаки;\n",
    "* выполняет дамми-кодирование для признаков со строковыми значениями;\n",
    "* не заполняет пропуски в категориальных признаках, а при выполнении дамми-кодирования заменяет пропущенное значение строкой, состоящей из нулей;\n",
    "* игнорирует новые строковые значения (категории) в тестовом наборе;\n",
    "* позволяет устанавливать порог частоты строковых значений, ниже которого строковое значение по итогам дамми-кодирования будет представлено строкой из нулей.\n",
    "* работает только с датафреймами pandas, находится в разработке и поэтому может некорректно работать c некоторыми наборами данных\n",
    "* назван basic, потому что содержит все основные преобразования, которые, как правило, применяются для большинства наборов данных."
   ]
  },
  {
   "cell_type": "code",
   "execution_count": 140,
   "metadata": {
    "id": "gFNwwNukfBxN"
   },
   "outputs": [],
   "source": [
    "from sklearn.base import BaseEstimator\n",
    "\n",
    "class BasicTransformer(BaseEstimator):\n",
    "    \n",
    "    def __init__(self, cat_threshold=None, num_strategy='median', return_df=False):\n",
    "        # store parameters as public attributes\n",
    "        self.cat_threshold = cat_threshold\n",
    "        \n",
    "        if num_strategy not in ['mean', 'median']:\n",
    "            raise ValueError('num_strategy must be either \"mean\" or \"median\"')\n",
    "        self.num_strategy = num_strategy\n",
    "        self.return_df = return_df\n",
    "        \n",
    "    def fit(self, X, y=None):\n",
    "        # Assumes X is a DataFrame\n",
    "        self._columns = X.columns.values\n",
    "        \n",
    "        # Split data into categorical and numeric\n",
    "        self._dtypes = X.dtypes.values\n",
    "        self._kinds = np.array([dt.kind for dt in X.dtypes])\n",
    "        self._column_dtypes = {}\n",
    "        is_cat = self._kinds == 'O'\n",
    "        self._column_dtypes['cat'] = self._columns[is_cat]\n",
    "        self._column_dtypes['num'] = self._columns[~is_cat]\n",
    "        self._feature_names = self._column_dtypes['num']\n",
    "        \n",
    "        # Create a dictionary mapping categorical column to unique values above threshold\n",
    "        self._cat_cols = {}\n",
    "        for col in self._column_dtypes['cat']:\n",
    "            vc = X[col].value_counts()\n",
    "            if self.cat_threshold is not None:\n",
    "                vc = vc[vc > self.cat_threshold]\n",
    "            vals = vc.index.values\n",
    "            self._cat_cols[col] = vals\n",
    "            self._feature_names = np.append(self._feature_names, col + '_' + vals)\n",
    "            \n",
    "        # get total number of new categorical columns    \n",
    "        self._total_cat_cols = sum([len(v) for col, v in self._cat_cols.items()])\n",
    "        \n",
    "        # get mean or median\n",
    "        self._num_fill = X[self._column_dtypes['num']].agg(self.num_strategy)\n",
    "        return self\n",
    "        \n",
    "    def transform(self, X):\n",
    "        # check that we have a DataFrame with same column names as the one we fit\n",
    "        if set(self._columns) != set(X.columns):\n",
    "            raise ValueError('Passed DataFrame has different columns than fit DataFrame')\n",
    "        elif len(self._columns) != len(X.columns):\n",
    "            raise ValueError('Passed DataFrame has different number of columns than fit DataFrame')\n",
    "            \n",
    "        # fill missing values    \n",
    "        X_num = X[self._column_dtypes['num']].fillna(self._num_fill)\n",
    "        \n",
    "        # Standardize numerics\n",
    "        std = X_num.std()\n",
    "        X_num = (X_num - X_num.mean()) / std\n",
    "        zero_std = np.where(std == 0)[0]\n",
    "        \n",
    "        # If there is 0 standard deviation, then all values are the same. Set them to 0.\n",
    "        if len(zero_std) > 0:\n",
    "            X_num.iloc[:, zero_std] = 0\n",
    "        X_num = X_num.values\n",
    "        \n",
    "        # create separate array for new encoded categoricals\n",
    "        X_cat = np.empty((len(X), self._total_cat_cols), dtype='int')\n",
    "        i = 0\n",
    "        for col in self._column_dtypes['cat']:\n",
    "            vals = self._cat_cols[col]\n",
    "            for val in vals:\n",
    "                X_cat[:, i] = X[col] == val\n",
    "                i += 1\n",
    "                \n",
    "        # concatenate transformed numeric and categorical arrays\n",
    "        data = np.column_stack((X_num, X_cat))\n",
    "        \n",
    "        # return either a DataFrame or an array\n",
    "        if self.return_df:\n",
    "            return pd.DataFrame(data=data, columns=self._feature_names)\n",
    "        else:\n",
    "            return data\n",
    "    \n",
    "    def fit_transform(self, X, y=None):\n",
    "        return self.fit(X).transform(X)\n",
    "    \n",
    "    def get_feature_names(self):\n",
    "        return self._feature_names"
   ]
  },
  {
   "cell_type": "markdown",
   "metadata": {
    "id": "Myp7AHv1fBxO"
   },
   "source": [
    "## Применение собственного класса `BasicTransformer`\n",
    "Пользовательский класс `BasicTransformer` должен быть пригодным для использования точно так же, как и любой другой класс библиотеки scikit-learn. Мы можем создать экземпляр класса `BasicTransformer` и с его помощью преобразовать данные."
   ]
  },
  {
   "cell_type": "code",
   "execution_count": 142,
   "metadata": {
    "id": "E_Fj1bM2fBxP",
    "outputId": "91be9189-bd2e-40c2-e961-8f42809b03ba"
   },
   "outputs": [
    {
     "data": {
      "text/html": [
       "<div>\n",
       "<style scoped>\n",
       "    .dataframe tbody tr th:only-of-type {\n",
       "        vertical-align: middle;\n",
       "    }\n",
       "\n",
       "    .dataframe tbody tr th {\n",
       "        vertical-align: top;\n",
       "    }\n",
       "\n",
       "    .dataframe thead th {\n",
       "        text-align: right;\n",
       "    }\n",
       "</style>\n",
       "<table border=\"1\" class=\"dataframe\">\n",
       "  <thead>\n",
       "    <tr style=\"text-align: right;\">\n",
       "      <th></th>\n",
       "      <th>Id</th>\n",
       "      <th>MSSubClass</th>\n",
       "      <th>LotFrontage</th>\n",
       "      <th>LotArea</th>\n",
       "      <th>OverallQual</th>\n",
       "      <th>OverallCond</th>\n",
       "      <th>YearBuilt</th>\n",
       "      <th>YearRemodAdd</th>\n",
       "      <th>MasVnrArea</th>\n",
       "      <th>BsmtFinSF1</th>\n",
       "      <th>BsmtFinSF2</th>\n",
       "      <th>BsmtUnfSF</th>\n",
       "      <th>TotalBsmtSF</th>\n",
       "      <th>1stFlrSF</th>\n",
       "      <th>2ndFlrSF</th>\n",
       "      <th>LowQualFinSF</th>\n",
       "      <th>GrLivArea</th>\n",
       "      <th>BsmtFullBath</th>\n",
       "      <th>BsmtHalfBath</th>\n",
       "      <th>FullBath</th>\n",
       "      <th>HalfBath</th>\n",
       "      <th>BedroomAbvGr</th>\n",
       "      <th>KitchenAbvGr</th>\n",
       "      <th>TotRmsAbvGrd</th>\n",
       "      <th>Fireplaces</th>\n",
       "      <th>GarageYrBlt</th>\n",
       "      <th>GarageCars</th>\n",
       "      <th>GarageArea</th>\n",
       "      <th>WoodDeckSF</th>\n",
       "      <th>OpenPorchSF</th>\n",
       "      <th>EnclosedPorch</th>\n",
       "      <th>3SsnPorch</th>\n",
       "      <th>ScreenPorch</th>\n",
       "      <th>PoolArea</th>\n",
       "      <th>MiscVal</th>\n",
       "      <th>MoSold</th>\n",
       "      <th>YrSold</th>\n",
       "      <th>MSZoning_RL</th>\n",
       "      <th>MSZoning_RM</th>\n",
       "      <th>MSZoning_FV</th>\n",
       "      <th>MSZoning_RH</th>\n",
       "      <th>MSZoning_C (all)</th>\n",
       "      <th>Street_Pave</th>\n",
       "      <th>Street_Grvl</th>\n",
       "      <th>Alley_Grvl</th>\n",
       "      <th>Alley_Pave</th>\n",
       "      <th>LotShape_Reg</th>\n",
       "      <th>LotShape_IR1</th>\n",
       "      <th>LotShape_IR2</th>\n",
       "      <th>LotShape_IR3</th>\n",
       "      <th>...</th>\n",
       "      <th>KitchenQual_Ex</th>\n",
       "      <th>KitchenQual_Fa</th>\n",
       "      <th>Functional_Typ</th>\n",
       "      <th>Functional_Min2</th>\n",
       "      <th>Functional_Min1</th>\n",
       "      <th>Functional_Mod</th>\n",
       "      <th>Functional_Maj1</th>\n",
       "      <th>Functional_Maj2</th>\n",
       "      <th>FireplaceQu_Gd</th>\n",
       "      <th>FireplaceQu_TA</th>\n",
       "      <th>FireplaceQu_Fa</th>\n",
       "      <th>FireplaceQu_Ex</th>\n",
       "      <th>FireplaceQu_Po</th>\n",
       "      <th>GarageType_Attchd</th>\n",
       "      <th>GarageType_Detchd</th>\n",
       "      <th>GarageType_BuiltIn</th>\n",
       "      <th>GarageType_Basment</th>\n",
       "      <th>GarageType_CarPort</th>\n",
       "      <th>GarageType_2Types</th>\n",
       "      <th>GarageFinish_Unf</th>\n",
       "      <th>GarageFinish_RFn</th>\n",
       "      <th>GarageFinish_Fin</th>\n",
       "      <th>GarageQual_TA</th>\n",
       "      <th>GarageQual_Fa</th>\n",
       "      <th>GarageQual_Gd</th>\n",
       "      <th>GarageCond_TA</th>\n",
       "      <th>GarageCond_Fa</th>\n",
       "      <th>GarageCond_Gd</th>\n",
       "      <th>GarageCond_Po</th>\n",
       "      <th>PavedDrive_Y</th>\n",
       "      <th>PavedDrive_N</th>\n",
       "      <th>PavedDrive_P</th>\n",
       "      <th>Fence_MnPrv</th>\n",
       "      <th>Fence_GdPrv</th>\n",
       "      <th>Fence_GdWo</th>\n",
       "      <th>Fence_MnWw</th>\n",
       "      <th>MiscFeature_Shed</th>\n",
       "      <th>SaleType_WD</th>\n",
       "      <th>SaleType_New</th>\n",
       "      <th>SaleType_COD</th>\n",
       "      <th>SaleType_ConLD</th>\n",
       "      <th>SaleType_ConLI</th>\n",
       "      <th>SaleType_ConLw</th>\n",
       "      <th>SaleType_CWD</th>\n",
       "      <th>SaleCondition_Normal</th>\n",
       "      <th>SaleCondition_Partial</th>\n",
       "      <th>SaleCondition_Abnorml</th>\n",
       "      <th>SaleCondition_Family</th>\n",
       "      <th>SaleCondition_Alloca</th>\n",
       "      <th>SaleCondition_AdjLand</th>\n",
       "    </tr>\n",
       "  </thead>\n",
       "  <tbody>\n",
       "    <tr>\n",
       "      <th>0</th>\n",
       "      <td>-1.730272</td>\n",
       "      <td>0.073350</td>\n",
       "      <td>-0.220799</td>\n",
       "      <td>-0.207071</td>\n",
       "      <td>0.651256</td>\n",
       "      <td>-0.517023</td>\n",
       "      <td>1.050634</td>\n",
       "      <td>0.878367</td>\n",
       "      <td>0.513928</td>\n",
       "      <td>0.575228</td>\n",
       "      <td>-0.288554</td>\n",
       "      <td>-0.944267</td>\n",
       "      <td>-0.459145</td>\n",
       "      <td>-0.793162</td>\n",
       "      <td>1.161454</td>\n",
       "      <td>-0.120201</td>\n",
       "      <td>0.370207</td>\n",
       "      <td>1.107431</td>\n",
       "      <td>-0.240978</td>\n",
       "      <td>0.78947</td>\n",
       "      <td>1.227165</td>\n",
       "      <td>0.163723</td>\n",
       "      <td>-0.211381</td>\n",
       "      <td>0.911897</td>\n",
       "      <td>-0.950901</td>\n",
       "      <td>1.017250</td>\n",
       "      <td>0.311618</td>\n",
       "      <td>0.35088</td>\n",
       "      <td>-0.751918</td>\n",
       "      <td>0.216429</td>\n",
       "      <td>-0.359202</td>\n",
       "      <td>-0.116299</td>\n",
       "      <td>-0.270116</td>\n",
       "      <td>-0.068668</td>\n",
       "      <td>-0.087658</td>\n",
       "      <td>-1.598563</td>\n",
       "      <td>0.138730</td>\n",
       "      <td>1.0</td>\n",
       "      <td>0.0</td>\n",
       "      <td>0.0</td>\n",
       "      <td>0.0</td>\n",
       "      <td>0.0</td>\n",
       "      <td>1.0</td>\n",
       "      <td>0.0</td>\n",
       "      <td>0.0</td>\n",
       "      <td>0.0</td>\n",
       "      <td>1.0</td>\n",
       "      <td>0.0</td>\n",
       "      <td>0.0</td>\n",
       "      <td>0.0</td>\n",
       "      <td>...</td>\n",
       "      <td>0.0</td>\n",
       "      <td>0.0</td>\n",
       "      <td>1.0</td>\n",
       "      <td>0.0</td>\n",
       "      <td>0.0</td>\n",
       "      <td>0.0</td>\n",
       "      <td>0.0</td>\n",
       "      <td>0.0</td>\n",
       "      <td>0.0</td>\n",
       "      <td>0.0</td>\n",
       "      <td>0.0</td>\n",
       "      <td>0.0</td>\n",
       "      <td>0.0</td>\n",
       "      <td>1.0</td>\n",
       "      <td>0.0</td>\n",
       "      <td>0.0</td>\n",
       "      <td>0.0</td>\n",
       "      <td>0.0</td>\n",
       "      <td>0.0</td>\n",
       "      <td>0.0</td>\n",
       "      <td>1.0</td>\n",
       "      <td>0.0</td>\n",
       "      <td>1.0</td>\n",
       "      <td>0.0</td>\n",
       "      <td>0.0</td>\n",
       "      <td>1.0</td>\n",
       "      <td>0.0</td>\n",
       "      <td>0.0</td>\n",
       "      <td>0.0</td>\n",
       "      <td>1.0</td>\n",
       "      <td>0.0</td>\n",
       "      <td>0.0</td>\n",
       "      <td>0.0</td>\n",
       "      <td>0.0</td>\n",
       "      <td>0.0</td>\n",
       "      <td>0.0</td>\n",
       "      <td>0.0</td>\n",
       "      <td>1.0</td>\n",
       "      <td>0.0</td>\n",
       "      <td>0.0</td>\n",
       "      <td>0.0</td>\n",
       "      <td>0.0</td>\n",
       "      <td>0.0</td>\n",
       "      <td>0.0</td>\n",
       "      <td>1.0</td>\n",
       "      <td>0.0</td>\n",
       "      <td>0.0</td>\n",
       "      <td>0.0</td>\n",
       "      <td>0.0</td>\n",
       "      <td>0.0</td>\n",
       "    </tr>\n",
       "    <tr>\n",
       "      <th>1</th>\n",
       "      <td>-1.727900</td>\n",
       "      <td>-0.872264</td>\n",
       "      <td>0.460162</td>\n",
       "      <td>-0.091855</td>\n",
       "      <td>-0.071812</td>\n",
       "      <td>2.178881</td>\n",
       "      <td>0.156680</td>\n",
       "      <td>-0.429430</td>\n",
       "      <td>-0.570555</td>\n",
       "      <td>1.171591</td>\n",
       "      <td>-0.288554</td>\n",
       "      <td>-0.641008</td>\n",
       "      <td>0.466305</td>\n",
       "      <td>0.257052</td>\n",
       "      <td>-0.794891</td>\n",
       "      <td>-0.120201</td>\n",
       "      <td>-0.482347</td>\n",
       "      <td>-0.819684</td>\n",
       "      <td>3.947457</td>\n",
       "      <td>0.78947</td>\n",
       "      <td>-0.761360</td>\n",
       "      <td>0.163723</td>\n",
       "      <td>-0.211381</td>\n",
       "      <td>-0.318574</td>\n",
       "      <td>0.600289</td>\n",
       "      <td>-0.107890</td>\n",
       "      <td>0.311618</td>\n",
       "      <td>-0.06071</td>\n",
       "      <td>1.625638</td>\n",
       "      <td>-0.704242</td>\n",
       "      <td>-0.359202</td>\n",
       "      <td>-0.116299</td>\n",
       "      <td>-0.270116</td>\n",
       "      <td>-0.068668</td>\n",
       "      <td>-0.087658</td>\n",
       "      <td>-0.488943</td>\n",
       "      <td>-0.614228</td>\n",
       "      <td>1.0</td>\n",
       "      <td>0.0</td>\n",
       "      <td>0.0</td>\n",
       "      <td>0.0</td>\n",
       "      <td>0.0</td>\n",
       "      <td>1.0</td>\n",
       "      <td>0.0</td>\n",
       "      <td>0.0</td>\n",
       "      <td>0.0</td>\n",
       "      <td>1.0</td>\n",
       "      <td>0.0</td>\n",
       "      <td>0.0</td>\n",
       "      <td>0.0</td>\n",
       "      <td>...</td>\n",
       "      <td>0.0</td>\n",
       "      <td>0.0</td>\n",
       "      <td>1.0</td>\n",
       "      <td>0.0</td>\n",
       "      <td>0.0</td>\n",
       "      <td>0.0</td>\n",
       "      <td>0.0</td>\n",
       "      <td>0.0</td>\n",
       "      <td>0.0</td>\n",
       "      <td>1.0</td>\n",
       "      <td>0.0</td>\n",
       "      <td>0.0</td>\n",
       "      <td>0.0</td>\n",
       "      <td>1.0</td>\n",
       "      <td>0.0</td>\n",
       "      <td>0.0</td>\n",
       "      <td>0.0</td>\n",
       "      <td>0.0</td>\n",
       "      <td>0.0</td>\n",
       "      <td>0.0</td>\n",
       "      <td>1.0</td>\n",
       "      <td>0.0</td>\n",
       "      <td>1.0</td>\n",
       "      <td>0.0</td>\n",
       "      <td>0.0</td>\n",
       "      <td>1.0</td>\n",
       "      <td>0.0</td>\n",
       "      <td>0.0</td>\n",
       "      <td>0.0</td>\n",
       "      <td>1.0</td>\n",
       "      <td>0.0</td>\n",
       "      <td>0.0</td>\n",
       "      <td>0.0</td>\n",
       "      <td>0.0</td>\n",
       "      <td>0.0</td>\n",
       "      <td>0.0</td>\n",
       "      <td>0.0</td>\n",
       "      <td>1.0</td>\n",
       "      <td>0.0</td>\n",
       "      <td>0.0</td>\n",
       "      <td>0.0</td>\n",
       "      <td>0.0</td>\n",
       "      <td>0.0</td>\n",
       "      <td>0.0</td>\n",
       "      <td>1.0</td>\n",
       "      <td>0.0</td>\n",
       "      <td>0.0</td>\n",
       "      <td>0.0</td>\n",
       "      <td>0.0</td>\n",
       "      <td>0.0</td>\n",
       "    </tr>\n",
       "    <tr>\n",
       "      <th>2</th>\n",
       "      <td>-1.725528</td>\n",
       "      <td>0.073350</td>\n",
       "      <td>-0.084607</td>\n",
       "      <td>0.073455</td>\n",
       "      <td>0.651256</td>\n",
       "      <td>-0.517023</td>\n",
       "      <td>0.984415</td>\n",
       "      <td>0.829930</td>\n",
       "      <td>0.325803</td>\n",
       "      <td>0.092875</td>\n",
       "      <td>-0.288554</td>\n",
       "      <td>-0.301540</td>\n",
       "      <td>-0.313261</td>\n",
       "      <td>-0.627611</td>\n",
       "      <td>1.188943</td>\n",
       "      <td>-0.120201</td>\n",
       "      <td>0.514836</td>\n",
       "      <td>1.107431</td>\n",
       "      <td>-0.240978</td>\n",
       "      <td>0.78947</td>\n",
       "      <td>1.227165</td>\n",
       "      <td>0.163723</td>\n",
       "      <td>-0.211381</td>\n",
       "      <td>-0.318574</td>\n",
       "      <td>0.600289</td>\n",
       "      <td>0.933906</td>\n",
       "      <td>0.311618</td>\n",
       "      <td>0.63151</td>\n",
       "      <td>-0.751918</td>\n",
       "      <td>-0.070337</td>\n",
       "      <td>-0.359202</td>\n",
       "      <td>-0.116299</td>\n",
       "      <td>-0.270116</td>\n",
       "      <td>-0.068668</td>\n",
       "      <td>-0.087658</td>\n",
       "      <td>0.990552</td>\n",
       "      <td>0.138730</td>\n",
       "      <td>1.0</td>\n",
       "      <td>0.0</td>\n",
       "      <td>0.0</td>\n",
       "      <td>0.0</td>\n",
       "      <td>0.0</td>\n",
       "      <td>1.0</td>\n",
       "      <td>0.0</td>\n",
       "      <td>0.0</td>\n",
       "      <td>0.0</td>\n",
       "      <td>0.0</td>\n",
       "      <td>1.0</td>\n",
       "      <td>0.0</td>\n",
       "      <td>0.0</td>\n",
       "      <td>...</td>\n",
       "      <td>0.0</td>\n",
       "      <td>0.0</td>\n",
       "      <td>1.0</td>\n",
       "      <td>0.0</td>\n",
       "      <td>0.0</td>\n",
       "      <td>0.0</td>\n",
       "      <td>0.0</td>\n",
       "      <td>0.0</td>\n",
       "      <td>0.0</td>\n",
       "      <td>1.0</td>\n",
       "      <td>0.0</td>\n",
       "      <td>0.0</td>\n",
       "      <td>0.0</td>\n",
       "      <td>1.0</td>\n",
       "      <td>0.0</td>\n",
       "      <td>0.0</td>\n",
       "      <td>0.0</td>\n",
       "      <td>0.0</td>\n",
       "      <td>0.0</td>\n",
       "      <td>0.0</td>\n",
       "      <td>1.0</td>\n",
       "      <td>0.0</td>\n",
       "      <td>1.0</td>\n",
       "      <td>0.0</td>\n",
       "      <td>0.0</td>\n",
       "      <td>1.0</td>\n",
       "      <td>0.0</td>\n",
       "      <td>0.0</td>\n",
       "      <td>0.0</td>\n",
       "      <td>1.0</td>\n",
       "      <td>0.0</td>\n",
       "      <td>0.0</td>\n",
       "      <td>0.0</td>\n",
       "      <td>0.0</td>\n",
       "      <td>0.0</td>\n",
       "      <td>0.0</td>\n",
       "      <td>0.0</td>\n",
       "      <td>1.0</td>\n",
       "      <td>0.0</td>\n",
       "      <td>0.0</td>\n",
       "      <td>0.0</td>\n",
       "      <td>0.0</td>\n",
       "      <td>0.0</td>\n",
       "      <td>0.0</td>\n",
       "      <td>1.0</td>\n",
       "      <td>0.0</td>\n",
       "      <td>0.0</td>\n",
       "      <td>0.0</td>\n",
       "      <td>0.0</td>\n",
       "      <td>0.0</td>\n",
       "    </tr>\n",
       "  </tbody>\n",
       "</table>\n",
       "<p>3 rows × 246 columns</p>\n",
       "</div>"
      ],
      "text/plain": [
       "         Id  MSSubClass  LotFrontage   LotArea  OverallQual  OverallCond  \\\n",
       "0 -1.730272    0.073350    -0.220799 -0.207071     0.651256    -0.517023   \n",
       "1 -1.727900   -0.872264     0.460162 -0.091855    -0.071812     2.178881   \n",
       "2 -1.725528    0.073350    -0.084607  0.073455     0.651256    -0.517023   \n",
       "\n",
       "   YearBuilt  YearRemodAdd  MasVnrArea  BsmtFinSF1  BsmtFinSF2  BsmtUnfSF  \\\n",
       "0   1.050634      0.878367    0.513928    0.575228   -0.288554  -0.944267   \n",
       "1   0.156680     -0.429430   -0.570555    1.171591   -0.288554  -0.641008   \n",
       "2   0.984415      0.829930    0.325803    0.092875   -0.288554  -0.301540   \n",
       "\n",
       "   TotalBsmtSF  1stFlrSF  2ndFlrSF  LowQualFinSF  GrLivArea  BsmtFullBath  \\\n",
       "0    -0.459145 -0.793162  1.161454     -0.120201   0.370207      1.107431   \n",
       "1     0.466305  0.257052 -0.794891     -0.120201  -0.482347     -0.819684   \n",
       "2    -0.313261 -0.627611  1.188943     -0.120201   0.514836      1.107431   \n",
       "\n",
       "   BsmtHalfBath  FullBath  HalfBath  BedroomAbvGr  KitchenAbvGr  TotRmsAbvGrd  \\\n",
       "0     -0.240978   0.78947  1.227165      0.163723     -0.211381      0.911897   \n",
       "1      3.947457   0.78947 -0.761360      0.163723     -0.211381     -0.318574   \n",
       "2     -0.240978   0.78947  1.227165      0.163723     -0.211381     -0.318574   \n",
       "\n",
       "   Fireplaces  GarageYrBlt  GarageCars  GarageArea  WoodDeckSF  OpenPorchSF  \\\n",
       "0   -0.950901     1.017250    0.311618     0.35088   -0.751918     0.216429   \n",
       "1    0.600289    -0.107890    0.311618    -0.06071    1.625638    -0.704242   \n",
       "2    0.600289     0.933906    0.311618     0.63151   -0.751918    -0.070337   \n",
       "\n",
       "   EnclosedPorch  3SsnPorch  ScreenPorch  PoolArea   MiscVal    MoSold  \\\n",
       "0      -0.359202  -0.116299    -0.270116 -0.068668 -0.087658 -1.598563   \n",
       "1      -0.359202  -0.116299    -0.270116 -0.068668 -0.087658 -0.488943   \n",
       "2      -0.359202  -0.116299    -0.270116 -0.068668 -0.087658  0.990552   \n",
       "\n",
       "     YrSold  MSZoning_RL  MSZoning_RM  MSZoning_FV  MSZoning_RH  \\\n",
       "0  0.138730          1.0          0.0          0.0          0.0   \n",
       "1 -0.614228          1.0          0.0          0.0          0.0   \n",
       "2  0.138730          1.0          0.0          0.0          0.0   \n",
       "\n",
       "   MSZoning_C (all)  Street_Pave  Street_Grvl  Alley_Grvl  Alley_Pave  \\\n",
       "0               0.0          1.0          0.0         0.0         0.0   \n",
       "1               0.0          1.0          0.0         0.0         0.0   \n",
       "2               0.0          1.0          0.0         0.0         0.0   \n",
       "\n",
       "   LotShape_Reg  LotShape_IR1  LotShape_IR2  LotShape_IR3  ...  \\\n",
       "0           1.0           0.0           0.0           0.0  ...   \n",
       "1           1.0           0.0           0.0           0.0  ...   \n",
       "2           0.0           1.0           0.0           0.0  ...   \n",
       "\n",
       "   KitchenQual_Ex  KitchenQual_Fa  Functional_Typ  Functional_Min2  \\\n",
       "0             0.0             0.0             1.0              0.0   \n",
       "1             0.0             0.0             1.0              0.0   \n",
       "2             0.0             0.0             1.0              0.0   \n",
       "\n",
       "   Functional_Min1  Functional_Mod  Functional_Maj1  Functional_Maj2  \\\n",
       "0              0.0             0.0              0.0              0.0   \n",
       "1              0.0             0.0              0.0              0.0   \n",
       "2              0.0             0.0              0.0              0.0   \n",
       "\n",
       "   FireplaceQu_Gd  FireplaceQu_TA  FireplaceQu_Fa  FireplaceQu_Ex  \\\n",
       "0             0.0             0.0             0.0             0.0   \n",
       "1             0.0             1.0             0.0             0.0   \n",
       "2             0.0             1.0             0.0             0.0   \n",
       "\n",
       "   FireplaceQu_Po  GarageType_Attchd  GarageType_Detchd  GarageType_BuiltIn  \\\n",
       "0             0.0                1.0                0.0                 0.0   \n",
       "1             0.0                1.0                0.0                 0.0   \n",
       "2             0.0                1.0                0.0                 0.0   \n",
       "\n",
       "   GarageType_Basment  GarageType_CarPort  GarageType_2Types  \\\n",
       "0                 0.0                 0.0                0.0   \n",
       "1                 0.0                 0.0                0.0   \n",
       "2                 0.0                 0.0                0.0   \n",
       "\n",
       "   GarageFinish_Unf  GarageFinish_RFn  GarageFinish_Fin  GarageQual_TA  \\\n",
       "0               0.0               1.0               0.0            1.0   \n",
       "1               0.0               1.0               0.0            1.0   \n",
       "2               0.0               1.0               0.0            1.0   \n",
       "\n",
       "   GarageQual_Fa  GarageQual_Gd  GarageCond_TA  GarageCond_Fa  GarageCond_Gd  \\\n",
       "0            0.0            0.0            1.0            0.0            0.0   \n",
       "1            0.0            0.0            1.0            0.0            0.0   \n",
       "2            0.0            0.0            1.0            0.0            0.0   \n",
       "\n",
       "   GarageCond_Po  PavedDrive_Y  PavedDrive_N  PavedDrive_P  Fence_MnPrv  \\\n",
       "0            0.0           1.0           0.0           0.0          0.0   \n",
       "1            0.0           1.0           0.0           0.0          0.0   \n",
       "2            0.0           1.0           0.0           0.0          0.0   \n",
       "\n",
       "   Fence_GdPrv  Fence_GdWo  Fence_MnWw  MiscFeature_Shed  SaleType_WD  \\\n",
       "0          0.0         0.0         0.0               0.0          1.0   \n",
       "1          0.0         0.0         0.0               0.0          1.0   \n",
       "2          0.0         0.0         0.0               0.0          1.0   \n",
       "\n",
       "   SaleType_New  SaleType_COD  SaleType_ConLD  SaleType_ConLI  SaleType_ConLw  \\\n",
       "0           0.0           0.0             0.0             0.0             0.0   \n",
       "1           0.0           0.0             0.0             0.0             0.0   \n",
       "2           0.0           0.0             0.0             0.0             0.0   \n",
       "\n",
       "   SaleType_CWD  SaleCondition_Normal  SaleCondition_Partial  \\\n",
       "0           0.0                   1.0                    0.0   \n",
       "1           0.0                   1.0                    0.0   \n",
       "2           0.0                   1.0                    0.0   \n",
       "\n",
       "   SaleCondition_Abnorml  SaleCondition_Family  SaleCondition_Alloca  \\\n",
       "0                    0.0                   0.0                   0.0   \n",
       "1                    0.0                   0.0                   0.0   \n",
       "2                    0.0                   0.0                   0.0   \n",
       "\n",
       "   SaleCondition_AdjLand  \n",
       "0                    0.0  \n",
       "1                    0.0  \n",
       "2                    0.0  \n",
       "\n",
       "[3 rows x 246 columns]"
      ]
     },
     "execution_count": 142,
     "metadata": {},
     "output_type": "execute_result"
    }
   ],
   "source": [
    "bt = BasicTransformer(cat_threshold=3, return_df=True)\n",
    "train_transformed = bt.fit_transform(train)\n",
    "train_transformed.head(3)"
   ]
  },
  {
   "cell_type": "markdown",
   "metadata": {
    "id": "T2kZbcwFfBxT"
   },
   "source": [
    "## Использование `BasicTransformer` в конвейере\n",
    "Наш трансформер может быть частью конвейера."
   ]
  },
  {
   "cell_type": "code",
   "execution_count": 144,
   "metadata": {
    "id": "zYoyMf2JfBxW",
    "outputId": "e6f9f553-4962-4f1b-993a-da3ff25317e2"
   },
   "outputs": [
    {
     "data": {
      "text/plain": [
       "0.9035633239411638"
      ]
     },
     "execution_count": 144,
     "metadata": {},
     "output_type": "execute_result"
    }
   ],
   "source": [
    "basic_pipe = Pipeline([('bt', bt), ('ridge', Ridge())])\n",
    "basic_pipe.fit(train, y)\n",
    "basic_pipe.score(train, y)"
   ]
  },
  {
   "cell_type": "markdown",
   "metadata": {
    "id": "YdkHhRIIfBxX"
   },
   "source": [
    "Кроме того, мы можем передать наш конвейер в цикл перекрестной проверки, как это уже делали выше."
   ]
  },
  {
   "cell_type": "code",
   "execution_count": 146,
   "metadata": {
    "id": "ultsyplhfBxX",
    "outputId": "50f04156-a401-4d14-e70a-fdea43a6ee19"
   },
   "outputs": [
    {
     "data": {
      "text/plain": [
       "0.8157670129480051"
      ]
     },
     "execution_count": 146,
     "metadata": {},
     "output_type": "execute_result"
    }
   ],
   "source": [
    "cross_val_score(basic_pipe, train, y, cv=kf).mean()"
   ]
  },
  {
   "cell_type": "markdown",
   "metadata": {
    "id": "VgONtoHUfBxY"
   },
   "source": [
    "Аналогичным образом мы можем разместить конвейер внутри объекта `GridSearchCV`. Оказывается, исключение редких категорий в данном случае не помогает улучшить качество модели. Наилучшее значение немного выросло, возможно в силу несколько иного способа обработки редких категорий."
   ]
  },
  {
   "cell_type": "code",
   "execution_count": 148,
   "metadata": {
    "id": "5fLPbKkMfBxY",
    "outputId": "cd56c8db-ec72-4211-8a64-2466101b4176"
   },
   "outputs": [
    {
     "data": {
      "text/plain": [
       "{'bt__cat_threshold': 0, 'ridge__alpha': 10}"
      ]
     },
     "execution_count": 148,
     "metadata": {},
     "output_type": "execute_result"
    }
   ],
   "source": [
    "param_grid = {\n",
    "    'bt__cat_threshold': [0, 1, 2, 3, 4, 5],\n",
    "    'ridge__alpha': [.1, 1, 10, 30, 100]\n",
    "}\n",
    "\n",
    "gs = GridSearchCV(basic_pipe, param_grid, cv=kf)\n",
    "gs.fit(train, y)\n",
    "gs.best_params_"
   ]
  },
  {
   "cell_type": "code",
   "execution_count": 149,
   "metadata": {
    "id": "8vIc-tcWfBxf",
    "outputId": "a666b7b8-c72e-42e2-b0fb-1d7af587e694"
   },
   "outputs": [
    {
     "data": {
      "text/plain": [
       "0.8297473585998103"
      ]
     },
     "execution_count": 149,
     "metadata": {},
     "output_type": "execute_result"
    }
   ],
   "source": [
    "gs.best_score_"
   ]
  },
  {
   "cell_type": "code",
   "execution_count": 150,
   "metadata": {
    "id": "NugtjHBVfBxf",
    "outputId": "41a22c76-0a1a-41d1-9336-04772cac4941"
   },
   "outputs": [
    {
     "data": {
      "text/html": [
       "<div>\n",
       "<style scoped>\n",
       "    .dataframe tbody tr th:only-of-type {\n",
       "        vertical-align: middle;\n",
       "    }\n",
       "\n",
       "    .dataframe tbody tr th {\n",
       "        vertical-align: top;\n",
       "    }\n",
       "\n",
       "    .dataframe thead th {\n",
       "        text-align: right;\n",
       "    }\n",
       "</style>\n",
       "<table border=\"1\" class=\"dataframe\">\n",
       "  <thead>\n",
       "    <tr style=\"text-align: right;\">\n",
       "      <th></th>\n",
       "      <th>mean_fit_time</th>\n",
       "      <th>std_fit_time</th>\n",
       "      <th>mean_score_time</th>\n",
       "      <th>std_score_time</th>\n",
       "      <th>param_bt__cat_threshold</th>\n",
       "      <th>param_ridge__alpha</th>\n",
       "      <th>params</th>\n",
       "      <th>split0_test_score</th>\n",
       "      <th>split1_test_score</th>\n",
       "      <th>split2_test_score</th>\n",
       "      <th>split3_test_score</th>\n",
       "      <th>split4_test_score</th>\n",
       "      <th>mean_test_score</th>\n",
       "      <th>std_test_score</th>\n",
       "      <th>rank_test_score</th>\n",
       "    </tr>\n",
       "  </thead>\n",
       "  <tbody>\n",
       "    <tr>\n",
       "      <th>0</th>\n",
       "      <td>0.375009</td>\n",
       "      <td>0.149435</td>\n",
       "      <td>0.113036</td>\n",
       "      <td>0.006743</td>\n",
       "      <td>0</td>\n",
       "      <td>0.1</td>\n",
       "      <td>{'bt__cat_threshold': 0, 'ridge__alpha': 0.1}</td>\n",
       "      <td>0.896662</td>\n",
       "      <td>0.781349</td>\n",
       "      <td>0.803144</td>\n",
       "      <td>0.878337</td>\n",
       "      <td>0.684654</td>\n",
       "      <td>0.808829</td>\n",
       "      <td>0.075833</td>\n",
       "      <td>26</td>\n",
       "    </tr>\n",
       "    <tr>\n",
       "      <th>1</th>\n",
       "      <td>0.327850</td>\n",
       "      <td>0.084792</td>\n",
       "      <td>0.122179</td>\n",
       "      <td>0.015732</td>\n",
       "      <td>0</td>\n",
       "      <td>1</td>\n",
       "      <td>{'bt__cat_threshold': 0, 'ridge__alpha': 1}</td>\n",
       "      <td>0.893991</td>\n",
       "      <td>0.806010</td>\n",
       "      <td>0.832287</td>\n",
       "      <td>0.874838</td>\n",
       "      <td>0.700530</td>\n",
       "      <td>0.821531</td>\n",
       "      <td>0.067956</td>\n",
       "      <td>19</td>\n",
       "    </tr>\n",
       "    <tr>\n",
       "      <th>2</th>\n",
       "      <td>1.426267</td>\n",
       "      <td>1.637936</td>\n",
       "      <td>0.204920</td>\n",
       "      <td>0.072928</td>\n",
       "      <td>0</td>\n",
       "      <td>10</td>\n",
       "      <td>{'bt__cat_threshold': 0, 'ridge__alpha': 10}</td>\n",
       "      <td>0.894996</td>\n",
       "      <td>0.822835</td>\n",
       "      <td>0.835066</td>\n",
       "      <td>0.871813</td>\n",
       "      <td>0.724028</td>\n",
       "      <td>0.829747</td>\n",
       "      <td>0.058787</td>\n",
       "      <td>1</td>\n",
       "    </tr>\n",
       "    <tr>\n",
       "      <th>3</th>\n",
       "      <td>0.423252</td>\n",
       "      <td>0.055176</td>\n",
       "      <td>0.201568</td>\n",
       "      <td>0.017539</td>\n",
       "      <td>0</td>\n",
       "      <td>30</td>\n",
       "      <td>{'bt__cat_threshold': 0, 'ridge__alpha': 30}</td>\n",
       "      <td>0.895582</td>\n",
       "      <td>0.825460</td>\n",
       "      <td>0.831901</td>\n",
       "      <td>0.871506</td>\n",
       "      <td>0.723175</td>\n",
       "      <td>0.829525</td>\n",
       "      <td>0.059091</td>\n",
       "      <td>2</td>\n",
       "    </tr>\n",
       "    <tr>\n",
       "      <th>4</th>\n",
       "      <td>0.419776</td>\n",
       "      <td>0.155324</td>\n",
       "      <td>0.210671</td>\n",
       "      <td>0.065491</td>\n",
       "      <td>0</td>\n",
       "      <td>100</td>\n",
       "      <td>{'bt__cat_threshold': 0, 'ridge__alpha': 100}</td>\n",
       "      <td>0.889236</td>\n",
       "      <td>0.823003</td>\n",
       "      <td>0.822421</td>\n",
       "      <td>0.866925</td>\n",
       "      <td>0.715614</td>\n",
       "      <td>0.823439</td>\n",
       "      <td>0.059746</td>\n",
       "      <td>13</td>\n",
       "    </tr>\n",
       "    <tr>\n",
       "      <th>5</th>\n",
       "      <td>0.392862</td>\n",
       "      <td>0.211958</td>\n",
       "      <td>0.205172</td>\n",
       "      <td>0.050289</td>\n",
       "      <td>1</td>\n",
       "      <td>0.1</td>\n",
       "      <td>{'bt__cat_threshold': 1, 'ridge__alpha': 0.1}</td>\n",
       "      <td>0.884871</td>\n",
       "      <td>0.712477</td>\n",
       "      <td>0.821721</td>\n",
       "      <td>0.863899</td>\n",
       "      <td>0.717456</td>\n",
       "      <td>0.800085</td>\n",
       "      <td>0.072432</td>\n",
       "      <td>30</td>\n",
       "    </tr>\n",
       "    <tr>\n",
       "      <th>6</th>\n",
       "      <td>0.372128</td>\n",
       "      <td>0.100454</td>\n",
       "      <td>0.144756</td>\n",
       "      <td>0.034754</td>\n",
       "      <td>1</td>\n",
       "      <td>1</td>\n",
       "      <td>{'bt__cat_threshold': 1, 'ridge__alpha': 1}</td>\n",
       "      <td>0.888417</td>\n",
       "      <td>0.797304</td>\n",
       "      <td>0.821625</td>\n",
       "      <td>0.866313</td>\n",
       "      <td>0.703418</td>\n",
       "      <td>0.815415</td>\n",
       "      <td>0.064544</td>\n",
       "      <td>22</td>\n",
       "    </tr>\n",
       "    <tr>\n",
       "      <th>7</th>\n",
       "      <td>0.380139</td>\n",
       "      <td>0.094461</td>\n",
       "      <td>0.157599</td>\n",
       "      <td>0.027270</td>\n",
       "      <td>1</td>\n",
       "      <td>10</td>\n",
       "      <td>{'bt__cat_threshold': 1, 'ridge__alpha': 10}</td>\n",
       "      <td>0.894205</td>\n",
       "      <td>0.822060</td>\n",
       "      <td>0.831289</td>\n",
       "      <td>0.870218</td>\n",
       "      <td>0.723553</td>\n",
       "      <td>0.828265</td>\n",
       "      <td>0.058516</td>\n",
       "      <td>10</td>\n",
       "    </tr>\n",
       "    <tr>\n",
       "      <th>8</th>\n",
       "      <td>0.412859</td>\n",
       "      <td>0.122898</td>\n",
       "      <td>0.195104</td>\n",
       "      <td>0.063500</td>\n",
       "      <td>1</td>\n",
       "      <td>30</td>\n",
       "      <td>{'bt__cat_threshold': 1, 'ridge__alpha': 30}</td>\n",
       "      <td>0.895353</td>\n",
       "      <td>0.825277</td>\n",
       "      <td>0.830322</td>\n",
       "      <td>0.870972</td>\n",
       "      <td>0.723009</td>\n",
       "      <td>0.828987</td>\n",
       "      <td>0.059015</td>\n",
       "      <td>5</td>\n",
       "    </tr>\n",
       "    <tr>\n",
       "      <th>9</th>\n",
       "      <td>0.306404</td>\n",
       "      <td>0.131580</td>\n",
       "      <td>0.152059</td>\n",
       "      <td>0.053103</td>\n",
       "      <td>1</td>\n",
       "      <td>100</td>\n",
       "      <td>{'bt__cat_threshold': 1, 'ridge__alpha': 100}</td>\n",
       "      <td>0.889180</td>\n",
       "      <td>0.822979</td>\n",
       "      <td>0.821884</td>\n",
       "      <td>0.866778</td>\n",
       "      <td>0.715578</td>\n",
       "      <td>0.823280</td>\n",
       "      <td>0.059727</td>\n",
       "      <td>15</td>\n",
       "    </tr>\n",
       "    <tr>\n",
       "      <th>10</th>\n",
       "      <td>0.258354</td>\n",
       "      <td>0.057250</td>\n",
       "      <td>0.113934</td>\n",
       "      <td>0.041192</td>\n",
       "      <td>2</td>\n",
       "      <td>0.1</td>\n",
       "      <td>{'bt__cat_threshold': 2, 'ridge__alpha': 0.1}</td>\n",
       "      <td>0.879367</td>\n",
       "      <td>0.790817</td>\n",
       "      <td>0.816384</td>\n",
       "      <td>0.866764</td>\n",
       "      <td>0.710273</td>\n",
       "      <td>0.812721</td>\n",
       "      <td>0.060582</td>\n",
       "      <td>25</td>\n",
       "    </tr>\n",
       "    <tr>\n",
       "      <th>11</th>\n",
       "      <td>0.220806</td>\n",
       "      <td>0.022888</td>\n",
       "      <td>0.106387</td>\n",
       "      <td>0.025786</td>\n",
       "      <td>2</td>\n",
       "      <td>1</td>\n",
       "      <td>{'bt__cat_threshold': 2, 'ridge__alpha': 1}</td>\n",
       "      <td>0.884892</td>\n",
       "      <td>0.806722</td>\n",
       "      <td>0.822886</td>\n",
       "      <td>0.868472</td>\n",
       "      <td>0.712972</td>\n",
       "      <td>0.819189</td>\n",
       "      <td>0.060327</td>\n",
       "      <td>20</td>\n",
       "    </tr>\n",
       "    <tr>\n",
       "      <th>12</th>\n",
       "      <td>0.493686</td>\n",
       "      <td>0.207181</td>\n",
       "      <td>0.172676</td>\n",
       "      <td>0.125347</td>\n",
       "      <td>2</td>\n",
       "      <td>10</td>\n",
       "      <td>{'bt__cat_threshold': 2, 'ridge__alpha': 10}</td>\n",
       "      <td>0.893480</td>\n",
       "      <td>0.822688</td>\n",
       "      <td>0.831634</td>\n",
       "      <td>0.870255</td>\n",
       "      <td>0.727418</td>\n",
       "      <td>0.829095</td>\n",
       "      <td>0.056965</td>\n",
       "      <td>4</td>\n",
       "    </tr>\n",
       "    <tr>\n",
       "      <th>13</th>\n",
       "      <td>0.322979</td>\n",
       "      <td>0.099848</td>\n",
       "      <td>0.201046</td>\n",
       "      <td>0.168464</td>\n",
       "      <td>2</td>\n",
       "      <td>30</td>\n",
       "      <td>{'bt__cat_threshold': 2, 'ridge__alpha': 30}</td>\n",
       "      <td>0.895131</td>\n",
       "      <td>0.825551</td>\n",
       "      <td>0.830453</td>\n",
       "      <td>0.870909</td>\n",
       "      <td>0.724489</td>\n",
       "      <td>0.829307</td>\n",
       "      <td>0.058422</td>\n",
       "      <td>3</td>\n",
       "    </tr>\n",
       "    <tr>\n",
       "      <th>14</th>\n",
       "      <td>0.265907</td>\n",
       "      <td>0.050110</td>\n",
       "      <td>0.108955</td>\n",
       "      <td>0.008805</td>\n",
       "      <td>2</td>\n",
       "      <td>100</td>\n",
       "      <td>{'bt__cat_threshold': 2, 'ridge__alpha': 100}</td>\n",
       "      <td>0.889121</td>\n",
       "      <td>0.823101</td>\n",
       "      <td>0.821930</td>\n",
       "      <td>0.866741</td>\n",
       "      <td>0.715975</td>\n",
       "      <td>0.823373</td>\n",
       "      <td>0.059565</td>\n",
       "      <td>14</td>\n",
       "    </tr>\n",
       "    <tr>\n",
       "      <th>15</th>\n",
       "      <td>0.415558</td>\n",
       "      <td>0.118196</td>\n",
       "      <td>0.166909</td>\n",
       "      <td>0.049518</td>\n",
       "      <td>3</td>\n",
       "      <td>0.1</td>\n",
       "      <td>{'bt__cat_threshold': 3, 'ridge__alpha': 0.1}</td>\n",
       "      <td>0.879098</td>\n",
       "      <td>0.793417</td>\n",
       "      <td>0.821819</td>\n",
       "      <td>0.862409</td>\n",
       "      <td>0.673392</td>\n",
       "      <td>0.806027</td>\n",
       "      <td>0.072827</td>\n",
       "      <td>27</td>\n",
       "    </tr>\n",
       "    <tr>\n",
       "      <th>16</th>\n",
       "      <td>0.317916</td>\n",
       "      <td>0.119434</td>\n",
       "      <td>0.113935</td>\n",
       "      <td>0.013847</td>\n",
       "      <td>3</td>\n",
       "      <td>1</td>\n",
       "      <td>{'bt__cat_threshold': 3, 'ridge__alpha': 1}</td>\n",
       "      <td>0.884159</td>\n",
       "      <td>0.808088</td>\n",
       "      <td>0.825219</td>\n",
       "      <td>0.864273</td>\n",
       "      <td>0.697097</td>\n",
       "      <td>0.815767</td>\n",
       "      <td>0.065209</td>\n",
       "      <td>21</td>\n",
       "    </tr>\n",
       "    <tr>\n",
       "      <th>17</th>\n",
       "      <td>0.325190</td>\n",
       "      <td>0.069277</td>\n",
       "      <td>0.135848</td>\n",
       "      <td>0.051139</td>\n",
       "      <td>3</td>\n",
       "      <td>10</td>\n",
       "      <td>{'bt__cat_threshold': 3, 'ridge__alpha': 10}</td>\n",
       "      <td>0.893192</td>\n",
       "      <td>0.822748</td>\n",
       "      <td>0.831926</td>\n",
       "      <td>0.869406</td>\n",
       "      <td>0.724143</td>\n",
       "      <td>0.828283</td>\n",
       "      <td>0.057954</td>\n",
       "      <td>9</td>\n",
       "    </tr>\n",
       "    <tr>\n",
       "      <th>18</th>\n",
       "      <td>0.268966</td>\n",
       "      <td>0.078957</td>\n",
       "      <td>0.109838</td>\n",
       "      <td>0.026393</td>\n",
       "      <td>3</td>\n",
       "      <td>30</td>\n",
       "      <td>{'bt__cat_threshold': 3, 'ridge__alpha': 30}</td>\n",
       "      <td>0.895041</td>\n",
       "      <td>0.825569</td>\n",
       "      <td>0.830504</td>\n",
       "      <td>0.870634</td>\n",
       "      <td>0.723097</td>\n",
       "      <td>0.828969</td>\n",
       "      <td>0.058863</td>\n",
       "      <td>6</td>\n",
       "    </tr>\n",
       "    <tr>\n",
       "      <th>19</th>\n",
       "      <td>0.242364</td>\n",
       "      <td>0.014195</td>\n",
       "      <td>0.102006</td>\n",
       "      <td>0.006527</td>\n",
       "      <td>3</td>\n",
       "      <td>100</td>\n",
       "      <td>{'bt__cat_threshold': 3, 'ridge__alpha': 100}</td>\n",
       "      <td>0.889090</td>\n",
       "      <td>0.823110</td>\n",
       "      <td>0.821924</td>\n",
       "      <td>0.866665</td>\n",
       "      <td>0.715471</td>\n",
       "      <td>0.823252</td>\n",
       "      <td>0.059729</td>\n",
       "      <td>16</td>\n",
       "    </tr>\n",
       "    <tr>\n",
       "      <th>20</th>\n",
       "      <td>0.233957</td>\n",
       "      <td>0.028920</td>\n",
       "      <td>0.093712</td>\n",
       "      <td>0.001495</td>\n",
       "      <td>4</td>\n",
       "      <td>0.1</td>\n",
       "      <td>{'bt__cat_threshold': 4, 'ridge__alpha': 0.1}</td>\n",
       "      <td>0.876373</td>\n",
       "      <td>0.789902</td>\n",
       "      <td>0.820220</td>\n",
       "      <td>0.837065</td>\n",
       "      <td>0.689251</td>\n",
       "      <td>0.802562</td>\n",
       "      <td>0.063167</td>\n",
       "      <td>29</td>\n",
       "    </tr>\n",
       "    <tr>\n",
       "      <th>21</th>\n",
       "      <td>0.255848</td>\n",
       "      <td>0.032229</td>\n",
       "      <td>0.117811</td>\n",
       "      <td>0.024801</td>\n",
       "      <td>4</td>\n",
       "      <td>1</td>\n",
       "      <td>{'bt__cat_threshold': 4, 'ridge__alpha': 1}</td>\n",
       "      <td>0.884017</td>\n",
       "      <td>0.807492</td>\n",
       "      <td>0.824496</td>\n",
       "      <td>0.849689</td>\n",
       "      <td>0.701763</td>\n",
       "      <td>0.813491</td>\n",
       "      <td>0.061521</td>\n",
       "      <td>23</td>\n",
       "    </tr>\n",
       "    <tr>\n",
       "      <th>22</th>\n",
       "      <td>0.369320</td>\n",
       "      <td>0.087306</td>\n",
       "      <td>0.166203</td>\n",
       "      <td>0.070198</td>\n",
       "      <td>4</td>\n",
       "      <td>10</td>\n",
       "      <td>{'bt__cat_threshold': 4, 'ridge__alpha': 10}</td>\n",
       "      <td>0.893343</td>\n",
       "      <td>0.823092</td>\n",
       "      <td>0.831967</td>\n",
       "      <td>0.865074</td>\n",
       "      <td>0.723755</td>\n",
       "      <td>0.827446</td>\n",
       "      <td>0.057532</td>\n",
       "      <td>11</td>\n",
       "    </tr>\n",
       "    <tr>\n",
       "      <th>23</th>\n",
       "      <td>0.314033</td>\n",
       "      <td>0.105191</td>\n",
       "      <td>0.100565</td>\n",
       "      <td>0.009611</td>\n",
       "      <td>4</td>\n",
       "      <td>30</td>\n",
       "      <td>{'bt__cat_threshold': 4, 'ridge__alpha': 30}</td>\n",
       "      <td>0.895106</td>\n",
       "      <td>0.825740</td>\n",
       "      <td>0.830496</td>\n",
       "      <td>0.868773</td>\n",
       "      <td>0.722975</td>\n",
       "      <td>0.828618</td>\n",
       "      <td>0.058661</td>\n",
       "      <td>7</td>\n",
       "    </tr>\n",
       "    <tr>\n",
       "      <th>24</th>\n",
       "      <td>0.236424</td>\n",
       "      <td>0.026190</td>\n",
       "      <td>0.098222</td>\n",
       "      <td>0.008792</td>\n",
       "      <td>4</td>\n",
       "      <td>100</td>\n",
       "      <td>{'bt__cat_threshold': 4, 'ridge__alpha': 100}</td>\n",
       "      <td>0.889114</td>\n",
       "      <td>0.823182</td>\n",
       "      <td>0.821915</td>\n",
       "      <td>0.865999</td>\n",
       "      <td>0.715439</td>\n",
       "      <td>0.823130</td>\n",
       "      <td>0.059650</td>\n",
       "      <td>17</td>\n",
       "    </tr>\n",
       "    <tr>\n",
       "      <th>25</th>\n",
       "      <td>0.314752</td>\n",
       "      <td>0.139614</td>\n",
       "      <td>0.153903</td>\n",
       "      <td>0.066709</td>\n",
       "      <td>5</td>\n",
       "      <td>0.1</td>\n",
       "      <td>{'bt__cat_threshold': 5, 'ridge__alpha': 0.1}</td>\n",
       "      <td>0.870459</td>\n",
       "      <td>0.793700</td>\n",
       "      <td>0.821499</td>\n",
       "      <td>0.841393</td>\n",
       "      <td>0.690322</td>\n",
       "      <td>0.803475</td>\n",
       "      <td>0.061885</td>\n",
       "      <td>28</td>\n",
       "    </tr>\n",
       "    <tr>\n",
       "      <th>26</th>\n",
       "      <td>0.645231</td>\n",
       "      <td>0.547805</td>\n",
       "      <td>0.315234</td>\n",
       "      <td>0.115111</td>\n",
       "      <td>5</td>\n",
       "      <td>1</td>\n",
       "      <td>{'bt__cat_threshold': 5, 'ridge__alpha': 1}</td>\n",
       "      <td>0.877772</td>\n",
       "      <td>0.808842</td>\n",
       "      <td>0.826025</td>\n",
       "      <td>0.851260</td>\n",
       "      <td>0.702449</td>\n",
       "      <td>0.813270</td>\n",
       "      <td>0.060112</td>\n",
       "      <td>24</td>\n",
       "    </tr>\n",
       "    <tr>\n",
       "      <th>27</th>\n",
       "      <td>0.285820</td>\n",
       "      <td>0.065941</td>\n",
       "      <td>0.113616</td>\n",
       "      <td>0.013434</td>\n",
       "      <td>5</td>\n",
       "      <td>10</td>\n",
       "      <td>{'bt__cat_threshold': 5, 'ridge__alpha': 10}</td>\n",
       "      <td>0.890482</td>\n",
       "      <td>0.823031</td>\n",
       "      <td>0.832849</td>\n",
       "      <td>0.865149</td>\n",
       "      <td>0.723897</td>\n",
       "      <td>0.827081</td>\n",
       "      <td>0.056860</td>\n",
       "      <td>12</td>\n",
       "    </tr>\n",
       "    <tr>\n",
       "      <th>28</th>\n",
       "      <td>0.474390</td>\n",
       "      <td>0.478745</td>\n",
       "      <td>0.133785</td>\n",
       "      <td>0.027242</td>\n",
       "      <td>5</td>\n",
       "      <td>30</td>\n",
       "      <td>{'bt__cat_threshold': 5, 'ridge__alpha': 30}</td>\n",
       "      <td>0.893782</td>\n",
       "      <td>0.825683</td>\n",
       "      <td>0.830895</td>\n",
       "      <td>0.868729</td>\n",
       "      <td>0.723059</td>\n",
       "      <td>0.828430</td>\n",
       "      <td>0.058329</td>\n",
       "      <td>8</td>\n",
       "    </tr>\n",
       "    <tr>\n",
       "      <th>29</th>\n",
       "      <td>0.418465</td>\n",
       "      <td>0.101749</td>\n",
       "      <td>0.124822</td>\n",
       "      <td>0.028139</td>\n",
       "      <td>5</td>\n",
       "      <td>100</td>\n",
       "      <td>{'bt__cat_threshold': 5, 'ridge__alpha': 100}</td>\n",
       "      <td>0.888633</td>\n",
       "      <td>0.823159</td>\n",
       "      <td>0.822045</td>\n",
       "      <td>0.865967</td>\n",
       "      <td>0.715482</td>\n",
       "      <td>0.823057</td>\n",
       "      <td>0.059523</td>\n",
       "      <td>18</td>\n",
       "    </tr>\n",
       "  </tbody>\n",
       "</table>\n",
       "</div>"
      ],
      "text/plain": [
       "    mean_fit_time  std_fit_time  mean_score_time  std_score_time  \\\n",
       "0        0.375009      0.149435         0.113036        0.006743   \n",
       "1        0.327850      0.084792         0.122179        0.015732   \n",
       "2        1.426267      1.637936         0.204920        0.072928   \n",
       "3        0.423252      0.055176         0.201568        0.017539   \n",
       "4        0.419776      0.155324         0.210671        0.065491   \n",
       "5        0.392862      0.211958         0.205172        0.050289   \n",
       "6        0.372128      0.100454         0.144756        0.034754   \n",
       "7        0.380139      0.094461         0.157599        0.027270   \n",
       "8        0.412859      0.122898         0.195104        0.063500   \n",
       "9        0.306404      0.131580         0.152059        0.053103   \n",
       "10       0.258354      0.057250         0.113934        0.041192   \n",
       "11       0.220806      0.022888         0.106387        0.025786   \n",
       "12       0.493686      0.207181         0.172676        0.125347   \n",
       "13       0.322979      0.099848         0.201046        0.168464   \n",
       "14       0.265907      0.050110         0.108955        0.008805   \n",
       "15       0.415558      0.118196         0.166909        0.049518   \n",
       "16       0.317916      0.119434         0.113935        0.013847   \n",
       "17       0.325190      0.069277         0.135848        0.051139   \n",
       "18       0.268966      0.078957         0.109838        0.026393   \n",
       "19       0.242364      0.014195         0.102006        0.006527   \n",
       "20       0.233957      0.028920         0.093712        0.001495   \n",
       "21       0.255848      0.032229         0.117811        0.024801   \n",
       "22       0.369320      0.087306         0.166203        0.070198   \n",
       "23       0.314033      0.105191         0.100565        0.009611   \n",
       "24       0.236424      0.026190         0.098222        0.008792   \n",
       "25       0.314752      0.139614         0.153903        0.066709   \n",
       "26       0.645231      0.547805         0.315234        0.115111   \n",
       "27       0.285820      0.065941         0.113616        0.013434   \n",
       "28       0.474390      0.478745         0.133785        0.027242   \n",
       "29       0.418465      0.101749         0.124822        0.028139   \n",
       "\n",
       "   param_bt__cat_threshold param_ridge__alpha  \\\n",
       "0                        0                0.1   \n",
       "1                        0                  1   \n",
       "2                        0                 10   \n",
       "3                        0                 30   \n",
       "4                        0                100   \n",
       "5                        1                0.1   \n",
       "6                        1                  1   \n",
       "7                        1                 10   \n",
       "8                        1                 30   \n",
       "9                        1                100   \n",
       "10                       2                0.1   \n",
       "11                       2                  1   \n",
       "12                       2                 10   \n",
       "13                       2                 30   \n",
       "14                       2                100   \n",
       "15                       3                0.1   \n",
       "16                       3                  1   \n",
       "17                       3                 10   \n",
       "18                       3                 30   \n",
       "19                       3                100   \n",
       "20                       4                0.1   \n",
       "21                       4                  1   \n",
       "22                       4                 10   \n",
       "23                       4                 30   \n",
       "24                       4                100   \n",
       "25                       5                0.1   \n",
       "26                       5                  1   \n",
       "27                       5                 10   \n",
       "28                       5                 30   \n",
       "29                       5                100   \n",
       "\n",
       "                                           params  split0_test_score  \\\n",
       "0   {'bt__cat_threshold': 0, 'ridge__alpha': 0.1}           0.896662   \n",
       "1     {'bt__cat_threshold': 0, 'ridge__alpha': 1}           0.893991   \n",
       "2    {'bt__cat_threshold': 0, 'ridge__alpha': 10}           0.894996   \n",
       "3    {'bt__cat_threshold': 0, 'ridge__alpha': 30}           0.895582   \n",
       "4   {'bt__cat_threshold': 0, 'ridge__alpha': 100}           0.889236   \n",
       "5   {'bt__cat_threshold': 1, 'ridge__alpha': 0.1}           0.884871   \n",
       "6     {'bt__cat_threshold': 1, 'ridge__alpha': 1}           0.888417   \n",
       "7    {'bt__cat_threshold': 1, 'ridge__alpha': 10}           0.894205   \n",
       "8    {'bt__cat_threshold': 1, 'ridge__alpha': 30}           0.895353   \n",
       "9   {'bt__cat_threshold': 1, 'ridge__alpha': 100}           0.889180   \n",
       "10  {'bt__cat_threshold': 2, 'ridge__alpha': 0.1}           0.879367   \n",
       "11    {'bt__cat_threshold': 2, 'ridge__alpha': 1}           0.884892   \n",
       "12   {'bt__cat_threshold': 2, 'ridge__alpha': 10}           0.893480   \n",
       "13   {'bt__cat_threshold': 2, 'ridge__alpha': 30}           0.895131   \n",
       "14  {'bt__cat_threshold': 2, 'ridge__alpha': 100}           0.889121   \n",
       "15  {'bt__cat_threshold': 3, 'ridge__alpha': 0.1}           0.879098   \n",
       "16    {'bt__cat_threshold': 3, 'ridge__alpha': 1}           0.884159   \n",
       "17   {'bt__cat_threshold': 3, 'ridge__alpha': 10}           0.893192   \n",
       "18   {'bt__cat_threshold': 3, 'ridge__alpha': 30}           0.895041   \n",
       "19  {'bt__cat_threshold': 3, 'ridge__alpha': 100}           0.889090   \n",
       "20  {'bt__cat_threshold': 4, 'ridge__alpha': 0.1}           0.876373   \n",
       "21    {'bt__cat_threshold': 4, 'ridge__alpha': 1}           0.884017   \n",
       "22   {'bt__cat_threshold': 4, 'ridge__alpha': 10}           0.893343   \n",
       "23   {'bt__cat_threshold': 4, 'ridge__alpha': 30}           0.895106   \n",
       "24  {'bt__cat_threshold': 4, 'ridge__alpha': 100}           0.889114   \n",
       "25  {'bt__cat_threshold': 5, 'ridge__alpha': 0.1}           0.870459   \n",
       "26    {'bt__cat_threshold': 5, 'ridge__alpha': 1}           0.877772   \n",
       "27   {'bt__cat_threshold': 5, 'ridge__alpha': 10}           0.890482   \n",
       "28   {'bt__cat_threshold': 5, 'ridge__alpha': 30}           0.893782   \n",
       "29  {'bt__cat_threshold': 5, 'ridge__alpha': 100}           0.888633   \n",
       "\n",
       "    split1_test_score  split2_test_score  split3_test_score  \\\n",
       "0            0.781349           0.803144           0.878337   \n",
       "1            0.806010           0.832287           0.874838   \n",
       "2            0.822835           0.835066           0.871813   \n",
       "3            0.825460           0.831901           0.871506   \n",
       "4            0.823003           0.822421           0.866925   \n",
       "5            0.712477           0.821721           0.863899   \n",
       "6            0.797304           0.821625           0.866313   \n",
       "7            0.822060           0.831289           0.870218   \n",
       "8            0.825277           0.830322           0.870972   \n",
       "9            0.822979           0.821884           0.866778   \n",
       "10           0.790817           0.816384           0.866764   \n",
       "11           0.806722           0.822886           0.868472   \n",
       "12           0.822688           0.831634           0.870255   \n",
       "13           0.825551           0.830453           0.870909   \n",
       "14           0.823101           0.821930           0.866741   \n",
       "15           0.793417           0.821819           0.862409   \n",
       "16           0.808088           0.825219           0.864273   \n",
       "17           0.822748           0.831926           0.869406   \n",
       "18           0.825569           0.830504           0.870634   \n",
       "19           0.823110           0.821924           0.866665   \n",
       "20           0.789902           0.820220           0.837065   \n",
       "21           0.807492           0.824496           0.849689   \n",
       "22           0.823092           0.831967           0.865074   \n",
       "23           0.825740           0.830496           0.868773   \n",
       "24           0.823182           0.821915           0.865999   \n",
       "25           0.793700           0.821499           0.841393   \n",
       "26           0.808842           0.826025           0.851260   \n",
       "27           0.823031           0.832849           0.865149   \n",
       "28           0.825683           0.830895           0.868729   \n",
       "29           0.823159           0.822045           0.865967   \n",
       "\n",
       "    split4_test_score  mean_test_score  std_test_score  rank_test_score  \n",
       "0            0.684654         0.808829        0.075833               26  \n",
       "1            0.700530         0.821531        0.067956               19  \n",
       "2            0.724028         0.829747        0.058787                1  \n",
       "3            0.723175         0.829525        0.059091                2  \n",
       "4            0.715614         0.823439        0.059746               13  \n",
       "5            0.717456         0.800085        0.072432               30  \n",
       "6            0.703418         0.815415        0.064544               22  \n",
       "7            0.723553         0.828265        0.058516               10  \n",
       "8            0.723009         0.828987        0.059015                5  \n",
       "9            0.715578         0.823280        0.059727               15  \n",
       "10           0.710273         0.812721        0.060582               25  \n",
       "11           0.712972         0.819189        0.060327               20  \n",
       "12           0.727418         0.829095        0.056965                4  \n",
       "13           0.724489         0.829307        0.058422                3  \n",
       "14           0.715975         0.823373        0.059565               14  \n",
       "15           0.673392         0.806027        0.072827               27  \n",
       "16           0.697097         0.815767        0.065209               21  \n",
       "17           0.724143         0.828283        0.057954                9  \n",
       "18           0.723097         0.828969        0.058863                6  \n",
       "19           0.715471         0.823252        0.059729               16  \n",
       "20           0.689251         0.802562        0.063167               29  \n",
       "21           0.701763         0.813491        0.061521               23  \n",
       "22           0.723755         0.827446        0.057532               11  \n",
       "23           0.722975         0.828618        0.058661                7  \n",
       "24           0.715439         0.823130        0.059650               17  \n",
       "25           0.690322         0.803475        0.061885               28  \n",
       "26           0.702449         0.813270        0.060112               24  \n",
       "27           0.723897         0.827081        0.056860               12  \n",
       "28           0.723059         0.828430        0.058329                8  \n",
       "29           0.715482         0.823057        0.059523               18  "
      ]
     },
     "execution_count": 150,
     "metadata": {},
     "output_type": "execute_result"
    }
   ],
   "source": [
    "pd.DataFrame(gs.cv_results_)"
   ]
  },
  {
   "cell_type": "markdown",
   "metadata": {
    "id": "HTGtrtShfBxg"
   },
   "source": [
    "## Биннинг и преобразование количественных переменных с помощью нового класса `KBinsDiscretizer`\n",
    "У нас есть несколько признаков, содержащих года. Имеет смысл дискретизировать их и обрабатывать как категориальные переменные. Для решения этой задачи библиотека scikit-learn предложила новый класс `KBinsDiscretizer`. Он не только определяет бины, но и выполняет дамми-кодирование, т.е. каждую полученную категорию (бин) представляет в виде бинарного столбца. Раньше в библиотеке pandas это можно было сделать с помощью функций `cut()` и `qcut()`. Ниже приведен принцип работы класса KBinsDiscretizer на примере признака `YearBuilt`."
   ]
  },
  {
   "cell_type": "code",
   "execution_count": 152,
   "metadata": {
    "id": "bw-xjonofBxg",
    "outputId": "7fc48762-85ac-4327-fdfe-13acdac6235c"
   },
   "outputs": [
    {
     "data": {
      "text/plain": [
       "array([[0., 0., 0., 0., 1.],\n",
       "       [0., 0., 1., 0., 0.],\n",
       "       [0., 0., 0., 1., 0.],\n",
       "       ...,\n",
       "       [1., 0., 0., 0., 0.],\n",
       "       [0., 1., 0., 0., 0.],\n",
       "       [0., 0., 1., 0., 0.]])"
      ]
     },
     "execution_count": 152,
     "metadata": {},
     "output_type": "execute_result"
    }
   ],
   "source": [
    "from sklearn.preprocessing import KBinsDiscretizer\n",
    "kbd = KBinsDiscretizer(encode='onehot-dense')\n",
    "year_built_transformed = kbd.fit_transform(train[['YearBuilt']])\n",
    "year_built_transformed"
   ]
  },
  {
   "cell_type": "markdown",
   "metadata": {
    "id": "xBQidUxyfBxg"
   },
   "source": [
    "По умолчанию каждый интервал содержит (приблизительно) равное количество наблюдений. Давайте убедимся в этом."
   ]
  },
  {
   "cell_type": "code",
   "execution_count": 154,
   "metadata": {
    "id": "-HzusTEhfBxh",
    "outputId": "d10747d5-28b0-4fb9-bcab-4401e6cefcb0"
   },
   "outputs": [
    {
     "data": {
      "text/plain": [
       "array([292., 274., 307., 266., 321.])"
      ]
     },
     "execution_count": 154,
     "metadata": {},
     "output_type": "execute_result"
    }
   ],
   "source": [
    "year_built_transformed.sum(axis=0)"
   ]
  },
  {
   "cell_type": "markdown",
   "metadata": {
    "id": "6TsqkBl1fBxh"
   },
   "source": [
    "Это мы применили метод 'quantile', выставленный по умолчанию (регулируется с помощью гиперпараметра strategy). Количество создаваемых бинов по умолчанию равно 5 (регулируется с помощью гиперпараметра n_bins). Можно применить метод 'uniform', чтобы разбить интервалы на строго равное количество наблюдений или метод 'kmeans', использующий кластеризацию методом k-средних для определения интервалов."
   ]
  },
  {
   "cell_type": "markdown",
   "metadata": {},
   "source": [
    "Теперь посмотрим на границы бинов."
   ]
  },
  {
   "cell_type": "code",
   "execution_count": 157,
   "metadata": {
    "id": "EUyudo5TfBxh",
    "outputId": "1c321633-c8a5-4920-86d6-58521ba81b78"
   },
   "outputs": [
    {
     "data": {
      "text/plain": [
       "array([array([1872. , 1947.8, 1965. , 1984. , 2003. , 2010. ])],\n",
       "      dtype=object)"
      ]
     },
     "execution_count": 157,
     "metadata": {},
     "output_type": "execute_result"
    }
   ],
   "source": [
    "kbd.bin_edges_"
   ]
  },
  {
   "cell_type": "markdown",
   "metadata": {
    "id": "zfeYbDjDfBxh"
   },
   "source": [
    "## Отдельная обработка всех столбцов с годами с помощью `ColumnTransformer`\n",
    "Теперь мы возьмем еще один набор признаков, которое требует отдельной обработки и мы выполним его с помощью класса `ColumnTransformer`. Мы добавим еще один этап к нашим предыдущим трансформерам. Кроме того, мы отбросим столбец id, который просто идентифицирует каждое наблюдение."
   ]
  },
  {
   "cell_type": "code",
   "execution_count": 164,
   "metadata": {
    "id": "doQ9kYSofBxi",
    "outputId": "f638c439-2e0c-4a90-c43a-8c1b7d5caa20"
   },
   "outputs": [
    {
     "data": {
      "text/plain": [
       "(1460, 312)"
      ]
     },
     "execution_count": 164,
     "metadata": {},
     "output_type": "execute_result"
    }
   ],
   "source": [
    "year_cols = ['YearBuilt', 'YearRemodAdd', 'GarageYrBlt', 'YrSold']\n",
    "not_year = ~np.isin(num_cols, year_cols + ['Id'])\n",
    "num_cols2 = num_cols[not_year]\n",
    "\n",
    "year_si_step = ('si', SimpleImputer(strategy='median'))\n",
    "year_kbd_step = ('kbd', KBinsDiscretizer(n_bins=3, encode='onehot-dense'))\n",
    "year_steps = [year_si_step, year_kbd_step]\n",
    "year_pipe = Pipeline(year_steps)\n",
    "\n",
    "transformers = [('cat', cat_pipe, cat_cols),\n",
    "                ('num', num_pipe, num_cols2),\n",
    "                ('year', year_pipe, year_cols)]\n",
    "\n",
    "ct = ColumnTransformer(transformers=transformers)\n",
    "X = ct.fit_transform(train)\n",
    "X.shape"
   ]
  },
  {
   "cell_type": "markdown",
   "metadata": {
    "id": "D5ZsOu-MfBxi"
   },
   "source": [
    "После проведения перекрестной проверки и оценки качества модели очевидно, что все проделанные преобразования не принесли улучшений модели."
   ]
  },
  {
   "cell_type": "code",
   "execution_count": 165,
   "metadata": {
    "id": "XLJSbZx4fBxi",
    "outputId": "514d07c4-3400-41b1-e299-4eff6f7a31d8"
   },
   "outputs": [
    {
     "data": {
      "text/plain": [
       "0.8152517065590903"
      ]
     },
     "execution_count": 165,
     "metadata": {},
     "output_type": "execute_result"
    }
   ],
   "source": [
    "ml_pipe = Pipeline([('transform', ct), ('ridge', Ridge())])\n",
    "cross_val_score(ml_pipe, train, y, cv=kf).mean()"
   ]
  },
  {
   "cell_type": "markdown",
   "metadata": {
    "id": "4URFEY9EfBxi"
   },
   "source": [
    "Перебор разного количества бинов может положительно повлиять на качество модели."
   ]
  },
  {
   "cell_type": "code",
   "execution_count": 168,
   "metadata": {},
   "outputs": [
    {
     "data": {
      "text/plain": [
       "GridSearchCV(cv=KFold(n_splits=5, random_state=123, shuffle=True),\n",
       "             estimator=Pipeline(steps=[('transform',\n",
       "                                        ColumnTransformer(transformers=[('cat',\n",
       "                                                                         Pipeline(steps=[('si',\n",
       "                                                                                          SimpleImputer(fill_value='MISSING',\n",
       "                                                                                                        strategy='constant')),\n",
       "                                                                                         ('ohe',\n",
       "                                                                                          OneHotEncoder(handle_unknown='ignore',\n",
       "                                                                                                        sparse=False))]),\n",
       "                                                                         array(['MSZoning', 'Street', 'Alley', 'LotShape', 'LandContour',\n",
       "       'Utilit...\n",
       "       'OpenPorchSF', 'EnclosedPorch', '3SsnPorch', 'ScreenPorch',\n",
       "       'PoolArea', 'MiscVal', 'MoSold'], dtype=object)),\n",
       "                                                                        ('year',\n",
       "                                                                         Pipeline(steps=[('si',\n",
       "                                                                                          SimpleImputer(strategy='median')),\n",
       "                                                                                         ('kbd',\n",
       "                                                                                          KBinsDiscretizer(encode='onehot-dense',\n",
       "                                                                                                           n_bins=3))]),\n",
       "                                                                         ['YearBuilt',\n",
       "                                                                          'YearRemodAdd',\n",
       "                                                                          'GarageYrBlt',\n",
       "                                                                          'YrSold'])])),\n",
       "                                       ('ridge', Ridge())]),\n",
       "             param_grid={'ridge__alpha': [0.1, 0.5, 1, 5, 10, 100],\n",
       "                         'transform__year__kbd__n_bins': [4, 6, 8, 10]})"
      ]
     },
     "execution_count": 168,
     "metadata": {},
     "output_type": "execute_result"
    }
   ],
   "source": [
    "import warnings\n",
    "warnings.filterwarnings('ignore')\n",
    "\n",
    "param_grid = {\n",
    "'transform__year__kbd__n_bins': [4, 6, 8, 10], 'ridge__alpha': [.1, .5, 1, 5, 10, 100]\n",
    "}\n",
    "# передаем наш конвейер в объект GridSearchCV\n",
    "gs = GridSearchCV(ml_pipe, param_grid, cv=kf) # выполняем поиск по решетке\n",
    "gs.fit(train, y)"
   ]
  },
  {
   "cell_type": "code",
   "execution_count": 169,
   "metadata": {},
   "outputs": [
    {
     "data": {
      "text/plain": [
       "{'ridge__alpha': 10, 'transform__year__kbd__n_bins': 6}"
      ]
     },
     "execution_count": 169,
     "metadata": {},
     "output_type": "execute_result"
    }
   ],
   "source": [
    "# смотрим наилучшие значения гиперпараметров\n",
    "gs.best_params_"
   ]
  },
  {
   "cell_type": "code",
   "execution_count": 170,
   "metadata": {},
   "outputs": [
    {
     "data": {
      "text/plain": [
       "0.8198372622112806"
      ]
     },
     "execution_count": 170,
     "metadata": {},
     "output_type": "execute_result"
    }
   ],
   "source": [
    "# смотрим наилучшее значение R-квадрат\n",
    "gs.best_score_"
   ]
  },
  {
   "cell_type": "markdown",
   "metadata": {
    "id": "MNjZ3HCafBxi"
   },
   "source": [
    "# Применение RobustScaler и FunctionTransformer\n",
    "Теперь попробуем решить задачу по-другому. Заново загрузим данные, выделим признаки с небольшой отрицательной асимметрией, признаки с небольшой и средней положительной асимметрией и признаки с высокой положительной асимметрией и применим для них соответствующее преобразование, максимизирующее нормальность. Кроме того, для переменных с небольшой и средней положительной асимметрией применим другой тип стандартизации, при котором из каждого исходного значения признака вычитается значение, соответствующее первому квартилю, и полученный результат делится на межквартильный размах (эту стандартизацию можно выполнить с помощью класса `RobustScaler`).\n",
    "\n",
    "Итак, давайте загрузим данные, создадим массив меток и удалим переменную `Id`."
   ]
  },
  {
   "cell_type": "code",
   "execution_count": 172,
   "metadata": {},
   "outputs": [
    {
     "data": {
      "text/html": [
       "<div>\n",
       "<style scoped>\n",
       "    .dataframe tbody tr th:only-of-type {\n",
       "        vertical-align: middle;\n",
       "    }\n",
       "\n",
       "    .dataframe tbody tr th {\n",
       "        vertical-align: top;\n",
       "    }\n",
       "\n",
       "    .dataframe thead th {\n",
       "        text-align: right;\n",
       "    }\n",
       "</style>\n",
       "<table border=\"1\" class=\"dataframe\">\n",
       "  <thead>\n",
       "    <tr style=\"text-align: right;\">\n",
       "      <th></th>\n",
       "      <th>Id</th>\n",
       "      <th>MSSubClass</th>\n",
       "      <th>MSZoning</th>\n",
       "      <th>LotFrontage</th>\n",
       "      <th>LotArea</th>\n",
       "      <th>Street</th>\n",
       "      <th>Alley</th>\n",
       "      <th>LotShape</th>\n",
       "      <th>LandContour</th>\n",
       "      <th>Utilities</th>\n",
       "      <th>LotConfig</th>\n",
       "      <th>LandSlope</th>\n",
       "      <th>Neighborhood</th>\n",
       "      <th>Condition1</th>\n",
       "      <th>Condition2</th>\n",
       "      <th>BldgType</th>\n",
       "      <th>HouseStyle</th>\n",
       "      <th>OverallQual</th>\n",
       "      <th>OverallCond</th>\n",
       "      <th>YearBuilt</th>\n",
       "      <th>YearRemodAdd</th>\n",
       "      <th>RoofStyle</th>\n",
       "      <th>RoofMatl</th>\n",
       "      <th>Exterior1st</th>\n",
       "      <th>Exterior2nd</th>\n",
       "      <th>MasVnrType</th>\n",
       "      <th>MasVnrArea</th>\n",
       "      <th>ExterQual</th>\n",
       "      <th>ExterCond</th>\n",
       "      <th>Foundation</th>\n",
       "      <th>BsmtQual</th>\n",
       "      <th>BsmtCond</th>\n",
       "      <th>BsmtExposure</th>\n",
       "      <th>BsmtFinType1</th>\n",
       "      <th>BsmtFinSF1</th>\n",
       "      <th>BsmtFinType2</th>\n",
       "      <th>BsmtFinSF2</th>\n",
       "      <th>BsmtUnfSF</th>\n",
       "      <th>TotalBsmtSF</th>\n",
       "      <th>Heating</th>\n",
       "      <th>HeatingQC</th>\n",
       "      <th>CentralAir</th>\n",
       "      <th>Electrical</th>\n",
       "      <th>1stFlrSF</th>\n",
       "      <th>2ndFlrSF</th>\n",
       "      <th>LowQualFinSF</th>\n",
       "      <th>GrLivArea</th>\n",
       "      <th>BsmtFullBath</th>\n",
       "      <th>BsmtHalfBath</th>\n",
       "      <th>FullBath</th>\n",
       "      <th>HalfBath</th>\n",
       "      <th>BedroomAbvGr</th>\n",
       "      <th>KitchenAbvGr</th>\n",
       "      <th>KitchenQual</th>\n",
       "      <th>TotRmsAbvGrd</th>\n",
       "      <th>Functional</th>\n",
       "      <th>Fireplaces</th>\n",
       "      <th>FireplaceQu</th>\n",
       "      <th>GarageType</th>\n",
       "      <th>GarageYrBlt</th>\n",
       "      <th>GarageFinish</th>\n",
       "      <th>GarageCars</th>\n",
       "      <th>GarageArea</th>\n",
       "      <th>GarageQual</th>\n",
       "      <th>GarageCond</th>\n",
       "      <th>PavedDrive</th>\n",
       "      <th>WoodDeckSF</th>\n",
       "      <th>OpenPorchSF</th>\n",
       "      <th>EnclosedPorch</th>\n",
       "      <th>3SsnPorch</th>\n",
       "      <th>ScreenPorch</th>\n",
       "      <th>PoolArea</th>\n",
       "      <th>PoolQC</th>\n",
       "      <th>Fence</th>\n",
       "      <th>MiscFeature</th>\n",
       "      <th>MiscVal</th>\n",
       "      <th>MoSold</th>\n",
       "      <th>YrSold</th>\n",
       "      <th>SaleType</th>\n",
       "      <th>SaleCondition</th>\n",
       "      <th>SalePrice</th>\n",
       "    </tr>\n",
       "  </thead>\n",
       "  <tbody>\n",
       "    <tr>\n",
       "      <th>0</th>\n",
       "      <td>1</td>\n",
       "      <td>60</td>\n",
       "      <td>RL</td>\n",
       "      <td>65.0</td>\n",
       "      <td>8450</td>\n",
       "      <td>Pave</td>\n",
       "      <td>NaN</td>\n",
       "      <td>Reg</td>\n",
       "      <td>Lvl</td>\n",
       "      <td>AllPub</td>\n",
       "      <td>Inside</td>\n",
       "      <td>Gtl</td>\n",
       "      <td>CollgCr</td>\n",
       "      <td>Norm</td>\n",
       "      <td>Norm</td>\n",
       "      <td>1Fam</td>\n",
       "      <td>2Story</td>\n",
       "      <td>7</td>\n",
       "      <td>5</td>\n",
       "      <td>2003</td>\n",
       "      <td>2003</td>\n",
       "      <td>Gable</td>\n",
       "      <td>CompShg</td>\n",
       "      <td>VinylSd</td>\n",
       "      <td>VinylSd</td>\n",
       "      <td>BrkFace</td>\n",
       "      <td>196.0</td>\n",
       "      <td>Gd</td>\n",
       "      <td>TA</td>\n",
       "      <td>PConc</td>\n",
       "      <td>Gd</td>\n",
       "      <td>TA</td>\n",
       "      <td>No</td>\n",
       "      <td>GLQ</td>\n",
       "      <td>706</td>\n",
       "      <td>Unf</td>\n",
       "      <td>0</td>\n",
       "      <td>150</td>\n",
       "      <td>856</td>\n",
       "      <td>GasA</td>\n",
       "      <td>Ex</td>\n",
       "      <td>Y</td>\n",
       "      <td>SBrkr</td>\n",
       "      <td>856</td>\n",
       "      <td>854</td>\n",
       "      <td>0</td>\n",
       "      <td>1710</td>\n",
       "      <td>1</td>\n",
       "      <td>0</td>\n",
       "      <td>2</td>\n",
       "      <td>1</td>\n",
       "      <td>3</td>\n",
       "      <td>1</td>\n",
       "      <td>Gd</td>\n",
       "      <td>8</td>\n",
       "      <td>Typ</td>\n",
       "      <td>0</td>\n",
       "      <td>NaN</td>\n",
       "      <td>Attchd</td>\n",
       "      <td>2003.0</td>\n",
       "      <td>RFn</td>\n",
       "      <td>2</td>\n",
       "      <td>548</td>\n",
       "      <td>TA</td>\n",
       "      <td>TA</td>\n",
       "      <td>Y</td>\n",
       "      <td>0</td>\n",
       "      <td>61</td>\n",
       "      <td>0</td>\n",
       "      <td>0</td>\n",
       "      <td>0</td>\n",
       "      <td>0</td>\n",
       "      <td>NaN</td>\n",
       "      <td>NaN</td>\n",
       "      <td>NaN</td>\n",
       "      <td>0</td>\n",
       "      <td>2</td>\n",
       "      <td>2008</td>\n",
       "      <td>WD</td>\n",
       "      <td>Normal</td>\n",
       "      <td>208500</td>\n",
       "    </tr>\n",
       "    <tr>\n",
       "      <th>1</th>\n",
       "      <td>2</td>\n",
       "      <td>20</td>\n",
       "      <td>RL</td>\n",
       "      <td>80.0</td>\n",
       "      <td>9600</td>\n",
       "      <td>Pave</td>\n",
       "      <td>NaN</td>\n",
       "      <td>Reg</td>\n",
       "      <td>Lvl</td>\n",
       "      <td>AllPub</td>\n",
       "      <td>FR2</td>\n",
       "      <td>Gtl</td>\n",
       "      <td>Veenker</td>\n",
       "      <td>Feedr</td>\n",
       "      <td>Norm</td>\n",
       "      <td>1Fam</td>\n",
       "      <td>1Story</td>\n",
       "      <td>6</td>\n",
       "      <td>8</td>\n",
       "      <td>1976</td>\n",
       "      <td>1976</td>\n",
       "      <td>Gable</td>\n",
       "      <td>CompShg</td>\n",
       "      <td>MetalSd</td>\n",
       "      <td>MetalSd</td>\n",
       "      <td>None</td>\n",
       "      <td>0.0</td>\n",
       "      <td>TA</td>\n",
       "      <td>TA</td>\n",
       "      <td>CBlock</td>\n",
       "      <td>Gd</td>\n",
       "      <td>TA</td>\n",
       "      <td>Gd</td>\n",
       "      <td>ALQ</td>\n",
       "      <td>978</td>\n",
       "      <td>Unf</td>\n",
       "      <td>0</td>\n",
       "      <td>284</td>\n",
       "      <td>1262</td>\n",
       "      <td>GasA</td>\n",
       "      <td>Ex</td>\n",
       "      <td>Y</td>\n",
       "      <td>SBrkr</td>\n",
       "      <td>1262</td>\n",
       "      <td>0</td>\n",
       "      <td>0</td>\n",
       "      <td>1262</td>\n",
       "      <td>0</td>\n",
       "      <td>1</td>\n",
       "      <td>2</td>\n",
       "      <td>0</td>\n",
       "      <td>3</td>\n",
       "      <td>1</td>\n",
       "      <td>TA</td>\n",
       "      <td>6</td>\n",
       "      <td>Typ</td>\n",
       "      <td>1</td>\n",
       "      <td>TA</td>\n",
       "      <td>Attchd</td>\n",
       "      <td>1976.0</td>\n",
       "      <td>RFn</td>\n",
       "      <td>2</td>\n",
       "      <td>460</td>\n",
       "      <td>TA</td>\n",
       "      <td>TA</td>\n",
       "      <td>Y</td>\n",
       "      <td>298</td>\n",
       "      <td>0</td>\n",
       "      <td>0</td>\n",
       "      <td>0</td>\n",
       "      <td>0</td>\n",
       "      <td>0</td>\n",
       "      <td>NaN</td>\n",
       "      <td>NaN</td>\n",
       "      <td>NaN</td>\n",
       "      <td>0</td>\n",
       "      <td>5</td>\n",
       "      <td>2007</td>\n",
       "      <td>WD</td>\n",
       "      <td>Normal</td>\n",
       "      <td>181500</td>\n",
       "    </tr>\n",
       "    <tr>\n",
       "      <th>2</th>\n",
       "      <td>3</td>\n",
       "      <td>60</td>\n",
       "      <td>RL</td>\n",
       "      <td>68.0</td>\n",
       "      <td>11250</td>\n",
       "      <td>Pave</td>\n",
       "      <td>NaN</td>\n",
       "      <td>IR1</td>\n",
       "      <td>Lvl</td>\n",
       "      <td>AllPub</td>\n",
       "      <td>Inside</td>\n",
       "      <td>Gtl</td>\n",
       "      <td>CollgCr</td>\n",
       "      <td>Norm</td>\n",
       "      <td>Norm</td>\n",
       "      <td>1Fam</td>\n",
       "      <td>2Story</td>\n",
       "      <td>7</td>\n",
       "      <td>5</td>\n",
       "      <td>2001</td>\n",
       "      <td>2002</td>\n",
       "      <td>Gable</td>\n",
       "      <td>CompShg</td>\n",
       "      <td>VinylSd</td>\n",
       "      <td>VinylSd</td>\n",
       "      <td>BrkFace</td>\n",
       "      <td>162.0</td>\n",
       "      <td>Gd</td>\n",
       "      <td>TA</td>\n",
       "      <td>PConc</td>\n",
       "      <td>Gd</td>\n",
       "      <td>TA</td>\n",
       "      <td>Mn</td>\n",
       "      <td>GLQ</td>\n",
       "      <td>486</td>\n",
       "      <td>Unf</td>\n",
       "      <td>0</td>\n",
       "      <td>434</td>\n",
       "      <td>920</td>\n",
       "      <td>GasA</td>\n",
       "      <td>Ex</td>\n",
       "      <td>Y</td>\n",
       "      <td>SBrkr</td>\n",
       "      <td>920</td>\n",
       "      <td>866</td>\n",
       "      <td>0</td>\n",
       "      <td>1786</td>\n",
       "      <td>1</td>\n",
       "      <td>0</td>\n",
       "      <td>2</td>\n",
       "      <td>1</td>\n",
       "      <td>3</td>\n",
       "      <td>1</td>\n",
       "      <td>Gd</td>\n",
       "      <td>6</td>\n",
       "      <td>Typ</td>\n",
       "      <td>1</td>\n",
       "      <td>TA</td>\n",
       "      <td>Attchd</td>\n",
       "      <td>2001.0</td>\n",
       "      <td>RFn</td>\n",
       "      <td>2</td>\n",
       "      <td>608</td>\n",
       "      <td>TA</td>\n",
       "      <td>TA</td>\n",
       "      <td>Y</td>\n",
       "      <td>0</td>\n",
       "      <td>42</td>\n",
       "      <td>0</td>\n",
       "      <td>0</td>\n",
       "      <td>0</td>\n",
       "      <td>0</td>\n",
       "      <td>NaN</td>\n",
       "      <td>NaN</td>\n",
       "      <td>NaN</td>\n",
       "      <td>0</td>\n",
       "      <td>9</td>\n",
       "      <td>2008</td>\n",
       "      <td>WD</td>\n",
       "      <td>Normal</td>\n",
       "      <td>223500</td>\n",
       "    </tr>\n",
       "    <tr>\n",
       "      <th>3</th>\n",
       "      <td>4</td>\n",
       "      <td>70</td>\n",
       "      <td>RL</td>\n",
       "      <td>60.0</td>\n",
       "      <td>9550</td>\n",
       "      <td>Pave</td>\n",
       "      <td>NaN</td>\n",
       "      <td>IR1</td>\n",
       "      <td>Lvl</td>\n",
       "      <td>AllPub</td>\n",
       "      <td>Corner</td>\n",
       "      <td>Gtl</td>\n",
       "      <td>Crawfor</td>\n",
       "      <td>Norm</td>\n",
       "      <td>Norm</td>\n",
       "      <td>1Fam</td>\n",
       "      <td>2Story</td>\n",
       "      <td>7</td>\n",
       "      <td>5</td>\n",
       "      <td>1915</td>\n",
       "      <td>1970</td>\n",
       "      <td>Gable</td>\n",
       "      <td>CompShg</td>\n",
       "      <td>Wd Sdng</td>\n",
       "      <td>Wd Shng</td>\n",
       "      <td>None</td>\n",
       "      <td>0.0</td>\n",
       "      <td>TA</td>\n",
       "      <td>TA</td>\n",
       "      <td>BrkTil</td>\n",
       "      <td>TA</td>\n",
       "      <td>Gd</td>\n",
       "      <td>No</td>\n",
       "      <td>ALQ</td>\n",
       "      <td>216</td>\n",
       "      <td>Unf</td>\n",
       "      <td>0</td>\n",
       "      <td>540</td>\n",
       "      <td>756</td>\n",
       "      <td>GasA</td>\n",
       "      <td>Gd</td>\n",
       "      <td>Y</td>\n",
       "      <td>SBrkr</td>\n",
       "      <td>961</td>\n",
       "      <td>756</td>\n",
       "      <td>0</td>\n",
       "      <td>1717</td>\n",
       "      <td>1</td>\n",
       "      <td>0</td>\n",
       "      <td>1</td>\n",
       "      <td>0</td>\n",
       "      <td>3</td>\n",
       "      <td>1</td>\n",
       "      <td>Gd</td>\n",
       "      <td>7</td>\n",
       "      <td>Typ</td>\n",
       "      <td>1</td>\n",
       "      <td>Gd</td>\n",
       "      <td>Detchd</td>\n",
       "      <td>1998.0</td>\n",
       "      <td>Unf</td>\n",
       "      <td>3</td>\n",
       "      <td>642</td>\n",
       "      <td>TA</td>\n",
       "      <td>TA</td>\n",
       "      <td>Y</td>\n",
       "      <td>0</td>\n",
       "      <td>35</td>\n",
       "      <td>272</td>\n",
       "      <td>0</td>\n",
       "      <td>0</td>\n",
       "      <td>0</td>\n",
       "      <td>NaN</td>\n",
       "      <td>NaN</td>\n",
       "      <td>NaN</td>\n",
       "      <td>0</td>\n",
       "      <td>2</td>\n",
       "      <td>2006</td>\n",
       "      <td>WD</td>\n",
       "      <td>Abnorml</td>\n",
       "      <td>140000</td>\n",
       "    </tr>\n",
       "    <tr>\n",
       "      <th>4</th>\n",
       "      <td>5</td>\n",
       "      <td>60</td>\n",
       "      <td>RL</td>\n",
       "      <td>84.0</td>\n",
       "      <td>14260</td>\n",
       "      <td>Pave</td>\n",
       "      <td>NaN</td>\n",
       "      <td>IR1</td>\n",
       "      <td>Lvl</td>\n",
       "      <td>AllPub</td>\n",
       "      <td>FR2</td>\n",
       "      <td>Gtl</td>\n",
       "      <td>NoRidge</td>\n",
       "      <td>Norm</td>\n",
       "      <td>Norm</td>\n",
       "      <td>1Fam</td>\n",
       "      <td>2Story</td>\n",
       "      <td>8</td>\n",
       "      <td>5</td>\n",
       "      <td>2000</td>\n",
       "      <td>2000</td>\n",
       "      <td>Gable</td>\n",
       "      <td>CompShg</td>\n",
       "      <td>VinylSd</td>\n",
       "      <td>VinylSd</td>\n",
       "      <td>BrkFace</td>\n",
       "      <td>350.0</td>\n",
       "      <td>Gd</td>\n",
       "      <td>TA</td>\n",
       "      <td>PConc</td>\n",
       "      <td>Gd</td>\n",
       "      <td>TA</td>\n",
       "      <td>Av</td>\n",
       "      <td>GLQ</td>\n",
       "      <td>655</td>\n",
       "      <td>Unf</td>\n",
       "      <td>0</td>\n",
       "      <td>490</td>\n",
       "      <td>1145</td>\n",
       "      <td>GasA</td>\n",
       "      <td>Ex</td>\n",
       "      <td>Y</td>\n",
       "      <td>SBrkr</td>\n",
       "      <td>1145</td>\n",
       "      <td>1053</td>\n",
       "      <td>0</td>\n",
       "      <td>2198</td>\n",
       "      <td>1</td>\n",
       "      <td>0</td>\n",
       "      <td>2</td>\n",
       "      <td>1</td>\n",
       "      <td>4</td>\n",
       "      <td>1</td>\n",
       "      <td>Gd</td>\n",
       "      <td>9</td>\n",
       "      <td>Typ</td>\n",
       "      <td>1</td>\n",
       "      <td>TA</td>\n",
       "      <td>Attchd</td>\n",
       "      <td>2000.0</td>\n",
       "      <td>RFn</td>\n",
       "      <td>3</td>\n",
       "      <td>836</td>\n",
       "      <td>TA</td>\n",
       "      <td>TA</td>\n",
       "      <td>Y</td>\n",
       "      <td>192</td>\n",
       "      <td>84</td>\n",
       "      <td>0</td>\n",
       "      <td>0</td>\n",
       "      <td>0</td>\n",
       "      <td>0</td>\n",
       "      <td>NaN</td>\n",
       "      <td>NaN</td>\n",
       "      <td>NaN</td>\n",
       "      <td>0</td>\n",
       "      <td>12</td>\n",
       "      <td>2008</td>\n",
       "      <td>WD</td>\n",
       "      <td>Normal</td>\n",
       "      <td>250000</td>\n",
       "    </tr>\n",
       "  </tbody>\n",
       "</table>\n",
       "</div>"
      ],
      "text/plain": [
       "   Id  MSSubClass MSZoning  LotFrontage  LotArea Street Alley LotShape  \\\n",
       "0   1          60       RL         65.0     8450   Pave   NaN      Reg   \n",
       "1   2          20       RL         80.0     9600   Pave   NaN      Reg   \n",
       "2   3          60       RL         68.0    11250   Pave   NaN      IR1   \n",
       "3   4          70       RL         60.0     9550   Pave   NaN      IR1   \n",
       "4   5          60       RL         84.0    14260   Pave   NaN      IR1   \n",
       "\n",
       "  LandContour Utilities LotConfig LandSlope Neighborhood Condition1  \\\n",
       "0         Lvl    AllPub    Inside       Gtl      CollgCr       Norm   \n",
       "1         Lvl    AllPub       FR2       Gtl      Veenker      Feedr   \n",
       "2         Lvl    AllPub    Inside       Gtl      CollgCr       Norm   \n",
       "3         Lvl    AllPub    Corner       Gtl      Crawfor       Norm   \n",
       "4         Lvl    AllPub       FR2       Gtl      NoRidge       Norm   \n",
       "\n",
       "  Condition2 BldgType HouseStyle  OverallQual  OverallCond  YearBuilt  \\\n",
       "0       Norm     1Fam     2Story            7            5       2003   \n",
       "1       Norm     1Fam     1Story            6            8       1976   \n",
       "2       Norm     1Fam     2Story            7            5       2001   \n",
       "3       Norm     1Fam     2Story            7            5       1915   \n",
       "4       Norm     1Fam     2Story            8            5       2000   \n",
       "\n",
       "   YearRemodAdd RoofStyle RoofMatl Exterior1st Exterior2nd MasVnrType  \\\n",
       "0          2003     Gable  CompShg     VinylSd     VinylSd    BrkFace   \n",
       "1          1976     Gable  CompShg     MetalSd     MetalSd       None   \n",
       "2          2002     Gable  CompShg     VinylSd     VinylSd    BrkFace   \n",
       "3          1970     Gable  CompShg     Wd Sdng     Wd Shng       None   \n",
       "4          2000     Gable  CompShg     VinylSd     VinylSd    BrkFace   \n",
       "\n",
       "   MasVnrArea ExterQual ExterCond Foundation BsmtQual BsmtCond BsmtExposure  \\\n",
       "0       196.0        Gd        TA      PConc       Gd       TA           No   \n",
       "1         0.0        TA        TA     CBlock       Gd       TA           Gd   \n",
       "2       162.0        Gd        TA      PConc       Gd       TA           Mn   \n",
       "3         0.0        TA        TA     BrkTil       TA       Gd           No   \n",
       "4       350.0        Gd        TA      PConc       Gd       TA           Av   \n",
       "\n",
       "  BsmtFinType1  BsmtFinSF1 BsmtFinType2  BsmtFinSF2  BsmtUnfSF  TotalBsmtSF  \\\n",
       "0          GLQ         706          Unf           0        150          856   \n",
       "1          ALQ         978          Unf           0        284         1262   \n",
       "2          GLQ         486          Unf           0        434          920   \n",
       "3          ALQ         216          Unf           0        540          756   \n",
       "4          GLQ         655          Unf           0        490         1145   \n",
       "\n",
       "  Heating HeatingQC CentralAir Electrical  1stFlrSF  2ndFlrSF  LowQualFinSF  \\\n",
       "0    GasA        Ex          Y      SBrkr       856       854             0   \n",
       "1    GasA        Ex          Y      SBrkr      1262         0             0   \n",
       "2    GasA        Ex          Y      SBrkr       920       866             0   \n",
       "3    GasA        Gd          Y      SBrkr       961       756             0   \n",
       "4    GasA        Ex          Y      SBrkr      1145      1053             0   \n",
       "\n",
       "   GrLivArea  BsmtFullBath  BsmtHalfBath  FullBath  HalfBath  BedroomAbvGr  \\\n",
       "0       1710             1             0         2         1             3   \n",
       "1       1262             0             1         2         0             3   \n",
       "2       1786             1             0         2         1             3   \n",
       "3       1717             1             0         1         0             3   \n",
       "4       2198             1             0         2         1             4   \n",
       "\n",
       "   KitchenAbvGr KitchenQual  TotRmsAbvGrd Functional  Fireplaces FireplaceQu  \\\n",
       "0             1          Gd             8        Typ           0         NaN   \n",
       "1             1          TA             6        Typ           1          TA   \n",
       "2             1          Gd             6        Typ           1          TA   \n",
       "3             1          Gd             7        Typ           1          Gd   \n",
       "4             1          Gd             9        Typ           1          TA   \n",
       "\n",
       "  GarageType  GarageYrBlt GarageFinish  GarageCars  GarageArea GarageQual  \\\n",
       "0     Attchd       2003.0          RFn           2         548         TA   \n",
       "1     Attchd       1976.0          RFn           2         460         TA   \n",
       "2     Attchd       2001.0          RFn           2         608         TA   \n",
       "3     Detchd       1998.0          Unf           3         642         TA   \n",
       "4     Attchd       2000.0          RFn           3         836         TA   \n",
       "\n",
       "  GarageCond PavedDrive  WoodDeckSF  OpenPorchSF  EnclosedPorch  3SsnPorch  \\\n",
       "0         TA          Y           0           61              0          0   \n",
       "1         TA          Y         298            0              0          0   \n",
       "2         TA          Y           0           42              0          0   \n",
       "3         TA          Y           0           35            272          0   \n",
       "4         TA          Y         192           84              0          0   \n",
       "\n",
       "   ScreenPorch  PoolArea PoolQC Fence MiscFeature  MiscVal  MoSold  YrSold  \\\n",
       "0            0         0    NaN   NaN         NaN        0       2    2008   \n",
       "1            0         0    NaN   NaN         NaN        0       5    2007   \n",
       "2            0         0    NaN   NaN         NaN        0       9    2008   \n",
       "3            0         0    NaN   NaN         NaN        0       2    2006   \n",
       "4            0         0    NaN   NaN         NaN        0      12    2008   \n",
       "\n",
       "  SaleType SaleCondition  SalePrice  \n",
       "0       WD        Normal     208500  \n",
       "1       WD        Normal     181500  \n",
       "2       WD        Normal     223500  \n",
       "3       WD       Abnorml     140000  \n",
       "4       WD        Normal     250000  "
      ]
     },
     "execution_count": 172,
     "metadata": {},
     "output_type": "execute_result"
    }
   ],
   "source": [
    "train = pd.read_csv('https://raw.githubusercontent.com/DunderData/Tutorials/'\n",
    "                    'master/Machine%20Learning%20Tutorials/'\n",
    "                    'From%20Pandas%20to%20Scikit-Learn%E2%80%8A-%E2%80%8AA%20new%20exciting%C2%A0workflow/'\n",
    "                    'data/housing/train.csv')\n",
    "train.head()"
   ]
  },
  {
   "cell_type": "code",
   "execution_count": 173,
   "metadata": {},
   "outputs": [],
   "source": [
    "y = train.pop('SalePrice').values"
   ]
  },
  {
   "cell_type": "code",
   "execution_count": 174,
   "metadata": {},
   "outputs": [],
   "source": [
    "# удаляем переменную Id\n",
    "train.drop('Id', axis=1, inplace=True)"
   ]
  },
  {
   "cell_type": "markdown",
   "metadata": {},
   "source": [
    "Теперь создадим список количественных признаков и список категориальных признаков."
   ]
  },
  {
   "cell_type": "code",
   "execution_count": 176,
   "metadata": {},
   "outputs": [],
   "source": [
    "# выделим категориальные и количественные признаки\n",
    "cat_columns = train.dtypes[train.dtypes == 'object'].index\n",
    "num_columns = train.dtypes[train.dtypes != 'object'].index"
   ]
  },
  {
   "cell_type": "markdown",
   "metadata": {},
   "source": [
    "Вычислим коэффициент асимметрии для количественных признаков."
   ]
  },
  {
   "cell_type": "code",
   "execution_count": 180,
   "metadata": {},
   "outputs": [
    {
     "data": {
      "text/plain": [
       "MSSubClass        1.407657\n",
       "LotFrontage       2.163569\n",
       "LotArea          12.207688\n",
       "OverallQual       0.216944\n",
       "OverallCond       0.693067\n",
       "YearBuilt        -0.613461\n",
       "YearRemodAdd     -0.503562\n",
       "MasVnrArea        2.669084\n",
       "BsmtFinSF1        1.685503\n",
       "BsmtFinSF2        4.255261\n",
       "BsmtUnfSF         0.920268\n",
       "TotalBsmtSF       1.524255\n",
       "1stFlrSF          1.376757\n",
       "2ndFlrSF          0.813030\n",
       "LowQualFinSF      9.011341\n",
       "GrLivArea         1.366560\n",
       "BsmtFullBath      0.596067\n",
       "BsmtHalfBath      4.103403\n",
       "FullBath          0.036562\n",
       "HalfBath          0.675897\n",
       "BedroomAbvGr      0.211790\n",
       "KitchenAbvGr      4.488397\n",
       "TotRmsAbvGrd      0.676341\n",
       "Fireplaces        0.649565\n",
       "GarageYrBlt      -0.649415\n",
       "GarageCars       -0.342549\n",
       "GarageArea        0.179981\n",
       "WoodDeckSF        1.541376\n",
       "OpenPorchSF       2.364342\n",
       "EnclosedPorch     3.089872\n",
       "3SsnPorch        10.304342\n",
       "ScreenPorch       4.122214\n",
       "PoolArea         14.828374\n",
       "MiscVal          24.476794\n",
       "MoSold            0.212053\n",
       "YrSold            0.096269\n",
       "dtype: float64"
      ]
     },
     "execution_count": 180,
     "metadata": {},
     "output_type": "execute_result"
    }
   ],
   "source": [
    "train[num_columns].skew(0)"
   ]
  },
  {
   "cell_type": "markdown",
   "metadata": {},
   "source": [
    "Теперь импортируем классы `FunctionTransformer` и `RobustScaler`."
   ]
  },
  {
   "cell_type": "code",
   "execution_count": 182,
   "metadata": {},
   "outputs": [],
   "source": [
    "from sklearn.preprocessing import FunctionTransformer, RobustScaler"
   ]
  },
  {
   "cell_type": "markdown",
   "metadata": {},
   "source": [
    "Теперь выделим списки признаков в зависимости от их коэффициента асимметрии, создадим для каждого списка свой конвейер преобразований и построим модель гребневой регрессии, вновь для проверки качества применив перекрестную проверку."
   ]
  },
  {
   "cell_type": "code",
   "execution_count": 194,
   "metadata": {},
   "outputs": [],
   "source": [
    "skewness = train[num_columns].skew(0)"
   ]
  },
  {
   "cell_type": "code",
   "execution_count": 232,
   "metadata": {},
   "outputs": [],
   "source": [
    "# выделяем список признаков с небольшой отрицательной асимметрией\n",
    "neg_skew_num_columns = skewness[skewness < 0].index\n",
    "# выделяем список признаков с высокой положительной асимметрией\n",
    "high_pos_skew_num_columns = skewness[skewness > np.quantile(skewness, .87)].index\n",
    "# создадим булев массив\n",
    "not_neg_high_pos_skew_num_columns = ~np.isin(num_columns, high_pos_skew_num_columns.append(neg_skew_num_columns))\n",
    "# из списка количественных признаков удалим количественные признаки с небольшой отрицательной и высокой положительной асимметрией\n",
    "num_columns = num_columns[not_neg_high_pos_skew_num_columns]"
   ]
  },
  {
   "cell_type": "code",
   "execution_count": 236,
   "metadata": {},
   "outputs": [
    {
     "data": {
      "text/plain": [
       "0.8307940999181334"
      ]
     },
     "execution_count": 236,
     "metadata": {},
     "output_type": "execute_result"
    }
   ],
   "source": [
    "# создаем конвейер преобразований для количественных признаков с небольшой отрицательной асимметрией\n",
    "num_negskew_pipe = Pipeline([\n",
    "    ('imputer', SimpleImputer(strategy='mean')),\n",
    "    ('square', FunctionTransformer(np.square, validate=False)),\n",
    "    ('scaler', StandardScaler())\n",
    "])\n",
    "\n",
    "# создаем конвейер преобразований для количественных признаков с небольшой и средней положительной асимметрией\n",
    "num_pipe = Pipeline([\n",
    "    ('imputer', SimpleImputer(strategy='mean')),\n",
    "    ('log', FunctionTransformer(np.log1p, validate=False)),\n",
    "    ('scaler', RobustScaler())\n",
    "])\n",
    "\n",
    "# создаем конвейер преобразований для количественных признаков с высокой асимметрией\n",
    "num_highposskew_pipe = Pipeline([\n",
    "    ('imputer', SimpleImputer(strategy='mean')),\n",
    "    ('sqrt', FunctionTransformer(np.sqrt, validate=False)),\n",
    "    ('kbd', KBinsDiscretizer(n_bins=5, encode='onehot-dense'))\n",
    "])\n",
    "\n",
    "# создаем конвейер преобразований для категориальных признаков\n",
    "cat_pipe = Pipeline([\n",
    "    ('imputer', SimpleImputer(strategy='constant', fill_value='MISSING')),\n",
    "    ('ohe', OneHotEncoder(sparse=False, handle_unknown='ignore')) ])\n",
    "\n",
    "transformers = [\n",
    "    ('num_negskew', num_negskew_pipe, neg_skew_num_columns), \n",
    "    ('num', num_pipe, num_columns),\n",
    "    ('num_highposskew', num_highposskew_pipe, high_pos_skew_num_columns),\n",
    "    ('cat', cat_pipe, cat_columns)]\n",
    "\n",
    "transformer = ColumnTransformer(transformers=transformers)\n",
    "# добавляем в конвейер новый этап - модель машинного обучения (модель гребневой регрессии)\n",
    "ml_pipe = Pipeline([\n",
    "    ('transform', transformer),\n",
    "    ('ridge', Ridge())]) # выполняем перекрестную проверку, конвейер размещен\n",
    "# внутри цикла перекрестной проверки\n",
    "cross_val_score(ml_pipe, train, y, cv=kf).mean()"
   ]
  },
  {
   "cell_type": "markdown",
   "metadata": {},
   "source": [
    "Теперь попробуем подобрать оптимальные значения гиперпараметров `alpha` и `n_bins` с помощью решетчатого поиска."
   ]
  },
  {
   "cell_type": "code",
   "execution_count": 238,
   "metadata": {},
   "outputs": [
    {
     "data": {
      "text/plain": [
       "{'ridge__alpha': 10, 'transform__num_highposskew__kbd__n_bins': 7}"
      ]
     },
     "execution_count": 238,
     "metadata": {},
     "output_type": "execute_result"
    }
   ],
   "source": [
    "# задаем сетку гиперпараметров\n",
    "param_grid = {\n",
    "    'ridge__alpha': [.1, .5, 1, 5, 10, 100],\n",
    "    'transform__num_highposskew__kbd__n_bins': [3, 4, 5, 6, 7] }\n",
    "# передаем наш конвейер в объект GridSearchCV\n",
    "gs = GridSearchCV(ml_pipe, param_grid, cv=kf) # выполняем решетчатый поиск\n",
    "gs.fit(train, y)\n",
    "# смотрим наилучшие значения гиперпараметров\n",
    "gs.best_params_"
   ]
  },
  {
   "cell_type": "code",
   "execution_count": 239,
   "metadata": {},
   "outputs": [
    {
     "data": {
      "text/plain": [
       "0.8474547753257715"
      ]
     },
     "execution_count": 239,
     "metadata": {},
     "output_type": "execute_result"
    }
   ],
   "source": [
    "# смотрим наилучшее значение R-квадрат\n",
    "gs.best_score_"
   ]
  },
  {
   "cell_type": "markdown",
   "metadata": {},
   "source": [
    "## Заключение\n",
    "Подбор преобразования в зависимости от асимметрии распределения переменной, применение `RobustScaler` и более тщательный перебор значений гиперпараметров `alpha` и `n_bins` позволил улучшить результат."
   ]
  }
 ],
 "metadata": {
  "colab": {
   "name": "From Pandas to Scikit-Learn - A new exciting workflow.ipynb",
   "provenance": []
  },
  "kernelspec": {
   "display_name": "Python 3",
   "language": "python",
   "name": "python3"
  },
  "language_info": {
   "codemirror_mode": {
    "name": "ipython",
    "version": 3
   },
   "file_extension": ".py",
   "mimetype": "text/x-python",
   "name": "python",
   "nbconvert_exporter": "python",
   "pygments_lexer": "ipython3",
   "version": "3.8.3"
  },
  "varInspector": {
   "cols": {
    "lenName": 16,
    "lenType": 16,
    "lenVar": 40
   },
   "kernels_config": {
    "python": {
     "delete_cmd_postfix": "",
     "delete_cmd_prefix": "del ",
     "library": "var_list.py",
     "varRefreshCmd": "print(var_dic_list())"
    },
    "r": {
     "delete_cmd_postfix": ") ",
     "delete_cmd_prefix": "rm(",
     "library": "var_list.r",
     "varRefreshCmd": "cat(var_dic_list()) "
    }
   },
   "types_to_exclude": [
    "module",
    "function",
    "builtin_function_or_method",
    "instance",
    "_Feature"
   ],
   "window_display": false
  }
 },
 "nbformat": 4,
 "nbformat_minor": 1
}
