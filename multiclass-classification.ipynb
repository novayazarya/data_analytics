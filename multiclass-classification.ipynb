{
 "cells": [
  {
   "cell_type": "code",
   "execution_count": 88,
   "metadata": {},
   "outputs": [],
   "source": [
    "import numpy as np\n",
    "import pandas as pd\n",
    "import seaborn as sns\n",
    "import matplotlib.pyplot as plt\n",
    "\n",
    "from sklearn.preprocessing import StandardScaler, Normalizer\n",
    "from sklearn.model_selection import train_test_split\n",
    "from sklearn.metrics import (accuracy_score, f1_score, average_precision_score, \n",
    "                             roc_auc_score, classification_report, precision_score,\n",
    "                             recall_score, make_scorer)\n",
    "\n",
    "from sklearn.model_selection import train_test_split, StratifiedKFold, RandomizedSearchCV, GridSearchCV\n",
    "from sklearn.feature_selection import SelectFromModel\n",
    "from sklearn.ensemble import ExtraTreesClassifier\n",
    "from sklearn.neural_network import MLPClassifier\n",
    "from sklearn.neighbors import KNeighborsClassifier\n",
    "from sklearn.svm import SVC\n",
    "from sklearn.gaussian_process import GaussianProcessClassifier\n",
    "from sklearn.tree import DecisionTreeClassifier\n",
    "from sklearn.ensemble import RandomForestClassifier, AdaBoostClassifier\n",
    "from sklearn.naive_bayes import GaussianNB\n",
    "from sklearn.discriminant_analysis import QuadraticDiscriminantAnalysis\n",
    "from sklearn.ensemble import StackingClassifier\n",
    "from sklearn.pipeline import make_pipeline\n",
    "from sklearn.svm import LinearSVC\n",
    "from sklearn.linear_model import LogisticRegression\n",
    "from xgboost import XGBClassifier\n",
    "from catboost import CatBoostClassifier\n",
    "from lightgbm import LGBMClassifier\n",
    "from collections import Counter\n",
    "import joblib\n",
    "import ast\n",
    "import geopy\n",
    "import warnings \n",
    "warnings.simplefilter(\"ignore\")"
   ]
  },
  {
   "cell_type": "code",
   "execution_count": 2,
   "metadata": {},
   "outputs": [],
   "source": [
    "train = pd.read_csv('~/2021-homework2-multiclass-classification/train.csv', parse_dates=['created'], sep=';')\n",
    "test = pd.read_csv('~/2021-homework2-multiclass-classification/test.csv', parse_dates=['created'], sep=';')"
   ]
  },
  {
   "cell_type": "code",
   "execution_count": 130,
   "metadata": {},
   "outputs": [
    {
     "data": {
      "text/plain": [
       "('train: ', (39450, 23), 'test: ', (9871, 14))"
      ]
     },
     "execution_count": 130,
     "metadata": {},
     "output_type": "execute_result"
    }
   ],
   "source": [
    "'train: ', train.shape, 'test: ', test.shape"
   ]
  },
  {
   "cell_type": "markdown",
   "metadata": {},
   "source": [
    "Результат нужно сохранить в **csv файл с двумя колонками**: \n",
    "\n",
    "listing_id - берете из датасета\n",
    "\n",
    "interest_level - проставляете своим алгоритмом\n",
    "\n",
    "Разделитель **запятая**, при сохранении с помощью result.to_csv() - не забывайте указывать index=None."
   ]
  },
  {
   "cell_type": "code",
   "execution_count": 131,
   "metadata": {},
   "outputs": [
    {
     "name": "stdout",
     "output_type": "stream",
     "text": [
      "<class 'pandas.core.frame.DataFrame'>\n",
      "RangeIndex: 9871 entries, 0 to 9870\n",
      "Data columns (total 14 columns):\n",
      " #   Column           Non-Null Count  Dtype         \n",
      "---  ------           --------------  -----         \n",
      " 0   bathrooms        9871 non-null   float64       \n",
      " 1   bedrooms         9871 non-null   int64         \n",
      " 2   building_id      9871 non-null   object        \n",
      " 3   created          9871 non-null   datetime64[ns]\n",
      " 4   description      9569 non-null   object        \n",
      " 5   display_address  9841 non-null   object        \n",
      " 6   features         9871 non-null   object        \n",
      " 7   latitude         9871 non-null   float64       \n",
      " 8   listing_id       9871 non-null   int64         \n",
      " 9   longitude        9871 non-null   float64       \n",
      " 10  manager_id       9871 non-null   object        \n",
      " 11  photos           9871 non-null   object        \n",
      " 12  price            9871 non-null   int64         \n",
      " 13  street_address   9870 non-null   object        \n",
      "dtypes: datetime64[ns](1), float64(3), int64(3), object(7)\n",
      "memory usage: 1.1+ MB\n"
     ]
    }
   ],
   "source": [
    "test.info()"
   ]
  },
  {
   "cell_type": "markdown",
   "metadata": {},
   "source": [
    "## Анализ данных\n",
    "### 1. Предобработка и генерация признаков\n",
    "\n",
    "Ниже представлены имеющиеся у нас признаки. Можно попробовать сгенерировать из них новые. Например, можно сделать признак Стоимость за комнату, признаки на основе значений в features, выделить и закодировать адрес, так же можно попробовать оценить \"успешность\" менеджера, предположив, что чем больше объявлений у данного manager_id - тем он круче."
   ]
  },
  {
   "cell_type": "code",
   "execution_count": 55,
   "metadata": {},
   "outputs": [
    {
     "data": {
      "text/plain": [
       "Index(['bathrooms', 'bedrooms', 'building_id', 'created', 'description',\n",
       "       'display_address', 'features', 'latitude', 'listing_id', 'longitude',\n",
       "       'manager_id', 'photos', 'price', 'street_address', 'interest_level',\n",
       "       'features_cnt', 'photos_cnt'],\n",
       "      dtype='object')"
      ]
     },
     "execution_count": 55,
     "metadata": {},
     "output_type": "execute_result"
    }
   ],
   "source": [
    "train.columns"
   ]
  },
  {
   "cell_type": "code",
   "execution_count": 4,
   "metadata": {},
   "outputs": [
    {
     "data": {
      "text/plain": [
       "0                         ['Cats Allowed', 'Dogs Allowed']\n",
       "1                                                       []\n",
       "2              ['Doorman', 'Dogs Allowed', 'Cats Allowed']\n",
       "3        ['Swimming Pool', 'Roof Deck', 'Dining Room', ...\n",
       "4                  ['Doorman', 'Fitness Center', 'No Fee']\n",
       "                               ...                        \n",
       "39476                     ['Dogs Allowed', 'Cats Allowed']\n",
       "39477    ['Swimming Pool', 'Doorman', 'Elevator', 'Fitn...\n",
       "39478                       ['Elevator', 'Fitness Center']\n",
       "39479    ['Pre-War', 'Laundry in Unit', 'Dishwasher', '...\n",
       "39480    ['Doorman', 'Fitness Center', 'Elevator', 'Sto...\n",
       "Name: features, Length: 39481, dtype: object"
      ]
     },
     "execution_count": 4,
     "metadata": {},
     "output_type": "execute_result"
    }
   ],
   "source": [
    "train['features']"
   ]
  },
  {
   "cell_type": "markdown",
   "metadata": {},
   "source": [
    "Строки превращаем обратно в список"
   ]
  },
  {
   "cell_type": "code",
   "execution_count": 6,
   "metadata": {},
   "outputs": [],
   "source": [
    "features_train = train['features'].apply(ast.literal_eval).apply(lambda x: [*map(str.lower, x)])\n",
    "features_test = test['features'].apply(ast.literal_eval).apply(lambda x: [*map(str.lower, x)])"
   ]
  },
  {
   "cell_type": "code",
   "execution_count": 25,
   "metadata": {},
   "outputs": [],
   "source": [
    "features_names = np.concatenate(np.r_[features_train, features_test])"
   ]
  },
  {
   "cell_type": "markdown",
   "metadata": {},
   "source": [
    "Отбираем 30 самых встречающихся тега и будем использовать их как дополнительный ряд признаков."
   ]
  },
  {
   "cell_type": "code",
   "execution_count": 190,
   "metadata": {},
   "outputs": [
    {
     "data": {
      "text/plain": [
       "['elevator',\n",
       " 'hardwood floors',\n",
       " 'cats allowed',\n",
       " 'dogs allowed',\n",
       " 'doorman',\n",
       " 'dishwasher',\n",
       " 'laundry in building',\n",
       " 'no fee',\n",
       " 'fitness center',\n",
       " 'laundry in unit',\n",
       " 'pre-war',\n",
       " 'roof deck',\n",
       " 'outdoor space',\n",
       " 'dining room',\n",
       " 'high speed internet',\n",
       " 'balcony',\n",
       " 'swimming pool',\n",
       " 'new construction',\n",
       " 'terrace',\n",
       " 'exclusive',\n",
       " 'loft',\n",
       " 'garden/patio',\n",
       " 'wheelchair access',\n",
       " 'prewar',\n",
       " 'common outdoor space',\n",
       " 'hardwood',\n",
       " 'fireplace',\n",
       " 'simplex',\n",
       " 'lowrise',\n",
       " 'garage']"
      ]
     },
     "execution_count": 190,
     "metadata": {},
     "output_type": "execute_result"
    }
   ],
   "source": [
    "top_features"
   ]
  },
  {
   "cell_type": "code",
   "execution_count": 29,
   "metadata": {},
   "outputs": [],
   "source": [
    "top_features = Counter(features_names).most_common(30)\n",
    "top_features = [x[0] for x in top_features]"
   ]
  },
  {
   "cell_type": "code",
   "execution_count": 30,
   "metadata": {},
   "outputs": [],
   "source": [
    "def featurer(df, features):\n",
    "    vec = np.zeros(len(top_features))\n",
    "    for i, feature in enumerate(features):\n",
    "        vec[i] = feature in df\n",
    "    return vec"
   ]
  },
  {
   "cell_type": "markdown",
   "metadata": {},
   "source": [
    "Создаем датафрейм, где столбцы — это признаки-теги, строки — вектора, указывающие на содержание определенного тега в объявлении."
   ]
  },
  {
   "cell_type": "code",
   "execution_count": 188,
   "metadata": {},
   "outputs": [
    {
     "data": {
      "text/html": [
       "<div>\n",
       "<style scoped>\n",
       "    .dataframe tbody tr th:only-of-type {\n",
       "        vertical-align: middle;\n",
       "    }\n",
       "\n",
       "    .dataframe tbody tr th {\n",
       "        vertical-align: top;\n",
       "    }\n",
       "\n",
       "    .dataframe thead th {\n",
       "        text-align: right;\n",
       "    }\n",
       "</style>\n",
       "<table border=\"1\" class=\"dataframe\">\n",
       "  <thead>\n",
       "    <tr style=\"text-align: right;\">\n",
       "      <th></th>\n",
       "      <th>elevator</th>\n",
       "      <th>hardwood_floors</th>\n",
       "      <th>cats_allowed</th>\n",
       "      <th>dogs_allowed</th>\n",
       "      <th>doorman</th>\n",
       "      <th>dishwasher</th>\n",
       "      <th>laundry_in_building</th>\n",
       "      <th>no_fee</th>\n",
       "      <th>fitness_center</th>\n",
       "      <th>laundry_in_unit</th>\n",
       "      <th>...</th>\n",
       "      <th>loft</th>\n",
       "      <th>garden/patio</th>\n",
       "      <th>wheelchair_access</th>\n",
       "      <th>prewar</th>\n",
       "      <th>common_outdoor_space</th>\n",
       "      <th>hardwood</th>\n",
       "      <th>fireplace</th>\n",
       "      <th>simplex</th>\n",
       "      <th>lowrise</th>\n",
       "      <th>garage</th>\n",
       "    </tr>\n",
       "  </thead>\n",
       "  <tbody>\n",
       "    <tr>\n",
       "      <th>0</th>\n",
       "      <td>0.0</td>\n",
       "      <td>0.0</td>\n",
       "      <td>1.0</td>\n",
       "      <td>1.0</td>\n",
       "      <td>0.0</td>\n",
       "      <td>0.0</td>\n",
       "      <td>0.0</td>\n",
       "      <td>0.0</td>\n",
       "      <td>0.0</td>\n",
       "      <td>0.0</td>\n",
       "      <td>...</td>\n",
       "      <td>0.0</td>\n",
       "      <td>0.0</td>\n",
       "      <td>0.0</td>\n",
       "      <td>0.0</td>\n",
       "      <td>0.0</td>\n",
       "      <td>0.0</td>\n",
       "      <td>0.0</td>\n",
       "      <td>0.0</td>\n",
       "      <td>0.0</td>\n",
       "      <td>0.0</td>\n",
       "    </tr>\n",
       "    <tr>\n",
       "      <th>1</th>\n",
       "      <td>0.0</td>\n",
       "      <td>0.0</td>\n",
       "      <td>0.0</td>\n",
       "      <td>0.0</td>\n",
       "      <td>0.0</td>\n",
       "      <td>0.0</td>\n",
       "      <td>0.0</td>\n",
       "      <td>0.0</td>\n",
       "      <td>0.0</td>\n",
       "      <td>0.0</td>\n",
       "      <td>...</td>\n",
       "      <td>0.0</td>\n",
       "      <td>0.0</td>\n",
       "      <td>0.0</td>\n",
       "      <td>0.0</td>\n",
       "      <td>0.0</td>\n",
       "      <td>0.0</td>\n",
       "      <td>0.0</td>\n",
       "      <td>0.0</td>\n",
       "      <td>0.0</td>\n",
       "      <td>0.0</td>\n",
       "    </tr>\n",
       "    <tr>\n",
       "      <th>2</th>\n",
       "      <td>0.0</td>\n",
       "      <td>0.0</td>\n",
       "      <td>1.0</td>\n",
       "      <td>1.0</td>\n",
       "      <td>1.0</td>\n",
       "      <td>0.0</td>\n",
       "      <td>0.0</td>\n",
       "      <td>0.0</td>\n",
       "      <td>0.0</td>\n",
       "      <td>0.0</td>\n",
       "      <td>...</td>\n",
       "      <td>0.0</td>\n",
       "      <td>0.0</td>\n",
       "      <td>0.0</td>\n",
       "      <td>0.0</td>\n",
       "      <td>0.0</td>\n",
       "      <td>0.0</td>\n",
       "      <td>0.0</td>\n",
       "      <td>0.0</td>\n",
       "      <td>0.0</td>\n",
       "      <td>0.0</td>\n",
       "    </tr>\n",
       "    <tr>\n",
       "      <th>3</th>\n",
       "      <td>1.0</td>\n",
       "      <td>1.0</td>\n",
       "      <td>0.0</td>\n",
       "      <td>0.0</td>\n",
       "      <td>1.0</td>\n",
       "      <td>1.0</td>\n",
       "      <td>1.0</td>\n",
       "      <td>1.0</td>\n",
       "      <td>1.0</td>\n",
       "      <td>1.0</td>\n",
       "      <td>...</td>\n",
       "      <td>0.0</td>\n",
       "      <td>0.0</td>\n",
       "      <td>1.0</td>\n",
       "      <td>0.0</td>\n",
       "      <td>0.0</td>\n",
       "      <td>0.0</td>\n",
       "      <td>0.0</td>\n",
       "      <td>0.0</td>\n",
       "      <td>0.0</td>\n",
       "      <td>0.0</td>\n",
       "    </tr>\n",
       "    <tr>\n",
       "      <th>4</th>\n",
       "      <td>0.0</td>\n",
       "      <td>0.0</td>\n",
       "      <td>0.0</td>\n",
       "      <td>0.0</td>\n",
       "      <td>1.0</td>\n",
       "      <td>0.0</td>\n",
       "      <td>0.0</td>\n",
       "      <td>1.0</td>\n",
       "      <td>1.0</td>\n",
       "      <td>0.0</td>\n",
       "      <td>...</td>\n",
       "      <td>0.0</td>\n",
       "      <td>0.0</td>\n",
       "      <td>0.0</td>\n",
       "      <td>0.0</td>\n",
       "      <td>0.0</td>\n",
       "      <td>0.0</td>\n",
       "      <td>0.0</td>\n",
       "      <td>0.0</td>\n",
       "      <td>0.0</td>\n",
       "      <td>0.0</td>\n",
       "    </tr>\n",
       "  </tbody>\n",
       "</table>\n",
       "<p>5 rows × 30 columns</p>\n",
       "</div>"
      ],
      "text/plain": [
       "   elevator  hardwood_floors  cats_allowed  dogs_allowed  doorman  dishwasher  \\\n",
       "0       0.0              0.0           1.0           1.0      0.0         0.0   \n",
       "1       0.0              0.0           0.0           0.0      0.0         0.0   \n",
       "2       0.0              0.0           1.0           1.0      1.0         0.0   \n",
       "3       1.0              1.0           0.0           0.0      1.0         1.0   \n",
       "4       0.0              0.0           0.0           0.0      1.0         0.0   \n",
       "\n",
       "   laundry_in_building  no_fee  fitness_center  laundry_in_unit  ...  loft  \\\n",
       "0                  0.0     0.0             0.0              0.0  ...   0.0   \n",
       "1                  0.0     0.0             0.0              0.0  ...   0.0   \n",
       "2                  0.0     0.0             0.0              0.0  ...   0.0   \n",
       "3                  1.0     1.0             1.0              1.0  ...   0.0   \n",
       "4                  0.0     1.0             1.0              0.0  ...   0.0   \n",
       "\n",
       "   garden/patio  wheelchair_access  prewar  common_outdoor_space  hardwood  \\\n",
       "0           0.0                0.0     0.0                   0.0       0.0   \n",
       "1           0.0                0.0     0.0                   0.0       0.0   \n",
       "2           0.0                0.0     0.0                   0.0       0.0   \n",
       "3           0.0                1.0     0.0                   0.0       0.0   \n",
       "4           0.0                0.0     0.0                   0.0       0.0   \n",
       "\n",
       "   fireplace  simplex  lowrise  garage  \n",
       "0        0.0      0.0      0.0     0.0  \n",
       "1        0.0      0.0      0.0     0.0  \n",
       "2        0.0      0.0      0.0     0.0  \n",
       "3        0.0      0.0      0.0     0.0  \n",
       "4        0.0      0.0      0.0     0.0  \n",
       "\n",
       "[5 rows x 30 columns]"
      ]
     },
     "execution_count": 188,
     "metadata": {},
     "output_type": "execute_result"
    }
   ],
   "source": [
    "features_train_df = pd.DataFrame(features_train.apply(featurer,\n",
    "                            features=top_features).to_list(),\n",
    "                            columns=['_'.join(x.split()) for x in top_features])\n",
    "features_train_df.head()"
   ]
  },
  {
   "cell_type": "markdown",
   "metadata": {},
   "source": [
    "То же самое для тестовой выборки."
   ]
  },
  {
   "cell_type": "code",
   "execution_count": 34,
   "metadata": {},
   "outputs": [],
   "source": [
    "features_test_df = pd.DataFrame(features_test.apply(featurer,\n",
    "                            features=top_features).to_list(),\n",
    "                            columns=['_'.join(x.split()) for x in top_features])"
   ]
  },
  {
   "cell_type": "markdown",
   "metadata": {},
   "source": [
    "Количество фичей для каждого объявления."
   ]
  },
  {
   "cell_type": "code",
   "execution_count": 132,
   "metadata": {},
   "outputs": [],
   "source": [
    "train['features_cnt'] = train['features'].apply(ast.literal_eval).apply(len)\n",
    "test['features_cnt'] = test['features'].apply(ast.literal_eval).apply(len)"
   ]
  },
  {
   "cell_type": "markdown",
   "metadata": {},
   "source": [
    "Количество фотографий. При желании можно учитывать и размер фото."
   ]
  },
  {
   "cell_type": "code",
   "execution_count": 133,
   "metadata": {},
   "outputs": [],
   "source": [
    "train['photos_cnt'] = train['photos'].apply(ast.literal_eval).apply(len)\n",
    "test['photos_cnt'] = test['photos'].apply(ast.literal_eval).apply(len)"
   ]
  },
  {
   "cell_type": "code",
   "execution_count": 37,
   "metadata": {},
   "outputs": [],
   "source": [
    "target = 'interest_level' # определяем целевую переменную"
   ]
  },
  {
   "cell_type": "markdown",
   "metadata": {},
   "source": [
    "Наработка для получения zip-кода по координатам. *Слишком затратно по времени.*"
   ]
  },
  {
   "cell_type": "code",
   "execution_count": 57,
   "metadata": {},
   "outputs": [],
   "source": [
    "# def get_zipcode(df, geolocator, lat_field, lon_field):\n",
    "#    location = geolocator.reverse((df[lat_field], df[lon_field]))\n",
    "#    return location.raw['address'].get('postcode', np.nan)\n",
    "\n",
    "\n",
    "# geolocator = geopy.Nominatim(user_agent='application')\n",
    "# train_zips = train.apply(get_zipcode, axis=1, geolocator=geolocator, lat_field='latitude', lon_field='longitude')"
   ]
  },
  {
   "cell_type": "markdown",
   "metadata": {},
   "source": [
    "Выделяем день недели и час публикации."
   ]
  },
  {
   "cell_type": "code",
   "execution_count": 134,
   "metadata": {},
   "outputs": [],
   "source": [
    "train[\"weekday\"] = train[\"created\"].dt.weekday\n",
    "test[\"weekday\"] = test[\"created\"].dt.weekday"
   ]
  },
  {
   "cell_type": "code",
   "execution_count": 135,
   "metadata": {},
   "outputs": [],
   "source": [
    "train[\"hour\"] = train[\"created\"].dt.hour\n",
    "test[\"hour\"] = test[\"created\"].dt.hour"
   ]
  },
  {
   "cell_type": "markdown",
   "metadata": {},
   "source": [
    "Считаем относительную стоимость комнаты."
   ]
  },
  {
   "cell_type": "code",
   "execution_count": 136,
   "metadata": {},
   "outputs": [],
   "source": [
    "train[\"room_cost\"] = train.price / (train.bedrooms + 1)\n",
    "test[\"room_cost\"] = test.price / (test.bedrooms + 1)"
   ]
  },
  {
   "cell_type": "markdown",
   "metadata": {},
   "source": [
    "Отношение количества ванных комнат к спальням."
   ]
  },
  {
   "cell_type": "code",
   "execution_count": 137,
   "metadata": {},
   "outputs": [],
   "source": [
    "train[\"bath_bad_rate\"] = train.bathrooms / (train.bedrooms + 1)\n",
    "test[\"bath_bad_rate\"] = test.bathrooms / (test.bedrooms + 1)"
   ]
  },
  {
   "cell_type": "markdown",
   "metadata": {},
   "source": [
    "Время жизни объявления относительно самого свежего."
   ]
  },
  {
   "cell_type": "code",
   "execution_count": 138,
   "metadata": {},
   "outputs": [],
   "source": [
    "train[\"days_exposition\"] = (train.created - train.created.max()).dt.days.abs()\n",
    "test[\"days_exposition\"] = (test.created - test.created.max()).dt.days.abs()"
   ]
  },
  {
   "cell_type": "markdown",
   "metadata": {},
   "source": [
    "Количество слов в описании. Можно считать посимвольно."
   ]
  },
  {
   "cell_type": "code",
   "execution_count": 139,
   "metadata": {},
   "outputs": [],
   "source": [
    "train[\"description_words\"] = train.description.fillna('').str.split().apply(len)\n",
    "test[\"description_words\"] = test.description.fillna('').str.split().apply(len)"
   ]
  },
  {
   "cell_type": "markdown",
   "metadata": {},
   "source": [
    "Визуализируем распеделение количества спален."
   ]
  },
  {
   "cell_type": "code",
   "execution_count": 68,
   "metadata": {},
   "outputs": [
    {
     "data": {
      "image/png": "[encoded data removed]",
      "text/plain": [
       "<Figure size 432x288 with 1 Axes>"
      ]
     },
     "metadata": {
      "needs_background": "light"
     },
     "output_type": "display_data"
    }
   ],
   "source": [
    "sns.countplot(x='bedrooms', hue='interest_level', data=train);"
   ]
  },
  {
   "cell_type": "markdown",
   "metadata": {},
   "source": [
    "Для разных типов объявлений распределение приблизительно одинаково."
   ]
  },
  {
   "cell_type": "markdown",
   "metadata": {},
   "source": [
    "#### Анализируем выбросы\n",
    "\n",
    "Есть квартиры значительно дороже остальных. Граница — 1 млн. долл. сша."
   ]
  },
  {
   "cell_type": "code",
   "execution_count": 199,
   "metadata": {},
   "outputs": [
    {
     "data": {
      "image/png": "[encoded data removed]",
      "text/plain": [
       "<Figure size 432x288 with 1 Axes>"
      ]
     },
     "metadata": {
      "needs_background": "light"
     },
     "output_type": "display_data"
    }
   ],
   "source": [
    "sns.scatterplot(x='bedrooms', y='price', data=train, hue='interest_level', alpha=.5);"
   ]
  },
  {
   "cell_type": "code",
   "execution_count": 200,
   "metadata": {},
   "outputs": [
    {
     "data": {
      "image/png": "[encoded data removed]",
      "text/plain": [
       "<Figure size 432x288 with 1 Axes>"
      ]
     },
     "metadata": {
      "needs_background": "light"
     },
     "output_type": "display_data"
    }
   ],
   "source": [
    "sns.scatterplot(x='bathrooms', y='price', data=train, hue='interest_level', alpha=.5);"
   ]
  },
  {
   "cell_type": "markdown",
   "metadata": {},
   "source": [
    "Избавляемся от выбросов."
   ]
  },
  {
   "cell_type": "code",
   "execution_count": 140,
   "metadata": {},
   "outputs": [],
   "source": [
    "train = train.query('bathrooms < 5 & price < 1e6')"
   ]
  },
  {
   "cell_type": "markdown",
   "metadata": {},
   "source": [
    "## 2. Тестирование различных алгоритмов\n",
    "\n",
    "Для выполнения этой части задания разбейте размеченные данные на train и test и напишите автоматическое тестирование разных алгоритмов классификации в цикле с вычислением метрики `f1_score('macro')`."
   ]
  },
  {
   "cell_type": "code",
   "execution_count": 80,
   "metadata": {},
   "outputs": [],
   "source": [
    "classifiers = {\n",
    "    'KNeighborsClassifier': KNeighborsClassifier(n_neighbors=3),\n",
    "    'DecisionTreeClassifier': DecisionTreeClassifier(class_weight='balanced'),\n",
    "    'RandomForestClassifier': RandomForestClassifier(),\n",
    "    'MLPClassifier': MLPClassifier(),\n",
    "    'AdaBoostClassifier': AdaBoostClassifier(),\n",
    "    'CatBoostClassifier': CatBoostClassifier(loss_function='MultiClass',\n",
    "                                             logging_level='Silent'),\n",
    "    'LGBMClassifier': LGBMClassifier(boosting_type=\"gbdt\",\n",
    "                                     objective=\"multiclass\",\n",
    "                                     learning_rate=0.05),\n",
    "    'XGBClassifier': XGBClassifier()\n",
    "}"
   ]
  },
  {
   "cell_type": "markdown",
   "metadata": {},
   "source": [
    "Выбираем признаки, которые будут участвовать в моделировании."
   ]
  },
  {
   "cell_type": "code",
   "execution_count": 47,
   "metadata": {},
   "outputs": [
    {
     "data": {
      "text/plain": [
       "['bathrooms',\n",
       " 'bedrooms',\n",
       " 'latitude',\n",
       " 'longitude',\n",
       " 'price',\n",
       " 'features_cnt',\n",
       " 'photos_cnt',\n",
       " 'weekday',\n",
       " 'hour',\n",
       " 'room_cost',\n",
       " 'bath_bad_rate',\n",
       " 'days_exposition',\n",
       " 'description_words']"
      ]
     },
     "execution_count": 47,
     "metadata": {},
     "output_type": "execute_result"
    }
   ],
   "source": [
    "to_drop = ['building_id', 'created', 'description', \n",
    "           'display_address', 'features', 'listing_id', \n",
    "           'manager_id', 'photos', 'street_address']\n",
    "\n",
    "to_use = [x for x in train.columns if x not in to_drop + [target]]\n",
    "to_use"
   ]
  },
  {
   "cell_type": "markdown",
   "metadata": {},
   "source": [
    "Шкалируем вещественные признаки."
   ]
  },
  {
   "cell_type": "code",
   "execution_count": 121,
   "metadata": {},
   "outputs": [],
   "source": [
    "scaler = StandardScaler()\n",
    "scaled_train = scaler.fit_transform(train[to_use])"
   ]
  },
  {
   "cell_type": "code",
   "execution_count": 122,
   "metadata": {},
   "outputs": [],
   "source": [
    "scaled = train.copy()"
   ]
  },
  {
   "cell_type": "code",
   "execution_count": 124,
   "metadata": {},
   "outputs": [],
   "source": [
    "scaled[to_use] = scaled_train\n",
    "scaled = scaled[to_use].join(features_train_df)"
   ]
  },
  {
   "cell_type": "markdown",
   "metadata": {},
   "source": [
    "Разбиваем выборку на тренировочную и валидационную в соотношении 1/3"
   ]
  },
  {
   "cell_type": "code",
   "execution_count": 49,
   "metadata": {},
   "outputs": [],
   "source": [
    "X_train, X_test, y_train, y_test = train_test_split(train[to_use].join(features_train_df),\n",
    "                                                    train[target].map(mapper),\n",
    "                                                    test_size=0.3)"
   ]
  },
  {
   "cell_type": "code",
   "execution_count": 50,
   "metadata": {},
   "outputs": [
    {
     "data": {
      "text/plain": [
       "((27615, 43), (11835, 43), (27615,), (11835,))"
      ]
     },
     "execution_count": 50,
     "metadata": {},
     "output_type": "execute_result"
    }
   ],
   "source": [
    "X_train.shape, X_test.shape, y_train.shape, y_test.shape"
   ]
  },
  {
   "cell_type": "code",
   "execution_count": 48,
   "metadata": {},
   "outputs": [],
   "source": [
    "mapper = {\n",
    "        'low':0,\n",
    "        'medium':1,\n",
    "        'high':2\n",
    "       }"
   ]
  },
  {
   "cell_type": "markdown",
   "metadata": {},
   "source": [
    "Прогоняем данные по пулу моделей, ориентируясь на значение `f1_score`."
   ]
  },
  {
   "cell_type": "code",
   "execution_count": 81,
   "metadata": {},
   "outputs": [
    {
     "name": "stdout",
     "output_type": "stream",
     "text": [
      "KNeighborsClassifier\n",
      "На отложенной тестовой выборке: \n",
      "KNeighborsClassifier: F_мера: 0.42310, average precision score: 0.46199, \n",
      "------------------------------\n",
      "DecisionTreeClassifier\n",
      "На отложенной тестовой выборке: \n",
      "DecisionTreeClassifier: F_мера: 0.48691, average precision score: 0.48765, \n",
      "------------------------------\n",
      "RandomForestClassifier\n",
      "На отложенной тестовой выборке: \n",
      "RandomForestClassifier: F_мера: 0.51377, average precision score: 0.60968, \n",
      "------------------------------\n",
      "MLPClassifier\n",
      "На отложенной тестовой выборке: \n",
      "MLPClassifier: F_мера: 0.27251, average precision score: 0.62355, \n",
      "------------------------------\n",
      "AdaBoostClassifier\n",
      "На отложенной тестовой выборке: \n",
      "AdaBoostClassifier: F_мера: 0.48062, average precision score: 0.58111, \n",
      "------------------------------\n",
      "CatBoostClassifier\n",
      "На отложенной тестовой выборке: \n",
      "CatBoostClassifier: F_мера: 0.54872, average precision score: 0.61908, \n",
      "------------------------------\n",
      "LGBMClassifier\n",
      "На отложенной тестовой выборке: \n",
      "LGBMClassifier: F_мера: 0.51848, average precision score: 0.61706, \n",
      "------------------------------\n",
      "XGBClassifier\n",
      "На отложенной тестовой выборке: \n",
      "XGBClassifier: F_мера: 0.55395, average precision score: 0.62069, \n",
      "------------------------------\n"
     ]
    }
   ],
   "source": [
    "for name, model in classifiers.items():\n",
    "    print(name)\n",
    "    model_ = model\n",
    "    model_.fit(X_train, y_train)\n",
    "    predicts = model_.predict(X_test)\n",
    "    f1 = f1_score(y_test, predicts, average='macro')\n",
    "    average_precision_score = precision_score(y_test, predicts, average='macro')\n",
    "    print('На отложенной тестовой выборке: ')\n",
    "    print('%s: F_мера: %7.5f, average precision score: %7.5f, ' % (name, f1, average_precision_score))\n",
    "    print('-'*30)"
   ]
  },
  {
   "cell_type": "markdown",
   "metadata": {},
   "source": [
    "Лучшее значение показал бустинговый классификатор XGBClassifier."
   ]
  },
  {
   "cell_type": "markdown",
   "metadata": {},
   "source": [
    "## 3. Отбор признаков\n",
    "\n",
    "[Отбор признаков](https://scikit-learn.org/stable/modules/feature_selection.html)\n",
    "\n",
    "Для отбора признаков выберем ExtraTreesClassifier и «важность» признаков xgboost."
   ]
  },
  {
   "cell_type": "code",
   "execution_count": 82,
   "metadata": {},
   "outputs": [],
   "source": [
    "clf = ExtraTreesClassifier(n_estimators=100)"
   ]
  },
  {
   "cell_type": "code",
   "execution_count": 83,
   "metadata": {},
   "outputs": [],
   "source": [
    "clf = clf.fit(X_train, y_train)"
   ]
  },
  {
   "cell_type": "code",
   "execution_count": 84,
   "metadata": {},
   "outputs": [],
   "source": [
    "model = SelectFromModel(clf, prefit=True)\n",
    "X_train_ext = model.transform(X_train)"
   ]
  },
  {
   "cell_type": "code",
   "execution_count": 85,
   "metadata": {},
   "outputs": [],
   "source": [
    "X_test_ext = model.transform(X_test)"
   ]
  },
  {
   "cell_type": "code",
   "execution_count": 86,
   "metadata": {},
   "outputs": [
    {
     "data": {
      "text/plain": [
       "(11835, 12)"
      ]
     },
     "execution_count": 86,
     "metadata": {},
     "output_type": "execute_result"
    }
   ],
   "source": [
    "X_test_ext.shape"
   ]
  },
  {
   "cell_type": "markdown",
   "metadata": {},
   "source": [
    "Признаковое пространство сократилось почти в два раза."
   ]
  },
  {
   "cell_type": "code",
   "execution_count": 87,
   "metadata": {},
   "outputs": [
    {
     "name": "stdout",
     "output_type": "stream",
     "text": [
      "KNeighborsClassifier\n",
      "На отложенной тестовой выборке: \n",
      "KNeighborsClassifier: F_мера: 0.42272, average precision score: 0.46193, \n",
      "------------------------------\n",
      "DecisionTreeClassifier\n",
      "На отложенной тестовой выборке: \n",
      "DecisionTreeClassifier: F_мера: 0.47635, average precision score: 0.47592, \n",
      "------------------------------\n",
      "RandomForestClassifier\n",
      "На отложенной тестовой выборке: \n",
      "RandomForestClassifier: F_мера: 0.50910, average precision score: 0.59158, \n",
      "------------------------------\n",
      "MLPClassifier\n",
      "На отложенной тестовой выборке: \n",
      "MLPClassifier: F_мера: 0.13489, average precision score: 0.39985, \n",
      "------------------------------\n",
      "AdaBoostClassifier\n",
      "На отложенной тестовой выборке: \n",
      "AdaBoostClassifier: F_мера: 0.46375, average precision score: 0.56764, \n",
      "------------------------------\n",
      "CatBoostClassifier\n",
      "На отложенной тестовой выборке: \n",
      "CatBoostClassifier: F_мера: 0.53208, average precision score: 0.60988, \n",
      "------------------------------\n",
      "LGBMClassifier\n",
      "На отложенной тестовой выборке: \n",
      "LGBMClassifier: F_мера: 0.50519, average precision score: 0.61697, \n",
      "------------------------------\n",
      "XGBClassifier\n",
      "На отложенной тестовой выборке: \n",
      "XGBClassifier: F_мера: 0.52954, average precision score: 0.60066, \n",
      "------------------------------\n"
     ]
    }
   ],
   "source": [
    "for name, model in classifiers.items():\n",
    "    print(name)\n",
    "    model_ = model\n",
    "    model_.fit(X_train_ext, y_train)\n",
    "    predicts = model_.predict(X_test_ext)\n",
    "    f1 = f1_score(y_test, predicts, average='macro')\n",
    "    average_precision_score = precision_score(y_test, predicts, average='macro')\n",
    "    print('На отложенной тестовой выборке: ')\n",
    "    print('%s: F_мера: %7.5f, average precision score: %7.5f, ' % (name, f1, average_precision_score))\n",
    "    print('-'*30)"
   ]
  },
  {
   "cell_type": "markdown",
   "metadata": {},
   "source": [
    "Но это только ухудшило показатели."
   ]
  },
  {
   "cell_type": "markdown",
   "metadata": {},
   "source": [
    "Определим важность признаков в модели xgboost и отрисуем их."
   ]
  },
  {
   "cell_type": "code",
   "execution_count": 90,
   "metadata": {},
   "outputs": [],
   "source": [
    "import xgboost as xgb\n",
    "clf = xgb.train({'objective':'multi:softprob', 'num_class':3, 'eval_metric': 'mlogloss'},\n",
    "                 xgb.DMatrix(X_train.values, y_train, feature_names=list(X_train.columns)), \n",
    "                             num_boost_round=100, maximize=True)"
   ]
  },
  {
   "cell_type": "code",
   "execution_count": 89,
   "metadata": {},
   "outputs": [],
   "source": [
    "def draw_feature_importances(clf, top_k=10):\n",
    "    plt.figure(figsize=(10,10))\n",
    "    \n",
    "    importances = dict(sorted(clf.get_score().items(), key=lambda x: x[1])[-top_k:])\n",
    "    y_pos = np.arange(len(importances))\n",
    "    \n",
    "    plt.barh(y_pos, list(importances.values()), align='center', color='b')\n",
    "    plt.yticks(y_pos, importances.keys(), fontsize=12)\n",
    "    plt.xticks(fontsize=12)\n",
    "    plt.xlabel('Feature importance', fontsize=15)\n",
    "    plt.ylim(-0.5, len(importances) - 0.5)\n",
    "    plt.show()"
   ]
  },
  {
   "cell_type": "code",
   "execution_count": 91,
   "metadata": {},
   "outputs": [],
   "source": [
    "importances = dict(sorted(clf.get_score().items(), key=lambda x: x[1])[-15:])"
   ]
  },
  {
   "cell_type": "markdown",
   "metadata": {},
   "source": [
    "15 самых важных признаков, определенных моделью XGBoost."
   ]
  },
  {
   "cell_type": "code",
   "execution_count": 92,
   "metadata": {},
   "outputs": [
    {
     "data": {
      "image/png": "[encoded data removed]",
      "text/plain": [
       "<Figure size 720x720 with 1 Axes>"
      ]
     },
     "metadata": {
      "needs_background": "light"
     },
     "output_type": "display_data"
    }
   ],
   "source": [
    "draw_feature_importances(clf, 15)"
   ]
  },
  {
   "cell_type": "code",
   "execution_count": 94,
   "metadata": {},
   "outputs": [
    {
     "name": "stdout",
     "output_type": "stream",
     "text": [
      "KNeighborsClassifier\n",
      "На отложенной тестовой выборке: \n",
      "KNeighborsClassifier: F_мера: 0.42358, average precision score: 0.46329, \n",
      "------------------------------\n",
      "DecisionTreeClassifier\n",
      "На отложенной тестовой выборке: \n",
      "DecisionTreeClassifier: F_мера: 0.48397, average precision score: 0.48567, \n",
      "------------------------------\n",
      "RandomForestClassifier\n",
      "На отложенной тестовой выборке: \n",
      "RandomForestClassifier: F_мера: 0.51938, average precision score: 0.60454, \n",
      "------------------------------\n",
      "MLPClassifier\n",
      "На отложенной тестовой выборке: \n",
      "MLPClassifier: F_мера: 0.41674, average precision score: 0.55130, \n",
      "------------------------------\n",
      "AdaBoostClassifier\n",
      "На отложенной тестовой выборке: \n",
      "AdaBoostClassifier: F_мера: 0.47804, average precision score: 0.56702, \n",
      "------------------------------\n",
      "CatBoostClassifier\n",
      "На отложенной тестовой выборке: \n",
      "CatBoostClassifier: F_мера: 0.54406, average precision score: 0.60922, \n",
      "------------------------------\n",
      "LGBMClassifier\n",
      "На отложенной тестовой выборке: \n",
      "LGBMClassifier: F_мера: 0.51682, average precision score: 0.61252, \n",
      "------------------------------\n",
      "XGBClassifier\n",
      "На отложенной тестовой выборке: \n",
      "XGBClassifier: F_мера: 0.55420, average precision score: 0.61498, \n",
      "------------------------------\n"
     ]
    }
   ],
   "source": [
    "for name, model in classifiers.items():\n",
    "    print(name)\n",
    "    model_ = model\n",
    "    model_.fit(X_train[importances.keys()], y_train)\n",
    "    predicts = model_.predict(X_test[importances.keys()])\n",
    "    f1 = f1_score(y_test, predicts, average='macro')\n",
    "    average_precision_score = precision_score(y_test, predicts, average='macro')\n",
    "    print('На отложенной тестовой выборке: ')\n",
    "    print('%s: F_мера: %7.5f, average precision score: %7.5f, ' % (name, f1, average_precision_score))\n",
    "    print('-' * 30)"
   ]
  },
  {
   "cell_type": "markdown",
   "metadata": {},
   "source": [
    "Работая с этими признаками модели показали результат незначительно лучше, по сравнению с базовым набором."
   ]
  },
  {
   "cell_type": "markdown",
   "metadata": {},
   "source": [
    "## 4. Подбор гиперпараметров\n",
    "\n",
    "Для этого задания подберите гиперпараметры как минимум для 3 алгоритмов из протестированных выше. Используйте Grid Search или Random Search, в качестве метрики передавайте `f1_score`."
   ]
  },
  {
   "cell_type": "markdown",
   "metadata": {},
   "source": [
    "Для `RandomForestClassifier` используем `RandomizedSearchCV`."
   ]
  },
  {
   "cell_type": "code",
   "execution_count": 95,
   "metadata": {},
   "outputs": [
    {
     "name": "stdout",
     "output_type": "stream",
     "text": [
      "Fitting 5 folds for each of 10 candidates, totalling 50 fits\n"
     ]
    },
    {
     "name": "stderr",
     "output_type": "stream",
     "text": [
      "[Parallel(n_jobs=1)]: Using backend SequentialBackend with 1 concurrent workers.\n",
      "[Parallel(n_jobs=1)]: Done  50 out of  50 | elapsed:  3.2min finished\n"
     ]
    },
    {
     "name": "stdout",
     "output_type": "stream",
     "text": [
      "RandomForestClassifier(oob_score=True, random_state=42)\n",
      "{'min_samples_leaf': 1, 'max_depth': None}\n"
     ]
    }
   ],
   "source": [
    "skf = StratifiedKFold(n_splits=5, shuffle=True)\n",
    "params = {\n",
    "    'max_depth': [3, 4, None, 5, 6],\n",
    "    \"min_samples_leaf\": list(range(1, 5))\n",
    "}\n",
    "\n",
    "rf = RandomForestClassifier(n_estimators=100, oob_score=True)\n",
    "\n",
    "dt_random_search = RandomizedSearchCV(rf, params, cv=skf, verbose=1)\n",
    "dt_random_search.fit(X_train, y_train)\n",
    "\n",
    "print(dt_random_search.best_estimator_)\n",
    "print(dt_random_search.best_params_)"
   ]
  },
  {
   "cell_type": "markdown",
   "metadata": {},
   "source": [
    "Лучшими параметрами стали\n",
    "```python\n",
    "{'min_samples_leaf': 1, 'max_depth': None}```"
   ]
  },
  {
   "cell_type": "markdown",
   "metadata": {},
   "source": [
    "Для двух бустинговых моделей будем использовать `GridSearchCV`"
   ]
  },
  {
   "cell_type": "code",
   "execution_count": 97,
   "metadata": {},
   "outputs": [],
   "source": [
    "def get_best_model(model, params, x_train, x_test, y_train, y_test,\n",
    "                   score=make_scorer(f1_score, average='macro')):\n",
    "    grid = GridSearchCV(estimator=model, param_grid=params, cv=5, scoring=score)\n",
    "    grid.fit(x_train, y_train)\n",
    "    best_model = grid.best_estimator_\n",
    "    best_model.fit(x_train, y_train)\n",
    "    predicted = best_model.predict(x_test)\n",
    "\n",
    "    metrics = {metric: f(y_test, predicted, average='macro') \n",
    "                        for metric, f in zip(['precision', 'f1'], [precision_score, f1_score])}\n",
    "    print('Лучшие параметры модели:', grid.best_params_, end='\\n')\n",
    "    report = pd.DataFrame(metrics.values(), index=metrics.keys(), columns=['Значения метрик'])\n",
    "    return best_model, report"
   ]
  },
  {
   "cell_type": "code",
   "execution_count": 455,
   "metadata": {},
   "outputs": [
    {
     "name": "stdout",
     "output_type": "stream",
     "text": [
      "Лучшие параметры модели: {'max_depth': 9, 'n_estimators': 49}\n"
     ]
    }
   ],
   "source": [
    "param_xgb = {\n",
    "    \"n_estimators\": range(1, 151, 10),\n",
    "    \"max_depth\": list(range(2, 11, 1)) + [None],\n",
    "#    \"subsample\": np.arange(0.6, 1.0, 0.1),\n",
    "#    \"colsample_bytree\":  np.arange(0.6, 1.0, 0.1),\n",
    "#    \"eta\": np.arange(0.1, 1, 0.1),\n",
    "}\n",
    "xgb_model, df_xgb = get_best_model(\n",
    "    XGBClassifier(learning_rate=0.05, nrounds=100, eta=0.1,\n",
    "                  objective='multi:softprob', num_class=3, eval_metric='mlogloss'),\n",
    "    param_xgb,\n",
    "    X_train,\n",
    "    X_test,\n",
    "    y_train,    \n",
    "    y_test\n",
    ")"
   ]
  },
  {
   "cell_type": "code",
   "execution_count": 458,
   "metadata": {},
   "outputs": [
    {
     "data": {
      "text/html": [
       "<div>\n",
       "<style scoped>\n",
       "    .dataframe tbody tr th:only-of-type {\n",
       "        vertical-align: middle;\n",
       "    }\n",
       "\n",
       "    .dataframe tbody tr th {\n",
       "        vertical-align: top;\n",
       "    }\n",
       "\n",
       "    .dataframe thead th {\n",
       "        text-align: right;\n",
       "    }\n",
       "</style>\n",
       "<table border=\"1\" class=\"dataframe\">\n",
       "  <thead>\n",
       "    <tr style=\"text-align: right;\">\n",
       "      <th></th>\n",
       "      <th>Значения метрик</th>\n",
       "    </tr>\n",
       "  </thead>\n",
       "  <tbody>\n",
       "    <tr>\n",
       "      <th>precision</th>\n",
       "      <td>0.600412</td>\n",
       "    </tr>\n",
       "    <tr>\n",
       "      <th>f1</th>\n",
       "      <td>0.509178</td>\n",
       "    </tr>\n",
       "  </tbody>\n",
       "</table>\n",
       "</div>"
      ],
      "text/plain": [
       "           Значения метрик\n",
       "precision         0.600412\n",
       "f1                0.509178"
      ]
     },
     "execution_count": 458,
     "metadata": {},
     "output_type": "execute_result"
    }
   ],
   "source": [
    "df_xgb"
   ]
  },
  {
   "cell_type": "code",
   "execution_count": 98,
   "metadata": {},
   "outputs": [
    {
     "name": "stdout",
     "output_type": "stream",
     "text": [
      "Лучшие параметры модели: {'depth': 10}\n",
      "CPU times: user 35min 9s, sys: 19min 30s, total: 54min 39s\n",
      "Wall time: 37min 29s\n"
     ]
    },
    {
     "data": {
      "text/html": [
       "<div>\n",
       "<style scoped>\n",
       "    .dataframe tbody tr th:only-of-type {\n",
       "        vertical-align: middle;\n",
       "    }\n",
       "\n",
       "    .dataframe tbody tr th {\n",
       "        vertical-align: top;\n",
       "    }\n",
       "\n",
       "    .dataframe thead th {\n",
       "        text-align: right;\n",
       "    }\n",
       "</style>\n",
       "<table border=\"1\" class=\"dataframe\">\n",
       "  <thead>\n",
       "    <tr style=\"text-align: right;\">\n",
       "      <th></th>\n",
       "      <th>Значения метрик</th>\n",
       "    </tr>\n",
       "  </thead>\n",
       "  <tbody>\n",
       "    <tr>\n",
       "      <th>precision</th>\n",
       "      <td>0.600481</td>\n",
       "    </tr>\n",
       "    <tr>\n",
       "      <th>f1</th>\n",
       "      <td>0.455998</td>\n",
       "    </tr>\n",
       "  </tbody>\n",
       "</table>\n",
       "</div>"
      ],
      "text/plain": [
       "           Значения метрик\n",
       "precision         0.600481\n",
       "f1                0.455998"
      ]
     },
     "execution_count": 98,
     "metadata": {},
     "output_type": "execute_result"
    }
   ],
   "source": [
    "%%time\n",
    "param_ctb = {\n",
    "    \"depth\": range(2, 16, 2),\n",
    "}\n",
    "ctb_model, df_ctb = get_best_model(\n",
    "    CatBoostClassifier(iterations=50, learning_rate=0.1, logging_level='Silent'),\n",
    "    param_ctb,\n",
    "    X_train,\n",
    "    X_test,\n",
    "    y_train,    \n",
    "    y_test\n",
    ")\n",
    "df_ctb"
   ]
  },
  {
   "cell_type": "markdown",
   "metadata": {},
   "source": [
    "## 5. Стэкинг алгоритмов\n",
    "\n",
    "Для выполнения этой части задания реализуйте стэкинг нечетного числа алгоритмов (больше одного конечно).\n",
    "\n",
    "[Voting classifier](https://scikit-learn.org/stable/modules/ensemble.html#voting-classifier)\n",
    "\n",
    "[Stacked-generalization](https://scikit-learn.org/stable/modules/ensemble.html#stacked-generalization)"
   ]
  },
  {
   "cell_type": "markdown",
   "metadata": {},
   "source": [
    "Попробуем стек из 3-х моделей:\n",
    " 1. RandomForestClassifier\n",
    " 2. LinearSVC\n",
    " 3. LogisticRegression"
   ]
  },
  {
   "cell_type": "code",
   "execution_count": 116,
   "metadata": {},
   "outputs": [],
   "source": [
    "estimators = [('rf', RandomForestClassifier(n_estimators=10)),\n",
    "              ('svr', make_pipeline(StandardScaler(),\n",
    "                                    LinearSVC()))]\n",
    "clf = StackingClassifier(estimators=estimators,\n",
    "                         final_estimator=LogisticRegression())"
   ]
  },
  {
   "cell_type": "code",
   "execution_count": 117,
   "metadata": {},
   "outputs": [
    {
     "data": {
      "text/plain": [
       "StackingClassifier(estimators=[('rf',\n",
       "                                RandomForestClassifier(n_estimators=10,\n",
       "                                                       random_state=42)),\n",
       "                               ('svr',\n",
       "                                Pipeline(steps=[('standardscaler',\n",
       "                                                 StandardScaler()),\n",
       "                                                ('linearsvc',\n",
       "                                                 LinearSVC(random_state=42))]))],\n",
       "                   final_estimator=LogisticRegression())"
      ]
     },
     "execution_count": 117,
     "metadata": {},
     "output_type": "execute_result"
    }
   ],
   "source": [
    "clf.fit(X_train, y_train)"
   ]
  },
  {
   "cell_type": "code",
   "execution_count": 119,
   "metadata": {},
   "outputs": [
    {
     "data": {
      "text/plain": [
       "0.49246720552921497"
      ]
     },
     "execution_count": 119,
     "metadata": {},
     "output_type": "execute_result"
    }
   ],
   "source": [
    "predicts = clf.predict(X_test)\n",
    "f1_score(y_test, predicts, average='macro')"
   ]
  },
  {
   "cell_type": "markdown",
   "metadata": {},
   "source": [
    "Значения стека оказались чуть хуже отдельных бустинговых моделей."
   ]
  },
  {
   "cell_type": "markdown",
   "metadata": {},
   "source": [
    "## 6. Добавление номера кластера в качестве признака\n",
    "\n",
    "Сделать кластеризацию данных хотя бы на числовых признаках, кластер добавить к данным в качестве признака и обучить на этом классификатор.\n",
    "\n",
    "Сравнить метрику с кластером-признаком и без.\n",
    "\n",
    "При использовании `k-means` нужно сделать подбор количества кластеров одним из способов The Elbow Method или The Silhouette Method. [Как же это сделать в питоне](https://medium.com/analytics-vidhya/how-to-determine-the-optimal-k-for-k-means-708505d204eb)"
   ]
  },
  {
   "cell_type": "code",
   "execution_count": 126,
   "metadata": {},
   "outputs": [],
   "source": [
    "from sklearn.metrics import silhouette_score\n",
    "from sklearn.cluster import KMeans\n",
    "sil = []\n",
    "kmax = 10\n",
    "\n",
    "for k in range(2, kmax+1):\n",
    "    kmeans = KMeans(n_clusters=k).fit(scaled)\n",
    "    labels = kmeans.labels_\n",
    "    sil.append(silhouette_score(scaled, labels, metric='euclidean'))"
   ]
  },
  {
   "cell_type": "markdown",
   "metadata": {},
   "source": [
    "График метода The Silhouette Method"
   ]
  },
  {
   "cell_type": "code",
   "execution_count": 168,
   "metadata": {},
   "outputs": [
    {
     "data": {
      "image/png": "[encoded data removed]",
      "text/plain": [
       "<Figure size 432x288 with 1 Axes>"
      ]
     },
     "metadata": {
      "needs_background": "light"
     },
     "output_type": "display_data"
    }
   ],
   "source": [
    "sns.lineplot(range(2, kmax+1), sil);"
   ]
  },
  {
   "cell_type": "markdown",
   "metadata": {},
   "source": [
    "Оптимальное количество кластеров – 3."
   ]
  },
  {
   "cell_type": "code",
   "execution_count": 169,
   "metadata": {},
   "outputs": [],
   "source": [
    "k = 3\n",
    "kmeans = KMeans(n_clusters=k).fit(scaled)"
   ]
  },
  {
   "cell_type": "code",
   "execution_count": 172,
   "metadata": {},
   "outputs": [],
   "source": [
    "train['cluster'] = kmeans.labels_"
   ]
  },
  {
   "cell_type": "code",
   "execution_count": 173,
   "metadata": {},
   "outputs": [],
   "source": [
    "scaled_test = scaler.fit_transform(test[to_use])"
   ]
  },
  {
   "cell_type": "code",
   "execution_count": 174,
   "metadata": {},
   "outputs": [],
   "source": [
    "kmeans = KMeans(n_clusters=k).fit(scaled_test)\n",
    "test['cluster'] = kmeans.labels_"
   ]
  },
  {
   "cell_type": "code",
   "execution_count": 182,
   "metadata": {},
   "outputs": [],
   "source": [
    "to_use.append('cluster')\n",
    "X_train, X_test, y_train, y_test = train_test_split(train[to_use].join(features_train_df), train_target,\n",
    "                                                                    test_size=0.3, stratify=train_target)"
   ]
  },
  {
   "cell_type": "markdown",
   "metadata": {},
   "source": [
    "Тестируем данные с новым признаком на двух бустинговых моделях."
   ]
  },
  {
   "cell_type": "code",
   "execution_count": 183,
   "metadata": {},
   "outputs": [],
   "source": [
    "xgb_ = XGBClassifier(objective='multi:softprob', num_class=3, eval_metric='mlogloss')\n",
    "xgb_.fit(X_train, y_train)\n",
    "predicts = xgb_.predict(X_test)"
   ]
  },
  {
   "cell_type": "code",
   "execution_count": 184,
   "metadata": {},
   "outputs": [
    {
     "name": "stdout",
     "output_type": "stream",
     "text": [
      "              precision    recall  f1-score   support\n",
      "\n",
      "        high       0.54      0.27      0.36       928\n",
      "         low       0.80      0.92      0.86      8225\n",
      "      medium       0.49      0.34      0.40      2682\n",
      "\n",
      "    accuracy                           0.74     11835\n",
      "   macro avg       0.61      0.51      0.54     11835\n",
      "weighted avg       0.71      0.74      0.71     11835\n",
      "\n"
     ]
    }
   ],
   "source": [
    "print(classification_report(y_test, predicts))"
   ]
  },
  {
   "cell_type": "code",
   "execution_count": 185,
   "metadata": {},
   "outputs": [],
   "source": [
    "ctb_ = classifiers['CatBoostClassifier']\n",
    "ctb_.fit(X_train, y_train)\n",
    "predicts = ctb_.predict(X_test)"
   ]
  },
  {
   "cell_type": "code",
   "execution_count": 186,
   "metadata": {
    "scrolled": true
   },
   "outputs": [
    {
     "name": "stdout",
     "output_type": "stream",
     "text": [
      "              precision    recall  f1-score   support\n",
      "\n",
      "        high       0.54      0.27      0.36       928\n",
      "         low       0.80      0.93      0.86      8225\n",
      "      medium       0.48      0.32      0.39      2682\n",
      "\n",
      "    accuracy                           0.74     11835\n",
      "   macro avg       0.61      0.51      0.54     11835\n",
      "weighted avg       0.71      0.74      0.71     11835\n",
      "\n"
     ]
    }
   ],
   "source": [
    "print(classification_report(y_test, predicts))"
   ]
  },
  {
   "cell_type": "markdown",
   "metadata": {},
   "source": [
    "Добавление нового признака не показало роста качества аппроксимации данных нашими моделями."
   ]
  },
  {
   "cell_type": "markdown",
   "metadata": {},
   "source": [
    "## 7. Итоговое решение и сабмит\n",
    "\n",
    "Лучшую модель XGBoost используем для классификации тестовых данных."
   ]
  },
  {
   "cell_type": "code",
   "execution_count": 147,
   "metadata": {},
   "outputs": [],
   "source": [
    "train = train.set_index('listing_id')\n",
    "train_target = train[target]"
   ]
  },
  {
   "cell_type": "code",
   "execution_count": 156,
   "metadata": {},
   "outputs": [],
   "source": [
    "test[target] = xgb_.predict(test[to_use].join(features_test_df))"
   ]
  },
  {
   "cell_type": "code",
   "execution_count": 157,
   "metadata": {},
   "outputs": [],
   "source": [
    "test[target] = test[target].map(mapper)"
   ]
  },
  {
   "cell_type": "code",
   "execution_count": 159,
   "metadata": {},
   "outputs": [],
   "source": [
    "test[['listing_id', target]].to_csv('xgb_predictions.csv', index=None)"
   ]
  }
 ],
 "metadata": {
  "kernelspec": {
   "display_name": "Python 3",
   "language": "python",
   "name": "python3"
  },
  "language_info": {
   "codemirror_mode": {
    "name": "ipython",
    "version": 3
   },
   "file_extension": ".py",
   "mimetype": "text/x-python",
   "name": "python",
   "nbconvert_exporter": "python",
   "pygments_lexer": "ipython3",
   "version": "3.8.3"
  }
 },
 "nbformat": 4,
 "nbformat_minor": 4
}
