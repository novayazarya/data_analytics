{
  "cells": [
    {
      "cell_type": "code",
      "execution_count": null,
      "metadata": {
        "id": "6B4QHcCCEH-v"
      },
      "outputs": [],
      "source": [
        "import os\n",
        "import pandas as pd\n",
        "import numpy as np\n",
        "import matplotlib.pyplot as plt\n",
        "import seaborn as sns\n",
        "\n",
        "from google.cloud import bigquery"
      ]
    },
    {
      "cell_type": "markdown",
      "metadata": {
        "id": "GhGv3m7tEH-y"
      },
      "source": [
        "В примере построения регрессионной модели мы используем набор данных `london_bicycles`. Предположим, что у нас есть два типа велосипедов: тяжелые и надежные городские велосипеды и быстрые, но менее надежные шоссейные велосипеды. Для клиентов, совершающих длительные поездки, у нас должны быть в наличии шоссейные велосипеды, а для коротких поездок — обычные городские. Чтобы организовать правильное распределение велосипедов, необходимо спрогнозировать продолжительность поездок."
      ]
    },
    {
      "cell_type": "code",
      "execution_count": null,
      "metadata": {
        "id": "7hnwj2zREH-0",
        "colab": {
          "resources": {
            "http://localhost:8080/nbextensions/google.colab/files.js": {
              "data": "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",
              "ok": true,
              "headers": [
                [
                  "content-type",
                  "application/javascript"
                ]
              ],
              "status": 200,
              "status_text": ""
            }
          },
          "base_uri": "https://localhost:8080/",
          "height": 73
        },
        "outputId": "7f25a83a-e33f-4c12-8460-9593b855f025"
      },
      "outputs": [
        {
          "output_type": "display_data",
          "data": {
            "text/plain": [
              "<IPython.core.display.HTML object>"
            ],
            "text/html": [
              "\n",
              "     <input type=\"file\" id=\"files-c059e8c2-f653-4ff9-a4fa-7db3d70d5361\" name=\"files[]\" multiple disabled\n",
              "        style=\"border:none\" />\n",
              "     <output id=\"result-c059e8c2-f653-4ff9-a4fa-7db3d70d5361\">\n",
              "      Upload widget is only available when the cell has been executed in the\n",
              "      current browser session. Please rerun this cell to enable.\n",
              "      </output>\n",
              "      <script src=\"/nbextensions/google.colab/files.js\"></script> "
            ]
          },
          "metadata": {}
        },
        {
          "output_type": "stream",
          "name": "stdout",
          "text": [
            "Saving positive-epoch-309122-c99ddc2242fc.json to positive-epoch-309122-c99ddc2242fc.json\n"
          ]
        }
      ],
      "source": [
        "from google.colab import files\n",
        "\n",
        "uploaded = files.upload()\n",
        "\n",
        "PROJECT = 'positive-epoch-309122'\n",
        "os.environ['GOOGLE_APPLICATION_CREDENTIALS'] = 'positive-epoch-309122-c99ddc2242fc.json'\n",
        "\n",
        "%load_ext google.cloud.bigquery"
      ]
    },
    {
      "cell_type": "markdown",
      "metadata": {
        "id": "r7-SodJ0EH-1"
      },
      "source": [
        "### Выбор метки\n",
        "Первым шагом к решению задачи машинного обучения является ее формулирование — определение признаков и меток для модели. Поскольку задача первой модели состоит в том, чтобы на основе набора архивных данных предсказать продолжительность поездки, меткой будет служить продолжительность поездки.\n",
        "\n",
        "Но насколько верно мы определили цель задачи? Должна ли модель прогнозировать продолжительность каждой поездки или общую продолжительность всех поездок для каждого пункта проката, например, в течение часа? Если мы выберем последний вариант, тогда меткой должна быть сумма продолжительностей всех поездок за определенный час. Допустим, по опыту ведения бизнеса мы знаем, что пункт проката, выдающий 1000 велосипедов на 20 минут каждый, должен выдавать городские велосипеды, тогда как пункт проката, выдающий ежедневно 100 велосипедов на 200 минут, должен выдавать шоссейные велосипеды. То есть прогнозирование общей продолжительности не поможет принять правильное решение, а вот предсказание продолжительности каждой отдельной поездки будет весьма кстати.\n",
        "\n",
        "Другой вариант — оценка вероятности, что поездка продлится меньше 30 минут. В этом случае метка будет иметь два значения — True/False — в зависимости от длительности поездки (больше или меньше 30 минут). Это еще больше поможет бизнесу, потому что вероятность может определять относительную пропорцию городских и шоссейных велосипедов, имеющихся в каждом пункте проката.\n",
        "\n",
        "На практике довольно часто приходится выбирать между несколькими целями. Иногда можно создать метку в виде взвешенной комбинации из целей и обучить единственную модель. Иногда полезнее обучить несколько моделей, по одной для каждой цели, и использовать разные модели в разных сценариях. А иногда лучше представить конечному пользователю результаты всех моделей и дать ему возможность выбора. Все зависит от того, чем вы занимаетесь.\n",
        "\n",
        "В этом примере мы построим две модели: одну для прогнозирования продолжительности поездки, а другую для прогнозирования вероятности того, что поездка займет больше 30 минут. Затем мы дадим конечному пользователю возможность принять решение на основе двух прогнозов.\n",
        "\n",
        "### Выбор признаков в наборе данных\n",
        "Если предположить, что продолжительность поездок зависит от пункта проката, дня недели и времени суток, эти параметры могут послужить нам входными признаками. Прежде чем продолжить и создать модель с этими тремя признаками, желательно убедиться, что эти факторы действительно влияют на метку.\n",
        "\n",
        "Выбор и формирование признаков для модели машинного обучения называется конструированием признаков (feature engineering). Конструирование признаков часто является наиболее важным условием создания точных моделей машинного обучения, и этот шаг может гораздо сильнее повлиять на точность прогнозирования, чем выбор алгоритма или настройка гиперпараметров. Чтобы получить хороший набор признаков, необходимо глубоко понимать данные и предметную область. Часто на этом этапе проверяется множество гипотез; у вас есть идея относительно признака, вы проверяете ее обоснованность (влияние признака на метку), а затем добавляете этот признак в модель. Если эта идея не подтверждается, вы проверяете следующую.\n",
        "\n",
        "#### Влияние пункта проката\n",
        "Чтобы проверить зависимость продолжительности поездок от пункта проката, можно визуализировать результат следующего запроса, использовав `start_station_name` в качестве области определения и `duration` в качестве конкретных значений:"
      ]
    },
    {
      "cell_type": "code",
      "execution_count": null,
      "metadata": {
        "id": "mduDBC0sEH-8",
        "outputId": "5e433c3d-80e6-4916-f9b9-e90885d3d6c2"
      },
      "outputs": [
        {
          "name": "stderr",
          "output_type": "stream",
          "text": [
            "Query complete after 0.01s: 100%|██████████| 1/1 [00:00<00:00, 16.51query/s]  \n",
            "Downloading: 100%|██████████| 880/880 [00:01<00:00, 766.22rows/s]\n"
          ]
        }
      ],
      "source": [
        "%%bigquery duration --use_bqstorage_api --project $PROJECT\n",
        "SELECT\n",
        "  start_station_name\n",
        "  , AVG(duration) AS duration\n",
        "FROM `bigquery-public-data`.london_bicycles.cycle_hire\n",
        "GROUP BY start_station_name"
      ]
    },
    {
      "cell_type": "code",
      "execution_count": null,
      "metadata": {
        "id": "YOe0OPoWEH-_",
        "outputId": "d857aae9-4a96-46f9-88ee-313b205fa874"
      },
      "outputs": [
        {
          "data": {
            "text/html": [
              "<div>\n",
              "<style scoped>\n",
              "    .dataframe tbody tr th:only-of-type {\n",
              "        vertical-align: middle;\n",
              "    }\n",
              "\n",
              "    .dataframe tbody tr th {\n",
              "        vertical-align: top;\n",
              "    }\n",
              "\n",
              "    .dataframe thead th {\n",
              "        text-align: right;\n",
              "    }\n",
              "</style>\n",
              "<table border=\"1\" class=\"dataframe\">\n",
              "  <thead>\n",
              "    <tr style=\"text-align: right;\">\n",
              "      <th></th>\n",
              "      <th>start_station_name</th>\n",
              "      <th>duration</th>\n",
              "    </tr>\n",
              "  </thead>\n",
              "  <tbody>\n",
              "    <tr>\n",
              "      <th>0</th>\n",
              "      <td>Serpentine Car Park, Hyde Park</td>\n",
              "      <td>1920.295582</td>\n",
              "    </tr>\n",
              "    <tr>\n",
              "      <th>1</th>\n",
              "      <td>Speakers' Corner 1, Hyde Park</td>\n",
              "      <td>3710.466127</td>\n",
              "    </tr>\n",
              "    <tr>\n",
              "      <th>2</th>\n",
              "      <td>Queen Street 2, Bank</td>\n",
              "      <td>979.783577</td>\n",
              "    </tr>\n",
              "    <tr>\n",
              "      <th>3</th>\n",
              "      <td>Teviot Street, Poplar</td>\n",
              "      <td>1953.467181</td>\n",
              "    </tr>\n",
              "    <tr>\n",
              "      <th>4</th>\n",
              "      <td>Wandsworth Rd, Isley Court, Wandsworth Road</td>\n",
              "      <td>1503.623323</td>\n",
              "    </tr>\n",
              "  </tbody>\n",
              "</table>\n",
              "</div>"
            ],
            "text/plain": [
              "                            start_station_name     duration\n",
              "0               Serpentine Car Park, Hyde Park  1920.295582\n",
              "1                Speakers' Corner 1, Hyde Park  3710.466127\n",
              "2                         Queen Street 2, Bank   979.783577\n",
              "3                        Teviot Street, Poplar  1953.467181\n",
              "4  Wandsworth Rd, Isley Court, Wandsworth Road  1503.623323"
            ]
          },
          "execution_count": 11,
          "metadata": {},
          "output_type": "execute_result"
        }
      ],
      "source": [
        "duration.head()"
      ]
    },
    {
      "cell_type": "code",
      "execution_count": null,
      "metadata": {
        "id": "hgvr3U62EH_A",
        "outputId": "a5a8b096-a343-41fa-882e-3a1a950724ce"
      },
      "outputs": [
        {
          "data": {
            "image/png": "[encoded data removed]",
            "text/plain": [
              "<Figure size 576x864 with 1 Axes>"
            ]
          },
          "metadata": {
            "needs_background": "light"
          },
          "output_type": "display_data"
        }
      ],
      "source": [
        "duration.sort_values('duration', ascending=False) \\\n",
        "        .set_index('start_station_name')[:50] \\\n",
        "        .plot.barh(figsize=(8,12)).invert_yaxis();"
      ]
    },
    {
      "cell_type": "markdown",
      "metadata": {
        "id": "agdLEVvJEH_B"
      },
      "source": [
        "На основании результатов, показанных выше на графике, можно сделать вывод, что длительные поездки (дольше 3000 секунд) в основном совершаются лишь из нескольких пунктов проката, и для большинства пунктов проката длительности поездок находятся в относительно узком диапазоне. Если бы они находились в узком диапазоне для всех пунктов проката в Лондоне, тогда пункт проката, где выдан велосипед, был бы плохим прогнозным признаком. Но в нашем случае признак `start_station_name` имеет значение.\n",
        "\n",
        "Обратите внимание, что `end_station_name` не может использоваться в роли признака, потому что он неизвестен, пока велосипед не вернется на начальный пункт проката. Поскольку мы создаем модель машинного обучения для прогнозирования событий в будущем, не следует использовать столбцы, которые неизвестны на момент составления прогноза. Этот критерий причинноследственной связи накладывает ограничения на выбор признаков."
      ]
    },
    {
      "cell_type": "markdown",
      "metadata": {
        "id": "I_jwhCRnEH_B"
      },
      "source": [
        "#### День недели\n",
        "Оценка следующего кандидата в признаки выполняется аналогично: проверим значимость `dayofweek` — дня недели (точно так же можно проверить значимость `hourofday` — часа дня):"
      ]
    },
    {
      "cell_type": "code",
      "execution_count": null,
      "metadata": {
        "id": "zhrACdq3EH_C",
        "outputId": "85af3000-c9f3-4de4-d05a-0d3c0761d447"
      },
      "outputs": [
        {
          "name": "stderr",
          "output_type": "stream",
          "text": [
            "Query complete after 0.02s: 100%|██████████| 2/2 [00:00<00:00, 285.06query/s]                         \n",
            "Downloading: 100%|██████████| 7/7 [00:01<00:00,  4.58rows/s]\n"
          ]
        }
      ],
      "source": [
        "%%bigquery dow --use_bqstorage_api --project $PROJECT\n",
        "SELECT\n",
        "  EXTRACT(dayofweek FROM start_date) AS dayofweek\n",
        "  , AVG(duration) AS duration\n",
        "FROM `bigquery-public-data`.london_bicycles.cycle_hire\n",
        "GROUP BY dayofweek"
      ]
    },
    {
      "cell_type": "code",
      "execution_count": null,
      "metadata": {
        "id": "CBlI7Fa0EH_D",
        "outputId": "4aaee74a-65a0-4fc6-b25b-f968c5c672ed"
      },
      "outputs": [
        {
          "data": {
            "text/html": [
              "<div>\n",
              "<style scoped>\n",
              "    .dataframe tbody tr th:only-of-type {\n",
              "        vertical-align: middle;\n",
              "    }\n",
              "\n",
              "    .dataframe tbody tr th {\n",
              "        vertical-align: top;\n",
              "    }\n",
              "\n",
              "    .dataframe thead th {\n",
              "        text-align: right;\n",
              "    }\n",
              "</style>\n",
              "<table border=\"1\" class=\"dataframe\">\n",
              "  <thead>\n",
              "    <tr style=\"text-align: right;\">\n",
              "      <th></th>\n",
              "      <th>dayofweek</th>\n",
              "      <th>duration</th>\n",
              "    </tr>\n",
              "  </thead>\n",
              "  <tbody>\n",
              "    <tr>\n",
              "      <th>0</th>\n",
              "      <td>5</td>\n",
              "      <td>1190.617767</td>\n",
              "    </tr>\n",
              "    <tr>\n",
              "      <th>1</th>\n",
              "      <td>1</td>\n",
              "      <td>1866.445302</td>\n",
              "    </tr>\n",
              "    <tr>\n",
              "      <th>2</th>\n",
              "      <td>6</td>\n",
              "      <td>1253.651453</td>\n",
              "    </tr>\n",
              "    <tr>\n",
              "      <th>3</th>\n",
              "      <td>7</td>\n",
              "      <td>1754.172989</td>\n",
              "    </tr>\n",
              "    <tr>\n",
              "      <th>4</th>\n",
              "      <td>2</td>\n",
              "      <td>1188.622889</td>\n",
              "    </tr>\n",
              "  </tbody>\n",
              "</table>\n",
              "</div>"
            ],
            "text/plain": [
              "   dayofweek     duration\n",
              "0          5  1190.617767\n",
              "1          1  1866.445302\n",
              "2          6  1253.651453\n",
              "3          7  1754.172989\n",
              "4          2  1188.622889"
            ]
          },
          "execution_count": 27,
          "metadata": {},
          "output_type": "execute_result"
        }
      ],
      "source": [
        "dow.head()"
      ]
    },
    {
      "cell_type": "code",
      "execution_count": null,
      "metadata": {
        "id": "_hTFxDfbEH_E",
        "outputId": "1d7c7fda-6952-4eed-fe79-9877301dbc22"
      },
      "outputs": [
        {
          "name": "stderr",
          "output_type": "stream",
          "text": [
            "Query complete after 0.01s: 100%|██████████| 2/2 [00:00<00:00, 158.04query/s]                         \n",
            "Downloading: 100%|██████████| 24/24 [00:01<00:00, 15.75rows/s]\n"
          ]
        }
      ],
      "source": [
        "%%bigquery hod --use_bqstorage_api --project $PROJECT\n",
        "SELECT\n",
        "  EXTRACT(hour FROM start_date) AS hourofday\n",
        "  , AVG(duration) AS duration\n",
        "FROM `bigquery-public-data`.london_bicycles.cycle_hire\n",
        "GROUP BY hourofday"
      ]
    },
    {
      "cell_type": "code",
      "execution_count": null,
      "metadata": {
        "id": "UFBlYcFyEH_F",
        "outputId": "67b81e2e-e2d9-4062-9d79-f24d14d13531"
      },
      "outputs": [
        {
          "data": {
            "text/html": [
              "<div>\n",
              "<style scoped>\n",
              "    .dataframe tbody tr th:only-of-type {\n",
              "        vertical-align: middle;\n",
              "    }\n",
              "\n",
              "    .dataframe tbody tr th {\n",
              "        vertical-align: top;\n",
              "    }\n",
              "\n",
              "    .dataframe thead th {\n",
              "        text-align: right;\n",
              "    }\n",
              "</style>\n",
              "<table border=\"1\" class=\"dataframe\">\n",
              "  <thead>\n",
              "    <tr style=\"text-align: right;\">\n",
              "      <th></th>\n",
              "      <th>hourofday</th>\n",
              "      <th>duration</th>\n",
              "    </tr>\n",
              "  </thead>\n",
              "  <tbody>\n",
              "    <tr>\n",
              "      <th>0</th>\n",
              "      <td>11</td>\n",
              "      <td>1560.743994</td>\n",
              "    </tr>\n",
              "    <tr>\n",
              "      <th>1</th>\n",
              "      <td>9</td>\n",
              "      <td>1045.294114</td>\n",
              "    </tr>\n",
              "    <tr>\n",
              "      <th>2</th>\n",
              "      <td>17</td>\n",
              "      <td>1253.381830</td>\n",
              "    </tr>\n",
              "    <tr>\n",
              "      <th>3</th>\n",
              "      <td>3</td>\n",
              "      <td>2388.941185</td>\n",
              "    </tr>\n",
              "    <tr>\n",
              "      <th>4</th>\n",
              "      <td>6</td>\n",
              "      <td>939.913277</td>\n",
              "    </tr>\n",
              "  </tbody>\n",
              "</table>\n",
              "</div>"
            ],
            "text/plain": [
              "   hourofday     duration\n",
              "0         11  1560.743994\n",
              "1          9  1045.294114\n",
              "2         17  1253.381830\n",
              "3          3  2388.941185\n",
              "4          6   939.913277"
            ]
          },
          "execution_count": 30,
          "metadata": {},
          "output_type": "execute_result"
        }
      ],
      "source": [
        "hod.head()"
      ]
    },
    {
      "cell_type": "code",
      "execution_count": null,
      "metadata": {
        "id": "uH3IGYQzEH_F",
        "outputId": "ce921f82-8dae-406c-979a-bd6742c128c2"
      },
      "outputs": [
        {
          "data": {
            "image/png": "[encoded data removed]",
            "text/plain": [
              "<Figure size 1080x432 with 2 Axes>"
            ]
          },
          "metadata": {
            "needs_background": "light"
          },
          "output_type": "display_data"
        }
      ],
      "source": [
        "fig, ax = plt.subplots(1, 2, figsize=(15, 6))\n",
        "dow.groupby('dayofweek')['duration'].mean().plot.bar(ax=ax[0])\n",
        "hod.groupby('hourofday')['duration'].mean().plot.bar(ax=ax[1]);"
      ]
    },
    {
      "cell_type": "markdown",
      "metadata": {
        "id": "LWbote0UEH_G"
      },
      "source": [
        "Как показано диаграммах, продолжительность поездок зависит от дня недели и от времени суток. Поездки, совершаемые в выходные дни (дни 1 и 7), длятся дольше, чем в будние дни. Аналогично дольше длятся поездки, совершаемые рано утром и в первой половине дня. То есть обе переменные — `dayofweek` и `hourofday` — являются хорошими признаками."
      ]
    },
    {
      "cell_type": "markdown",
      "metadata": {
        "id": "gp0JgtnCEH_G"
      },
      "source": [
        "### Количество велосипедов\n",
        "Еще один потенциальный признак — количество велосипедов на пункте проката. Можно предположить, что люди совершают более длительные поездки, если на пункте проката, куда они обратились, доступно небольшое число велосипедов. Проверить это можно с помощью следующего запроса:"
      ]
    },
    {
      "cell_type": "code",
      "execution_count": null,
      "metadata": {
        "id": "iokBeRnoEH_H",
        "outputId": "ecc0a12a-1143-49ce-9d64-069179802052"
      },
      "outputs": [
        {
          "name": "stderr",
          "output_type": "stream",
          "text": [
            "Query complete after 0.02s: 100%|██████████| 3/3 [00:00<00:00, 65.86query/s]                          \n",
            "Downloading: 100%|██████████| 45/45 [00:01<00:00, 34.76rows/s]\n"
          ]
        }
      ],
      "source": [
        "%%bigquery bikes_count --use_bqstorage_api --project $PROJECT\n",
        "SELECT\n",
        "  bikes_count\n",
        "  , AVG(duration) AS duration\n",
        "FROM `bigquery-public-data`.london_bicycles.cycle_hire\n",
        "JOIN `bigquery-public-data`.london_bicycles.cycle_stations\n",
        "ON cycle_hire.start_station_name = cycle_stations.name\n",
        "GROUP BY bikes_count"
      ]
    },
    {
      "cell_type": "code",
      "execution_count": null,
      "metadata": {
        "id": "AxZRbnJkEH_H",
        "outputId": "26dd640a-236f-4286-f1ae-5a13a2264b75"
      },
      "outputs": [
        {
          "data": {
            "text/html": [
              "<div>\n",
              "<style scoped>\n",
              "    .dataframe tbody tr th:only-of-type {\n",
              "        vertical-align: middle;\n",
              "    }\n",
              "\n",
              "    .dataframe tbody tr th {\n",
              "        vertical-align: top;\n",
              "    }\n",
              "\n",
              "    .dataframe thead th {\n",
              "        text-align: right;\n",
              "    }\n",
              "</style>\n",
              "<table border=\"1\" class=\"dataframe\">\n",
              "  <thead>\n",
              "    <tr style=\"text-align: right;\">\n",
              "      <th></th>\n",
              "      <th>bikes_count</th>\n",
              "      <th>duration</th>\n",
              "    </tr>\n",
              "  </thead>\n",
              "  <tbody>\n",
              "    <tr>\n",
              "      <th>0</th>\n",
              "      <td>3</td>\n",
              "      <td>1396.412638</td>\n",
              "    </tr>\n",
              "    <tr>\n",
              "      <th>1</th>\n",
              "      <td>33</td>\n",
              "      <td>1374.301577</td>\n",
              "    </tr>\n",
              "    <tr>\n",
              "      <th>2</th>\n",
              "      <td>29</td>\n",
              "      <td>1262.889660</td>\n",
              "    </tr>\n",
              "    <tr>\n",
              "      <th>3</th>\n",
              "      <td>19</td>\n",
              "      <td>1360.931928</td>\n",
              "    </tr>\n",
              "    <tr>\n",
              "      <th>4</th>\n",
              "      <td>36</td>\n",
              "      <td>1706.174838</td>\n",
              "    </tr>\n",
              "  </tbody>\n",
              "</table>\n",
              "</div>"
            ],
            "text/plain": [
              "   bikes_count     duration\n",
              "0            3  1396.412638\n",
              "1           33  1374.301577\n",
              "2           29  1262.889660\n",
              "3           19  1360.931928\n",
              "4           36  1706.174838"
            ]
          },
          "execution_count": 42,
          "metadata": {},
          "output_type": "execute_result"
        }
      ],
      "source": [
        "bikes_count.head()"
      ]
    },
    {
      "cell_type": "code",
      "execution_count": null,
      "metadata": {
        "id": "HxUGlTgfEH_I",
        "outputId": "774f571d-bd7b-4e0b-9a1b-d9cc5f6f0ed0"
      },
      "outputs": [
        {
          "data": {
            "image/png": "[encoded data removed]",
            "text/plain": [
              "<Figure size 720x432 with 1 Axes>"
            ]
          },
          "metadata": {
            "needs_background": "light"
          },
          "output_type": "display_data"
        }
      ],
      "source": [
        "fig, ax = plt.subplots(figsize=(10, 6))\n",
        "sns.scatterplot(data=bikes_count, x='bikes_count', y='duration');"
      ]
    },
    {
      "cell_type": "markdown",
      "metadata": {
        "id": "Fgj3OVdiEH_I"
      },
      "source": [
        "Как видим, между продолжительностью поездки и количеством велосипедов на пункте проката нет очевидной связи (в отличие от времени суток). Это подсказывает нам, что количество велосипедов не является хорошим признаком. Подтвердим это количественно, вычислив коэффициент корреляции Пирсона:"
      ]
    },
    {
      "cell_type": "code",
      "execution_count": null,
      "metadata": {
        "id": "DPAx_92UEH_I",
        "outputId": "e76797e4-65eb-4c72-8a28-09e180c07849"
      },
      "outputs": [
        {
          "data": {
            "text/html": [
              "<div>\n",
              "<style scoped>\n",
              "    .dataframe tbody tr th:only-of-type {\n",
              "        vertical-align: middle;\n",
              "    }\n",
              "\n",
              "    .dataframe tbody tr th {\n",
              "        vertical-align: top;\n",
              "    }\n",
              "\n",
              "    .dataframe thead th {\n",
              "        text-align: right;\n",
              "    }\n",
              "</style>\n",
              "<table border=\"1\" class=\"dataframe\">\n",
              "  <thead>\n",
              "    <tr style=\"text-align: right;\">\n",
              "      <th></th>\n",
              "      <th>corr</th>\n",
              "    </tr>\n",
              "  </thead>\n",
              "  <tbody>\n",
              "    <tr>\n",
              "      <th>0</th>\n",
              "      <td>0.004163</td>\n",
              "    </tr>\n",
              "  </tbody>\n",
              "</table>\n",
              "</div>"
            ],
            "text/plain": [
              "       corr\n",
              "0  0.004163"
            ]
          },
          "execution_count": 55,
          "metadata": {},
          "output_type": "execute_result"
        }
      ],
      "source": [
        "client = bigquery.Client()         \n",
        "\n",
        "query = \"\"\"\n",
        "SELECT\n",
        "  CORR(bikes_count, duration) AS corr\n",
        "FROM `bigquery-public-data`.london_bicycles.cycle_hire\n",
        "JOIN `bigquery-public-data`.london_bicycles.cycle_stations\n",
        "ON cycle_hire.start_station_name = cycle_stations.name\n",
        "\"\"\"\n",
        "\n",
        "query_job = client.query(query)\n",
        "query_job.result().to_dataframe()"
      ]
    },
    {
      "cell_type": "markdown",
      "metadata": {
        "id": "96bveZLgEH_J"
      },
      "source": [
        "Результат показывает, что переменные `bikes_count` и `duration` практически независимы, потому что значение 0.0 коэффициента Пирсона соответствует полному отсутствию, а абсолютное значение 1.0 — абсолютной линейной зависимости.\n",
        "\n",
        "Коэффициент корреляции Пирсона не является идеальным показателем полезности того или иного признака, потому что учитывает только линейную зависимость. Иногда признаки могут иметь нелинейную зависимость от метки. Но в любом случае коэффициент Пирсона является хорошей первичной оценкой. Специалисты в области машинного обучения часто используют более сложные статистические проверки, такие как взаимная информация, которая вычисляет случайность изменения признака с изменением метки."
      ]
    },
    {
      "cell_type": "markdown",
      "metadata": {
        "id": "a8LvXUiDEH_J"
      },
      "source": [
        "### Создание обучающего набора данных\n",
        "\n",
        "На основании результатов исследований набора данных `london_bicycles` и выявленных взаимосвязей между различными столбцами со столбцом меток можно подготовить обучающий набор данных, включающий выбранные признаки и метки:"
      ]
    },
    {
      "cell_type": "code",
      "execution_count": null,
      "metadata": {
        "id": "5NV4gFJ8EH_J"
      },
      "outputs": [],
      "source": [
        "%%bigquery df --use_bqstorage_api --project $PROJECT\n",
        "SELECT\n",
        "  duration\n",
        "  , start_station_name\n",
        "  , CAST(EXTRACT(dayofweek FROM start_date) AS STRING) as dayofweek\n",
        "  , CAST(EXTRACT(hour FROM start_date) AS STRING) AS hourofday\n",
        "FROM `bigquery-public-data`.london_bicycles.cycle_hire"
      ]
    },
    {
      "cell_type": "markdown",
      "metadata": {
        "id": "jGsrljhiEH_K"
      },
      "source": [
        "Столбцы признаков должны быть числовыми (INT64, FLOAT64 и т. д.) или категориальными (STRING). Если признак выражается числом, но должен рассматриваться как категориальный, его следует привести к типу STRING — это объясняет преобразование в строки столбцов `dayofweek` и `hourofday` в этом запросе, которые хранят целые числа (в диапазонах от 1 до 7 и от 0 до 23 соответственно).\n",
        "\n",
        ">Можно рассматривать эти переменные как значения из непрерывного диапазона, но тогда мы столкнулись бы с необходимостью бороться с тем фактом, что dayofweek = 7 ближе к dayofweek = 1, чем к dayofweek = 5. Для справки, нам понадобилось бы: (a) сохранить dayofweek дважды, один раз в текущей форме, а другой как `MOD (dayofweek + 3, 7)` и (б) заменить dayofweek на `sin(2π * dayofweek / 7.0)`. Эти сложности трудно объяснить заинтересованным сторонам. Если это не проблема и вы решаете похожую задачу, поэкспериментируйте со всеми тремя представлениями, чтобы определить, какое из них позволяет получить более точные результаты."
      ]
    },
    {
      "cell_type": "markdown",
      "source": [
        "### Обучение и оценка модели\n",
        "\n",
        "Чтобы обучить модель и сохранить ее в наборе данных data, нужно вызвать инструкцию `CREATE MODEL`, которая работает аналогично `CREATE TABLE`:\n",
        "```sql\n",
        "CREATE OR REPLACE MODEL data.bicycle_model\n",
        "OPTIONS(input_label_cols=['duration'], model_type='linear_reg') AS\n",
        "SELECT\n",
        "  duration\n",
        "  , start_station_name\n",
        "  , CAST(EXTRACT(dayofweek FROM start_date) AS STRING) as dayofweek\n",
        "  , CAST(EXTRACT(hour FROM start_date) AS STRING) AS hourofday\n",
        "FROM `bigquery-public-data`.london_bicycles.cycle_hire\n",
        "```\n",
        "Обратите внимание, что столбец меток и тип модели определяются в `OPTIONS`. Поскольку метка является числом, эта задача относится к разряду задач регрессии. Вот почему мы выбрали тип модели `linear_reg`. Оператор SELECT в запросе выше подготавливает обучающий набор данных и извлекает столбцы меток и элементов.\n",
        "\n",
        "#### Оценка модели\n",
        "Этот запрос был выполнен за 2.5 минуты и произвел единственную итерацию обучения. Средняя абсолютная ошибка (доступная на вкладке оценки) составляет 1026 секунд, или около 17 минут. То есть модель способна прогнозировать продолжительность поездок со средней ошибкой около 17 минут.\n",
        "\n",
        "Результаты оценки также можно получить, выполнив следующий SQL-запрос:\n",
        "\n",
        "```sql\n",
        "SELECT * FROM ML.EVALUATE(MODEL data.bicycle_model)\n",
        "```\n",
        "\n",
        "Рекомендуется выбирать простые модели и больше времени тратить на обдумывание и выбор комбинаций признаков, потому что отдача от нового/улучшенного набора входных признаков значительно превышает отдачу от использования более совершенной модели. Только достигнув максимальных показателей в ходе экспериментов с признаками, можно попробовать более сложные модели.\n",
        "\n",
        "### Комбинирование дней недели\n",
        "Выше мы уже говорили, что есть несколько способов представления признаков. Например, исследуя взаимосвязь между днем недели и продолжительностью поездки, мы обнаружили, что в выходные дни поездки длятся дольше, чем в будни. Зная это, в роли признака вместо исходного значения `dayofweek` можно использовать категории, объединяющие несколько значений `dayofweek`:\n",
        "\n",
        "```sql\n",
        "CREATE OR REPLACE MODEL data.bicycle_model_weekday\n",
        "OPTIONS(input_label_cols=['duration'], model_type='linear_reg') AS\n",
        "SELECT\n",
        "  duration\n",
        "  , start_station_name\n",
        "  , IF(EXTRACT(dayofweek FROM start_date) BETWEEN 2 and 6,\n",
        "        'weekday', 'weekend') as dayofweek\n",
        "  , CAST(EXTRACT(hour FROM start_date) AS STRING) AS hourofday\n",
        "FROM `bigquery-public-data`.london_bicycles.cycle_hire\n",
        "```\n",
        "\n",
        "Эта модель имеет среднюю абсолютную ошибку 967 секунд, то есть меньше 1026 секунд в предыдущей модели. Это повод перейти к модели weekend/weekday.\n",
        "\n",
        "### Группировка по времени суток\n",
        "Опять же, исходя из установленной зависимости между временем суток и про- должительностью поездок, можно поэкспериментировать с делением времени на четыре периода: (–inf, 5), [5,10), [10,17) и [17, inf):\n",
        "\n",
        "```sql\n",
        "CREATE OR REPLACE MODEL data.bicycle_model_bucketized\n",
        "OPTIONS(input_label_cols=['duration'], model_type='linear_reg') AS\n",
        "SELECT\n",
        "  duration\n",
        "  , start_station_name\n",
        "  , IF(EXTRACT(dayofweek FROM start_date) BETWEEN 2 and 6, 'weekday', 'weekend') as dayofweek\n",
        "  , ML.BUCKETIZE(EXTRACT(hour FROM start_date), [5, 10, 17]) AS hourofday\n",
        "FROM `bigquery-public-data`.london_bicycles.cycle_hire\n",
        "```\n",
        "\n",
        "`ML.BUCKETIZE` может служить примером функций предварительной обработки, поддерживаемых в BigQuery, — мы передаем ей число для группировки и устанавливаем границы групп, где предполагается, что первая группа ограничена слева значением –∞, а последняя ограничена справа значением +∞. Эта модель дает среднюю абсолютную ошибку в 901 секунду, что меньше, чем 967 секунд в модели weekend/weekday. Поэтому используем модель с группировкой по времени суток.\n",
        "\n",
        "### Получение прогнозов с помощью модели\n",
        "Обученную модель можно использовать для прогнозирования, передавая ей наборы записей. Например, вот как можно получить прогнозируемую продолжительность поездок от пункта проката в Гайд-парке в 17:00 во вторник.\n",
        "\n",
        "#### Необходимость преобразований с помощью TRANSFORM\n",
        "В предыдущем запросе мы должны были передать в поле `dayofweek` значение 'weekday', а не '3', потому что при обучении модель получала в `dayofweek` значения 'weekday' и 'weekend'. Также не следовало передавать непосредственное значение '17' в поле `hourofday` — мы должны передать имя группы, представляющей 17 часов. Проще говоря, чтобы получить правильные значения, в запросе прогноза необходимо выполнить те же преобразования, что и в обучающем коде.\n",
        "Было бы неплохо, если бы BigQuery могла запоминать, какие преобразования применялись на этапе обучения, и автоматически применяла их на этапе предсказания. Самое замечательное, что это возможно, — именно это делает предложение `TRANSFORM`!\n",
        "Более того, извлечение времени суток и дня недели можно перенести в предложение `TRANSFORM`, чтобы клиентский код передавал только отметку времени, соответствующую началу поездки:\n",
        "\n",
        "```sql\n",
        "CREATE OR REPLACE MODEL data.bicycle_model_bucketized\n",
        "TRANSFORM(* EXCEPT(start_date)\n",
        "         , IF(EXTRACT(dayofweek FROM start_date) BETWEEN 2 and 6, 'weekday', 'weekend') as dayofweek\n",
        "         , ML.BUCKETIZE(EXTRACT(HOUR FROM start_date), [5, 10, 17]) AS hourofday\n",
        ")\n",
        "OPTIONS(input_label_cols=['duration'], model_type='linear_reg') AS\n",
        "SELECT\n",
        "  duration\n",
        "  , start_station_name\n",
        "  , start_date\n",
        "FROM `bigquery-public-data`.london_bicycles.cycle_hire\n",
        "```\n",
        "\n",
        "Используйте предложение `TRANSFORM` и сформулируйте задачу машинного обучения так, чтобы любому, кому потребуется прогноз, достаточно было передать только исходные данные.\n",
        "\n",
        "Если в запросе есть предложение `TRANSFORM`, модель обучается на его выходных данных. В таком случае предложению `TRANSFORM` передаются все признаки и метки, возвращаемые исходным запросом `SELECT`, кроме `start_date`, а затем добавляется пара признаков (`dayofweek` и `hourofday`), извлеченных из `start_date`.\n",
        "\n",
        "Для прогнозирования продолжительности поездки получившаяся модель требует передать ей только `start_station_name` и `start_date`. Преобразования сохраняются и применяются к переданным данным для получения входных признаков.\n",
        "\n",
        "После добавления предложения `TRANSFORM` запрос на получение прогноза приобретает следующий вид:\n",
        "\n",
        "```sql\n",
        "SELECT * FROM ML.PREDICT(MODEL data.bicycle_model_bucketized,\n",
        "  (SELECT\n",
        "    'Park Lane , Hyde Park' AS start_station_name\n",
        "    , CURRENT_TIMESTAMP() AS start_date)\n",
        ")\n",
        "```\n",
        "\n",
        "### Получение пакетных прогнозов\n",
        "Также есть возможность создать таблицу прогнозов для каждого часа и каждого пункта проката начиная с 3 часов утра следующего дня, если использовать функцию генерирования массива:\n",
        "\n",
        "```sql\n",
        "DECLARE tomorrow_3am TIMESTAMP;\n",
        "SET tomorrow_3am = TIMESTAMP_ADD(\n",
        "  TIMESTAMP(DATE_ADD(CURRENT_DATE(), INTERVAL 1 DAY)),\n",
        "  INTERVAL 3 HOUR);\n",
        "WITH generated AS (\n",
        "  SELECT\n",
        "    name AS start_station_name\n",
        "    , GENERATE_TIMESTAMP_ARRAY(\n",
        "      tomorrow_3am,\n",
        "      TIMESTAMP_ADD(tomorrow_3am, INTERVAL 24 HOUR),\n",
        "      INTERVAL 1 HOUR) AS dates\n",
        "  FROM\n",
        "    `bigquery-public-data`.london_bicycles.cycle_stations\n",
        "),\n",
        "features AS (\n",
        "  SELECT\n",
        "    start_station_name\n",
        "    , start_date\n",
        "FROM\n",
        "    generated\n",
        "    , UNNEST(dates) AS start_date\n",
        ")\n",
        "SELECT * FROM ML.PREDICT(MODEL data.bicycle_model_bucketized,\n",
        "  (SELECT * FROM features)\n",
        ")\n",
        "```\n",
        "Этот запрос вернет около 20 000 прогнозов."
      ],
      "metadata": {
        "id": "9GaWi1pD8TuQ"
      }
    },
    {
      "cell_type": "markdown",
      "source": [
        "Использование человеческих знаний и вспомогательных данных\n",
        "Помимо использования моделей с разными архитектурами и настройки их параметров, можно подумать о добавлении новых входных признаков, включая вспомогательные данные и человеческие знания.\n",
        "\n",
        "Например, в предыдущей модели мы использовали функцию `ML.BUCKETIZE`, чтобы разбить непрерывную переменную (час, извлеченный из отметки времени) на четыре диапазона. Еще одна чрезвычайно полезная функция — `ML.FEATURE_CROSS` — позволяет объединить отдельные категориальные признаки в условие по AND (подобные взаимозависимости между признаками с трудом определяются моделями машинного обучения). Как подсказывает интуиция, сочетание дня недели и утренних часов в нашей задаче является хорошим прогнозирующим признаком продолжительности поездок на велосипедах, гораздо более значимым, чем день недели или утренние часы сами по себе. Возможно, есть смысл определить пересечение этих двух признаков вместо того, чтобы рассматривать день недели и время по отдельности:\n",
        "\n",
        "```sql\n",
        "ML.FEATURE_CROSS(STRUCT(\n",
        "  IF(EXTRACT(dayofweek FROM start_date) BETWEEN 2 and 6,\n",
        "        'weekday', 'weekend') as dayofweek,\n",
        "  ML.BUCKETIZE(EXTRACT(HOUR FROM start_date),\n",
        "        [5, 10, 17]) AS hr\n",
        ")) AS dayhr\n",
        "```\n",
        "\n",
        "До сих пор в качестве входных данных для моделей мы использовали `start_station_name`. При этом пункты проката считаются независимыми друг от друга. А что, если добавить в модель вспомогательный признак с информацией о местонахождении пунктов проката?\n",
        "Следующий обучающий запрос объединяет эти две идеи:\n",
        "\n",
        "```sql\n",
        "CREATE OR REPLACE MODEL data.bicycle_model_fc_geo\n",
        " TRANSFORM(duration\n",
        "      , ML.FEATURE_CROSS(STRUCT(\n",
        "          IF(EXTRACT(dayofweek FROM start_date) BETWEEN 2 and 6,\n",
        "             'weekday', 'weekend') as dayofweek,\n",
        "          ML.BUCKETIZE(EXTRACT(HOUR FROM start_date),\n",
        "             [5, 10, 17]) AS hr\n",
        "        )) AS dayhr\n",
        "      , ST_GeoHash(ST_GeogPoint(latitude, longitude), 4) AS start_station_loc4\n",
        "      , ST_GeoHash(ST_GeogPoint(latitude, longitude), 6) AS start_station_loc6\n",
        "      , ST_GeoHash(ST_GeogPoint(latitude, longitude), 8) AS start_station_loc8\n",
        ")\n",
        "OPTIONS(input_label_cols=['duration'], model_type='linear_reg')\n",
        "AS\n",
        "SELECT\n",
        "  duration\n",
        "  , latitude\n",
        "  , longitude\n",
        "  , start_date\n",
        "FROM `bigquery-public-data`.london_bicycles.cycle_hire\n",
        "JOIN `bigquery-public-data`.london_bicycles.cycle_stations\n",
        "ON cycle_hire.start_station_id = cycle_stations.id\n",
        "```\n",
        "\n",
        "Эта модель имеет среднюю абсолютную ошибку, равную 898 секундам, то есть показывает более высокую точность по сравнению с 901 секундой, которую мы наблюдали выше. Однако улучшение получилось весьма незначительным.\n"
      ],
      "metadata": {
        "id": "hN-k-Yywhp2W"
      }
    },
    {
      "cell_type": "code",
      "source": [
        "#pd.cut(df['start_date'].dt.hour, bins=[-np.inf, 5, 10, 17, np.inf],\n",
        "#                                 labels=['bin_1', 'bin_2', 'bin_3', 'bin_4'],\n",
        "#                                 right=False)"
      ],
      "metadata": {
        "id": "XzdRfU6pzesB"
      },
      "execution_count": null,
      "outputs": []
    },
    {
      "cell_type": "code",
      "source": [
        "df.head()"
      ],
      "metadata": {
        "colab": {
          "base_uri": "https://localhost:8080/",
          "height": 206
        },
        "id": "vVYy4WNVzbyR",
        "outputId": "4424536e-4271-45c9-b1e1-ff0638dd8555"
      },
      "execution_count": null,
      "outputs": [
        {
          "output_type": "execute_result",
          "data": {
            "text/plain": [
              "   duration                  start_station_name                start_date  \\\n",
              "0      7200        One Tower Bridge, Bermondsey 2017-05-28 10:18:00+00:00   \n",
              "1      2940    Borough High Street, The Borough 2015-12-31 13:40:00+00:00   \n",
              "2      2460  Warwick Avenue Station, Maida Vale 2015-08-01 15:01:00+00:00   \n",
              "3      2940      Neville Gill Close, Wandsworth 2016-08-29 14:30:00+00:00   \n",
              "4      2160            Clarence Walk, Stockwell 2016-03-12 16:00:00+00:00   \n",
              "\n",
              "  dayofweek hourofday  \n",
              "0   weekend     bin_3  \n",
              "1   weekday     bin_3  \n",
              "2   weekend     bin_3  \n",
              "3   weekday     bin_3  \n",
              "4   weekend     bin_3  "
            ],
            "text/html": [
              "\n",
              "  <div id=\"df-f46b5914-f5f3-449e-b787-d3609f265afe\">\n",
              "    <div class=\"colab-df-container\">\n",
              "      <div>\n",
              "<style scoped>\n",
              "    .dataframe tbody tr th:only-of-type {\n",
              "        vertical-align: middle;\n",
              "    }\n",
              "\n",
              "    .dataframe tbody tr th {\n",
              "        vertical-align: top;\n",
              "    }\n",
              "\n",
              "    .dataframe thead th {\n",
              "        text-align: right;\n",
              "    }\n",
              "</style>\n",
              "<table border=\"1\" class=\"dataframe\">\n",
              "  <thead>\n",
              "    <tr style=\"text-align: right;\">\n",
              "      <th></th>\n",
              "      <th>duration</th>\n",
              "      <th>start_station_name</th>\n",
              "      <th>start_date</th>\n",
              "      <th>dayofweek</th>\n",
              "      <th>hourofday</th>\n",
              "    </tr>\n",
              "  </thead>\n",
              "  <tbody>\n",
              "    <tr>\n",
              "      <th>0</th>\n",
              "      <td>7200</td>\n",
              "      <td>One Tower Bridge, Bermondsey</td>\n",
              "      <td>2017-05-28 10:18:00+00:00</td>\n",
              "      <td>weekend</td>\n",
              "      <td>bin_3</td>\n",
              "    </tr>\n",
              "    <tr>\n",
              "      <th>1</th>\n",
              "      <td>2940</td>\n",
              "      <td>Borough High Street, The Borough</td>\n",
              "      <td>2015-12-31 13:40:00+00:00</td>\n",
              "      <td>weekday</td>\n",
              "      <td>bin_3</td>\n",
              "    </tr>\n",
              "    <tr>\n",
              "      <th>2</th>\n",
              "      <td>2460</td>\n",
              "      <td>Warwick Avenue Station, Maida Vale</td>\n",
              "      <td>2015-08-01 15:01:00+00:00</td>\n",
              "      <td>weekend</td>\n",
              "      <td>bin_3</td>\n",
              "    </tr>\n",
              "    <tr>\n",
              "      <th>3</th>\n",
              "      <td>2940</td>\n",
              "      <td>Neville Gill Close, Wandsworth</td>\n",
              "      <td>2016-08-29 14:30:00+00:00</td>\n",
              "      <td>weekday</td>\n",
              "      <td>bin_3</td>\n",
              "    </tr>\n",
              "    <tr>\n",
              "      <th>4</th>\n",
              "      <td>2160</td>\n",
              "      <td>Clarence Walk, Stockwell</td>\n",
              "      <td>2016-03-12 16:00:00+00:00</td>\n",
              "      <td>weekend</td>\n",
              "      <td>bin_3</td>\n",
              "    </tr>\n",
              "  </tbody>\n",
              "</table>\n",
              "</div>\n",
              "      <button class=\"colab-df-convert\" onclick=\"convertToInteractive('df-f46b5914-f5f3-449e-b787-d3609f265afe')\"\n",
              "              title=\"Convert this dataframe to an interactive table.\"\n",
              "              style=\"display:none;\">\n",
              "        \n",
              "  <svg xmlns=\"http://www.w3.org/2000/svg\" height=\"24px\"viewBox=\"0 0 24 24\"\n",
              "       width=\"24px\">\n",
              "    <path d=\"M0 0h24v24H0V0z\" fill=\"none\"/>\n",
              "    <path d=\"M18.56 5.44l.94 2.06.94-2.06 2.06-.94-2.06-.94-.94-2.06-.94 2.06-2.06.94zm-11 1L8.5 8.5l.94-2.06 2.06-.94-2.06-.94L8.5 2.5l-.94 2.06-2.06.94zm10 10l.94 2.06.94-2.06 2.06-.94-2.06-.94-.94-2.06-.94 2.06-2.06.94z\"/><path d=\"M17.41 7.96l-1.37-1.37c-.4-.4-.92-.59-1.43-.59-.52 0-1.04.2-1.43.59L10.3 9.45l-7.72 7.72c-.78.78-.78 2.05 0 2.83L4 21.41c.39.39.9.59 1.41.59.51 0 1.02-.2 1.41-.59l7.78-7.78 2.81-2.81c.8-.78.8-2.07 0-2.86zM5.41 20L4 18.59l7.72-7.72 1.47 1.35L5.41 20z\"/>\n",
              "  </svg>\n",
              "      </button>\n",
              "      \n",
              "  <style>\n",
              "    .colab-df-container {\n",
              "      display:flex;\n",
              "      flex-wrap:wrap;\n",
              "      gap: 12px;\n",
              "    }\n",
              "\n",
              "    .colab-df-convert {\n",
              "      background-color: #E8F0FE;\n",
              "      border: none;\n",
              "      border-radius: 50%;\n",
              "      cursor: pointer;\n",
              "      display: none;\n",
              "      fill: #1967D2;\n",
              "      height: 32px;\n",
              "      padding: 0 0 0 0;\n",
              "      width: 32px;\n",
              "    }\n",
              "\n",
              "    .colab-df-convert:hover {\n",
              "      background-color: #E2EBFA;\n",
              "      box-shadow: 0px 1px 2px rgba(60, 64, 67, 0.3), 0px 1px 3px 1px rgba(60, 64, 67, 0.15);\n",
              "      fill: #174EA6;\n",
              "    }\n",
              "\n",
              "    [theme=dark] .colab-df-convert {\n",
              "      background-color: #3B4455;\n",
              "      fill: #D2E3FC;\n",
              "    }\n",
              "\n",
              "    [theme=dark] .colab-df-convert:hover {\n",
              "      background-color: #434B5C;\n",
              "      box-shadow: 0px 1px 3px 1px rgba(0, 0, 0, 0.15);\n",
              "      filter: drop-shadow(0px 1px 2px rgba(0, 0, 0, 0.3));\n",
              "      fill: #FFFFFF;\n",
              "    }\n",
              "  </style>\n",
              "\n",
              "      <script>\n",
              "        const buttonEl =\n",
              "          document.querySelector('#df-f46b5914-f5f3-449e-b787-d3609f265afe button.colab-df-convert');\n",
              "        buttonEl.style.display =\n",
              "          google.colab.kernel.accessAllowed ? 'block' : 'none';\n",
              "\n",
              "        async function convertToInteractive(key) {\n",
              "          const element = document.querySelector('#df-f46b5914-f5f3-449e-b787-d3609f265afe');\n",
              "          const dataTable =\n",
              "            await google.colab.kernel.invokeFunction('convertToInteractive',\n",
              "                                                     [key], {});\n",
              "          if (!dataTable) return;\n",
              "\n",
              "          const docLinkHtml = 'Like what you see? Visit the ' +\n",
              "            '<a target=\"_blank\" href=https://colab.research.google.com/notebooks/data_table.ipynb>data table notebook</a>'\n",
              "            + ' to learn more about interactive tables.';\n",
              "          element.innerHTML = '';\n",
              "          dataTable['output_type'] = 'display_data';\n",
              "          await google.colab.output.renderOutput(dataTable, element);\n",
              "          const docLink = document.createElement('div');\n",
              "          docLink.innerHTML = docLinkHtml;\n",
              "          element.appendChild(docLink);\n",
              "        }\n",
              "      </script>\n",
              "    </div>\n",
              "  </div>\n",
              "  "
            ]
          },
          "metadata": {},
          "execution_count": 11
        }
      ]
    },
    {
      "cell_type": "code",
      "execution_count": null,
      "metadata": {
        "colab": {
          "base_uri": "https://localhost:8080/"
        },
        "id": "3TPb1NTEEH_L",
        "outputId": "d9293455-8898-451d-f9ed-29308e1269d4"
      },
      "outputs": [
        {
          "output_type": "stream",
          "name": "stdout",
          "text": [
            "<class 'pandas.core.frame.DataFrame'>\n",
            "RangeIndex: 24369201 entries, 0 to 24369200\n",
            "Data columns (total 4 columns):\n",
            " #   Column              Dtype \n",
            "---  ------              ----- \n",
            " 0   duration            int64 \n",
            " 1   start_station_name  object\n",
            " 2   dayofweek           object\n",
            " 3   hourofday           object\n",
            "dtypes: int64(1), object(3)\n",
            "memory usage: 743.7+ MB\n"
          ]
        }
      ],
      "source": [
        "df.info()"
      ]
    },
    {
      "cell_type": "code",
      "execution_count": null,
      "metadata": {
        "colab": {
          "base_uri": "https://localhost:8080/",
          "height": 206
        },
        "id": "30pstOVPEH_L",
        "outputId": "2be68841-4e83-4012-e7c6-16abcf0e2e80"
      },
      "outputs": [
        {
          "output_type": "execute_result",
          "data": {
            "text/plain": [
              "   duration                start_station_name dayofweek hourofday\n",
              "0      4560          Hereford Road, Bayswater   weekend     bin_4\n",
              "1      8700     Speakers' Corner 2, Hyde Park   weekend     bin_2\n",
              "2      2220           Royal Avenue 2, Chelsea   weekend     bin_3\n",
              "3      6360       Trebovir Road, Earl's Court   weekday     bin_1\n",
              "4      5220  Walworth Road, Elephant & Castle   weekday     bin_4"
            ],
            "text/html": [
              "\n",
              "  <div id=\"df-752428eb-f18a-4e0a-9e54-52d65ade3e28\">\n",
              "    <div class=\"colab-df-container\">\n",
              "      <div>\n",
              "<style scoped>\n",
              "    .dataframe tbody tr th:only-of-type {\n",
              "        vertical-align: middle;\n",
              "    }\n",
              "\n",
              "    .dataframe tbody tr th {\n",
              "        vertical-align: top;\n",
              "    }\n",
              "\n",
              "    .dataframe thead th {\n",
              "        text-align: right;\n",
              "    }\n",
              "</style>\n",
              "<table border=\"1\" class=\"dataframe\">\n",
              "  <thead>\n",
              "    <tr style=\"text-align: right;\">\n",
              "      <th></th>\n",
              "      <th>duration</th>\n",
              "      <th>start_station_name</th>\n",
              "      <th>dayofweek</th>\n",
              "      <th>hourofday</th>\n",
              "    </tr>\n",
              "  </thead>\n",
              "  <tbody>\n",
              "    <tr>\n",
              "      <th>0</th>\n",
              "      <td>4560</td>\n",
              "      <td>Hereford Road, Bayswater</td>\n",
              "      <td>weekend</td>\n",
              "      <td>bin_4</td>\n",
              "    </tr>\n",
              "    <tr>\n",
              "      <th>1</th>\n",
              "      <td>8700</td>\n",
              "      <td>Speakers' Corner 2, Hyde Park</td>\n",
              "      <td>weekend</td>\n",
              "      <td>bin_2</td>\n",
              "    </tr>\n",
              "    <tr>\n",
              "      <th>2</th>\n",
              "      <td>2220</td>\n",
              "      <td>Royal Avenue 2, Chelsea</td>\n",
              "      <td>weekend</td>\n",
              "      <td>bin_3</td>\n",
              "    </tr>\n",
              "    <tr>\n",
              "      <th>3</th>\n",
              "      <td>6360</td>\n",
              "      <td>Trebovir Road, Earl's Court</td>\n",
              "      <td>weekday</td>\n",
              "      <td>bin_1</td>\n",
              "    </tr>\n",
              "    <tr>\n",
              "      <th>4</th>\n",
              "      <td>5220</td>\n",
              "      <td>Walworth Road, Elephant &amp; Castle</td>\n",
              "      <td>weekday</td>\n",
              "      <td>bin_4</td>\n",
              "    </tr>\n",
              "  </tbody>\n",
              "</table>\n",
              "</div>\n",
              "      <button class=\"colab-df-convert\" onclick=\"convertToInteractive('df-752428eb-f18a-4e0a-9e54-52d65ade3e28')\"\n",
              "              title=\"Convert this dataframe to an interactive table.\"\n",
              "              style=\"display:none;\">\n",
              "        \n",
              "  <svg xmlns=\"http://www.w3.org/2000/svg\" height=\"24px\"viewBox=\"0 0 24 24\"\n",
              "       width=\"24px\">\n",
              "    <path d=\"M0 0h24v24H0V0z\" fill=\"none\"/>\n",
              "    <path d=\"M18.56 5.44l.94 2.06.94-2.06 2.06-.94-2.06-.94-.94-2.06-.94 2.06-2.06.94zm-11 1L8.5 8.5l.94-2.06 2.06-.94-2.06-.94L8.5 2.5l-.94 2.06-2.06.94zm10 10l.94 2.06.94-2.06 2.06-.94-2.06-.94-.94-2.06-.94 2.06-2.06.94z\"/><path d=\"M17.41 7.96l-1.37-1.37c-.4-.4-.92-.59-1.43-.59-.52 0-1.04.2-1.43.59L10.3 9.45l-7.72 7.72c-.78.78-.78 2.05 0 2.83L4 21.41c.39.39.9.59 1.41.59.51 0 1.02-.2 1.41-.59l7.78-7.78 2.81-2.81c.8-.78.8-2.07 0-2.86zM5.41 20L4 18.59l7.72-7.72 1.47 1.35L5.41 20z\"/>\n",
              "  </svg>\n",
              "      </button>\n",
              "      \n",
              "  <style>\n",
              "    .colab-df-container {\n",
              "      display:flex;\n",
              "      flex-wrap:wrap;\n",
              "      gap: 12px;\n",
              "    }\n",
              "\n",
              "    .colab-df-convert {\n",
              "      background-color: #E8F0FE;\n",
              "      border: none;\n",
              "      border-radius: 50%;\n",
              "      cursor: pointer;\n",
              "      display: none;\n",
              "      fill: #1967D2;\n",
              "      height: 32px;\n",
              "      padding: 0 0 0 0;\n",
              "      width: 32px;\n",
              "    }\n",
              "\n",
              "    .colab-df-convert:hover {\n",
              "      background-color: #E2EBFA;\n",
              "      box-shadow: 0px 1px 2px rgba(60, 64, 67, 0.3), 0px 1px 3px 1px rgba(60, 64, 67, 0.15);\n",
              "      fill: #174EA6;\n",
              "    }\n",
              "\n",
              "    [theme=dark] .colab-df-convert {\n",
              "      background-color: #3B4455;\n",
              "      fill: #D2E3FC;\n",
              "    }\n",
              "\n",
              "    [theme=dark] .colab-df-convert:hover {\n",
              "      background-color: #434B5C;\n",
              "      box-shadow: 0px 1px 3px 1px rgba(0, 0, 0, 0.15);\n",
              "      filter: drop-shadow(0px 1px 2px rgba(0, 0, 0, 0.3));\n",
              "      fill: #FFFFFF;\n",
              "    }\n",
              "  </style>\n",
              "\n",
              "      <script>\n",
              "        const buttonEl =\n",
              "          document.querySelector('#df-752428eb-f18a-4e0a-9e54-52d65ade3e28 button.colab-df-convert');\n",
              "        buttonEl.style.display =\n",
              "          google.colab.kernel.accessAllowed ? 'block' : 'none';\n",
              "\n",
              "        async function convertToInteractive(key) {\n",
              "          const element = document.querySelector('#df-752428eb-f18a-4e0a-9e54-52d65ade3e28');\n",
              "          const dataTable =\n",
              "            await google.colab.kernel.invokeFunction('convertToInteractive',\n",
              "                                                     [key], {});\n",
              "          if (!dataTable) return;\n",
              "\n",
              "          const docLinkHtml = 'Like what you see? Visit the ' +\n",
              "            '<a target=\"_blank\" href=https://colab.research.google.com/notebooks/data_table.ipynb>data table notebook</a>'\n",
              "            + ' to learn more about interactive tables.';\n",
              "          element.innerHTML = '';\n",
              "          dataTable['output_type'] = 'display_data';\n",
              "          await google.colab.output.renderOutput(dataTable, element);\n",
              "          const docLink = document.createElement('div');\n",
              "          docLink.innerHTML = docLinkHtml;\n",
              "          element.appendChild(docLink);\n",
              "        }\n",
              "      </script>\n",
              "    </div>\n",
              "  </div>\n",
              "  "
            ]
          },
          "metadata": {},
          "execution_count": 6
        }
      ],
      "source": [
        "df.head()"
      ]
    },
    {
      "cell_type": "code",
      "execution_count": null,
      "metadata": {
        "id": "jKm19RbBEH_N"
      },
      "outputs": [],
      "source": [
        "from sklearn.model_selection import train_test_split\n",
        "from sklearn.linear_model import LinearRegression\n",
        "from sklearn.preprocessing import OneHotEncoder"
      ]
    },
    {
      "cell_type": "code",
      "execution_count": null,
      "metadata": {
        "id": "ZA3Do3wWEH_N"
      },
      "outputs": [],
      "source": [
        "y = df.pop('duration').values"
      ]
    },
    {
      "cell_type": "code",
      "execution_count": null,
      "metadata": {
        "id": "CRth-ySuEH_O"
      },
      "outputs": [],
      "source": [
        "X_train, X_test, y_train, y_test = train_test_split(df, y, test_size=0.25, random_state=42)"
      ]
    },
    {
      "cell_type": "markdown",
      "source": [
        ""
      ],
      "metadata": {
        "id": "tFvSutXavbv4"
      }
    },
    {
      "cell_type": "code",
      "execution_count": null,
      "metadata": {
        "id": "xEUhmcgOEH_O"
      },
      "outputs": [],
      "source": [
        "ohe = OneHotEncoder(sparse=True, handle_unknown='ignore')\n",
        "X_train_transformed = ohe.fit_transform(X_train)"
      ]
    },
    {
      "cell_type": "code",
      "source": [
        "ohe.get_feature_names()"
      ],
      "metadata": {
        "colab": {
          "base_uri": "https://localhost:8080/"
        },
        "id": "XoqoT9oVGQ4n",
        "outputId": "5cf39851-65f5-48a3-c347-4b4905f11a3f"
      },
      "execution_count": null,
      "outputs": [
        {
          "output_type": "stream",
          "name": "stderr",
          "text": [
            "/usr/local/lib/python3.7/dist-packages/sklearn/utils/deprecation.py:87: FutureWarning: Function get_feature_names is deprecated; get_feature_names is deprecated in 1.0 and will be removed in 1.2. Please use get_feature_names_out instead.\n",
            "  warnings.warn(msg, category=FutureWarning)\n"
          ]
        },
        {
          "output_type": "execute_result",
          "data": {
            "text/plain": [
              "array(['x0_Abbey Orchard Street, Westminster',\n",
              "       'x0_Abbotsbury Road, Holland Park',\n",
              "       \"x0_Aberdeen Place, St. John's Wood\",\n",
              "       'x0_Aberfeldy Street, Poplar',\n",
              "       'x0_Abingdon Green, Great College Street',\n",
              "       'x0_Abingdon Green, Westminster', 'x0_Abingdon Villas, Kensington',\n",
              "       'x0_Abyssinia Close, Clapham Junction', 'x0_Ackroyd Drive, Bow',\n",
              "       'x0_Ada Street, Hackney Central', 'x0_Addison Road, Holland Park',\n",
              "       'x0_Aintree Street, Fulham', \"x0_Albany Street, Regent's Park\",\n",
              "       \"x0_Albany Street, The Regent's Park\",\n",
              "       'x0_Albert Bridge Road, Battersea Park',\n",
              "       'x0_Albert Embankment, Vauxhall', 'x0_Albert Gardens, Stepney',\n",
              "       'x0_Albert Gate, Hyde Park', 'x0_Albert Square, Stockwell',\n",
              "       'x0_Alderney Street, Pimlico', 'x0_Aldersgate Street, Barbican',\n",
              "       'x0_Alfred Place, Bloomsbury', 'x0_Alfreda Street, Battersea Park',\n",
              "       'x0_All Saints Church, Portobello',\n",
              "       \"x0_All Saints' Road, Portobello\", 'x0_Alma Road, Wandsworth',\n",
              "       'x0_Alpha Grove, Millwall', 'x0_Altab Ali Park, Whitechapel',\n",
              "       'x0_Ampton Street , Clerkenwell', 'x0_Ansell House, Stepney',\n",
              "       'x0_Antill Road, Mile End', 'x0_Appold Street, Liverpool Street',\n",
              "       'x0_Aquatic Centre, Queen Elizabeth Olympic Park',\n",
              "       \"x0_Archbishop's Park, Waterloo\", 'x0_Argyll Road, Kensington',\n",
              "       'x0_Arlington Road, Camden Town', 'x0_Ashley Crescent, Battersea',\n",
              "       'x0_Ashley Place, Victoria', 'x0_Ashmole Estate, Oval',\n",
              "       'x0_Aston Street, Stepney', 'x0_Austin Road, Battersea',\n",
              "       'x0_Austin Road, Battersea Park', 'x0_Aylward Street, Stepney',\n",
              "       'x0_BBC White City, White City', 'x0_Baker Street, Marylebone',\n",
              "       \"x0_Baldwin Street, St. Luke's\", 'x0_Bancroft Road, Bethnal Green',\n",
              "       'x0_Bank of England Museum, Bank', 'x0_Bankside Mix, Bankside',\n",
              "       'x0_Barbican Centre, Barbican',\n",
              "       'x0_Barons Court Station, West Kensington',\n",
              "       \"x0_Bath Street, St. Luke's\",\n",
              "       'x0_Battersea Church Road, Battersea',\n",
              "       'x0_Battersea Park Road, Nine Elms',\n",
              "       'x0_Battersea Power Station, Battersea Park',\n",
              "       'x0_Bayley Street , Bloomsbury', 'x0_Baylis Road, Waterloo',\n",
              "       'x0_Bayswater Road, Hyde Park', 'x0_Beaumont Street, Marylebone',\n",
              "       'x0_Bedford Way, Bloomsbury', 'x0_Belford House, Haggerston',\n",
              "       'x0_Belgrave Road, Victoria', 'x0_Belgrave Square, Belgravia',\n",
              "       \"x0_Belgrove Street , King's Cross\",\n",
              "       'x0_Bell Lane, Liverpool Street', 'x0_Bell Street , Marylebone',\n",
              "       'x0_Belvedere Road 1, South Bank',\n",
              "       'x0_Belvedere Road 2, South Bank', 'x0_Belvedere Road, South Bank',\n",
              "       'x0_Bermondsey Street, Bermondsey', 'x0_Berry Street, Clerkenwell',\n",
              "       'x0_Beryl Road, Hammersmith',\n",
              "       'x0_Bethnal Green Garden, Bethnal Green',\n",
              "       'x0_Bethnal Green Gardens, Bethnal Green',\n",
              "       'x0_Bethnal Green Road, Shoreditch',\n",
              "       'x0_Bevington Road West, North Kensington',\n",
              "       'x0_Bevington Road, North Kensington',\n",
              "       'x0_Binfield Road, Stockwell',\n",
              "       \"x0_Birkenhead Street, King's Cross\", \"x0_Bishop's Avenue, Fulham\",\n",
              "       \"x0_Bishop's Bridge Road East, Bayswater\",\n",
              "       \"x0_Bishop's Bridge Road West, Bayswater\",\n",
              "       'x0_Black Lion Gate, Kensington Gardens',\n",
              "       'x0_Black Prince Road, Vauxhall', 'x0_Blackfriars Road, Southwark',\n",
              "       'x0_Blenheim Crescent, Ladbroke Grove',\n",
              "       \"x0_Blythe Road West, Shepherd's Bush\",\n",
              "       'x0_Bolsover Street, Fitzrovia', 'x0_Bonny Street, Camden Town',\n",
              "       'x0_Borough High Street, The Borough',\n",
              "       'x0_Borough Road, Elephant & Castle',\n",
              "       'x0_Boston Place, Marylebone', 'x0_Bourne Street, Belgravia',\n",
              "       'x0_Bouverie Street, Temple', 'x0_Bow Church Station, Bow',\n",
              "       'x0_Bow Road Station, Bow', 'x0_Bradmead, Battersea Park',\n",
              "       'x0_Bradmead, Nine Elms', 'x0_Braham Street, Aldgate',\n",
              "       \"x0_Bramham Gardens, Earl's Court\", 'x0_Breams Buildings, Holborn',\n",
              "       'x0_Brick Lane Market, Shoreditch', 'x0_Bricklayers Arms, Borough',\n",
              "       'x0_Bridge Avenue, Hammersmith', 'x0_British Museum, Bloomsbury',\n",
              "       'x0_Broadcasting House, Marylebone',\n",
              "       'x0_Broadley Terrace, Marylebone', 'x0_Broadwick Street, Soho',\n",
              "       'x0_Bromley High Street, Bow', 'x0_Bromley High Street, Bromley',\n",
              "       'x0_Brook Green South, Brook Green',\n",
              "       'x0_Broomhouse Lane, Parsons Green',\n",
              "       'x0_Brunswick Square, Bloomsbury',\n",
              "       'x0_Brushfield Street, Liverpool Street',\n",
              "       'x0_Bruton Street, Mayfair', 'x0_Buckingham Gate, Westminster',\n",
              "       'x0_Bunhill Row, Moorgate', 'x0_Burdett Road, Mile End',\n",
              "       'x0_Bury Place, Holborn', 'x0_Butler Place, Westminster',\n",
              "       'x0_Buxton Street 1, Shoreditch',\n",
              "       'x0_Cadogan Close, Victoria Park', 'x0_Cadogan Gardens, Chelsea',\n",
              "       'x0_Cadogan Gardens, Sloane Square',\n",
              "       'x0_Cadogan Place, Knightsbridge', 'x0_Caldwell Street, Stockwell',\n",
              "       \"x0_Calshot Street , King's Cross\",\n",
              "       'x0_Campden Hill Road, Notting Hill', 'x0_Canton Street, Poplar',\n",
              "       'x0_Cantrell Road, Bow', 'x0_Cardinal Place, Victoria',\n",
              "       'x0_Carey Street, Holborn', \"x0_Carnegie Street, King's Cross\",\n",
              "       'x0_Cartwright Gardens , Bloomsbury',\n",
              "       'x0_Castalia Square, Cubitt Town',\n",
              "       'x0_Castlehaven Road, Camden Town', 'x0_Central House, Aldgate',\n",
              "       'x0_Central House, Whitechapel', 'x0_Cephas Street, Bethnal Green',\n",
              "       'x0_Chadwell Street, Angel', 'x0_Chancery Lane, Holborn',\n",
              "       'x0_Chapel Place, Marylebone',\n",
              "       'x0_Charing Cross Hospital, Hammersmith',\n",
              "       \"x0_Charlbert Street, St. John's Wood\",\n",
              "       'x0_Charles II Street, West End', 'x0_Charlotte Street, Fitzrovia',\n",
              "       'x0_Charlotte Terrace, Angel', 'x0_Cheapside, Bank',\n",
              "       'x0_Chelsea Bridge, Pimlico', 'x0_Chelsea Green, Chelsea',\n",
              "       'x0_Chepstow Villas, Notting Hill',\n",
              "       'x0_Cheshire Street, Bethnal Green', 'x0_Chesilton Road, Fulham',\n",
              "       'x0_Chrisp Street Market, Poplar',\n",
              "       'x0_Christian Street, Whitechapel',\n",
              "       'x0_Christopher Street, Liverpool Street',\n",
              "       'x0_Churchill Place, Canary Wharf', 'x0_City Road, Angel',\n",
              "       'x0_Clapham Common North Side, Clapham Common',\n",
              "       'x0_Clapham Common North side, Clapham Common',\n",
              "       'x0_Clapham Common Northside, Clapham Common',\n",
              "       'x0_Clapham Road, Lingham Street, Stockwell',\n",
              "       'x0_Claremont Square, Angel', 'x0_Clarence Walk, Stockwell',\n",
              "       'x0_Clarendon Road, Avondale', 'x0_Clarges Street, Mayfair',\n",
              "       'x0_Clarges Street, West End', 'x0_Clarkson Street, Bethnal Green',\n",
              "       'x0_Claverton Street, Pimlico', 'x0_Cleaver Street, Kennington',\n",
              "       'x0_Clerkenwell Green, Clerkenwell',\n",
              "       'x0_Cleveland Gardens, Bayswater',\n",
              "       'x0_Cleveland Way, Bethnal Green', 'x0_Cleveland Way, Stepney',\n",
              "       'x0_Clifford Street, Mayfair', 'x0_Clifton Road, Maida Vale',\n",
              "       'x0_Clifton Street, Shoreditch', 'x0_Clinton Road, Mile End',\n",
              "       'x0_Cloudesley Road, Angel', 'x0_Coborn Street, Mile End',\n",
              "       'x0_Colet Gardens, Hammersmith',\n",
              "       \"x0_Collingham Gardens, Earl's Court\",\n",
              "       'x0_Colombo Street, Southwark', 'x0_Columbia Road, Shoreditch',\n",
              "       'x0_Columbia Road, Weavers', 'x0_Commercial Street, Shoreditch',\n",
              "       'x0_Concert Hall Approach 1, South Bank',\n",
              "       'x0_Concert Hall Approach 2, South Bank',\n",
              "       'x0_Contact Centre, Southbury House',\n",
              "       'x0_Coomer Place, West Kensington',\n",
              "       'x0_Copper Box Arena, Queen Elizabeth Olympic Park',\n",
              "       'x0_Coram Street, Bloomsbury',\n",
              "       'x0_Cotton Garden Estate, Kennington',\n",
              "       'x0_Courland Grove, Wandsworth Road', 'x0_Crabtree Lane, Fulham',\n",
              "       'x0_Craven Street, Strand', 'x0_Crawford Street, Marylebone',\n",
              "       \"x0_Crinan Street, King's Cross\", 'x0_Crisp Road, Hammersmith',\n",
              "       'x0_Cromer Street, Bloomsbury', 'x0_Crosswall, Tower',\n",
              "       'x0_Culvert Road, Battersea', 'x0_Cumberland Gate, Hyde Park',\n",
              "       'x0_Curlew Street, Shad Thames', 'x0_Curzon Street, Mayfair',\n",
              "       'x0_Danvers Street, West Chelsea',\n",
              "       'x0_De Vere Gardens, Kensington',\n",
              "       'x0_Denyer Street, Knightsbridge', 'x0_Derry Street, Kensington',\n",
              "       'x0_Devons Road, Bow', 'x0_Devonshire Square, Liverpool Street',\n",
              "       'x0_Devonshire Terrace, Bayswater', 'x0_Dickens Square, Borough',\n",
              "       'x0_Disraeli Road, Putney', 'x0_Dock Street, Wapping',\n",
              "       'x0_Doddington Grove, Kennington', 'x0_Doric Way , Somers Town',\n",
              "       'x0_Dorothy Road, Clapham Junction',\n",
              "       'x0_Dorset Square, Marylebone', 'x0_Drayton Gardens, Chelsea',\n",
              "       'x0_Drayton Gardens, West Chelsea', 'x0_Driffield Road, Old Ford',\n",
              "       'x0_Drummond Street , Euston', 'x0_Drury Lane, Covent Garden',\n",
              "       'x0_Duke Street Hill, London Bridge',\n",
              "       'x0_Dunston Road , Haggerston', 'x0_Durant Street, Bethnal Green',\n",
              "       'x0_Eagle Wharf Road, Hoxton',\n",
              "       'x0_Earnshaw Street , Covent Garden',\n",
              "       'x0_East Ferry Road, Cubitt Town', 'x0_East India DLR, Blackwall',\n",
              "       'x0_East Road, Hoxton',\n",
              "       'x0_East Village, Queen Elizabeth Olympic Park',\n",
              "       'x0_Eastbourne Mews, Paddington',\n",
              "       'x0_Eaton Square (South), Belgravia', 'x0_Eaton Square, Belgravia',\n",
              "       'x0_Ebury Bridge, Pimlico', 'x0_Eccleston Place, Victoria',\n",
              "       'x0_Edgware Road Station, Marylebone',\n",
              "       'x0_Edgware Road Station, Paddington',\n",
              "       'x0_Eel Brook Common, Walham Green',\n",
              "       'x0_Elizabeth Bridge, Victoria', 'x0_Elysium Place, Fulham',\n",
              "       'x0_Embankment (Horse Guards), Westminster',\n",
              "       'x0_Embankment (Savoy), Strand',\n",
              "       \"x0_Emperor's Gate, South Kensington\",\n",
              "       'x0_Empire Square, The Borough', 'x0_Endsleigh Gardens, Euston',\n",
              "       'x0_Erin Close, Walham Green', 'x0_Esmond Street, Putney',\n",
              "       'x0_Ethelburga Estate, Battersea Park', 'x0_Euston Road, Euston',\n",
              "       'x0_Everington Street, Fulham',\n",
              "       'x0_Eversholt Street , Camden Town', 'x0_Evesham Street, Avondale',\n",
              "       'x0_Exhibition Road Museums, Knightsbridge',\n",
              "       'x0_Exhibition Road Museums, South Kensington',\n",
              "       'x0_Exhibition Road, Knightsbridge',\n",
              "       'x0_Falcon Road, Clapham Junction', 'x0_Falkirk Street, Hoxton',\n",
              "       'x0_Fanshaw Street, Hoxton', 'x0_Farm Street, Mayfair',\n",
              "       'x0_Farringdon Lane, Clerkenwell',\n",
              "       'x0_Fashion Street, Whitechapel', 'x0_Fawcett Close, Battersea',\n",
              "       'x0_Fawcett Close, Clapham Junction', 'x0_Felsham Road, Putney',\n",
              "       'x0_Finlay Street, Fulham', 'x0_Finnis Street, Bethnal Green',\n",
              "       'x0_Finsbury Circus, Liverpool Street',\n",
              "       \"x0_Finsbury Leisure Centre, St. Luke's\",\n",
              "       'x0_Finsbury Library , Finsbury', 'x0_Finsbury Square , Moorgate',\n",
              "       'x0_Fire Brigade Pier, Vauxhall',\n",
              "       \"x0_Fisherman's Walk West, Canary Wharf\",\n",
              "       'x0_Fishermans Walk West, Canary Wharf',\n",
              "       'x0_Flamborough Street, Limehouse', 'x0_Flood Street, Chelsea',\n",
              "       'x0_Foley Street, Fitzrovia', 'x0_Ford Road, Old Ford',\n",
              "       'x0_Fore Street, Guildhall', 'x0_Fournier Street, Whitechapel',\n",
              "       'x0_Frampton Street, Paddington', 'x0_Freston Road, Avondale',\n",
              "       'x0_Frith Street, Soho', 'x0_Fulham Broadway, Walham Green',\n",
              "       'x0_Fulham Park Road, Fulham', 'x0_Furze Green, Bow',\n",
              "       'x0_Garnet Street, Shadwell',\n",
              "       'x0_Gaywood  Street, Elephant & Castle',\n",
              "       'x0_George Place Mews, Marylebone', 'x0_George Street, Marylebone',\n",
              "       'x0_Geraldine Street, Elephant & Castle',\n",
              "       'x0_Globe Town Market, Bethnal Green',\n",
              "       'x0_Gloucester Avenue, Camden Town',\n",
              "       'x0_Gloucester Road (Central), South Kensington',\n",
              "       'x0_Gloucester Road (North), Kensington',\n",
              "       'x0_Gloucester Road Station, South Kensington',\n",
              "       'x0_Gloucester Street, Pimlico',\n",
              "       'x0_Gloucester Terrace, Bayswater',\n",
              "       \"x0_Godliman Street, St. Paul's\", 'x0_Golden Lane, Barbican',\n",
              "       'x0_Golden Square, Soho', \"x0_Goldsmith's Row, Haggerston\",\n",
              "       'x0_Goldsmiths Row, Haggerston', \"x0_Good's Way, King's Cross\",\n",
              "       'x0_Goswell Road (City Uni), Finsbury', 'x0_Gower Place , Euston',\n",
              "       'x0_Grafton Street, Mayfair', 'x0_Graham Street, Angel',\n",
              "       'x0_Granby Street, Shoreditch',\n",
              "       'x0_Grant Road Central, Clapham Junction',\n",
              "       'x0_Grant Road East, Clapham Junction',\n",
              "       'x0_Grant Road West, Clapham Junction',\n",
              "       'x0_Great Dover Street, Borough',\n",
              "       'x0_Great Dover Street, The Borough',\n",
              "       'x0_Great Marlborough Street, Soho',\n",
              "       'x0_Great Percy Street, Clerkenwell',\n",
              "       'x0_Great Russell Street, Bloomsbury',\n",
              "       'x0_Great Suffolk Street, The Borough',\n",
              "       'x0_Great Titchfield Street, Fitzrovia',\n",
              "       'x0_Great Tower Street, Monument',\n",
              "       'x0_Green Park Station, Mayfair',\n",
              "       'x0_Green Park Station, West End', 'x0_Green Street, Mayfair',\n",
              "       \"x0_Greenberry Street, St.John's Wood\",\n",
              "       'x0_Greenland Road, Camden Town', 'x0_Grenfell Road, Avondale',\n",
              "       'x0_Greycoat Street , Westminster',\n",
              "       'x0_Greyhound Road, Hammersmith',\n",
              "       'x0_Grosvenor Crescent, Belgravia', 'x0_Grosvenor Road, Pimlico',\n",
              "       'x0_Grosvenor Square, Mayfair',\n",
              "       \"x0_Grove End Road, St. John's Wood\",\n",
              "       'x0_Guildhouse Street, Victoria',\n",
              "       'x0_Guilford Street , Bloomsbury', 'x0_Gun Makers Lane, Old Ford',\n",
              "       'x0_Gunmakers Lane, Old Ford', 'x0_Gwendwr Road, West Kensington',\n",
              "       'x0_Haggerston Road, Haggerston', 'x0_Halford Road, Fulham',\n",
              "       'x0_Halford Road, West Kensington',\n",
              "       'x0_Hammersmith Road, Hammersmith',\n",
              "       'x0_Hammersmith Town Hall, Hammersmith',\n",
              "       'x0_Hampstead Road (Cartmel), Euston', 'x0_Hampstead Road, Euston',\n",
              "       'x0_Hampton Street, Walworth', \"x0_Handyside Street, King's Cross\",\n",
              "       'x0_Hansard Mews, Holland Park', 'x0_Hansard Mews, Shepherds Bush',\n",
              "       'x0_Harcourt Terrace, West Brompton',\n",
              "       'x0_Hardwick Street, Clerkenwell', 'x0_Harford Street, Mile End',\n",
              "       'x0_Harper Road, Borough', 'x0_Harper Road, The Borough',\n",
              "       'x0_Harriet Street, Knightsbridge',\n",
              "       'x0_Harrington Square 1, Camden Town',\n",
              "       'x0_Harrington Square 2, Camden Town',\n",
              "       'x0_Harrington Square, Camden Town',\n",
              "       'x0_Harrowby Street, Marylebone', 'x0_Hartington Road, Stockwell',\n",
              "       'x0_Hatton Garden, Holborn', 'x0_Hatton Wall, Holborn',\n",
              "       'x0_Hawley Crescent, Camden Town', 'x0_Heath Road, Battersea',\n",
              "       'x0_Here East North, Queen Elizabeth Olympic Park',\n",
              "       'x0_Here East South, Queen Elizabeth Olympic Park',\n",
              "       'x0_Hereford Road, Bayswater', 'x0_Hermitage Court, Wapping',\n",
              "       'x0_Heron Quays DLR, Canary Wharf',\n",
              "       'x0_Hertford Road, De Beauvoir Town',\n",
              "       'x0_Hewison Street, Old Ford', 'x0_Hibbert Street, Battersea',\n",
              "       'x0_Hibbert Street, Clapham Junction',\n",
              "       'x0_High Holborn , Covent Garden', 'x0_Hinde Street, Marylebone',\n",
              "       'x0_Holborn Circus, Holborn', 'x0_Holden Street, Battersea',\n",
              "       'x0_Holland Park, Kensington',\n",
              "       'x0_Hollybush Gardens, Bethnal Green',\n",
              "       'x0_Holy Trinity Brompton, Knightsbridge',\n",
              "       'x0_Hop Exchange, The Borough', 'x0_Horseferry Road, Westminster',\n",
              "       'x0_Hortensia Road, West Brompton', 'x0_Houghton Street, Strand',\n",
              "       'x0_Houndsditch, Aldgate', 'x0_Howick Place, Westminster',\n",
              "       'x0_Howland Street, Fitzrovia', 'x0_Hoxton Station, Haggerston',\n",
              "       'x0_Hoxton Station, Hoxton', 'x0_Hoxton Street, Hoxton',\n",
              "       'x0_Humbolt Road, Fulham', 'x0_Hurlingham Park, Parsons Green',\n",
              "       'x0_Hyde Park Corner, Hyde Park',\n",
              "       'x0_Ilchester Gardens, Bayswater',\n",
              "       'x0_Ilchester Place, Kensington',\n",
              "       'x0_Imperial College, Knightsbridge',\n",
              "       'x0_Imperial Road, Sands End', 'x0_Imperial Wharf Station',\n",
              "       'x0_Imperial Wharf Station, Sands End',\n",
              "       'x0_Ingrave Street, Battersea',\n",
              "       'x0_Ingrave Street, Clapham Junction',\n",
              "       'x0_Irene Road, Parsons Green', 'x0_Islington Green, Angel',\n",
              "       'x0_Jewry Street, Aldgate', 'x0_Jubilee Crescent, Cubitt Town',\n",
              "       'x0_Jubilee Gardens, South Bank', 'x0_Jubilee Plaza, Canary Wharf',\n",
              "       'x0_Jubilee Street, Stepney', 'x0_Kennington Cross, Kennington',\n",
              "       'x0_Kennington Lane Rail Bridge, Vauxhall',\n",
              "       'x0_Kennington Lane Tesco, Vauxhall', 'x0_Kennington Oval, Oval',\n",
              "       'x0_Kennington Road  , Vauxhall',\n",
              "       'x0_Kennington Road Post Office, Oval',\n",
              "       'x0_Kennington Station, Kennington',\n",
              "       'x0_Kensington Church Street, Kensington',\n",
              "       'x0_Kensington Gore, Knightsbridge',\n",
              "       'x0_Kensington Olympia Station, Olympia',\n",
              "       'x0_Kensington Town Hall, Kensington',\n",
              "       \"x0_Killick Street, King's Cross\",\n",
              "       'x0_Killick Street, Kings Cross',\n",
              "       'x0_King Edward Street, St Pauls', 'x0_King Edward Walk, Waterloo',\n",
              "       'x0_Kings Gate House, Westminster',\n",
              "       'x0_Kingsway Southbound, Strand', 'x0_Kingsway, Covent Garden',\n",
              "       \"x0_Knaresborough Place, Earl's Court\",\n",
              "       'x0_Knightsbridge, Hyde Park',\n",
              "       'x0_LMU Commercial Road, Whitechapel',\n",
              "       'x0_LSBU (Borough Road), Elephant & Castle',\n",
              "       'x0_Ladbroke Grove Central, Ladbroke Grove',\n",
              "       'x0_Ladbroke Grove Central, Notting Hill',\n",
              "       'x0_Lambeth North Station, Waterloo',\n",
              "       'x0_Lambeth Palace Road, Waterloo', 'x0_Lambeth Road, Vauxhall',\n",
              "       'x0_Lancaster Drive, Blackwall', 'x0_Lancaster Gate , Bayswater',\n",
              "       'x0_Langdon Park, Poplar', 'x0_Lansdowne Road, Ladbroke Grove',\n",
              "       'x0_Lansdowne Walk, Ladbroke Grove',\n",
              "       'x0_Lansdowne Walk, Notting Hill',\n",
              "       'x0_Lansdowne Way Bus Garage, Stockwell',\n",
              "       'x0_Lavington Street, Bankside',\n",
              "       'x0_Lee Valley VeloPark, Queen Elizabeth Olympic Park',\n",
              "       'x0_Leman Street, Aldgate', 'x0_Leonard Circus , Shoreditch',\n",
              "       'x0_Lexham Gardens, Kensington', 'x0_Lightermans Road, Millwall',\n",
              "       'x0_Limburg Road, Clapham Common',\n",
              "       'x0_Limburg Road, Clapham Junction',\n",
              "       'x0_Limerston Street, Chelsea',\n",
              "       'x0_Limerston Street, West Chelsea',\n",
              "       \"x0_Lincoln's Inn Fields, Holborn\", 'x0_Lindfield Street, Poplar',\n",
              "       \"x0_Lisson Grove, St. John's Wood\",\n",
              "       'x0_Little Argyll Street, West End',\n",
              "       'x0_Little Brook Green, Brook Green',\n",
              "       'x0_Liverpool Road (N1 Centre), Angel',\n",
              "       \"x0_Lodge Road, St. John's Wood\", 'x0_Lollard Street, Vauxhall',\n",
              "       \"x0_London Zoo Car Park, Regent's Park\",\n",
              "       \"x0_London Zoo Car Park, The Regent's Park\",\n",
              "       \"x0_London Zoo,  The Regent's Park\", 'x0_London Zoo, Regents Park',\n",
              "       'x0_Long Lane , Bermondsey', \"x0_Longford Street, Regent's Park\",\n",
              "       \"x0_Longford Street, The Regent's Park\",\n",
              "       \"x0_Lord's, St. John's Wood\", 'x0_Lots Road, West Chelsea',\n",
              "       'x0_Lower Marsh, Waterloo', 'x0_Lower Thames Street, Monument',\n",
              "       'x0_Macclesfield Rd, St Lukes', 'x0_Maclise Road, Olympia',\n",
              "       'x0_Malet Street, Bloomsbury', 'x0_Mallory Street, Marylebone',\n",
              "       'x0_Malmesbury Road, Bow', 'x0_Manbre Road, Hammersmith',\n",
              "       'x0_Manfred Road, East Putney', 'x0_Manresa Road, Chelsea',\n",
              "       'x0_Margery Street, Clerkenwell', 'x0_Marloes Road, Kensington',\n",
              "       'x0_Marylebone Lane, Marylebone', 'x0_Mechanical Workshop Penton',\n",
              "       'x0_Melton Street, Euston', 'x0_Merchant Street, Bow',\n",
              "       'x0_Mexfield Road, East Putney', 'x0_Michael Road, Walham Green',\n",
              "       'x0_Mile End Park Leisure Centre, Mile End',\n",
              "       'x0_Mile End Stadium, Mile End', 'x0_Millbank House, Pimlico',\n",
              "       'x0_Millbank Tower, Pimlico', 'x0_Millennium Hotel, Mayfair',\n",
              "       'x0_Millharbour, Millwall', 'x0_Milroy Walk, South Bank',\n",
              "       'x0_Monier Road, Hackney Wick', 'x0_Monier Road, Newham',\n",
              "       'x0_Montgomery Square, Canary Wharf',\n",
              "       'x0_Montpelier Street, Knightsbridge',\n",
              "       'x0_Montserrat Road , Putney', 'x0_Monument Street, Monument',\n",
              "       'x0_Moor Street, Soho', 'x0_Moorfields, Moorgate',\n",
              "       'x0_Morie Street, Wandsworth', 'x0_Mostyn Grove, Bow',\n",
              "       'x0_Mudchute DLR, Cubitt Town', 'x0_Murray Grove , Hoxton',\n",
              "       'x0_Museum of London, Barbican',\n",
              "       'x0_Nantes Close, Clapham Junction', 'x0_Nantes Close, Wandsworth',\n",
              "       'x0_Napier Avenue, Millwall',\n",
              "       'x0_Natural History Museum, South Kensington',\n",
              "       'x0_Naval Row, Blackwall', 'x0_Nesham Street, Wapping',\n",
              "       \"x0_Nevern Place, Earl's Court\",\n",
              "       'x0_Neville Gill Close, Wandsworth',\n",
              "       'x0_New Cavendish Street, Marylebone',\n",
              "       'x0_New Fetter Lane, Holborn', 'x0_New Globe Walk, Bankside',\n",
              "       'x0_New Inn Yard, Shoreditch', 'x0_New Kent Road, Borough',\n",
              "       'x0_New Kent Road, The Borough', 'x0_New North Road 1, Hoxton',\n",
              "       'x0_New North Road 2, Hoxton', 'x0_New Road  2, Whitechapel',\n",
              "       'x0_New Road 1 , Whitechapel',\n",
              "       'x0_New Spring Gardens Walk, Vauxhall', 'x0_Newby Place, Poplar',\n",
              "       \"x0_Newgate Street , St. Paul's\",\n",
              "       'x0_Newton Street, Covent Garden', 'x0_Normand Park, Fulham',\n",
              "       'x0_Normand Park, West Kensington',\n",
              "       'x0_North Audley Street, Mayfair',\n",
              "       'x0_North Wharf Road, Paddington',\n",
              "       \"x0_Northdown Street, King's Cross\", 'x0_Northfields, Wandsworth',\n",
              "       'x0_Northington Street , Holborn',\n",
              "       'x0_Northumberland Avenue, Strand',\n",
              "       'x0_Norton Folgate, Liverpool Street',\n",
              "       'x0_Notting Hill Gate Station, Notting Hill',\n",
              "       'x0_Nutford Place, Marylebone',\n",
              "       'x0_Old Brompton Road, South Kensington',\n",
              "       'x0_Old Ford Road, Bethnal Green',\n",
              "       'x0_Old Montague Street, Whitechapel',\n",
              "       'x0_Old Quebec Street, Marylebone',\n",
              "       \"x0_Old Street Station, St. Luke's\", 'x0_Olympia Way, Olympia',\n",
              "       'x0_One Tower Bridge, Bermondsey',\n",
              "       'x0_Ontario Street, Elephant & Castle',\n",
              "       'x0_Orbel Street, Battersea', 'x0_Ormonde Gate, Chelsea',\n",
              "       'x0_Orsett Terrace, Bayswater', 'x0_Osiers Road, Wandsworth',\n",
              "       'x0_Ossulston Street, Somers Town', 'x0_Oval Way, Lambeth',\n",
              "       'x0_Oval Way, Vauxhall', 'x0_Oxford Road, Putney',\n",
              "       'x0_Paddington Green Police Station, Paddington',\n",
              "       'x0_Paddington Green, Paddington',\n",
              "       'x0_Paddington Street, Marylebone', 'x0_Page Street, Westminster',\n",
              "       'x0_Palace Gardens Terrace, Notting Hill',\n",
              "       'x0_Palace Gate, Kensington Gardens',\n",
              "       'x0_Palissy Street, Shoreditch', 'x0_Pall Mall East, West End',\n",
              "       \"x0_Pancras Road, King's Cross\", 'x0_Panton Street, West End',\n",
              "       'x0_Park Lane , Hyde Park', 'x0_Park Lane, Mayfair',\n",
              "       \"x0_Park Road (Baker Street), Regent's Park\",\n",
              "       \"x0_Park Road (Baker Street), The Regent's Park\",\n",
              "       'x0_Park Street, Bankside', 'x0_Parkway, Camden Town',\n",
              "       \"x0_Parson's Green , Parson's Green\",\n",
              "       'x0_Parsons Green Station, Parsons Green',\n",
              "       'x0_Pembridge Villas, Notting Hill',\n",
              "       'x0_Penfold Street, Marylebone', 'x0_Pennington Street, Wapping',\n",
              "       \"x0_Penywern Road, Earl's Court\", 'x0_Percival Street, Finsbury',\n",
              "       'x0_Peterborough Road, Sands End', 'x0_Phene Street, Chelsea',\n",
              "       'x0_Phillimore Gardens, Kensington',\n",
              "       'x0_Philpot Street, Whitechapel',\n",
              "       'x0_Pitfield Street (North),Hoxton',\n",
              "       'x0_Pitfield Street Central, Hoxton',\n",
              "       'x0_Pitfield Street North,Hoxton',\n",
              "       'x0_Plough Terrace, Clapham Junction',\n",
              "       'x0_Podium, Queen Elizabeth Olympic Park',\n",
              "       'x0_Pont Street, Knightsbridge', 'x0_Pop Up Dock 1',\n",
              "       'x0_Pop Up Dock 2', 'x0_Porchester Place, Paddington',\n",
              "       'x0_Portland Place, Marylebone', 'x0_Portman Square, Marylebone',\n",
              "       'x0_Portugal Street, Holborn', 'x0_Pott Street, Bethnal Green',\n",
              "       'x0_Poured Lines, Bankside', \"x0_Preston's Road, Cubitt Town\",\n",
              "       \"x0_Prince Albert Road, Regent's Park\",\n",
              "       \"x0_Prince Albert Road, The Regent's Park\",\n",
              "       'x0_Prince Consort Road, Knightsbridge',\n",
              "       'x0_Prince of Wales Drive, Battersea Park',\n",
              "       'x0_Princedale Road , Holland Park',\n",
              "       'x0_Princes Square, Bayswater',\n",
              "       \"x0_Pritchard's Road, Bethnal Green\",\n",
              "       'x0_Putney Bridge Road, East Putney',\n",
              "       'x0_Putney Bridge Station, Fulham', 'x0_Putney Pier, Wandsworth',\n",
              "       'x0_Putney Rail Station, Putney', \"x0_Queen Mary's, Mile End\",\n",
              "       'x0_Queen Marys, Mile End',\n",
              "       'x0_Queen Mother Sports Centre, Victoria',\n",
              "       'x0_Queen Street 1, Bank', 'x0_Queen Street 2, Bank',\n",
              "       'x0_Queen Street, Bank', \"x0_Queen Victoria Street, St. Paul's\",\n",
              "       \"x0_Queen's Circus, Battersea Park\",\n",
              "       \"x0_Queen's Gate (Central), South Kensington\",\n",
              "       \"x0_Queen's Gate (North), Kensington\",\n",
              "       \"x0_Queen's Gate (South), South Kensington\",\n",
              "       \"x0_Queen's Gate, Kensington Gardens\",\n",
              "       'x0_Queensbridge Road, Haggerston',\n",
              "       \"x0_Queensdale Road, Shepherd's Bush\",\n",
              "       'x0_Rainville Road, Hammersmith', 'x0_Ram Street, Wandsworth',\n",
              "       'x0_Rampayne Street, Pimlico', 'x0_Ranelagh Gardens, Fulham',\n",
              "       'x0_Rathbone Street, Fitzrovia',\n",
              "       'x0_Ravenscourt Park Station, Hammersmith',\n",
              "       'x0_Reardon Street, Wapping', 'x0_Rectory Square, Stepney',\n",
              "       'x0_Red Lion Square, Holborn', 'x0_Red Lion Street, Holborn',\n",
              "       'x0_Regency Street, Westminster', \"x0_Regent's Row , Haggerston\",\n",
              "       \"x0_Richmond Way, Shepherd's Bush\", 'x0_Rifle Place, Avondale',\n",
              "       'x0_Risinghill Street, Angel', 'x0_River Street , Clerkenwell',\n",
              "       'x0_Riverlight North, Nine Elms', 'x0_Riverlight South, Nine Elms',\n",
              "       'x0_Rochester Row, Westminster', 'x0_Rodney Road , Walworth',\n",
              "       'x0_Rodney Street, Angel', \"x0_Roscoe Street, St. Luke's\",\n",
              "       'x0_Rossmore Road, Marylebone', 'x0_Royal Avenue 1, Chelsea',\n",
              "       'x0_Royal Avenue 2, Chelsea',\n",
              "       'x0_Royal College Street, Camden Town',\n",
              "       'x0_Royal London Hospital, Whitechapel',\n",
              "       'x0_Russell Gardens, Holland Park', 'x0_Russell Gardens, Olympia',\n",
              "       'x0_Russell Square Station, Bloomsbury',\n",
              "       'x0_Sackville Street, Mayfair',\n",
              "       'x0_Sadlers Sports Centre, Finsbury', 'x0_Sail Street, Vauxhall',\n",
              "       'x0_Salmon Lane, Limehouse', 'x0_Sancroft Street, Vauxhall',\n",
              "       'x0_Sandilands Road, Walham Green', 'x0_Santos Road, Wandsworth',\n",
              "       'x0_Sardinia Street, Holborn',\n",
              "       'x0_Saunders Ness Road, Cubitt Town', 'x0_Scala Street, Fitzrovia',\n",
              "       'x0_Sedding Street, Sloane Square', 'x0_Selby Street, Whitechapel',\n",
              "       'x0_Serpentine Car Park, Hyde Park',\n",
              "       'x0_Seville Street, Knightsbridge', 'x0_Seymour Place, Marylebone',\n",
              "       'x0_Shadwell Station, Shadwell', 'x0_Sheepcote Lane, Battersea',\n",
              "       \"x0_Shepherd's Bush Road North, Shepherd's Bush\",\n",
              "       'x0_Shoreditch Court, Haggerston',\n",
              "       'x0_Shoreditch High Street, Shoreditch',\n",
              "       'x0_Shoreditch Park, Hoxton', 'x0_Shouldham Street, Marylebone',\n",
              "       'x0_Sidney Street, Stepney', 'x0_Silverthorne Road, Battersea',\n",
              "       'x0_Simpson Street, Battersea',\n",
              "       'x0_Simpson Street, Clapham Junction', 'x0_Sirdar Road, Avondale',\n",
              "       'x0_Sloane Avenue, Knightsbridge', 'x0_Smith Square, Westminster',\n",
              "       'x0_Smugglers Way, Wandsworth', 'x0_Snow Hill, Farringdon',\n",
              "       'x0_Snowsfields, London Bridge', 'x0_Soho Square , Soho',\n",
              "       'x0_Somerset House, Strand', 'x0_Sopwith Way, Battersea Park',\n",
              "       'x0_South Audley Street, Mayfair',\n",
              "       'x0_South Kensington Station, South Kensington',\n",
              "       'x0_South Lambeth Road, Vauxhall', 'x0_South Parade, Chelsea',\n",
              "       'x0_South Park, Sands End', 'x0_South Quay East, Canary Wharf',\n",
              "       'x0_South Quay West, Canary Wharf',\n",
              "       'x0_South Wharf Road, Paddington', 'x0_Southampton Place, Holborn',\n",
              "       'x0_Southampton Street, Strand', 'x0_Southern Grove, Bow',\n",
              "       'x0_Southerton Road, Hammersmith',\n",
              "       'x0_Southwark Station 1, Southwark',\n",
              "       'x0_Southwark Station 2, Southwark',\n",
              "       'x0_Southwark Street, Bankside', 'x0_Southwick Street, Paddington',\n",
              "       'x0_Spanish Road, Clapham Junction', 'x0_Spanish Road, Wandsworth',\n",
              "       \"x0_Speakers' Corner 1, Hyde Park\",\n",
              "       \"x0_Speakers' Corner 2, Hyde Park\",\n",
              "       'x0_Spencer Park, Wandsworth Common',\n",
              "       'x0_Spindrift Avenue, Millwall', \"x0_St John's Park, Cubitt Town\",\n",
              "       'x0_St Katharines Way, Tower', \"x0_St Martin's Close, Camden Town\",\n",
              "       'x0_St Martins Close, Camden Town', 'x0_St. Bride Street, Holborn',\n",
              "       \"x0_St. Chad's Street, King's Cross\",\n",
              "       'x0_St. George Street, Mayfair', \"x0_St. George's Square, Pimlico\",\n",
              "       \"x0_St. James's Square, St. James's\",\n",
              "       'x0_St. John Street, Finsbury', \"x0_St. John's Park, Cubitt Town\",\n",
              "       \"x0_St. John's Road, Clapham Junction\",\n",
              "       \"x0_St. John's Wood Church, Regent's Park\",\n",
              "       \"x0_St. John's Wood Church, The Regent's Park\",\n",
              "       \"x0_St. John's Wood Road, St. John's Wood\",\n",
              "       \"x0_St. Katharine's Way, Tower\", \"x0_St. Luke's Church, Chelsea\",\n",
              "       \"x0_St. Mark's Road, North Kensington\",\n",
              "       \"x0_St. Martin's Street, West End\",\n",
              "       'x0_St. Mary & St. Michael Church, Stepney',\n",
              "       'x0_St. Mary Axe, Aldgate',\n",
              "       'x0_St. Mary and St. Michael Church, Stepney',\n",
              "       \"x0_St. Peter's Terrace, Fulham\", 'x0_Stainsby Road , Poplar',\n",
              "       'x0_Stamford Street, South Bank', 'x0_Stanhope Gate, Mayfair',\n",
              "       'x0_Stanley Grove, Battersea', 'x0_Star Road, West Kensington',\n",
              "       'x0_Stebondale Street, Cubitt Town',\n",
              "       'x0_Stephendale Road, Sands End',\n",
              "       'x0_Stepney Green Station, Stepney',\n",
              "       \"x0_Stewart's Road, Nine Elms\",\n",
              "       \"x0_Stewart's Road, Wandsworth Road\",\n",
              "       'x0_Stockwell Roundabout, Stockwell',\n",
              "       'x0_Stonecutter Street, Holborn', \"x0_Storey's Gate, Westminster\",\n",
              "       'x0_Strand, Strand', 'x0_Strata, Elephant & Castle',\n",
              "       'x0_Strata, Southwark', 'x0_Stratford Station, Stratford',\n",
              "       'x0_Sugden Road, Battersea', 'x0_Sugden Road, Clapham',\n",
              "       'x0_Sumner Place, South Kensington',\n",
              "       'x0_Sun Street, Liverpool Street', 'x0_Surrey Lane, Battersea',\n",
              "       'x0_Sutton Street, Shadwell', 'x0_Swan Street, The Borough',\n",
              "       'x0_Tachbrook Street, Victoria', 'x0_Tallis Street, Temple',\n",
              "       'x0_Tanner Street, Bermondsey', 'x0_Tate Modern, Bankside',\n",
              "       'x0_Tavistock Place, Bloomsbury',\n",
              "       'x0_Tavistock Street, Covent Garden',\n",
              "       'x0_Taviton Street, Bloomsbury', 'x0_Teversham Lane, Stockwell',\n",
              "       'x0_Teviot Street, Poplar', 'x0_The Green Bridge, Mile End',\n",
              "       'x0_The Guildhall, Guildhall',\n",
              "       \"x0_The Tennis Courts, Regent's Park\",\n",
              "       \"x0_The Tennis Courts, The Regent's Park\", 'x0_The Vale, Chelsea',\n",
              "       'x0_The Vale, West Chelsea', \"x0_Theobald's Road , Holborn\",\n",
              "       'x0_Theobalds Road , Holborn', 'x0_Thessaly Road North, Nine Elms',\n",
              "       'x0_Thessaly Road North, Wandsworth Road',\n",
              "       'x0_Thorndike Close, West Chelsea', 'x0_Thornfield House, Poplar',\n",
              "       'x0_Thurtle Road, Haggerston',\n",
              "       'x0_Timber Lodge, Queen Elizabeth Olympic Park',\n",
              "       'x0_Tooley Street, Bermondsey', 'x0_Torrens Street, Angel',\n",
              "       'x0_Tower Gardens , Tower', \"x0_Trebovir Road, Earl's Court\",\n",
              "       'x0_Triangle Car Park, Hyde Park',\n",
              "       'x0_Turquoise Island, Notting Hill',\n",
              "       'x0_Twig Folly Bridge, Mile End', 'x0_Tyers Gate, Bermondsey',\n",
              "       'x0_Tysoe Street, Clerkenwell', 'x0_Union Grove, Wandsworth Road',\n",
              "       'x0_Union Street, The Borough', 'x0_Upcerne Road, West Chelsea',\n",
              "       'x0_Upper Bank Street, Canary Wharf',\n",
              "       'x0_Upper Grosvenor Street, Mayfair',\n",
              "       'x0_Upper Richmond Road, East Putney',\n",
              "       'x0_Upper Richmond Road, Putney', 'x0_Usk Road, Battersea',\n",
              "       'x0_Usk Road, Clapham Junction', 'x0_Vaughan Way, Wapping',\n",
              "       'x0_Vauxhall Bridge , Pimlico', 'x0_Vauxhall Cross, Vauxhall',\n",
              "       'x0_Vauxhall Street, Vauxhall', 'x0_Vauxhall Walk, Vauxhall',\n",
              "       'x0_Vereker Road North, West Kensington',\n",
              "       'x0_Vereker Road, West Kensington',\n",
              "       'x0_Vicarage Crescent, Battersea', 'x0_Vicarage Gate, Kensington',\n",
              "       'x0_Victoria & Albert Museum, South Kensington',\n",
              "       'x0_Victoria Park Road, Hackney Central',\n",
              "       'x0_Victoria and Albert Museum, Cromwell Road',\n",
              "       'x0_Victory Place, Walworth', 'x0_Victory place, Walworth',\n",
              "       'x0_Vincent Square, Westminster', 'x0_Vincent Street, Pimlico',\n",
              "       'x0_Walmer Road, Avondale', 'x0_Walmer Road, Notting Hill',\n",
              "       'x0_Walnut Tree Walk, Vauxhall',\n",
              "       'x0_Walworth Road, Elephant & Castle',\n",
              "       'x0_Walworth Road, Southwark',\n",
              "       'x0_Wandsworth Rd, Isley Court, Wandsworth Road',\n",
              "       'x0_Wandsworth Town Station, Wandsworth',\n",
              "       'x0_Wapping High Street, Wapping', 'x0_Wapping Lane, Wapping',\n",
              "       'x0_Wardour Street, Soho', 'x0_Warren Street Station, Euston',\n",
              "       'x0_Warwick Avenue Station, Maida Vale',\n",
              "       'x0_Warwick Road, Olympia', 'x0_Warwick Square, Pimlico',\n",
              "       'x0_Waterloo Bridge, South Bank', \"x0_Waterloo Place, St. James's\",\n",
              "       'x0_Waterloo Road, South Bank', 'x0_Waterloo Roundabout, Waterloo',\n",
              "       'x0_Waterloo Station 1, Waterloo',\n",
              "       'x0_Waterloo Station 2, Waterloo',\n",
              "       'x0_Waterloo Station 3, Waterloo', 'x0_Watney Market, Stepney',\n",
              "       'x0_Watney Street, Shadwell', 'x0_Webber Street , Southwark',\n",
              "       'x0_Wellington Arch, Hyde Park',\n",
              "       \"x0_Wellington Road, St. John's Wood\",\n",
              "       'x0_Wellington Row, Bethnal Green',\n",
              "       'x0_Wellington Street , Strand', 'x0_Wells Street, Fitzrovia',\n",
              "       'x0_Wendon Street, Old Ford', 'x0_Wenlock Road , Hoxton',\n",
              "       \"x0_West Cromwell Road, Earl's Court\",\n",
              "       'x0_West Kensington Station, West Kensington',\n",
              "       'x0_West Smithfield Rotunda, Farringdon',\n",
              "       'x0_Westbourne Grove, Bayswater',\n",
              "       'x0_Westbourne Park Road, Portobello',\n",
              "       'x0_Westbridge Road, Battersea',\n",
              "       'x0_Westferry Circus, Canary Wharf', 'x0_Westferry DLR, Limehouse',\n",
              "       'x0_Westfield Ariel Way, White City',\n",
              "       \"x0_Westfield Eastern Access Road, Shepherd's Bush\",\n",
              "       \"x0_Westfield Library Corner, Shepherd's Bush\",\n",
              "       \"x0_Westfield Southern Terrace ,Shepherd's Bush\",\n",
              "       'x0_Westminster Bridge Road, Elephant & Castle',\n",
              "       'x0_Westminster University, Marylebone',\n",
              "       'x0_Whiston Road, Haggerston', 'x0_Whitehall Place, Strand',\n",
              "       \"x0_Whiteley's, Bayswater\", 'x0_William IV Street, Strand',\n",
              "       'x0_William Morris Way, Sands End', 'x0_Windsor Terrace, Hoxton',\n",
              "       'x0_Winsland Street, Paddington', 'x0_Wood Street, Guildhall',\n",
              "       \"x0_Woodstock Grove, Shepherd's Bush\",\n",
              "       'x0_Woodstock Street, Mayfair',\n",
              "       \"x0_World's End Place, West Chelsea\",\n",
              "       'x0_Wormwood Street, Liverpool Street', 'x0_Wren Street, Holborn',\n",
              "       \"x0_Wright's Lane, Kensington\", 'x0_York Hall, Bethnal Green',\n",
              "       'x1_weekday', 'x1_weekend', 'x2_bin_1', 'x2_bin_2', 'x2_bin_3',\n",
              "       'x2_bin_4'], dtype=object)"
            ]
          },
          "metadata": {},
          "execution_count": 12
        }
      ]
    },
    {
      "cell_type": "code",
      "source": [
        "X_test_transformed = ohe.transform(X_test)"
      ],
      "metadata": {
        "id": "49eLHwjVHWOA"
      },
      "execution_count": null,
      "outputs": []
    },
    {
      "cell_type": "code",
      "source": [
        "lm = LinearRegression().fit(X_train_transformed, y_train)"
      ],
      "metadata": {
        "id": "NmczzpYKj1gH"
      },
      "execution_count": null,
      "outputs": []
    },
    {
      "cell_type": "code",
      "source": [
        "lm.intercept_"
      ],
      "metadata": {
        "colab": {
          "base_uri": "https://localhost:8080/"
        },
        "id": "1m1tef7nkPYC",
        "outputId": "3aeacd6e-a0c6-4d62-e37b-d733db6f1cb1"
      },
      "execution_count": null,
      "outputs": [
        {
          "output_type": "execute_result",
          "data": {
            "text/plain": [
              "1545.7107585224649"
            ]
          },
          "metadata": {},
          "execution_count": 20
        }
      ]
    },
    {
      "cell_type": "code",
      "source": [
        "preds = lm.predict(X_test_transformed)"
      ],
      "metadata": {
        "id": "qce48njukdHw"
      },
      "execution_count": null,
      "outputs": []
    },
    {
      "cell_type": "code",
      "source": [
        "from sklearn.metrics import mean_absolute_error"
      ],
      "metadata": {
        "id": "-0zUknHFknhZ"
      },
      "execution_count": null,
      "outputs": []
    },
    {
      "cell_type": "markdown",
      "source": [
        "Для большинства задач регрессии абсолютная средняя ошибка MAE обеспечивает хороший баланс между нечувствительностью к выбросам и чувствительностью к итеративным улучшениям. Используйте абсолютную среднюю ошибку, если нет веских причин не делать этого."
      ],
      "metadata": {
        "id": "0VIZswr1XfyM"
      }
    },
    {
      "cell_type": "code",
      "source": [
        "mean_absolute_error(y_test, preds)"
      ],
      "metadata": {
        "colab": {
          "base_uri": "https://localhost:8080/"
        },
        "id": "49Svn2ihkohJ",
        "outputId": "de05e74f-bcf0-4d59-bdf9-aa9000fb3b38"
      },
      "execution_count": null,
      "outputs": [
        {
          "output_type": "execute_result",
          "data": {
            "text/plain": [
              "967.1921592606759"
            ]
          },
          "metadata": {},
          "execution_count": 36
        }
      ]
    },
    {
      "cell_type": "code",
      "source": [
        "lm.score(X_test_transformed, y_test)"
      ],
      "metadata": {
        "colab": {
          "base_uri": "https://localhost:8080/"
        },
        "id": "_Skf-nwMlJZ8",
        "outputId": "53ca7032-9536-46bd-d757-b019ce41f95d"
      },
      "execution_count": null,
      "outputs": [
        {
          "output_type": "execute_result",
          "data": {
            "text/plain": [
              "0.002976858872595356"
            ]
          },
          "metadata": {},
          "execution_count": 37
        }
      ]
    },
    {
      "cell_type": "code",
      "source": [
        "to_pred = pd.DataFrame(\n",
        "    {'start_station_name': 'Park Lane , Hyde Park',\n",
        "    'start_date': pd.to_datetime('2019-05-19 04:24:03.376064 UTC')},\n",
        "    index=[0]\n",
        ")"
      ],
      "metadata": {
        "id": "_Geomqobovt3"
      },
      "execution_count": null,
      "outputs": []
    },
    {
      "cell_type": "code",
      "source": [
        "lm.predict(ohe.transform(to_pred[['start_station_name',\t'dayofweek',\t'hourofday']]))"
      ],
      "metadata": {
        "colab": {
          "base_uri": "https://localhost:8080/"
        },
        "id": "S7RmJW6i7L9T",
        "outputId": "2b10da63-4b4a-473a-ac91-811daa8b9255"
      },
      "execution_count": null,
      "outputs": [
        {
          "output_type": "execute_result",
          "data": {
            "text/plain": [
              "array([3130.67772761])"
            ]
          },
          "metadata": {},
          "execution_count": 70
        }
      ]
    },
    {
      "cell_type": "code",
      "source": [
        "to_pred = to_pred.assign(dayofweek=np.where(to_pred['start_date'].dt.dayofweek.between(2,6), 'weekday', 'weekend')) \\\n",
        "                 .assign(hourofday=np.select([to_pred['start_date'].dt.hour < 5, \n",
        "                                              to_pred['start_date'].dt.hour < 10,\n",
        "                                              to_pred['start_date'].dt.hour < 17],\n",
        "                                             ['bin_1', 'bin_2', 'bin_3'], 'bin_4'))"
      ],
      "metadata": {
        "id": "rK-YKDespp0F"
      },
      "execution_count": null,
      "outputs": []
    },
    {
      "cell_type": "markdown",
      "source": [
        "## Создание модели классификации\n",
        "Мы построили модели машинного обучения, прогнозирующие продолжительность поездок. Однако в течение одного часа в прокат будет сдаваться большое число велосипедов и их сроки аренды будут разными. Рассмотрим распределение продолжительностей поездок на велосипедах, взятых в прокат на пункте Роял-авеню 1 в Челси по будням в 14:00:"
      ],
      "metadata": {
        "id": "UKOAhxIH4onC"
      }
    },
    {
      "cell_type": "code",
      "source": [
        "%%bigquery t --use_bqstorage_api --project $PROJECT\n",
        "SELECT\n",
        "  APPROX_QUANTILES(duration, 10) AS q\n",
        "FROM `bigquery-public-data`.london_bicycles.cycle_hire\n",
        "WHERE\n",
        "  EXTRACT(dayofweek FROM start_date) BETWEEN 2 and 6\n",
        "  AND EXTRACT(hour FROM start_date) = 14\n",
        "  AND start_station_name = 'Royal Avenue 1, Chelsea'"
      ],
      "metadata": {
        "id": "fbS1kjTP5RMb"
      },
      "execution_count": null,
      "outputs": []
    },
    {
      "cell_type": "code",
      "source": [
        "t.explode('q', ignore_index=True)"
      ],
      "metadata": {
        "colab": {
          "base_uri": "https://localhost:8080/",
          "height": 394
        },
        "id": "6mdAgv_w69Pk",
        "outputId": "96794e21-548a-4378-cc0b-e5029581105f"
      },
      "execution_count": null,
      "outputs": [
        {
          "output_type": "execute_result",
          "data": {
            "text/plain": [
              "         q\n",
              "0        0\n",
              "1      240\n",
              "2      420\n",
              "3      540\n",
              "4      660\n",
              "5      840\n",
              "6     1020\n",
              "7     1260\n",
              "8     1500\n",
              "9     2040\n",
              "10  386460"
            ],
            "text/html": [
              "\n",
              "  <div id=\"df-7813f759-7b4f-469c-a843-0e8833979437\">\n",
              "    <div class=\"colab-df-container\">\n",
              "      <div>\n",
              "<style scoped>\n",
              "    .dataframe tbody tr th:only-of-type {\n",
              "        vertical-align: middle;\n",
              "    }\n",
              "\n",
              "    .dataframe tbody tr th {\n",
              "        vertical-align: top;\n",
              "    }\n",
              "\n",
              "    .dataframe thead th {\n",
              "        text-align: right;\n",
              "    }\n",
              "</style>\n",
              "<table border=\"1\" class=\"dataframe\">\n",
              "  <thead>\n",
              "    <tr style=\"text-align: right;\">\n",
              "      <th></th>\n",
              "      <th>q</th>\n",
              "    </tr>\n",
              "  </thead>\n",
              "  <tbody>\n",
              "    <tr>\n",
              "      <th>0</th>\n",
              "      <td>0</td>\n",
              "    </tr>\n",
              "    <tr>\n",
              "      <th>1</th>\n",
              "      <td>240</td>\n",
              "    </tr>\n",
              "    <tr>\n",
              "      <th>2</th>\n",
              "      <td>420</td>\n",
              "    </tr>\n",
              "    <tr>\n",
              "      <th>3</th>\n",
              "      <td>540</td>\n",
              "    </tr>\n",
              "    <tr>\n",
              "      <th>4</th>\n",
              "      <td>660</td>\n",
              "    </tr>\n",
              "    <tr>\n",
              "      <th>5</th>\n",
              "      <td>840</td>\n",
              "    </tr>\n",
              "    <tr>\n",
              "      <th>6</th>\n",
              "      <td>1020</td>\n",
              "    </tr>\n",
              "    <tr>\n",
              "      <th>7</th>\n",
              "      <td>1260</td>\n",
              "    </tr>\n",
              "    <tr>\n",
              "      <th>8</th>\n",
              "      <td>1500</td>\n",
              "    </tr>\n",
              "    <tr>\n",
              "      <th>9</th>\n",
              "      <td>2040</td>\n",
              "    </tr>\n",
              "    <tr>\n",
              "      <th>10</th>\n",
              "      <td>386460</td>\n",
              "    </tr>\n",
              "  </tbody>\n",
              "</table>\n",
              "</div>\n",
              "      <button class=\"colab-df-convert\" onclick=\"convertToInteractive('df-7813f759-7b4f-469c-a843-0e8833979437')\"\n",
              "              title=\"Convert this dataframe to an interactive table.\"\n",
              "              style=\"display:none;\">\n",
              "        \n",
              "  <svg xmlns=\"http://www.w3.org/2000/svg\" height=\"24px\"viewBox=\"0 0 24 24\"\n",
              "       width=\"24px\">\n",
              "    <path d=\"M0 0h24v24H0V0z\" fill=\"none\"/>\n",
              "    <path d=\"M18.56 5.44l.94 2.06.94-2.06 2.06-.94-2.06-.94-.94-2.06-.94 2.06-2.06.94zm-11 1L8.5 8.5l.94-2.06 2.06-.94-2.06-.94L8.5 2.5l-.94 2.06-2.06.94zm10 10l.94 2.06.94-2.06 2.06-.94-2.06-.94-.94-2.06-.94 2.06-2.06.94z\"/><path d=\"M17.41 7.96l-1.37-1.37c-.4-.4-.92-.59-1.43-.59-.52 0-1.04.2-1.43.59L10.3 9.45l-7.72 7.72c-.78.78-.78 2.05 0 2.83L4 21.41c.39.39.9.59 1.41.59.51 0 1.02-.2 1.41-.59l7.78-7.78 2.81-2.81c.8-.78.8-2.07 0-2.86zM5.41 20L4 18.59l7.72-7.72 1.47 1.35L5.41 20z\"/>\n",
              "  </svg>\n",
              "      </button>\n",
              "      \n",
              "  <style>\n",
              "    .colab-df-container {\n",
              "      display:flex;\n",
              "      flex-wrap:wrap;\n",
              "      gap: 12px;\n",
              "    }\n",
              "\n",
              "    .colab-df-convert {\n",
              "      background-color: #E8F0FE;\n",
              "      border: none;\n",
              "      border-radius: 50%;\n",
              "      cursor: pointer;\n",
              "      display: none;\n",
              "      fill: #1967D2;\n",
              "      height: 32px;\n",
              "      padding: 0 0 0 0;\n",
              "      width: 32px;\n",
              "    }\n",
              "\n",
              "    .colab-df-convert:hover {\n",
              "      background-color: #E2EBFA;\n",
              "      box-shadow: 0px 1px 2px rgba(60, 64, 67, 0.3), 0px 1px 3px 1px rgba(60, 64, 67, 0.15);\n",
              "      fill: #174EA6;\n",
              "    }\n",
              "\n",
              "    [theme=dark] .colab-df-convert {\n",
              "      background-color: #3B4455;\n",
              "      fill: #D2E3FC;\n",
              "    }\n",
              "\n",
              "    [theme=dark] .colab-df-convert:hover {\n",
              "      background-color: #434B5C;\n",
              "      box-shadow: 0px 1px 3px 1px rgba(0, 0, 0, 0.15);\n",
              "      filter: drop-shadow(0px 1px 2px rgba(0, 0, 0, 0.3));\n",
              "      fill: #FFFFFF;\n",
              "    }\n",
              "  </style>\n",
              "\n",
              "      <script>\n",
              "        const buttonEl =\n",
              "          document.querySelector('#df-7813f759-7b4f-469c-a843-0e8833979437 button.colab-df-convert');\n",
              "        buttonEl.style.display =\n",
              "          google.colab.kernel.accessAllowed ? 'block' : 'none';\n",
              "\n",
              "        async function convertToInteractive(key) {\n",
              "          const element = document.querySelector('#df-7813f759-7b4f-469c-a843-0e8833979437');\n",
              "          const dataTable =\n",
              "            await google.colab.kernel.invokeFunction('convertToInteractive',\n",
              "                                                     [key], {});\n",
              "          if (!dataTable) return;\n",
              "\n",
              "          const docLinkHtml = 'Like what you see? Visit the ' +\n",
              "            '<a target=\"_blank\" href=https://colab.research.google.com/notebooks/data_table.ipynb>data table notebook</a>'\n",
              "            + ' to learn more about interactive tables.';\n",
              "          element.innerHTML = '';\n",
              "          dataTable['output_type'] = 'display_data';\n",
              "          await google.colab.output.renderOutput(dataTable, element);\n",
              "          const docLink = document.createElement('div');\n",
              "          docLink.innerHTML = docLinkHtml;\n",
              "          element.appendChild(docLink);\n",
              "        }\n",
              "      </script>\n",
              "    </div>\n",
              "  </div>\n",
              "  "
            ]
          },
          "metadata": {},
          "execution_count": 12
        }
      ]
    },
    {
      "cell_type": "markdown",
      "source": [
        "Восемьдесят процентов поездок, совершенных в будни от этого пункта проката, длилось меньше 1500 секунд. Если бы вы ограничились только этим прогнозом, то могли бы решить разместить на этом пункте проката в такие дни только городские велосипеды. Однако зная, что примерно от 10 до 20% поездок длится больше 1800 секунд, вы могли дополнительно разместить 15% шоссейных велосипедов. Спрогнозировать вероятность продолжительности поездки дольше 1800 секунд вам поможет модель классификации.\n",
        "\n",
        "### Обучение\n",
        "Для простоты возьмем тот же набор признаков, который мы использовали в регрессионной модели, и обучим модель прогнозировать вероятность того, что поездка продлится больше 30 минут:\n",
        "\n",
        "```sql\n",
        "CREATE OR REPLACE MODEL data.bicycle_model_longrental\n",
        "TRANSFORM(* EXCEPT(start_date)\n",
        "          , IF(EXTRACT(dayofweek FROM start_date) BETWEEN 2 and 6,\n",
        "'weekday', 'weekend') as dayofweek\n",
        "          , ML.BUCKETIZE(EXTRACT(HOUR FROM start_date), [5, 10, 17]) AS\n",
        "hourofday\n",
        ")\n",
        "OPTIONS(input_label_cols=['biketype'], model_type='logistic_reg') AS\n",
        "SELECT\n",
        "  IF(duration > 1800, 'roadbike', 'commuter') AS biketype\n",
        "  , start_station_name\n",
        "  , start_date\n",
        "FROM `bigquery-public-data`.london_bicycles.cycle_hire\n",
        "```"
      ],
      "metadata": {
        "id": "kdm_U6oW7NMz"
      }
    },
    {
      "cell_type": "markdown",
      "source": [
        "Обратите внимание, что на этот раз выбран тип модели `logistic_reg` (логистическая регрессия) — это самый простой тип моделей для задач классификации. Для классификации с использованием глубокой нейронной сети или дерева решений с градиентным бустингом используйте `dnn_classifier` или `boosted_tree_classifier` соответственно.\n",
        "\n",
        "Мы создали метки, определив порог продолжительности поездок, равный 1800 секундам, и дали двум категориям имена `roadbike` (шоссейный велосипед) и `commuter` (городской велосипед). Примерно так же мы определили категории weekend/weekday на основе числовой переменной `dayofweek`. Мы могли бы применить логическое значение (True/False), но использование фактических имен категорий делает наши намерения более понятными.\n",
        "\n",
        "В конце обучения вы увидите, что за семь итераций обучения ошибка уменьшилась и достигла минимального уровня.\n",
        "\n",
        "### Прогнозирование\n",
        "Прогнозирование с использованием этой модели производится точно так же, как в случае с моделью линейной регрессии, только на этот раз возвращается вероятность каждого класса:\n",
        "\n",
        "```sql\n",
        "SELECT * FROM ML.PREDICT(MODEL data.bicycle_model_longrental,\n",
        "  (SELECT 'Park Lane , Hyde Park' AS start_station_name\n",
        ")\n",
        ", TIMESTAMP('2019-05-09 16:16:00 UTC') AS start_date)\n",
        "```\n",
        "\n",
        "### Выбор порога\n",
        "В нашем случае интерес представляет прогнозируемая вероятность. Однако во многих задачах классификации предпочтительнее получить не только вероятность, но и прогнозируемый класс. То есть результат прогноза (см. предыдущий раздел) должен включать не только вероятность, но также класс с наибольшей вероятностью. В задаче бинарной классификации это равносильно установке порогового значения вероятности, равного 0.5, и выбору класса с вероятностью больше этого порога.\n",
        "\n",
        "Полнотой (recall) в машинном обучении называют процент фактических истинных результатов (отношение истинно-положительных результатов к общему числу положительных результатов) в определенной пороговой точке. Хороший порог должен иметь высокую полноту. Однако выбор пороговой точки с высоким значением полноты таит опасность получения большого количества ложно-положительных результатов. Если выбрать порог, равный нулю, вы получите весь набор данных и, соответственно, идеальную полноту.\n",
        "\n",
        "Другим важным показателем является точность (precision) — процент истинно- положительных результатов по всему набору данных. Это можно выразить так: «Я спрогнозировал, что этот результат истинный, но какова вероятность, что я прав?» Если установить порог равным нулю, истинными будут далеко не все полученные результаты. (То есть если вы спрогнозировали, что все результаты верны, но в действительности верными будут только 10%, точность составит 10%. Это плохой результат для классификатора.)\n",
        "\n",
        "Совокупные показатели на вкладке Evaluation (Оценка), например accuracy=0.89, рассчитываются на основе порога 0.5.\n",
        "Если вы хотите, чтобы в 50% случаев, когда требуется шоссейный велосипед, он был в наличии, тогда вам нужна полнота 0.5, потому что достаточно охватить половину продолжительных поездок. Если хотите, можете воспользоваться пол- зунком на вкладке Evaluation (Оценка) и установить пороговое значение равным 0.144, как показано на рис. 9.8, чтобы получить желаемую величину метрики полноты. Обратите внимание, что это происходит за счет точности; при этом пороговом значении модель обеспечит точность на уровне 0.26 — только в 26% случаев спрогнозированные поездки будут длиться дольше 30 минут и для них потребуется выдать шоссейный велосипед.\n",
        "\n",
        "При использовании моделей бинарной классификации желаемый порог можно\n",
        "передать в `ML.PREDICT`:\n",
        "\n",
        "```sql\n",
        "SELECT * FROM ML.PREDICT(MODEL data.bicycle_model_longrental,\n",
        "  (SELECT 'Park Lane , Hyde Park' AS start_station_name\n",
        "          , TIMESTAMP('2019-05-09 16:16:00 UTC') AS start_date),\n",
        "  STRUCT(0.144 AS threshold)\n",
        ")\n",
        "```\n"
      ],
      "metadata": {
        "id": "maWtBBay7S8T"
      }
    },
    {
      "cell_type": "code",
      "source": [
        "%%bigquery df --use_bqstorage_api --project $PROJECT\n",
        "SELECT\n",
        "  start_station_name\n",
        "  --, start_date\n",
        "  , IF(EXTRACT(dayofweek FROM start_date) BETWEEN 2 and 6, 'weekday', 'weekend') as dayofweek\n",
        "  , ML.BUCKETIZE(EXTRACT(hour FROM start_date), [5, 10, 17]) AS hourofday\n",
        "  , IF(duration > 1800, 'roadbike', 'commuter') AS biketype\n",
        "FROM `bigquery-public-data`.london_bicycles.cycle_hire"
      ],
      "metadata": {
        "id": "HzYqypzEC9hV"
      },
      "execution_count": null,
      "outputs": []
    },
    {
      "cell_type": "code",
      "source": [
        "from sklearn.model_selection import train_test_split\n",
        "from sklearn.pipeline import Pipeline\n",
        "from sklearn.linear_model import LogisticRegression\n",
        "from sklearn.preprocessing import OneHotEncoder, StandardScaler\n",
        "from sklearn.compose import ColumnTransformer"
      ],
      "metadata": {
        "id": "MRJb72LdFZs4"
      },
      "execution_count": null,
      "outputs": []
    },
    {
      "cell_type": "code",
      "source": [
        "y = df.pop('biketype')\n",
        "X_train, X_test, y_train, y_test = train_test_split(df, y, test_size=0.1, random_state=0, stratify=y)"
      ],
      "metadata": {
        "id": "q7jNUxbxGsNa"
      },
      "execution_count": null,
      "outputs": []
    },
    {
      "cell_type": "code",
      "source": [
        "# categorical columns\n",
        "cat_ohe_step = ('ohe', OneHotEncoder(sparse=True, handle_unknown='ignore'))\n",
        "cat_pipe = Pipeline([cat_ohe_step])\n",
        "cat_cols = ['start_station_name', 'dayofweek',\t'hourofday']\n",
        "cat_transformers = ('cat', cat_pipe, cat_cols)\n",
        "# numeric columns\n",
        "#num_ss_step = ('ss', StandardScaler())\n",
        "#num_pipe = Pipeline([num_ss_step])\n",
        "#num_transformers = ('num', num_pipe, ['duration']) # one numeric col\n",
        "transformers = [cat_transformers]\n",
        "ct = ColumnTransformer(transformers=transformers)"
      ],
      "metadata": {
        "id": "aWI8VjhyPFog"
      },
      "execution_count": null,
      "outputs": []
    },
    {
      "cell_type": "code",
      "source": [
        "lr_pipe = Pipeline(\n",
        "    [\n",
        "        ('transform', ct),\n",
        "        ('lr', LogisticRegression(class_weight='balanced', random_state=0))\n",
        "    ]\n",
        ")"
      ],
      "metadata": {
        "id": "NGM6UUSlGUdM"
      },
      "execution_count": null,
      "outputs": []
    },
    {
      "cell_type": "code",
      "source": [
        "lr_pipe.fit(X_train, y_train)"
      ],
      "metadata": {
        "colab": {
          "base_uri": "https://localhost:8080/"
        },
        "id": "tcKtIOC8OJOO",
        "outputId": "bcaf20b8-889c-43d7-8ae9-dcf7ea4c1b5c"
      },
      "execution_count": null,
      "outputs": [
        {
          "output_type": "stream",
          "name": "stderr",
          "text": [
            "/usr/local/lib/python3.7/dist-packages/sklearn/linear_model/_logistic.py:818: ConvergenceWarning: lbfgs failed to converge (status=1):\n",
            "STOP: TOTAL NO. of ITERATIONS REACHED LIMIT.\n",
            "\n",
            "Increase the number of iterations (max_iter) or scale the data as shown in:\n",
            "    https://scikit-learn.org/stable/modules/preprocessing.html\n",
            "Please also refer to the documentation for alternative solver options:\n",
            "    https://scikit-learn.org/stable/modules/linear_model.html#logistic-regression\n",
            "  extra_warning_msg=_LOGISTIC_SOLVER_CONVERGENCE_MSG,\n"
          ]
        },
        {
          "output_type": "execute_result",
          "data": {
            "text/plain": [
              "Pipeline(steps=[('transform',\n",
              "                 ColumnTransformer(transformers=[('cat',\n",
              "                                                  Pipeline(steps=[('ohe',\n",
              "                                                                   OneHotEncoder(handle_unknown='ignore'))]),\n",
              "                                                  ['start_station_name',\n",
              "                                                   'dayofweek',\n",
              "                                                   'hourofday'])])),\n",
              "                ('lr',\n",
              "                 LogisticRegression(class_weight='balanced', random_state=0))])"
            ]
          },
          "metadata": {},
          "execution_count": 17
        }
      ]
    },
    {
      "cell_type": "code",
      "source": [
        "lr_pipe.score(X_test, y_test)"
      ],
      "metadata": {
        "colab": {
          "base_uri": "https://localhost:8080/"
        },
        "id": "SRlNZKz_-iGB",
        "outputId": "2243c8d4-d0a7-4bae-d3e7-22860214c24b"
      },
      "execution_count": null,
      "outputs": [
        {
          "output_type": "execute_result",
          "data": {
            "text/plain": [
              "0.6973233847137433"
            ]
          },
          "metadata": {},
          "execution_count": 18
        }
      ]
    },
    {
      "cell_type": "code",
      "source": [
        "from sklearn.metrics import classification_report, f1_score"
      ],
      "metadata": {
        "id": "StMsFGZlG1B9"
      },
      "execution_count": null,
      "outputs": []
    },
    {
      "cell_type": "code",
      "source": [
        "y_pred = lr_pipe.predict(X_test)\n",
        "report = classification_report(y_pred, y_test)"
      ],
      "metadata": {
        "id": "2R8eSuz_HFQQ"
      },
      "execution_count": null,
      "outputs": []
    },
    {
      "cell_type": "code",
      "source": [
        "print(report)"
      ],
      "metadata": {
        "colab": {
          "base_uri": "https://localhost:8080/"
        },
        "id": "SpcXCEhvJa1a",
        "outputId": "7a53fea7-d99f-4992-fecc-efc5adbcda1d"
      },
      "execution_count": null,
      "outputs": [
        {
          "output_type": "stream",
          "name": "stdout",
          "text": [
            "              precision    recall  f1-score   support\n",
            "\n",
            "    commuter       0.70      0.94      0.81   1617682\n",
            "    roadbike       0.65      0.21      0.32    819239\n",
            "\n",
            "    accuracy                           0.70   2436921\n",
            "   macro avg       0.68      0.58      0.56   2436921\n",
            "weighted avg       0.69      0.70      0.64   2436921\n",
            "\n"
          ]
        }
      ]
    },
    {
      "cell_type": "code",
      "source": [
        "to_pred = pd.DataFrame(\n",
        "    {'start_station_name': 'Park Lane , Hyde Park',\n",
        "     'start_date': pd.to_datetime('2019-05-09 16:16:00 UTC')},\n",
        "    index=[0]\n",
        ")"
      ],
      "metadata": {
        "id": "LyIsUj6gKUOM"
      },
      "execution_count": null,
      "outputs": []
    },
    {
      "cell_type": "code",
      "source": [
        "to_pred = to_pred.assign(dayofweek=np.where(to_pred['start_date'] \\\n",
        "                            .dt.dayofweek.between(2,6), 'weekday', 'weekend')) \\\n",
        "                 .assign(hourofday=np.select(\n",
        "                     [to_pred['start_date'].dt.hour < 5, \n",
        "                      to_pred['start_date'].dt.hour < 10,\n",
        "                      to_pred['start_date'].dt.hour < 17],\n",
        "                     ['bin_1', 'bin_2', 'bin_3'], 'bin_4')) \\\n",
        "                 .drop(columns='start_date')"
      ],
      "metadata": {
        "id": "-mshETI6nHEf"
      },
      "execution_count": null,
      "outputs": []
    },
    {
      "cell_type": "code",
      "source": [
        "lr_pipe.predict_proba(to_pred)"
      ],
      "metadata": {
        "colab": {
          "base_uri": "https://localhost:8080/"
        },
        "id": "lJcUhLw_m6gv",
        "outputId": "4dbf0000-3c35-4c00-820d-4f56d148abd5"
      },
      "execution_count": null,
      "outputs": [
        {
          "output_type": "execute_result",
          "data": {
            "text/plain": [
              "array([[0.15273637, 0.84726363]])"
            ]
          },
          "metadata": {},
          "execution_count": 48
        }
      ]
    },
    {
      "cell_type": "code",
      "source": [
        "probabilities_valid = lr_pipe.predict_proba(X_test)"
      ],
      "metadata": {
        "id": "MwdQ3pnbrS0K"
      },
      "execution_count": null,
      "outputs": []
    },
    {
      "cell_type": "code",
      "source": [
        "predicted_test = np.where(probabilities_valid[:,1] > 0.144, 'roadbike', 'commuter')\n",
        "round(f1_score(y_test, predicted_test, pos_label='roadbike'), 4)"
      ],
      "metadata": {
        "colab": {
          "base_uri": "https://localhost:8080/"
        },
        "id": "FvqU6Pwks7Z6",
        "outputId": "94b4ffee-ed82-40cf-ccd2-4615e7c31108"
      },
      "execution_count": null,
      "outputs": [
        {
          "output_type": "execute_result",
          "data": {
            "text/plain": [
              "0.2018"
            ]
          },
          "metadata": {},
          "execution_count": 46
        }
      ]
    },
    {
      "cell_type": "markdown",
      "source": [
        "### Управление делением данных\n",
        "По умолчанию для наборов данных среднего размера BigQuery случайным образом отбирает 20% данных и сохраняет их для оценки. Обучение проводится только на 80% предоставленных данных. Для небольших наборов данных (с числом записей меньше 500) для обучения используются все данные, а для больших наборов данных (с числом записей больше 50 000) для оценки используется только 10 000 записей. Управлять выбором данных для оценки можно с помощью трех параметров: `data_split_method`, `data_split_eval_fraction` и `data_split_col`.\n",
        "\n",
        "```sql\n",
        "CREATE OR REPLACE MODEL data.bicycle_model_bucketized_seq\n",
        "TRANSFORM(* EXCEPT(start_date)\n",
        "           , IF(EXTRACT(dayofweek FROM start_date) BETWEEN 2 and 6, 'weekday', 'weekend') AS dayofweek\n",
        "           , ML.BUCKETIZE(EXTRACT(HOUR FROM start_date), [5, 10, 17])\n",
        "                                                         AS hourofday\n",
        "           , start_date -- used to split the data\n",
        ")\n",
        "OPTIONS(input_label_cols=['duration'], model_type='linear_reg',\n",
        "        data_split_method='seq',\n",
        "        data_split_eval_fraction=0.2,\n",
        "        data_split_col='start_date')\n",
        "AS\n",
        "SELECT\n",
        "  duration\n",
        "  , start_station_name\n",
        "  , start_date\n",
        "FROM `bigquery-public-data`.london_bicycles.cycle_hire\n",
        "```\n",
        "\n",
        "Средняя абсолютная ошибка этой модели составляет 860 секунд, но мы не можем сравнить это число с результатом, полученным при случайном разделении данных, — оценочные показатели сильно зависят от выбора данных для оценки, и поскольку сейчас используется другой набор контрольных данных, мы не можем сравнить эти результаты с результатами, полученными ранее. Кроме того, предыдущие результаты были искажены утечкой информации, как описывалось на примере рождественских дней.\n",
        "\n",
        "### Балансировка классов\n",
        "В задаче классификации менее 12% поездок длится дольше 1800 секунд. Это пример несбалансированного набора данных. Возможно, будет полезно придать более редкому классу более высокий вес. Это можно сделать, явно передав массив весов классов или отправив запрос BigQuery установить веса классов, опираясь на обратную частоту.\n",
        "\n",
        "```sql\n",
        "CREATE OR REPLACE MODEL data.bicycle_model_longrental_balanced\n",
        "TRANSFORM(* EXCEPT(start_date)\n",
        "          , IF(EXTRACT(dayofweek FROM start_date) BETWEEN 2 and 6, 'weekday', 'weekend') as dayofweek\n",
        "          , ML.BUCKETIZE(EXTRACT(HOUR FROM start_date), [5, 10, 17]) AS hourofday\n",
        "          , start_date)\n",
        "OPTIONS(input_label_cols=['biketype'],\n",
        "        model_type='logistic_reg',\n",
        "        data_split_method='seq',\n",
        "        data_split_eval_fraction=0.2,\n",
        "        data_split_col='start_date',\n",
        "        auto_class_weights=True)\n",
        "AS\n",
        "SELECT\n",
        "  IF(duration > 1800, 'roadbike', 'commuter') AS biketype\n",
        "  , start_station_name\n",
        "  , start_date\n",
        "FROM `bigquery-public-data`.london_bicycles.cycle_hire\n",
        "```\n",
        "\n",
        "Обратите внимание, что после балансировки весов вероятность, возвращаемая моделью, больше не является оценкой фактической частоты событий. Это связано с тем, что оценка вероятности, полученная в результате логистической регрессии, основана на частоте появления событий в данных, наблюдаемых моделью, и мы искусственно увеличили частоту появления редких событий.\n",
        "\n",
        "## Регуляризация\n",
        "Как уже отмечалось выше, большинство пунктов проката имеют почти одинаковую продолжительность поездок, за исключением нескольких случаев с необычно продолжительными поездками. Многие из этих пунктов проката насчитывают очень мало поездок. Категориальные признаки, имеющие такое распределение с длинным хвостом, могут вызвать переобучение. Под переобучением понимается ситуация, при которой модель запоминает шум (случайные флуктуации) в данных, а не изучает сигнал. Другими словами, модель может стать настолько сложной, что будет представлять сам набор данных, а не его базовые качества.\n",
        "\n",
        "Регуляризация помогает избежать переобучения, снижая сложность, в частности, за счет введения штрафа за большие значения весов. Большие значения весов часто являются признаком переобучения, потому что могут внезапно включаться, когда имеется ровно одна точка данных.\n",
        "\n",
        "BigQuery ML поддерживает два типа регуляризации: L1 и L2. Регуляризация L1 подталкивает отдельные веса к нулю и лучше поддается интерпретации, а регуляризация L2 стремится сохранить все веса относительно одинаковыми и лучше справляется с предотвращением переобучения. Управлять величиной регуляризации L1 или L2 можно при создании модели:\n",
        "\n",
        "```sql\n",
        "CREATE OR REPLACE MODEL data.bicycle_model_bucketized_seq_l2\n",
        "TRANSFORM(* EXCEPT(start_date)\n",
        "          , IF(EXTRACT(dayofweek FROM start_date) BETWEEN 2 and 6,\n",
        "                       'weekday', 'weekend') as dayofweek\n",
        "          , ML.BUCKETIZE(EXTRACT(HOUR FROM start_date), [5, 10, 17]) AS\n",
        "                         hourofday\n",
        "          , start_date -- used to split the data\n",
        ")\n",
        "OPTIONS(input_label_cols=['duration'],\n",
        "        model_type='linear_reg',\n",
        "        data_split_method='seq',\n",
        "        data_split_eval_fraction=0.2,\n",
        "        data_split_col='start_date',\n",
        "        l2_reg=0.1)\n",
        "AS\n",
        "SELECT\n",
        "  duration\n",
        "  , start_station_name\n",
        "  , start_date\n",
        "FROM `bigquery-public-data`.london_bicycles.cycle_hire\n",
        "```\n",
        "\n",
        "В этом случае средняя абсолютная ошибка получилась равной 857 секундам, то есть она почти идентична полученной без регуляризации L2. Причина, скорее всего, в том, что у нас есть достаточно большой набор данных и определено всего несколько настроек, чего оказалось достаточно, чтобы переобучения не произошло. Регуляризация L2 обычно считается наилучшим выбором, особенно для небольших наборов данных или при использовании достаточно сложной модели (например, глубокой нейронной сети) с большим числом параметров."
      ],
      "metadata": {
        "id": "RxXwofTtCOVy"
      }
    },
    {
      "cell_type": "code",
      "source": [
        "%%bigquery df --use_bqstorage_api --project $PROJECT\n",
        "SELECT\n",
        "  start_station_name\n",
        "  , start_date\n",
        "  , duration\n",
        "  , IF(EXTRACT(dayofweek FROM start_date) BETWEEN 2 and 6, 'weekday', 'weekend') AS dayofweek\n",
        "  , ML.BUCKETIZE(EXTRACT(hour FROM start_date), [5, 10, 17]) AS hourofday\n",
        "FROM `bigquery-public-data`.london_bicycles.cycle_hire"
      ],
      "metadata": {
        "id": "azdJDrjEKVRG"
      },
      "execution_count": null,
      "outputs": []
    },
    {
      "cell_type": "code",
      "source": [
        "from sklearn.model_selection import train_test_split\n",
        "from sklearn.pipeline import Pipeline\n",
        "from sklearn.linear_model import Ridge\n",
        "from sklearn.preprocessing import OneHotEncoder\n",
        "from sklearn.compose import ColumnTransformer"
      ],
      "metadata": {
        "id": "dEdTxokIK6Xo"
      },
      "execution_count": null,
      "outputs": []
    },
    {
      "cell_type": "code",
      "source": [
        "df.sort_values('start_date', inplace=True)"
      ],
      "metadata": {
        "id": "QgStbAs4OCDO"
      },
      "execution_count": null,
      "outputs": []
    },
    {
      "cell_type": "code",
      "source": [
        "y = df.pop('duration')\n",
        "df.drop(columns='start_date', inplace=True)\n",
        "X_train, X_test, y_train, y_test = train_test_split(\n",
        "    df, y,\n",
        "    test_size=0.2,\n",
        "    shuffle=False,\n",
        "    random_state=0,\n",
        "    stratify=None\n",
        ")"
      ],
      "metadata": {
        "id": "1FKRom6tMATt"
      },
      "execution_count": null,
      "outputs": []
    },
    {
      "cell_type": "code",
      "source": [
        "cat_ohe_step = ('ohe', OneHotEncoder(sparse=True, handle_unknown='ignore'))\n",
        "cat_pipe = Pipeline([cat_ohe_step])\n",
        "cat_cols = ['start_station_name', 'dayofweek',\t'hourofday']\n",
        "cat_transformers = ('cat', cat_pipe, cat_cols)\n",
        "transformers = [cat_transformers]\n",
        "ct = ColumnTransformer(transformers=transformers)"
      ],
      "metadata": {
        "id": "vmtu06CeNb4k"
      },
      "execution_count": null,
      "outputs": []
    },
    {
      "cell_type": "code",
      "source": [
        "ridge_pipe = Pipeline(\n",
        "    [\n",
        "        ('transform', ct),\n",
        "        ('ridge', Ridge(alpha=0.1, random_state=0))\n",
        "    ]\n",
        ")"
      ],
      "metadata": {
        "id": "WXYHInu4O1ZY"
      },
      "execution_count": null,
      "outputs": []
    },
    {
      "cell_type": "code",
      "source": [
        "ridge_pipe.fit(X_train, y_train)"
      ],
      "metadata": {
        "colab": {
          "base_uri": "https://localhost:8080/"
        },
        "id": "j9pVMjXkPh27",
        "outputId": "76671867-875d-429a-e096-9e41042eeb39"
      },
      "execution_count": null,
      "outputs": [
        {
          "output_type": "execute_result",
          "data": {
            "text/plain": [
              "Pipeline(steps=[('transform',\n",
              "                 ColumnTransformer(transformers=[('cat',\n",
              "                                                  Pipeline(steps=[('ohe',\n",
              "                                                                   OneHotEncoder(handle_unknown='ignore'))]),\n",
              "                                                  ['start_station_name',\n",
              "                                                   'dayofweek',\n",
              "                                                   'hourofday'])])),\n",
              "                ('ridge', Ridge(alpha=0.1, random_state=0))])"
            ]
          },
          "metadata": {},
          "execution_count": 18
        }
      ]
    },
    {
      "cell_type": "code",
      "source": [
        "y_pred = ridge_pipe.predict(X_test)"
      ],
      "metadata": {
        "id": "MeALtDcXQUqC"
      },
      "execution_count": null,
      "outputs": []
    },
    {
      "cell_type": "code",
      "source": [
        "from sklearn.metrics import mean_absolute_error"
      ],
      "metadata": {
        "id": "2w_iKku5QH6V"
      },
      "execution_count": null,
      "outputs": []
    },
    {
      "cell_type": "code",
      "source": [
        "mean_absolute_error(y_test, y_pred)"
      ],
      "metadata": {
        "colab": {
          "base_uri": "https://localhost:8080/"
        },
        "id": "lFSc7PLZQbVc",
        "outputId": "3bf4d0f1-0125-4234-b249-724f6e4bfd91"
      },
      "execution_count": null,
      "outputs": [
        {
          "output_type": "execute_result",
          "data": {
            "text/plain": [
              "702.5896297724232"
            ]
          },
          "metadata": {},
          "execution_count": 21
        }
      ]
    },
    {
      "cell_type": "markdown",
      "source": [
        "## Кластеризация методом k-средних\n",
        "Рассматриваемые до настоящего времени алгоритмы машинного обучения относились к категории методов обучения с учителем — мы должны были предоставить столбец меток. Однако BigQuery поддерживает также методы обучения без учителя. Например, мы можем применить к данным алгоритм кластеризации методом k-средних (https://en.wikipedia.org/wiki/K-means_clustering) для группировки их в кластеры на основе сходства. Такое название алгоритм получил, потому что определяет k кластеров, каждый из которых описывается средним значением его членов. В отличие от машинного обучения с учителем, помогающим предсказать значение столбца метки для новых данных, которые модель еще не видела, обучение без учителя носит описательный характер. Используйте `model_type = kmeans` в BigQuery, чтобы получить описание данных с точки зрения центроидов k кластеров, выявленных в данных, и принять решение о принадлежности к тому или иному кластеру на основе атрибутов его центроида.\n",
        "\n",
        "### Выбор признаков для кластеризации\n",
        "Первым шагом в использовании алгоритма кластеризации методом k-средних является выбор признаков для кластеризации. Поскольку таблицы в BigQuery склонны к сглаживанию и описывают несколько аспектов, выбор способа помогает понять, какие общие характеристики имеют члены кластера.\n",
        "\n",
        "Предположим, у вас есть данные, каждая запись в которых представляет розничную покупку. Кластеризовать такую таблицу можно несколькими способами, и выбор способа зависит от того, что предполагается делать с кластерами:\n",
        " - Можно попробовать выявить естественные группы среди клиентов. Этот прием называется сегментацией клиентов. Данные, используемые для сегментации клиентов, будут играть роль атрибутов, описывающих клиентов, совершающих покупки, — к ним можно отнести, например, магазин, где совершена покупка, наименование купленных товаров, стоимость покупки и т. д. Цель кластеризации по клиентам — желание понять, какие отличительные особенности имеют группы клиентов (они называются персонами), чтобы на их основе можно было создать элементы, представляющие членов этих групп, — так называемые клиенты-центроиды.\n",
        "\n",
        " - Можно попробовать найти естественные группы среди купленных товаров — так называемые товарные группы. Данные, используемые для выявления товарных групп, будут играть роль атрибутов, описывающих товары, приобретенные в рамках покупки, — к ним можно отнести, например, личность покупателя, время покупки, магазин, где были куплены товары и т. д. Цель кластеризации по товарам — желание понять, какие отличительные особенности имеют группы товаров, и уменьшить каннибализацию или повысить перекрестные продажи.\n",
        "\n",
        "В обоих случаях мы используем кластеризацию в качестве эвристики для принятия решений — слишком сложно было бы проектировать маркетинговые акции для товаров или клиентов по отдельности или понять их взаимовлияние, проделать то же самое для групп товаров или клиентов намного проще.\n",
        "\n",
        "Обратите внимание, что в случае выработки рекомендаций (рекомендация товаров клиентам или ориентация клиентов на товар) лучше обучать модель `matrix_factorization`, как описано далее в этой главе. Но в других ситуациях, для которых не существует готовых методов прогнозирующей аналитики, кластеризация методом k-средних может дать вам возможность принимать решения на основе данных.\n",
        "\n"
      ],
      "metadata": {
        "id": "G0H6HD5jf7HS"
      }
    },
    {
      "cell_type": "markdown",
      "source": [
        "### Кластеризация пунктов проката велосипедов\n",
        "Предположим, что вам часто приходится принимать решение — на какие пункты проката поставить новые типы велосипедов, какие нуждаются в ремонте или расширении и т. д. Такие решения лучше принимать на основе данных. Это означает, что вам нужно сгруппировать пункты проката, схожие по таким атрибутам, как продолжительность поездок от пункта проката, количество поездок в день, количество велосипедных стоек на пункте проката и расстояние от пункта проката до центра города. Поскольку первые два атрибута различаются в зависимости от дня недели (рабочий или выходной), вычислим для каждого из них два значения.\n",
        "Поскольку запрос получается довольно длинным и громоздким, сохраним полученные значения в таблице:\n",
        "\n",
        "```sql\n",
        "CREATE OR REPLACE TABLE data.stationstats AS\n",
        "WITH hires AS (\n",
        "  SELECT\n",
        "    h.start_station_name AS station_name,\n",
        "    IF(EXTRACT(DAYOFWEEK FROM h.start_date) BETWEEN 2 and 6, \"weekday\", \"weekend\") AS isweekday,\n",
        "    h.duration,\n",
        "    s.bikes_count,\n",
        "    ST_DISTANCE(ST_GEOGPOINT(s.longitude, s.latitude),\n",
        "                ST_GEOGPOINT(-0.1, 51.5))/1000 AS distance_from_city_center\n",
        "  FROM `bigquery-public-data.london_bicycles.cycle_hire` AS h\n",
        "  JOIN `bigquery-public-data.london_bicycles.cycle_stations` AS s\n",
        "  ON h.start_station_id = s.id\n",
        "  WHERE EXTRACT(YEAR from start_date) = 2015\n",
        "),\n",
        "\n",
        "stationstats AS (\n",
        "  SELECT\n",
        "    station_name,\n",
        "    AVG(IF(isweekday = 'weekday', duration, NULL)) AS duration_weekdays,\n",
        "    AVG(IF(isweekday = 'weekend', duration, NULL)) AS duration_weekends,\n",
        "    COUNT(IF(isweekday = 'weekday', duration, NULL)) AS numtrips_weekdays,\n",
        "    COUNT(IF(isweekday = 'weekend', duration, NULL)) AS numtrips_weekends,\n",
        "    MAX(bikes_count) as bikes_count,\n",
        "    MAX(distance_from_city_center) as distance_from_city_center\n",
        "FROM hires\n",
        "  GROUP BY station_name\n",
        ")\n",
        "\n",
        "SELECT *\n",
        "FROM stationstats\n",
        "```"
      ],
      "metadata": {
        "id": "tyhX7UwWKVs_"
      }
    },
    {
      "cell_type": "code",
      "source": [
        "%%bigquery df --use_bqstorage_api --project $PROJECT\n",
        "WITH hires AS (\n",
        "  SELECT\n",
        "    h.start_station_name AS station_name,\n",
        "    IF(EXTRACT(DAYOFWEEK FROM h.start_date) BETWEEN 2 and 6,\n",
        "      \"weekday\", \"weekend\") AS isweekday,\n",
        "    h.duration,\n",
        "    s.bikes_count,\n",
        "    ST_DISTANCE(ST_GEOGPOINT(s.longitude, s.latitude),\n",
        "                ST_GEOGPOINT(-0.1, 51.5))/1000 AS distance_from_city_center\n",
        "  FROM `bigquery-public-data.london_bicycles.cycle_hire` AS h\n",
        "  JOIN `bigquery-public-data.london_bicycles.cycle_stations` AS s\n",
        "    ON h.start_station_id = s.id\n",
        "  WHERE EXTRACT(YEAR FROM start_date) = 2015\n",
        "),\n",
        "\n",
        "stationstats AS (\n",
        "  SELECT\n",
        "    station_name,\n",
        "    AVG(IF(isweekday = 'weekday', duration, NULL)) AS duration_weekdays,\n",
        "    AVG(IF(isweekday = 'weekend', duration, NULL)) AS duration_weekends,\n",
        "    COUNT(IF(isweekday = 'weekday', duration, NULL)) AS numtrips_weekdays,\n",
        "    COUNT(IF(isweekday = 'weekend', duration, NULL)) AS numtrips_weekends,\n",
        "    MAX(bikes_count) AS bikes_count,\n",
        "    MAX(distance_from_city_center) AS distance_from_city_center\n",
        "FROM hires\n",
        "  GROUP BY station_name\n",
        ")\n",
        "\n",
        "SELECT *\n",
        "FROM stationstats"
      ],
      "metadata": {
        "id": "ZnXmyMUlLNG0"
      },
      "execution_count": null,
      "outputs": []
    },
    {
      "cell_type": "code",
      "source": [
        "df"
      ],
      "metadata": {
        "colab": {
          "base_uri": "https://localhost:8080/",
          "height": 655
        },
        "id": "_vnxgESXLcoI",
        "outputId": "485b992b-3f12-4ec7-9342-971484469c57"
      },
      "execution_count": null,
      "outputs": [
        {
          "output_type": "execute_result",
          "data": {
            "text/plain": [
              "                       station_name  duration_weekdays  duration_weekends  \\\n",
              "0    Serpentine Car Park, Hyde Park        2033.509287        1988.226371   \n",
              "1         Wright's Lane, Kensington        1140.035717        1776.833251   \n",
              "2      Triangle Car Park, Hyde Park        2396.105698        2378.299628   \n",
              "3            Wood Street, Guildhall         914.392356        1476.985447   \n",
              "4    Southwark Station 2, Southwark        1000.467312        1934.603524   \n",
              "..                              ...                ...                ...   \n",
              "793               Strata, Southwark         917.037037        1301.034483   \n",
              "794        Theobalds Road , Holborn         760.152672         957.367742   \n",
              "795         Coborn Street, Mile End         654.977974         808.141593   \n",
              "796                     Monier Road        1542.857143        1635.000000   \n",
              "797             Monier Road, Newham        1190.526316         770.000000   \n",
              "\n",
              "     numtrips_weekdays  numtrips_weekends  bikes_count  \\\n",
              "0                18035              13712            7   \n",
              "1                15119               6063           32   \n",
              "2                24220              17455            6   \n",
              "3                10047                962            5   \n",
              "4                16520               2724           45   \n",
              "..                 ...                ...          ...   \n",
              "793               1701                522           11   \n",
              "794               4716                775           25   \n",
              "795                227                113            3   \n",
              "796                  7                  4            4   \n",
              "797                 19                  6            4   \n",
              "\n",
              "     distance_from_city_center  \n",
              "0                     5.087640  \n",
              "1                     6.442371  \n",
              "2                     4.917064  \n",
              "3                     1.937975  \n",
              "4                     0.558196  \n",
              "..                         ...  \n",
              "793                   0.762224  \n",
              "794                   2.564988  \n",
              "795                   5.817939  \n",
              "796                   7.035241  \n",
              "797                   7.035241  \n",
              "\n",
              "[798 rows x 7 columns]"
            ],
            "text/html": [
              "\n",
              "  <div id=\"df-9c85600b-6516-4174-ba88-037a11250739\">\n",
              "    <div class=\"colab-df-container\">\n",
              "      <div>\n",
              "<style scoped>\n",
              "    .dataframe tbody tr th:only-of-type {\n",
              "        vertical-align: middle;\n",
              "    }\n",
              "\n",
              "    .dataframe tbody tr th {\n",
              "        vertical-align: top;\n",
              "    }\n",
              "\n",
              "    .dataframe thead th {\n",
              "        text-align: right;\n",
              "    }\n",
              "</style>\n",
              "<table border=\"1\" class=\"dataframe\">\n",
              "  <thead>\n",
              "    <tr style=\"text-align: right;\">\n",
              "      <th></th>\n",
              "      <th>station_name</th>\n",
              "      <th>duration_weekdays</th>\n",
              "      <th>duration_weekends</th>\n",
              "      <th>numtrips_weekdays</th>\n",
              "      <th>numtrips_weekends</th>\n",
              "      <th>bikes_count</th>\n",
              "      <th>distance_from_city_center</th>\n",
              "    </tr>\n",
              "  </thead>\n",
              "  <tbody>\n",
              "    <tr>\n",
              "      <th>0</th>\n",
              "      <td>Serpentine Car Park, Hyde Park</td>\n",
              "      <td>2033.509287</td>\n",
              "      <td>1988.226371</td>\n",
              "      <td>18035</td>\n",
              "      <td>13712</td>\n",
              "      <td>7</td>\n",
              "      <td>5.087640</td>\n",
              "    </tr>\n",
              "    <tr>\n",
              "      <th>1</th>\n",
              "      <td>Wright's Lane, Kensington</td>\n",
              "      <td>1140.035717</td>\n",
              "      <td>1776.833251</td>\n",
              "      <td>15119</td>\n",
              "      <td>6063</td>\n",
              "      <td>32</td>\n",
              "      <td>6.442371</td>\n",
              "    </tr>\n",
              "    <tr>\n",
              "      <th>2</th>\n",
              "      <td>Triangle Car Park, Hyde Park</td>\n",
              "      <td>2396.105698</td>\n",
              "      <td>2378.299628</td>\n",
              "      <td>24220</td>\n",
              "      <td>17455</td>\n",
              "      <td>6</td>\n",
              "      <td>4.917064</td>\n",
              "    </tr>\n",
              "    <tr>\n",
              "      <th>3</th>\n",
              "      <td>Wood Street, Guildhall</td>\n",
              "      <td>914.392356</td>\n",
              "      <td>1476.985447</td>\n",
              "      <td>10047</td>\n",
              "      <td>962</td>\n",
              "      <td>5</td>\n",
              "      <td>1.937975</td>\n",
              "    </tr>\n",
              "    <tr>\n",
              "      <th>4</th>\n",
              "      <td>Southwark Station 2, Southwark</td>\n",
              "      <td>1000.467312</td>\n",
              "      <td>1934.603524</td>\n",
              "      <td>16520</td>\n",
              "      <td>2724</td>\n",
              "      <td>45</td>\n",
              "      <td>0.558196</td>\n",
              "    </tr>\n",
              "    <tr>\n",
              "      <th>...</th>\n",
              "      <td>...</td>\n",
              "      <td>...</td>\n",
              "      <td>...</td>\n",
              "      <td>...</td>\n",
              "      <td>...</td>\n",
              "      <td>...</td>\n",
              "      <td>...</td>\n",
              "    </tr>\n",
              "    <tr>\n",
              "      <th>793</th>\n",
              "      <td>Strata, Southwark</td>\n",
              "      <td>917.037037</td>\n",
              "      <td>1301.034483</td>\n",
              "      <td>1701</td>\n",
              "      <td>522</td>\n",
              "      <td>11</td>\n",
              "      <td>0.762224</td>\n",
              "    </tr>\n",
              "    <tr>\n",
              "      <th>794</th>\n",
              "      <td>Theobalds Road , Holborn</td>\n",
              "      <td>760.152672</td>\n",
              "      <td>957.367742</td>\n",
              "      <td>4716</td>\n",
              "      <td>775</td>\n",
              "      <td>25</td>\n",
              "      <td>2.564988</td>\n",
              "    </tr>\n",
              "    <tr>\n",
              "      <th>795</th>\n",
              "      <td>Coborn Street, Mile End</td>\n",
              "      <td>654.977974</td>\n",
              "      <td>808.141593</td>\n",
              "      <td>227</td>\n",
              "      <td>113</td>\n",
              "      <td>3</td>\n",
              "      <td>5.817939</td>\n",
              "    </tr>\n",
              "    <tr>\n",
              "      <th>796</th>\n",
              "      <td>Monier Road</td>\n",
              "      <td>1542.857143</td>\n",
              "      <td>1635.000000</td>\n",
              "      <td>7</td>\n",
              "      <td>4</td>\n",
              "      <td>4</td>\n",
              "      <td>7.035241</td>\n",
              "    </tr>\n",
              "    <tr>\n",
              "      <th>797</th>\n",
              "      <td>Monier Road, Newham</td>\n",
              "      <td>1190.526316</td>\n",
              "      <td>770.000000</td>\n",
              "      <td>19</td>\n",
              "      <td>6</td>\n",
              "      <td>4</td>\n",
              "      <td>7.035241</td>\n",
              "    </tr>\n",
              "  </tbody>\n",
              "</table>\n",
              "<p>798 rows × 7 columns</p>\n",
              "</div>\n",
              "      <button class=\"colab-df-convert\" onclick=\"convertToInteractive('df-9c85600b-6516-4174-ba88-037a11250739')\"\n",
              "              title=\"Convert this dataframe to an interactive table.\"\n",
              "              style=\"display:none;\">\n",
              "        \n",
              "  <svg xmlns=\"http://www.w3.org/2000/svg\" height=\"24px\"viewBox=\"0 0 24 24\"\n",
              "       width=\"24px\">\n",
              "    <path d=\"M0 0h24v24H0V0z\" fill=\"none\"/>\n",
              "    <path d=\"M18.56 5.44l.94 2.06.94-2.06 2.06-.94-2.06-.94-.94-2.06-.94 2.06-2.06.94zm-11 1L8.5 8.5l.94-2.06 2.06-.94-2.06-.94L8.5 2.5l-.94 2.06-2.06.94zm10 10l.94 2.06.94-2.06 2.06-.94-2.06-.94-.94-2.06-.94 2.06-2.06.94z\"/><path d=\"M17.41 7.96l-1.37-1.37c-.4-.4-.92-.59-1.43-.59-.52 0-1.04.2-1.43.59L10.3 9.45l-7.72 7.72c-.78.78-.78 2.05 0 2.83L4 21.41c.39.39.9.59 1.41.59.51 0 1.02-.2 1.41-.59l7.78-7.78 2.81-2.81c.8-.78.8-2.07 0-2.86zM5.41 20L4 18.59l7.72-7.72 1.47 1.35L5.41 20z\"/>\n",
              "  </svg>\n",
              "      </button>\n",
              "      \n",
              "  <style>\n",
              "    .colab-df-container {\n",
              "      display:flex;\n",
              "      flex-wrap:wrap;\n",
              "      gap: 12px;\n",
              "    }\n",
              "\n",
              "    .colab-df-convert {\n",
              "      background-color: #E8F0FE;\n",
              "      border: none;\n",
              "      border-radius: 50%;\n",
              "      cursor: pointer;\n",
              "      display: none;\n",
              "      fill: #1967D2;\n",
              "      height: 32px;\n",
              "      padding: 0 0 0 0;\n",
              "      width: 32px;\n",
              "    }\n",
              "\n",
              "    .colab-df-convert:hover {\n",
              "      background-color: #E2EBFA;\n",
              "      box-shadow: 0px 1px 2px rgba(60, 64, 67, 0.3), 0px 1px 3px 1px rgba(60, 64, 67, 0.15);\n",
              "      fill: #174EA6;\n",
              "    }\n",
              "\n",
              "    [theme=dark] .colab-df-convert {\n",
              "      background-color: #3B4455;\n",
              "      fill: #D2E3FC;\n",
              "    }\n",
              "\n",
              "    [theme=dark] .colab-df-convert:hover {\n",
              "      background-color: #434B5C;\n",
              "      box-shadow: 0px 1px 3px 1px rgba(0, 0, 0, 0.15);\n",
              "      filter: drop-shadow(0px 1px 2px rgba(0, 0, 0, 0.3));\n",
              "      fill: #FFFFFF;\n",
              "    }\n",
              "  </style>\n",
              "\n",
              "      <script>\n",
              "        const buttonEl =\n",
              "          document.querySelector('#df-9c85600b-6516-4174-ba88-037a11250739 button.colab-df-convert');\n",
              "        buttonEl.style.display =\n",
              "          google.colab.kernel.accessAllowed ? 'block' : 'none';\n",
              "\n",
              "        async function convertToInteractive(key) {\n",
              "          const element = document.querySelector('#df-9c85600b-6516-4174-ba88-037a11250739');\n",
              "          const dataTable =\n",
              "            await google.colab.kernel.invokeFunction('convertToInteractive',\n",
              "                                                     [key], {});\n",
              "          if (!dataTable) return;\n",
              "\n",
              "          const docLinkHtml = 'Like what you see? Visit the ' +\n",
              "            '<a target=\"_blank\" href=https://colab.research.google.com/notebooks/data_table.ipynb>data table notebook</a>'\n",
              "            + ' to learn more about interactive tables.';\n",
              "          element.innerHTML = '';\n",
              "          dataTable['output_type'] = 'display_data';\n",
              "          await google.colab.output.renderOutput(dataTable, element);\n",
              "          const docLink = document.createElement('div');\n",
              "          docLink.innerHTML = docLinkHtml;\n",
              "          element.appendChild(docLink);\n",
              "        }\n",
              "      </script>\n",
              "    </div>\n",
              "  </div>\n",
              "  "
            ]
          },
          "metadata": {},
          "execution_count": 6
        }
      ]
    },
    {
      "cell_type": "markdown",
      "source": [
        "### Кластеризация\n",
        "Так же как при обучении с учителем, кластеризация выполняется с помощью инструкции `CREATE MODEL` для таблицы, созданной в предыдущем разделе, но при этом необходимо удалить поле `station_name`, потому что оно однозначно идентифицирует каждый пункт проката:\n",
        "\n",
        "```sql\n",
        "CREATE OR REPLACE MODEL data.london_station_clusters OPTIONS(model_type='kmeans',\n",
        "        num_clusters=4,\n",
        "        standardize_features=true) AS\n",
        "SELECT * EXCEPT(station_name)\n",
        "FROM data.stationstats\n",
        "```\n",
        "\n",
        "В параметре `model_type` указано значение `kmeans`. Если параметр `num_clusters` отсутствует, BigQuery автоматически выберет разумное значение, основываясь на количестве записей в таблице. Также для этого набора данных необходимо указать еще один параметр, `standardize_features`, потому что разные столбцы имеют очень разные диапазоны. Расстояние до центра города составляет несколько километров, а количество и продолжительность поездок измеряются тысячами. Поэтому было бы неплохо, чтобы BigQuery масштабировала эти значения в диапазоны с нулевым средним и единичной дисперсией.\n",
        "\n",
        "### Исследование кластеров\n",
        "Чтобы определить, к какому кластеру принадлежит конкретный пункт проката, можно использовать `ML.PREDICT`. Вот запрос, который ищет кластер для каждого пункта проката со словом «Kennington» в названии:\n",
        "\n",
        "```sql\n",
        "SELECT * except(nearest_centroids_distance)\n",
        "FROM ML.PREDICT(\n",
        "  MODEL data.london_station_clusters,\n",
        "  (SELECT * FROM data.stationstats\n",
        "   WHERE REGEXP_CONTAINS(station_name, 'Kennington'))\n",
        ")\n",
        "```\n",
        "\n",
        "Для анализа этих групп можно исследовать атрибуты центроидов:\n",
        "\n",
        "```sql\n",
        "SELECT *\n",
        "FROM ML.CENTROIDS(MODEL data.london_station_clusters)\n",
        "ORDER BY centroid_id\n",
        "```\n",
        "\n",
        "Этот запрос возвращает таблицу, содержащую по одной записи для каждого атрибута кластера.\n",
        "\n",
        "Эту таблицу можно свести, выполнив следующий запрос:\n",
        "\n",
        "```sql\n",
        "CREATE TEMP FUNCTION cvalue(x ANY TYPE, col STRING) AS (\n",
        "  (SELECT value from unnest(x) WHERE name = col)\n",
        ");\n",
        "WITH T AS (\n",
        "  SELECT\n",
        "    centroid_id,\n",
        "    ARRAY_AGG(STRUCT(feature AS name,\n",
        "                     ROUND(numerical_value,1) AS value)\n",
        "  ORDER BY centroid_id) AS cluster\n",
        "  FROM ML.CENTROIDS(MODEL data.london_station_clusters)\n",
        "  GROUP BY centroid_id\n",
        ")\n",
        "SELECT\n",
        "  CONCAT('Cluster#', CAST(centroid_id AS STRING)) AS centroid,\n",
        "  cvalue(cluster, 'duration_weekdays') AS duration_weekdays,\n",
        "  cvalue(cluster, 'duration_weekends') AS duration_weekends,\n",
        "  cvalue(cluster, 'numtrips_weekdays') AS numtrips_weekdays,\n",
        "  cvalue(cluster, 'numtrips_weekends') AS numtrips_weekends,\n",
        "  cvalue(cluster, 'bikes_count') AS bikes_count,\n",
        "  cvalue(cluster, 'distance_from_city_center') AS distance_from_city_center\n",
        "FROM T\n",
        "ORDER BY centroid_id ASC\n",
        "```"
      ],
      "metadata": {
        "id": "UKsRU5ACczJ8"
      }
    },
    {
      "cell_type": "code",
      "source": [
        "from sklearn.cluster import KMeans\n",
        "from sklearn.pipeline import Pipeline\n",
        "from sklearn.preprocessing import StandardScaler"
      ],
      "metadata": {
        "id": "icGsWW-Ke6aB"
      },
      "execution_count": null,
      "outputs": []
    },
    {
      "cell_type": "code",
      "source": [
        "kmeans_pipeline = Pipeline(\n",
        "    [('scale', StandardScaler()),\n",
        "     ('kmeans', KMeans(4, random_state=0))]\n",
        ")"
      ],
      "metadata": {
        "id": "HFJbkLmDfWxF"
      },
      "execution_count": null,
      "outputs": []
    },
    {
      "cell_type": "code",
      "source": [
        "kmeans_data = df.drop(columns='station_name')\n",
        "kmeans_pipeline.fit(kmeans_data)"
      ],
      "metadata": {
        "colab": {
          "base_uri": "https://localhost:8080/"
        },
        "id": "eQOZy0TNfonE",
        "outputId": "6b50dcea-24df-4bc2-a9dc-b37471b90b36"
      },
      "execution_count": null,
      "outputs": [
        {
          "output_type": "execute_result",
          "data": {
            "text/plain": [
              "Pipeline(steps=[('scale', StandardScaler()),\n",
              "                ('kmeans', KMeans(n_clusters=4, random_state=0))])"
            ]
          },
          "metadata": {},
          "execution_count": 9
        }
      ]
    },
    {
      "cell_type": "code",
      "source": [
        "kmeans_data = kmeans_data.assign(cluster=kmeans_pipeline.predict(kmeans_data))"
      ],
      "metadata": {
        "id": "-GL3mvA8gMHU"
      },
      "execution_count": null,
      "outputs": []
    },
    {
      "cell_type": "markdown",
      "source": [
        "Для визуализации этой таблицы в веб-интерфейсе BigQuery щелкните на Explore in Data Studio (Исследовать в Data Studio), а затем выберите Table with bars. (Таблица со столбиками). Сделайте столбец centroid областью определения, а оставшиеся столбцы — значениями. "
      ],
      "metadata": {
        "id": "YCISOKICgx-I"
      }
    },
    {
      "cell_type": "code",
      "source": [
        "kmeans_data.groupby('cluster').size()"
      ],
      "metadata": {
        "colab": {
          "base_uri": "https://localhost:8080/"
        },
        "id": "djR6npsSxUpB",
        "outputId": "6bc8fb78-769a-487b-de98-35ce549668fa"
      },
      "execution_count": null,
      "outputs": [
        {
          "output_type": "execute_result",
          "data": {
            "text/plain": [
              "cluster\n",
              "0    331\n",
              "1    352\n",
              "2    103\n",
              "3     12\n",
              "dtype: int64"
            ]
          },
          "metadata": {},
          "execution_count": 23
        }
      ]
    },
    {
      "cell_type": "code",
      "source": [
        "kmeans_data.groupby('cluster').mean().style.bar(align='mid', width=80)"
      ],
      "metadata": {
        "colab": {
          "base_uri": "https://localhost:8080/",
          "height": 206
        },
        "id": "zAfwsFZ9gZwm",
        "outputId": "f379deea-94f3-41b6-f35f-5402aa8f3968"
      },
      "execution_count": null,
      "outputs": [
        {
          "output_type": "execute_result",
          "data": {
            "text/plain": [
              "<pandas.io.formats.style.Styler at 0x7fb453392650>"
            ],
            "text/html": [
              "<style type=\"text/css\">\n",
              "#T_b961d_row0_col0 {\n",
              "  width: 10em;\n",
              "  height: 80%;\n",
              "  background: linear-gradient(90deg,#d65f5f 38.1%, transparent 38.1%);\n",
              "}\n",
              "#T_b961d_row0_col1 {\n",
              "  width: 10em;\n",
              "  height: 80%;\n",
              "  background: linear-gradient(90deg,#d65f5f 44.8%, transparent 44.8%);\n",
              "}\n",
              "#T_b961d_row0_col2 {\n",
              "  width: 10em;\n",
              "  height: 80%;\n",
              "  background: linear-gradient(90deg,#d65f5f 30.7%, transparent 30.7%);\n",
              "}\n",
              "#T_b961d_row0_col3 {\n",
              "  width: 10em;\n",
              "  height: 80%;\n",
              "  background: linear-gradient(90deg,#d65f5f 13.7%, transparent 13.7%);\n",
              "}\n",
              "#T_b961d_row0_col4, #T_b961d_row2_col1, #T_b961d_row2_col5, #T_b961d_row3_col0, #T_b961d_row3_col2, #T_b961d_row3_col3 {\n",
              "  width: 10em;\n",
              "  height: 80%;\n",
              "  background: linear-gradient(90deg,#d65f5f 80.0%, transparent 80.0%);\n",
              "}\n",
              "#T_b961d_row0_col5 {\n",
              "  width: 10em;\n",
              "  height: 80%;\n",
              "  background: linear-gradient(90deg,#d65f5f 34.5%, transparent 34.5%);\n",
              "}\n",
              "#T_b961d_row1_col0 {\n",
              "  width: 10em;\n",
              "  height: 80%;\n",
              "  background: linear-gradient(90deg,#d65f5f 45.9%, transparent 45.9%);\n",
              "}\n",
              "#T_b961d_row1_col1 {\n",
              "  width: 10em;\n",
              "  height: 80%;\n",
              "  background: linear-gradient(90deg,#d65f5f 48.1%, transparent 48.1%);\n",
              "}\n",
              "#T_b961d_row1_col2 {\n",
              "  width: 10em;\n",
              "  height: 80%;\n",
              "  background: linear-gradient(90deg,#d65f5f 13.9%, transparent 13.9%);\n",
              "}\n",
              "#T_b961d_row1_col3, #T_b961d_row2_col3 {\n",
              "  width: 10em;\n",
              "  height: 80%;\n",
              "  background: linear-gradient(90deg,#d65f5f 9.4%, transparent 9.4%);\n",
              "}\n",
              "#T_b961d_row1_col4 {\n",
              "  width: 10em;\n",
              "  height: 80%;\n",
              "  background: linear-gradient(90deg,#d65f5f 25.5%, transparent 25.5%);\n",
              "}\n",
              "#T_b961d_row1_col5 {\n",
              "  width: 10em;\n",
              "  height: 80%;\n",
              "  background: linear-gradient(90deg,#d65f5f 75.1%, transparent 75.1%);\n",
              "}\n",
              "#T_b961d_row2_col0 {\n",
              "  width: 10em;\n",
              "  height: 80%;\n",
              "  background: linear-gradient(90deg,#d65f5f 67.2%, transparent 67.2%);\n",
              "}\n",
              "#T_b961d_row2_col2 {\n",
              "  width: 10em;\n",
              "  height: 80%;\n",
              "  background: linear-gradient(90deg,#d65f5f 11.2%, transparent 11.2%);\n",
              "}\n",
              "#T_b961d_row2_col4 {\n",
              "  width: 10em;\n",
              "  height: 80%;\n",
              "  background: linear-gradient(90deg,#d65f5f 72.7%, transparent 72.7%);\n",
              "}\n",
              "#T_b961d_row3_col1 {\n",
              "  width: 10em;\n",
              "  height: 80%;\n",
              "  background: linear-gradient(90deg,#d65f5f 70.8%, transparent 70.8%);\n",
              "}\n",
              "#T_b961d_row3_col4 {\n",
              "  width: 10em;\n",
              "  height: 80%;\n",
              "  background: linear-gradient(90deg,#d65f5f 23.8%, transparent 23.8%);\n",
              "}\n",
              "#T_b961d_row3_col5 {\n",
              "  width: 10em;\n",
              "  height: 80%;\n",
              "  background: linear-gradient(90deg,#d65f5f 61.6%, transparent 61.6%);\n",
              "}\n",
              "</style>\n",
              "<table id=\"T_b961d_\" class=\"dataframe\">\n",
              "  <thead>\n",
              "    <tr>\n",
              "      <th class=\"blank level0\" >&nbsp;</th>\n",
              "      <th class=\"col_heading level0 col0\" >duration_weekdays</th>\n",
              "      <th class=\"col_heading level0 col1\" >duration_weekends</th>\n",
              "      <th class=\"col_heading level0 col2\" >numtrips_weekdays</th>\n",
              "      <th class=\"col_heading level0 col3\" >numtrips_weekends</th>\n",
              "      <th class=\"col_heading level0 col4\" >bikes_count</th>\n",
              "      <th class=\"col_heading level0 col5\" >distance_from_city_center</th>\n",
              "    </tr>\n",
              "    <tr>\n",
              "      <th class=\"index_name level0\" >cluster</th>\n",
              "      <th class=\"blank col0\" >&nbsp;</th>\n",
              "      <th class=\"blank col1\" >&nbsp;</th>\n",
              "      <th class=\"blank col2\" >&nbsp;</th>\n",
              "      <th class=\"blank col3\" >&nbsp;</th>\n",
              "      <th class=\"blank col4\" >&nbsp;</th>\n",
              "      <th class=\"blank col5\" >&nbsp;</th>\n",
              "    </tr>\n",
              "  </thead>\n",
              "  <tbody>\n",
              "    <tr>\n",
              "      <th id=\"T_b961d_level0_row0\" class=\"row_heading level0 row0\" >0</th>\n",
              "      <td id=\"T_b961d_row0_col0\" class=\"data row0 col0\" >1086.757456</td>\n",
              "      <td id=\"T_b961d_row0_col1\" class=\"data row0 col1\" >1642.745566</td>\n",
              "      <td id=\"T_b961d_row0_col2\" class=\"data row0 col2\" >12815.661631</td>\n",
              "      <td id=\"T_b961d_row0_col3\" class=\"data row0 col3\" >3211.081571</td>\n",
              "      <td id=\"T_b961d_row0_col4\" class=\"data row0 col4\" >18.175227</td>\n",
              "      <td id=\"T_b961d_row0_col5\" class=\"data row0 col5\" >2.596607</td>\n",
              "    </tr>\n",
              "    <tr>\n",
              "      <th id=\"T_b961d_level0_row1\" class=\"row_heading level0 row1\" >1</th>\n",
              "      <td id=\"T_b961d_row1_col0\" class=\"data row1 col0\" >1309.308138</td>\n",
              "      <td id=\"T_b961d_row1_col1\" class=\"data row1 col1\" >1760.574171</td>\n",
              "      <td id=\"T_b961d_row1_col2\" class=\"data row1 col2\" >5801.426136</td>\n",
              "      <td id=\"T_b961d_row1_col3\" class=\"data row1 col3\" >2196.198864</td>\n",
              "      <td id=\"T_b961d_row1_col4\" class=\"data row1 col4\" >5.792614</td>\n",
              "      <td id=\"T_b961d_row1_col5\" class=\"data row1 col5\" >5.657608</td>\n",
              "    </tr>\n",
              "    <tr>\n",
              "      <th id=\"T_b961d_level0_row2\" class=\"row_heading level0 row2\" >2</th>\n",
              "      <td id=\"T_b961d_row2_col0\" class=\"data row2 col0\" >1916.297615</td>\n",
              "      <td id=\"T_b961d_row2_col1\" class=\"data row2 col1\" >2930.525410</td>\n",
              "      <td id=\"T_b961d_row2_col2\" class=\"data row2 col2\" >4695.660194</td>\n",
              "      <td id=\"T_b961d_row2_col3\" class=\"data row2 col3\" >2197.233010</td>\n",
              "      <td id=\"T_b961d_row2_col4\" class=\"data row2 col4\" >16.524272</td>\n",
              "      <td id=\"T_b961d_row2_col5\" class=\"data row2 col5\" >6.026821</td>\n",
              "    </tr>\n",
              "    <tr>\n",
              "      <th id=\"T_b961d_level0_row3\" class=\"row_heading level0 row3\" >3</th>\n",
              "      <td id=\"T_b961d_row3_col0\" class=\"data row3 col0\" >2282.150786</td>\n",
              "      <td id=\"T_b961d_row3_col1\" class=\"data row3 col1\" >2593.272058</td>\n",
              "      <td id=\"T_b961d_row3_col2\" class=\"data row3 col2\" >33410.583333</td>\n",
              "      <td id=\"T_b961d_row3_col3\" class=\"data row3 col3\" >18696.583333</td>\n",
              "      <td id=\"T_b961d_row3_col4\" class=\"data row3 col4\" >5.416667</td>\n",
              "      <td id=\"T_b961d_row3_col5\" class=\"data row3 col5\" >4.642399</td>\n",
              "    </tr>\n",
              "  </tbody>\n",
              "</table>\n"
            ]
          },
          "metadata": {},
          "execution_count": 21
        }
      ]
    },
    {
      "cell_type": "markdown",
      "source": [
        "Bз таблицы видно, что кластер 3 объединяет чрезвычайно загруженные пункты проката (см. столбцы с количеством поездок `num_trips`), находящиеся недалеко от центра города. Кластер 0 объединяет менее загруженные пункты проката недалеко от центра города. Кластер 2 включает удаленные от центра города пункты проката, которые, скорее всего, пользуются большим спросом в выходные для длительных поездок. Кластер 1 включает совсем маленькие пункты проката (см. столбец `bikes_count`), находящиеся вне центра города, возможно, в жилых районах. Основываясь на этих характеристиках и немного зная Лондон, можно придумать описательные названия для этих кластеров. Кластеру 3, вероятно, подойдет название «Туристическая зона», кластеру 0 — «Деловой район», кластеру 1 — «Дневные поездки», а кластеру 2 — «Пригородные пункты проката».\n",
        "\n"
      ],
      "metadata": {
        "id": "EXQn_LNUuAed"
      }
    },
    {
      "cell_type": "markdown",
      "source": [
        "### Принятие решений на основе данных\n",
        "Теперь полученные кластеры можно использовать для принятия различных решений. Предположим, что вы только что получили финансирование и можете увеличить число стоек для парковки велосипедов. На каких пунктах проката вы увеличили бы число парковочных мест? Не имея результатов кластеризации, можно было бы предположить, что наиболее подходящими кандидатами на увеличение числа мест являются пункты проката с большим количеством поездок и недостаточным количеством велосипедов — пункты в кластере 3. Но выполнив кластеризацию, вы теперь знаете, что эта группа пунктов проката обслуживает в основном туристов. Они не голосуют на выборах, поэтому добавим велосипеды в кластер 2 (пригородные пункты проката).\n",
        "\n",
        "Рассмотрим еще один пример: допустим, вы решили поэкспериментировать с новым типом замков. В каком кластере пунктов проката лучше провести этот эксперимент? Наиболее логичным, на первый взгляд, это было бы в деловом районе, то есть пункты проката с большим количеством велосипедов и достаточно большим числом поездок, чтобы обеспечить представительность результатов A/B-тестирования. С другой стороны, если у вас появилась возможность приобрести шоссейные велосипеды, на каких пунктах проката их лучше разместить? Кластер 2, включающий пункты проката, от которых люди отправляются в поездки за город на весь день, кажется удачным выбором.\n",
        "Очевидно, вы могли бы прийти к аналогичным решениям, каждый раз заново анализируя данные. Однако кластеризация, придумывание описательных имен и их использование для принятия решений выглядят намного проще и понятнее."
      ],
      "metadata": {
        "id": "YR8UYQOKhdve"
      }
    },
    {
      "cell_type": "markdown",
      "source": [
        "## Рекомендательные системы\n",
        "Коллаборативная (совместная) фильтрация позволяет подбирать рекомендуемые товары для пользователей или выбирать целевые группы. Отправной точкой является таблица с тремя столбцами: идентификатор пользователя, идентификатор товара и рейтинг, присвоенный пользователем данному товару. Эта таблица может быть разреженной — от пользователей не требуется, чтобы они оценили все имеющиеся товары. Опираясь только на имеющиеся оценки, метод коллаборативной фильтрации позволяет находить похожих пользователей или похожие товары и определять оценку, которую пользователь дал бы товару, которого он никогда не видел. Затем, исходя из полученных результатов, мы можем рекомендовать товары с самыми высокими прогнозируемыми оценками или выбирать для товаров целевые группы пользователей с самыми высокими прогнозируемыми оценками.\n",
        "\n",
        "Набор данных MovieLens\n",
        "Чтобы наглядно показать способы реализации рекомендательных систем, давай- те используем набор данных MovieLens. Это набор отзывов к фильмам, выпу- щенный исследовательской лабораторией GroupLens (https://grouplens.org/about/what-is-grouplens/) на кафедре информатики Университета штата Миннесота при финансовой поддержке Национального научного фонда США.\n",
        "В Cloud Shell загрузите данные в таблицу BigQuery, как показано ниже:\n",
        "\n",
        "```bash\n",
        "curl -O 'http://files.grouplens.org/datasets/movielens/ml-20m.zip'\n",
        "unzip ml-20m.zip\n",
        "bq --location=EU load --source_format=CSV \\\n",
        "     --autodetect ch09eu.movielens_ratings ml-20m/ratings.csv\n",
        "bq --location=EU load --source_format=CSV \\\n",
        "     --autodetect ch09eu.movielens_movies_raw ml-20m/movies.csv\n",
        "```\n",
        "\n",
        "Вот короткий и быстрый запрос, помогающий получить некоторые характеристики о наборе данных:\n",
        "\n",
        "```sql\n",
        "SELECT\n",
        "  COUNT(DISTINCT userId) numUsers,\n",
        "  COUNT(DISTINCT movieId) numMovies,\n",
        "  COUNT(*) totalRatings\n",
        "FROM ch09eu.movielens_ratings\n",
        "```"
      ],
      "metadata": {
        "id": "fH1bIK-Xp_dT"
      }
    },
    {
      "cell_type": "code",
      "source": [
        "!curl -O 'http://files.grouplens.org/datasets/movielens/ml-20m.zip'\n",
        "!unzip ml-20m.zip"
      ],
      "metadata": {
        "colab": {
          "base_uri": "https://localhost:8080/"
        },
        "id": "DXNRBj8jqchS",
        "outputId": "2624fcf7-5634-4a83-9958-63d5598f1ed8"
      },
      "execution_count": null,
      "outputs": [
        {
          "output_type": "stream",
          "name": "stdout",
          "text": [
            "  % Total    % Received % Xferd  Average Speed   Time    Time     Time  Current\n",
            "                                 Dload  Upload   Total   Spent    Left  Speed\n",
            "100  189M  100  189M    0     0  44.5M      0  0:00:04  0:00:04 --:--:-- 45.8M\n",
            "Archive:  ml-20m.zip\n",
            "   creating: ml-20m/\n",
            "  inflating: ml-20m/genome-scores.csv  \n",
            "  inflating: ml-20m/genome-tags.csv  \n",
            "  inflating: ml-20m/links.csv        \n",
            "  inflating: ml-20m/movies.csv       \n",
            "  inflating: ml-20m/ratings.csv      \n",
            "  inflating: ml-20m/README.txt       \n",
            "  inflating: ml-20m/tags.csv         \n"
          ]
        }
      ]
    },
    {
      "cell_type": "code",
      "source": [
        "movielens_movies_raw = pd.read_csv('ml-20m/movies.csv')\n",
        "movielens_ratings = pd.read_csv('ml-20m/ratings.csv')"
      ],
      "metadata": {
        "id": "hLhsbM0ls-lF"
      },
      "execution_count": null,
      "outputs": []
    },
    {
      "cell_type": "code",
      "source": [
        "movielens_ratings[['userId', 'movieId']].agg(pd.Series.nunique)"
      ],
      "metadata": {
        "colab": {
          "base_uri": "https://localhost:8080/"
        },
        "id": "YegI3K82rgMj",
        "outputId": "b08d2d78-6303-4486-cfe1-4d5d8623052b"
      },
      "execution_count": null,
      "outputs": [
        {
          "output_type": "execute_result",
          "data": {
            "text/plain": [
              "userId     138493\n",
              "movieId     26744\n",
              "dtype: int64"
            ]
          },
          "metadata": {},
          "execution_count": 14
        }
      ]
    },
    {
      "cell_type": "markdown",
      "source": [
        "Согласно результатам, возвращаемым этим запросом, набор данных включает отзывы более чем 138 000 пользователей на почти 27 000 фильмов и чуть более 20 миллионов оценок (рейтингов), что подтверждает успешную загрузку данных.\n",
        "Рассмотрим несколько первых фильмов, выполнив такой запрос:\n",
        "\n",
        "```sql\n",
        "SELECT *\n",
        "FROM ch09eu.movielens_movies_raw\n",
        "WHERE movieId < 5\n",
        "```"
      ],
      "metadata": {
        "id": "eAd2TMbJs_dv"
      }
    },
    {
      "cell_type": "code",
      "source": [
        "movielens_movies_raw.head()"
      ],
      "metadata": {
        "colab": {
          "base_uri": "https://localhost:8080/",
          "height": 206
        },
        "id": "nKmFb2nitkaK",
        "outputId": "0b76dfa3-6dd6-403b-f50c-3183c475914e"
      },
      "execution_count": null,
      "outputs": [
        {
          "output_type": "execute_result",
          "data": {
            "text/plain": [
              "   movieId                               title  \\\n",
              "0        1                    Toy Story (1995)   \n",
              "1        2                      Jumanji (1995)   \n",
              "2        3             Grumpier Old Men (1995)   \n",
              "3        4            Waiting to Exhale (1995)   \n",
              "4        5  Father of the Bride Part II (1995)   \n",
              "\n",
              "                                        genres  \n",
              "0  Adventure|Animation|Children|Comedy|Fantasy  \n",
              "1                   Adventure|Children|Fantasy  \n",
              "2                               Comedy|Romance  \n",
              "3                         Comedy|Drama|Romance  \n",
              "4                                       Comedy  "
            ],
            "text/html": [
              "\n",
              "  <div id=\"df-4cf69fb6-9d57-4a29-8973-947b6020e73e\">\n",
              "    <div class=\"colab-df-container\">\n",
              "      <div>\n",
              "<style scoped>\n",
              "    .dataframe tbody tr th:only-of-type {\n",
              "        vertical-align: middle;\n",
              "    }\n",
              "\n",
              "    .dataframe tbody tr th {\n",
              "        vertical-align: top;\n",
              "    }\n",
              "\n",
              "    .dataframe thead th {\n",
              "        text-align: right;\n",
              "    }\n",
              "</style>\n",
              "<table border=\"1\" class=\"dataframe\">\n",
              "  <thead>\n",
              "    <tr style=\"text-align: right;\">\n",
              "      <th></th>\n",
              "      <th>movieId</th>\n",
              "      <th>title</th>\n",
              "      <th>genres</th>\n",
              "    </tr>\n",
              "  </thead>\n",
              "  <tbody>\n",
              "    <tr>\n",
              "      <th>0</th>\n",
              "      <td>1</td>\n",
              "      <td>Toy Story (1995)</td>\n",
              "      <td>Adventure|Animation|Children|Comedy|Fantasy</td>\n",
              "    </tr>\n",
              "    <tr>\n",
              "      <th>1</th>\n",
              "      <td>2</td>\n",
              "      <td>Jumanji (1995)</td>\n",
              "      <td>Adventure|Children|Fantasy</td>\n",
              "    </tr>\n",
              "    <tr>\n",
              "      <th>2</th>\n",
              "      <td>3</td>\n",
              "      <td>Grumpier Old Men (1995)</td>\n",
              "      <td>Comedy|Romance</td>\n",
              "    </tr>\n",
              "    <tr>\n",
              "      <th>3</th>\n",
              "      <td>4</td>\n",
              "      <td>Waiting to Exhale (1995)</td>\n",
              "      <td>Comedy|Drama|Romance</td>\n",
              "    </tr>\n",
              "    <tr>\n",
              "      <th>4</th>\n",
              "      <td>5</td>\n",
              "      <td>Father of the Bride Part II (1995)</td>\n",
              "      <td>Comedy</td>\n",
              "    </tr>\n",
              "  </tbody>\n",
              "</table>\n",
              "</div>\n",
              "      <button class=\"colab-df-convert\" onclick=\"convertToInteractive('df-4cf69fb6-9d57-4a29-8973-947b6020e73e')\"\n",
              "              title=\"Convert this dataframe to an interactive table.\"\n",
              "              style=\"display:none;\">\n",
              "        \n",
              "  <svg xmlns=\"http://www.w3.org/2000/svg\" height=\"24px\"viewBox=\"0 0 24 24\"\n",
              "       width=\"24px\">\n",
              "    <path d=\"M0 0h24v24H0V0z\" fill=\"none\"/>\n",
              "    <path d=\"M18.56 5.44l.94 2.06.94-2.06 2.06-.94-2.06-.94-.94-2.06-.94 2.06-2.06.94zm-11 1L8.5 8.5l.94-2.06 2.06-.94-2.06-.94L8.5 2.5l-.94 2.06-2.06.94zm10 10l.94 2.06.94-2.06 2.06-.94-2.06-.94-.94-2.06-.94 2.06-2.06.94z\"/><path d=\"M17.41 7.96l-1.37-1.37c-.4-.4-.92-.59-1.43-.59-.52 0-1.04.2-1.43.59L10.3 9.45l-7.72 7.72c-.78.78-.78 2.05 0 2.83L4 21.41c.39.39.9.59 1.41.59.51 0 1.02-.2 1.41-.59l7.78-7.78 2.81-2.81c.8-.78.8-2.07 0-2.86zM5.41 20L4 18.59l7.72-7.72 1.47 1.35L5.41 20z\"/>\n",
              "  </svg>\n",
              "      </button>\n",
              "      \n",
              "  <style>\n",
              "    .colab-df-container {\n",
              "      display:flex;\n",
              "      flex-wrap:wrap;\n",
              "      gap: 12px;\n",
              "    }\n",
              "\n",
              "    .colab-df-convert {\n",
              "      background-color: #E8F0FE;\n",
              "      border: none;\n",
              "      border-radius: 50%;\n",
              "      cursor: pointer;\n",
              "      display: none;\n",
              "      fill: #1967D2;\n",
              "      height: 32px;\n",
              "      padding: 0 0 0 0;\n",
              "      width: 32px;\n",
              "    }\n",
              "\n",
              "    .colab-df-convert:hover {\n",
              "      background-color: #E2EBFA;\n",
              "      box-shadow: 0px 1px 2px rgba(60, 64, 67, 0.3), 0px 1px 3px 1px rgba(60, 64, 67, 0.15);\n",
              "      fill: #174EA6;\n",
              "    }\n",
              "\n",
              "    [theme=dark] .colab-df-convert {\n",
              "      background-color: #3B4455;\n",
              "      fill: #D2E3FC;\n",
              "    }\n",
              "\n",
              "    [theme=dark] .colab-df-convert:hover {\n",
              "      background-color: #434B5C;\n",
              "      box-shadow: 0px 1px 3px 1px rgba(0, 0, 0, 0.15);\n",
              "      filter: drop-shadow(0px 1px 2px rgba(0, 0, 0, 0.3));\n",
              "      fill: #FFFFFF;\n",
              "    }\n",
              "  </style>\n",
              "\n",
              "      <script>\n",
              "        const buttonEl =\n",
              "          document.querySelector('#df-4cf69fb6-9d57-4a29-8973-947b6020e73e button.colab-df-convert');\n",
              "        buttonEl.style.display =\n",
              "          google.colab.kernel.accessAllowed ? 'block' : 'none';\n",
              "\n",
              "        async function convertToInteractive(key) {\n",
              "          const element = document.querySelector('#df-4cf69fb6-9d57-4a29-8973-947b6020e73e');\n",
              "          const dataTable =\n",
              "            await google.colab.kernel.invokeFunction('convertToInteractive',\n",
              "                                                     [key], {});\n",
              "          if (!dataTable) return;\n",
              "\n",
              "          const docLinkHtml = 'Like what you see? Visit the ' +\n",
              "            '<a target=\"_blank\" href=https://colab.research.google.com/notebooks/data_table.ipynb>data table notebook</a>'\n",
              "            + ' to learn more about interactive tables.';\n",
              "          element.innerHTML = '';\n",
              "          dataTable['output_type'] = 'display_data';\n",
              "          await google.colab.output.renderOutput(dataTable, element);\n",
              "          const docLink = document.createElement('div');\n",
              "          docLink.innerHTML = docLinkHtml;\n",
              "          element.appendChild(docLink);\n",
              "        }\n",
              "      </script>\n",
              "    </div>\n",
              "  </div>\n",
              "  "
            ]
          },
          "metadata": {},
          "execution_count": 19
        }
      ]
    },
    {
      "cell_type": "markdown",
      "source": [
        "Строку с перечнем жанров можно преобразовать в массив и сохранить в другой таблице:\n",
        "\n",
        "```sql\n",
        "CREATE OR REPLACE TABLE ch09eu.movielens_movies AS SELECT\n",
        "* REPLACE(SPLIT(genres, \"|\") AS genres)\n",
        "FROM\n",
        "ch09eu.movielens_movies_raw\n",
        "```"
      ],
      "metadata": {
        "id": "_xr9s_7kt4dr"
      }
    },
    {
      "cell_type": "markdown",
      "source": [
        "## Разложение матрицы\n",
        "Разложение матрицы — это метод коллаборативной фильтрации, основанный на разложении матрицы рейтингов на два вектора, которые называют пользовательскими факторами и факторами товаров. Вектор пользовательских факторов является представлением `user_col` с небольшим числом измерений, а вектор факторов товаров — представлением `item_col`.\n",
        "\n",
        "Создать рекомендательную модель можно с помощью следующего запроса:\n",
        "\n",
        "```sql\n",
        "CREATE OR REPLACE MODEL ch09eu.movie_recommender\n",
        "options(model_type='matrix_factorization',\n",
        "        user_col='userId', item_col='movieId', rating_col='rating') AS\n",
        "SELECT\n",
        "userId, movieId, rating\n",
        "FROM ch09eu.movielens_ratings\n",
        "```\n",
        "\n",
        "Получившейся модели потребовался час для обучения, при этом потери на обучающих данных сначала выглядят крайне плохо, но затем сходятся к нулю в течение следующих четырех итераций.\n",
        "\n",
        "Однако потери на контрольных данных остаются довольно высокими — намного больше потерь на обучающих данных. Это говорит о переобучении, поэтому понадобится регуляризация.\n",
        "\n",
        "Попробуем так:\n",
        "\n",
        "```sql\n",
        "CREATE OR REPLACE MODEL ch09eu.movie_recommender_l2\n",
        "options(model_type='matrix_factorization',\n",
        "        user_col='userId', item_col='movieId',\n",
        "        rating_col='rating',\n",
        "        l2_reg=0.2) AS\n",
        "SELECT\n",
        "userId, movieId, rating\n",
        "FROM ch09eu.movielens_ratings\n",
        "```\n",
        "\n",
        "По умолчанию BigQuery выбирает количество факторов, равное $\\log_{2}$ от количества записей. В данном случае мы имеем 20 миллионов записей, поэтому число факторов было выбрано равным 24. Как и в случае с алгоритмом выбора числа кластеров в методе кластеризации $k$-средних, это вполне разумное значение по умолчанию, но нередко имеет смысл попробовать также числа примерно на 50% больше (36) и на треть меньше (16):\n",
        "\n",
        "```sql\n",
        "CREATE OR REPLACE MODEL ch09eu.movie_recommender_16\n",
        "options(model_type='matrix_factorization',\n",
        "        user_col='userId', item_col='movieId',\n",
        "        rating_col='rating',\n",
        "        l2_reg=0.2,\n",
        "        num_factors=16) AS\n",
        "SELECT\n",
        "userId, movieId, rating\n",
        "FROM ch09eu.movielens_ratings\n",
        "```\n",
        "\n",
        "В итоге мы обнаружили, что потери на контрольных данных при num_factors=16 оказались ниже (0.97), чем при num_factors=36 (1.67) и num_factors=24 (1.45). Мы могли бы продолжить эксперименты, но, скорее всего, столкнулись бы с эффектом уменьшения отдачи. Поэтому остановимся на числе факторов, равном 16, и продолжим.\n",
        "\n",
        "### Получение рекомендаций\n",
        "Имея обученную модель, вы можете генерировать рекомендации. Например, найдем лучшие комедийные фильмы, которые можно рекомендовать пользователю с идентификатором (userId) 903:\n",
        "\n",
        "```sql\n",
        "SELECT * FROM\n",
        "ML.PREDICT(MODEL ch09eu.movie_recommender_16, (\n",
        "  SELECT\n",
        "    movieId, title, 903 AS userId\n",
        "  FROM ch09eu.movielens_movies, UNNEST(genres) g\n",
        "  WHERE g = 'Comedy'\n",
        "))\n",
        "ORDER BY predicted_rating DESC\n",
        "LIMIT 5\n",
        "```\n",
        "В этом запросе мы вызываем функцию `ML.PREDICT`, передаем ей обученную модель рекомендаций и параметры `movieId` и `userId`, для которых требуется получить прогноз. В данном случае мы хотим получить рекомендации для единственного пользователя (с `userId = 903`), ограничившись фильмами в жанре комедии. Вот результат:\n",
        "\n",
        "|Row| predicted_rating| movieId| title| userId|\n",
        "|--|--|--|--|--|\n",
        "|1 |4.747231361947591|107434| Diplomatic Immunity (2009– )| 903|\n",
        "|2 |4.372639637398302|62206 |Supermarket Woman (Sûpâ no onna) (1996)| 903|\n",
        "|3 |4.325021974040314|122441|Tales That Witness Madness (1973)| 903|\n",
        "|4 |4.296062517241643|120313| Otakus in Love (2004) |903|\n",
        "|5 |4.277251207896746|130347| Bill Hicks: Sane Man (1989) |903|\n",
        "\n",
        "### Фильтрация фильмов, оцененных пользователем\n",
        "В этот список могут входить также фильмы, которые пользователь уже видел и оценивал в прошлом. Давайте удалим их:\n",
        "```sql\n",
        "SELECT * FROM\n",
        "ML.PREDICT(MODEL ch09eu.movie_recommender_16, (\n",
        "  WITH seen AS (\n",
        "    SELECT ARRAY_AGG(movieId) AS movies\n",
        "    FROM ch09eu.movielens_ratings\n",
        "    WHERE userId = 903\n",
        ")\n",
        "  SELECT\n",
        "    movieId, title, 903 AS userId\n",
        "  FROM ch09eu.movielens_movies, UNNEST(genres) g, seen\n",
        "WHERE g = 'Comedy' AND movieId NOT IN UNNEST(seen.movies) ))\n",
        "ORDER BY predicted_rating DESC\n",
        "LIMIT 5\n",
        "```\n",
        "Так получилось, что для этого пользователя данный запрос вернул тот же набор фильмов — фильмов с самыми высокими прогнозируемыми рейтингами, которые пользователь еще не видел.\n",
        "\n",
        "### Выбор целевой аудитории\n",
        "В предыдущем разделе мы показали, как определить фильмы, которые ука- занный пользователь мог бы оценить наиболее высоко. Но иногда требуется решить обратную задачу — найти клиентов, которые оценят указанный товар. К примеру, вы хотите получить больше отзывов для фильма с `movieId=96481`, имеющего только одну оценку, и с этой целью вам нужно разослать предложения 100 пользователям, которые с большой долей вероятности высоко его оценят. Найти таких пользователей можно так:\n",
        "\n",
        "```sql\n",
        "SELECT * FROM\n",
        "ML.PREDICT(MODEL ch09eu.movie_recommender_16, (\n",
        "  WITH allUsers AS (\n",
        "    SELECT DISTINCT userId\n",
        "    FROM ch09eu.movielens_ratings\n",
        "  )\n",
        "  SELECT\n",
        "    96481 AS movieId,\n",
        "    (SELECT title FROM ch09eu.movielens_movies WHERE movieId=96481) title,\n",
        "      userId\n",
        "    FROM\n",
        "      allUsers\n",
        "))\n",
        "ORDER BY predicted_rating DESC\n",
        "LIMIT 100\n",
        "```\n",
        "\n",
        "### Пакетные прогнозы для всех пользователей и фильмов\n",
        "А что, если вы захотите спрогнозировать оценку для каждой комбинации пользователя и фильма? Чтобы не извлекать отдельных пользователей и фильмы, как в предыдущем запросе, можно воспользоваться удобной функцией пакетного прогнозирования для всех `movieId` и `userId`, имевшихся на этапе обучения:\n",
        "\n",
        "```sql\n",
        "SELECT *\n",
        "FROM ML.RECOMMEND(MODEL ch09eu.movie_recommender_16)\n",
        "```\n",
        "\n",
        "Как было показано в предыдущем разделе, можно отфильтровать фильмы, которые пользователь уже видел и оценивал в прошлом. Причина, по которой ранее просмотренные фильмы не фильтруются по умолчанию, заключается в том, что иногда (например, представьте, что вы подбираете рекомендуемые рестораны) требуется рекомендовать что-то (например, рестораны), что пользователю уже понравилось в прошлом.\n",
        "\n",
        "### Включение информации о пользователях и фильмах\n",
        "Подход на основе разложения матрицы не использует информацию о пользователях или фильмах, которая недоступна в матрице рейтингов. Однако на практике у исследователя часто имеется дополнительная информация о пользователях (например, город проживания, годовой доход и расход и т. д.) и почти всегда есть масса дополнительной информации о товарах. Как включить эту информацию в модель рекомендаций?\n",
        "\n",
        "Прежде всего важно понимать, что пользовательские факторы и факторы товаров, получающиеся в результате разложения матрицы, в итоге являются краткими представлениями информации о пользователях и товарах, доступных в матрице рейтингов. Мы можем объединить эти данные с другой имеющейся у нас информацией и создать регрессионную модель для прогнозирования рейтинга.\n",
        "\n",
        "#### Получение факторов\n",
        "Получить пользовательские факторы или факторы товаров можно с помощью `ML`.WEIGHTS. Например, ниже показано, как получить факторы товаров для `movieId=96481` и пользовательские факторы для `userId=54192`:\n",
        "\n",
        "```sql\n",
        "SELECT\n",
        "  processed_input\n",
        "  , feature\n",
        "  , TO_JSON_STRING(factor_weights)\n",
        "  , intercept\n",
        "FROM ML.WEIGHTS(MODEL ch09eu.movie_recommender_16)\n",
        "WHERE\n",
        "  (processed_input = 'movieId' AND feature = '96481')\n",
        "  OR\n",
        "  (processed_input = 'userId' AND feature = '54192')\n",
        "```\n",
        "\n",
        "Умножая эти веса и прибавляя поправку `intercept`, можно получить прогнозируемый рейтинг для данной комбинации `movieId` и `userId`.\n",
        "Эти веса также играют роль низкоразмерного представления фильма и поведения пользователя. Вы можете создать регрессионную модель для прогнозирования рейтинга с учетом пользовательских факторов, факторов товаров и любой другой известной информации о пользователях и товарах.\n",
        "\n",
        "#### Создание входных признаков\n",
        "Набор данных MovieLens не содержит никакой информации о пользователях и очень мало информации о самих фильмах. Чтобы это проиллюстрировать, добавим некоторую синтетическую информацию о пользователях:\n",
        "\n",
        "```sql\n",
        "CREATE OR REPLACE TABLE ch09eu.movielens_users AS\n",
        "SELECT\n",
        "userId\n",
        ", RAND() * COUNT(rating) AS loyalty\n",
        ", CONCAT(SUBSTR(CAST(userId AS STRING), 0, 2)) AS postcode\n",
        "FROM\n",
        "ch09eu.movielens_ratings\n",
        "GROUP BY userId\n",
        "```\n",
        "\n",
        "Входные признаки, относящиеся к пользователям, можно получить путем соединения пользовательской таблицы с весами модели машинного обучения и выбора информации о пользователях и пользовательских факторов из массива весов:\n",
        "\n",
        "```sql\n",
        "WITH userFeatures AS (\n",
        "  SELECT\n",
        "u.*\n",
        ", (SELECT ARRAY_AGG(weight) FROM UNNEST(factor_weights)) AS user_factors FROM\n",
        "    ch09eu.movielens_users u\n",
        "  JOIN\n",
        "    ML.WEIGHTS(MODEL ch09eu.movie_recommender_16) w\n",
        "  ON\n",
        "    processed_input = 'userId' AND feature = CAST(u.userId AS STRING)\n",
        ")\n",
        "SELECT * FROM userFeatures\n",
        "LIMIT 5\n",
        "```\n",
        "\n",
        "Точно так же можно получить признаки товаров на основе данных о фильмах, только при этом вам придется решить, как обрабатывать жанр, потому что фильм относится к нескольким жанрам. Если вы решите для каждого жанра создать отдельную запись в обучающих данных, сконструировать признаки товаров можно так:\n",
        "\n",
        "```sql\n",
        "WITH productFeatures AS (\n",
        "  SELECT\n",
        "    p.* EXCEPT(genres)\n",
        "    ,g\n",
        "    , (SELECT ARRAY_AGG(weight) FROM UNNEST(factor_weights)) AS product_factors\n",
        "  FROM\n",
        "    ch09eu.movielens_movies p, UNNEST(genres) g\n",
        "JOIN\n",
        "  ML.WEIGHTS(MODEL ch09eu.movie_recommender_16) w\n",
        "ON\n",
        "  processed_input = 'movieId' AND feature = CAST(p.movieId AS STRING)\n",
        ")\n",
        "SELECT * FROM productFeatures\n",
        "LIMIT 5\n",
        "```\n",
        "\n",
        "Комбинируя эти два предложения `WITH` и извлекая рейтинг, соответствующий комбинации `movieId-userId` (если она существует в таблице рейтингов), можно создать обучающий набор данных:\n",
        "\n",
        "```sql\n",
        "CREATE OR REPLACE TABLE ch09eu.movielens_hybrid_dataset AS\n",
        "WITH userFeatures AS (\n",
        "  SELECT\n",
        "u.*,\n",
        "    (SELECT ARRAY_AGG(weight) FROM UNNEST(factor_weights)) AS user_factors\n",
        "  FROM\n",
        "    ch09eu.movielens_users u\n",
        "  JOIN\n",
        "    ML.WEIGHTS(MODEL ch09eu.movie_recommender_16) w\n",
        "  ON\n",
        "    processed_input = 'userId' AND feature = CAST(u.userId AS STRING)\n",
        "),\n",
        "productFeatures AS (\n",
        "  SELECT\n",
        "p.* EXCEPT(genres)\n",
        ",g\n",
        ", (SELECT ARRAY_AGG(weight) FROM UNNEST(factor_weights)) AS product_factors\n",
        "  FROM\n",
        "    ch09eu.movielens_movies p, UNNEST(genres) g\n",
        "JOIN\n",
        "    ML.WEIGHTS(MODEL ch09eu.movie_recommender_16) w\n",
        "  ON\n",
        "    processed_input = 'movieId' AND feature = CAST(p.movieId AS STRING)\n",
        ")\n",
        "SELECT p.* EXCEPT(movieId), u.* EXCEPT(userId), rating\n",
        "FROM productFeatures p, userFeatures u\n",
        "JOIN\n",
        "  ch09eu.movielens_ratings r\n",
        "ON\n",
        "  r.movieId = p.movieId AND r.userId = u.userId\n",
        "```\n",
        "\n",
        "Фактически мы получили пару атрибутов, характеризующих фильмы, массив факторов товара, соответствующих фильму, пару атрибутов, характеризующих пользователя, и массив пользовательских факторов, соответствующих этому пользователю. Они образуют входные признаки для «гибридной» модели рекомендаций, которая строится на основе модели разложения матрицы и добавляет метаданные о пользователях и фильмах."
      ],
      "metadata": {
        "id": "4AohC1Rxr_xS"
      }
    },
    {
      "cell_type": "code",
      "source": [
        ""
      ],
      "metadata": {
        "id": "73vb0sP3wYhk"
      },
      "execution_count": null,
      "outputs": []
    }
  ],
  "metadata": {
    "kernelspec": {
      "display_name": "Python 3",
      "language": "python",
      "name": "python3"
    },
    "language_info": {
      "codemirror_mode": {
        "name": "ipython",
        "version": 3
      },
      "file_extension": ".py",
      "mimetype": "text/x-python",
      "name": "python",
      "nbconvert_exporter": "python",
      "pygments_lexer": "ipython3",
      "version": "3.8.3"
    },
    "colab": {
      "name": "london_bicycles.ipynb",
      "provenance": []
    }
  },
  "nbformat": 4,
  "nbformat_minor": 0
}