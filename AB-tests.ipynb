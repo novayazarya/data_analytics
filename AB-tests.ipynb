{
 "cells": [
  {
   "cell_type": "markdown",
   "metadata": {
    "id": "3FXcrLKNrxTd"
   },
   "source": [
    "# A/B тесты\n",
    "\n",
    "Компания по доставке пиццы, работа над приложением для курьеров.\n",
    "Есть проблема: к вечеру скорость доставки падает из-за того, что курьеры уходят домой после рабочего дня, а количество заказов лишь растет. Это приводит к тому, что в момент пересмены доставка очень сильно проседает в эффективности. \n",
    "\n",
    "Data scientist-ы придумали новый алгоритм, который позволяет курьерам запланировать свои последние заказы перед окончанием рабочего дня так, чтобы их маршрут доставки совпадал с маршрутом до дома. То есть, чтобы курьеры доставляли последние свои заказы за день как бы \"по пути\" домой. \n",
    "\n",
    "Вы вместе с командой решили раскатить A/B тест на две равные группы курьеров. Часть курьеров использует старый алгоритм без опции \"по пути\", другие видят в своем приложении эту опцию и могут ее выбрать. Ваша задача – проанализировать данные эксперимента и помочь бизнесу принять решение о раскатке новой фичи на всех курьеров."
   ]
  },
  {
   "cell_type": "markdown",
   "metadata": {
    "id": "hH4RNdVKrxTh"
   },
   "source": [
    "Сначала формулируем основные гипотезы:\n",
    "\n",
    "$H_0$ - Разницы между средним временем доставки в тестовой и контрольной группе нет\n",
    "\n",
    "$H_1$ - Разница между средним временем доставки в тестовой и контрольной группе есть"
   ]
  },
  {
   "cell_type": "code",
   "execution_count": 52,
   "metadata": {
    "id": "Me1jt7kBrxTj"
   },
   "outputs": [],
   "source": [
    "import pandas as pd\n",
    "import numpy as np\n",
    "import seaborn as sns\n",
    "import matplotlib.pyplot as plt\n",
    "import scipy\n",
    "from scipy import stats\n",
    "import pandas.util.testing as tm"
   ]
  },
  {
   "cell_type": "code",
   "execution_count": 2,
   "metadata": {
    "colab": {
     "base_uri": "https://localhost:8080/",
     "height": 204
    },
    "id": "KUSYGuGBrxTl",
    "outputId": "bda88e1d-ef83-4bb4-924f-bd170722ccf3"
   },
   "outputs": [
    {
     "data": {
      "text/html": [
       "<div>\n",
       "<style scoped>\n",
       "    .dataframe tbody tr th:only-of-type {\n",
       "        vertical-align: middle;\n",
       "    }\n",
       "\n",
       "    .dataframe tbody tr th {\n",
       "        vertical-align: top;\n",
       "    }\n",
       "\n",
       "    .dataframe thead th {\n",
       "        text-align: right;\n",
       "    }\n",
       "</style>\n",
       "<table border=\"1\" class=\"dataframe\">\n",
       "  <thead>\n",
       "    <tr style=\"text-align: right;\">\n",
       "      <th></th>\n",
       "      <th>order_id</th>\n",
       "      <th>delivery_time</th>\n",
       "      <th>district</th>\n",
       "      <th>experiment_group</th>\n",
       "    </tr>\n",
       "  </thead>\n",
       "  <tbody>\n",
       "    <tr>\n",
       "      <th>0</th>\n",
       "      <td>3159</td>\n",
       "      <td>44.0</td>\n",
       "      <td>Purlieus</td>\n",
       "      <td>control</td>\n",
       "    </tr>\n",
       "    <tr>\n",
       "      <th>1</th>\n",
       "      <td>10426</td>\n",
       "      <td>51.0</td>\n",
       "      <td>Purlieus</td>\n",
       "      <td>control</td>\n",
       "    </tr>\n",
       "    <tr>\n",
       "      <th>2</th>\n",
       "      <td>9155</td>\n",
       "      <td>46.0</td>\n",
       "      <td>Purlieus</td>\n",
       "      <td>control</td>\n",
       "    </tr>\n",
       "    <tr>\n",
       "      <th>3</th>\n",
       "      <td>10699</td>\n",
       "      <td>34.0</td>\n",
       "      <td>Purlieus</td>\n",
       "      <td>control</td>\n",
       "    </tr>\n",
       "    <tr>\n",
       "      <th>4</th>\n",
       "      <td>10061</td>\n",
       "      <td>43.0</td>\n",
       "      <td>Purlieus</td>\n",
       "      <td>control</td>\n",
       "    </tr>\n",
       "  </tbody>\n",
       "</table>\n",
       "</div>"
      ],
      "text/plain": [
       "   order_id  delivery_time  district experiment_group\n",
       "0      3159           44.0  Purlieus          control\n",
       "1     10426           51.0  Purlieus          control\n",
       "2      9155           46.0  Purlieus          control\n",
       "3     10699           34.0  Purlieus          control\n",
       "4     10061           43.0  Purlieus          control"
      ]
     },
     "execution_count": 2,
     "metadata": {
      "tags": []
     },
     "output_type": "execute_result"
    }
   ],
   "source": [
    "delivery = pd.read_csv('https://stepik.org/media/attachments/lesson/385916/experiment_lesson_4.csv')\n",
    "delivery.head()"
   ]
  },
  {
   "cell_type": "code",
   "execution_count": 3,
   "metadata": {
    "colab": {
     "base_uri": "https://localhost:8080/"
    },
    "id": "w1SalWZ5rxTo",
    "outputId": "ac7ec5bc-9841-4361-9291-3fce63cf4903"
   },
   "outputs": [
    {
     "data": {
      "text/plain": [
       "order_id              int64\n",
       "delivery_time       float64\n",
       "district             object\n",
       "experiment_group     object\n",
       "dtype: object"
      ]
     },
     "execution_count": 3,
     "metadata": {
      "tags": []
     },
     "output_type": "execute_result"
    }
   ],
   "source": [
    "#проверяем типы данных\n",
    "delivery.dtypes"
   ]
  },
  {
   "cell_type": "markdown",
   "metadata": {
    "id": "gCtLBcOPrxTo"
   },
   "source": [
    "Смотрим на графики распределения контрольной и тестовой групп"
   ]
  },
  {
   "cell_type": "code",
   "execution_count": 5,
   "metadata": {
    "colab": {
     "base_uri": "https://localhost:8080/",
     "height": 265
    },
    "id": "7kia-uwNrxTp",
    "outputId": "da1f61ae-477f-4ac8-c7c1-6101ecbfc500"
   },
   "outputs": [
    {
     "data": {
      "image/png": "[encoded data removed]",
      "text/plain": [
       "<Figure size 432x288 with 1 Axes>"
      ]
     },
     "metadata": {
      "needs_background": "light",
      "tags": []
     },
     "output_type": "display_data"
    }
   ],
   "source": [
    "delivery.query('experiment_group == \"control\"') \\\n",
    "        .groupby('district') \\\n",
    "        .delivery_time \\\n",
    "        .hist();"
   ]
  },
  {
   "cell_type": "code",
   "execution_count": 7,
   "metadata": {
    "colab": {
     "base_uri": "https://localhost:8080/",
     "height": 265
    },
    "id": "zJb8M_VKrxTq",
    "outputId": "eb25ed38-a385-4ab4-b4b4-d1c9e8ab5c34"
   },
   "outputs": [
    {
     "data": {
      "image/png": "[encoded data removed]",
      "text/plain": [
       "<Figure size 432x288 with 1 Axes>"
      ]
     },
     "metadata": {
      "needs_background": "light",
      "tags": []
     },
     "output_type": "display_data"
    }
   ],
   "source": [
    "delivery.query('experiment_group == \"test\"') \\\n",
    "        .groupby('district') \\\n",
    "        .delivery_time \\\n",
    "        .hist();"
   ]
  },
  {
   "cell_type": "code",
   "execution_count": 8,
   "metadata": {
    "colab": {
     "base_uri": "https://localhost:8080/",
     "height": 142
    },
    "id": "vFTw7R7srxTr",
    "outputId": "1c87041e-4846-4b30-e7b2-428e669fe4ba"
   },
   "outputs": [
    {
     "data": {
      "text/html": [
       "<div>\n",
       "<style scoped>\n",
       "    .dataframe tbody tr th:only-of-type {\n",
       "        vertical-align: middle;\n",
       "    }\n",
       "\n",
       "    .dataframe tbody tr th {\n",
       "        vertical-align: top;\n",
       "    }\n",
       "\n",
       "    .dataframe thead th {\n",
       "        text-align: right;\n",
       "    }\n",
       "</style>\n",
       "<table border=\"1\" class=\"dataframe\">\n",
       "  <thead>\n",
       "    <tr style=\"text-align: right;\">\n",
       "      <th></th>\n",
       "      <th>order_id</th>\n",
       "    </tr>\n",
       "    <tr>\n",
       "      <th>experiment_group</th>\n",
       "      <th></th>\n",
       "    </tr>\n",
       "  </thead>\n",
       "  <tbody>\n",
       "    <tr>\n",
       "      <th>control</th>\n",
       "      <td>10092</td>\n",
       "    </tr>\n",
       "    <tr>\n",
       "      <th>test</th>\n",
       "      <td>10104</td>\n",
       "    </tr>\n",
       "  </tbody>\n",
       "</table>\n",
       "</div>"
      ],
      "text/plain": [
       "                  order_id\n",
       "experiment_group          \n",
       "control              10092\n",
       "test                 10104"
      ]
     },
     "execution_count": 8,
     "metadata": {
      "tags": []
     },
     "output_type": "execute_result"
    }
   ],
   "source": [
    "#смотрим на количество наблюдений в обеих группах\n",
    "delivery.groupby('experiment_group').agg({'order_id' : 'count'})"
   ]
  },
  {
   "cell_type": "code",
   "execution_count": 26,
   "metadata": {
    "id": "2HQAodn7tq-n"
   },
   "outputs": [],
   "source": [
    "test = delivery.query('experiment_group == \"test\"').delivery_time\n",
    "control = delivery.query('experiment_group == \"control\"').delivery_time"
   ]
  },
  {
   "cell_type": "markdown",
   "metadata": {
    "id": "s6Mvk-8QrxTr"
   },
   "source": [
    "Проверим выполнение условий на нормальность и посчитаем стандартное отклонение в тесте и в контроле."
   ]
  },
  {
   "cell_type": "code",
   "execution_count": 16,
   "metadata": {
    "colab": {
     "base_uri": "https://localhost:8080/"
    },
    "id": "bGi45LknrxTs",
    "outputId": "d5562feb-3f12-4b3f-f040-f84bf92e06c1"
   },
   "outputs": [
    {
     "data": {
      "text/plain": [
       "(0.9954919219017029, 0.0048313504084944725)"
      ]
     },
     "execution_count": 16,
     "metadata": {
      "tags": []
     },
     "output_type": "execute_result"
    }
   ],
   "source": [
    "stats.shapiro(control.sample(1000))"
   ]
  },
  {
   "cell_type": "code",
   "execution_count": 11,
   "metadata": {
    "colab": {
     "base_uri": "https://localhost:8080/"
    },
    "id": "37FrBjVDrxTt",
    "outputId": "50ca881e-257f-46ec-9df7-6949de55ba0a"
   },
   "outputs": [
    {
     "data": {
      "text/plain": [
       "(0.9973248839378357, 0.09760621935129166)"
      ]
     },
     "execution_count": 11,
     "metadata": {
      "tags": []
     },
     "output_type": "execute_result"
    }
   ],
   "source": [
    "stats.shapiro(test.sample(1000))"
   ]
  },
  {
   "cell_type": "markdown",
   "metadata": {
    "id": "4-iui8eOrxTu"
   },
   "source": [
    "Видим, что pvalue > 0.05, значит мы не отклоняем нулевую гипотезу о нормальности распределения"
   ]
  },
  {
   "cell_type": "code",
   "execution_count": 17,
   "metadata": {
    "colab": {
     "base_uri": "https://localhost:8080/"
    },
    "id": "cRlPQVWZrxTu",
    "outputId": "bbaf45d0-4bc1-459b-f6c6-bd78d67eb9e7"
   },
   "outputs": [
    {
     "data": {
      "text/plain": [
       "9.882819260031312"
      ]
     },
     "execution_count": 17,
     "metadata": {
      "tags": []
     },
     "output_type": "execute_result"
    }
   ],
   "source": [
    "#стандартное отклонение в контрольной группе\n",
    "np.std(control)"
   ]
  },
  {
   "cell_type": "code",
   "execution_count": 18,
   "metadata": {
    "colab": {
     "base_uri": "https://localhost:8080/"
    },
    "id": "6t1NPhV2rxTv",
    "outputId": "e226ab5f-dad7-4612-e3f1-dcc31ae5aea8"
   },
   "outputs": [
    {
     "data": {
      "text/plain": [
       "9.989522000653128"
      ]
     },
     "execution_count": 18,
     "metadata": {
      "tags": []
     },
     "output_type": "execute_result"
    }
   ],
   "source": [
    "#стандартное отклонение в тестовой группе\n",
    "np.std(test)"
   ]
  },
  {
   "cell_type": "markdown",
   "metadata": {
    "id": "nbHb2DvftfdR"
   },
   "source": [
    "Теперь сравниваем средние в тесте и контроле (с помощью t-test Стьюдента)"
   ]
  },
  {
   "cell_type": "code",
   "execution_count": 20,
   "metadata": {
    "colab": {
     "base_uri": "https://localhost:8080/"
    },
    "id": "29YjEeV2rxTw",
    "outputId": "fd2bc8d9-a1bc-4dc6-b15a-b703a4219788"
   },
   "outputs": [
    {
     "data": {
      "text/plain": [
       "Ttest_indResult(statistic=-43.03582663183714, pvalue=0.0)"
      ]
     },
     "execution_count": 20,
     "metadata": {
      "tags": []
     },
     "output_type": "execute_result"
    }
   ],
   "source": [
    "stats.ttest_ind(control, test)"
   ]
  },
  {
   "cell_type": "code",
   "execution_count": 24,
   "metadata": {
    "colab": {
     "base_uri": "https://localhost:8080/"
    },
    "id": "vgSBCd9su79H",
    "outputId": "3fb2c17b-97ca-4b86-d432-f309d4263220"
   },
   "outputs": [
    {
     "data": {
      "text/plain": [
       "(45.065101070154576, 39.04681314330958)"
      ]
     },
     "execution_count": 24,
     "metadata": {
      "tags": []
     },
     "output_type": "execute_result"
    }
   ],
   "source": [
    "test.mean(), control.mean()"
   ]
  },
  {
   "cell_type": "code",
   "execution_count": 27,
   "metadata": {
    "colab": {
     "base_uri": "https://localhost:8080/"
    },
    "id": "PL9Jx9RwrxTx",
    "outputId": "d6f3240c-dd6d-4b09-d6d5-4966f86d617e"
   },
   "outputs": [
    {
     "data": {
      "text/plain": [
       "-13.354653121660812"
      ]
     },
     "execution_count": 27,
     "metadata": {
      "tags": []
     },
     "output_type": "execute_result"
    }
   ],
   "source": [
    "(test.mean() - control.mean()) * 100 / control.mean()"
   ]
  },
  {
   "cell_type": "markdown",
   "metadata": {
    "id": "JngI0CTlrxTy"
   },
   "source": [
    "Вывод:\n",
    "    В результате проведения А/B теста мы подтвердили, что новый алгоритм статистически значимо уменьшил среднее время доставки (следовательно, имеет смысл вводить данное обновление). Среднее время доставки уменьшилось на 13%."
   ]
  },
  {
   "cell_type": "markdown",
   "metadata": {
    "id": "3l_9JN9Gx5tz"
   },
   "source": [
    "***\n",
    "## Задача 2\n",
    "Посмотрим, что известно и что требуется:\n",
    "\n",
    "В контрольной группе (а) 1928 платящих из 202103. В тестовой группе (b) 1805 платящих из 202667. Известно, что ARPU в тестовой группе выше на 5%, чем в контрольной.\n",
    "\n",
    "Какой набор предложений можно считать лучшим? Какие метрики стоит проанализировать для принятия правильного решения и как?"
   ]
  },
  {
   "cell_type": "code",
   "execution_count": 28,
   "metadata": {
    "colab": {
     "base_uri": "https://localhost:8080/",
     "height": 419
    },
    "id": "IiGQ8rX3xo53",
    "outputId": "337c6721-c90e-429a-ca2c-d5fc86a096dc"
   },
   "outputs": [
    {
     "data": {
      "text/html": [
       "<div>\n",
       "<style scoped>\n",
       "    .dataframe tbody tr th:only-of-type {\n",
       "        vertical-align: middle;\n",
       "    }\n",
       "\n",
       "    .dataframe tbody tr th {\n",
       "        vertical-align: top;\n",
       "    }\n",
       "\n",
       "    .dataframe thead th {\n",
       "        text-align: right;\n",
       "    }\n",
       "</style>\n",
       "<table border=\"1\" class=\"dataframe\">\n",
       "  <thead>\n",
       "    <tr style=\"text-align: right;\">\n",
       "      <th></th>\n",
       "      <th>user_id</th>\n",
       "      <th>revenue</th>\n",
       "      <th>testgroup</th>\n",
       "    </tr>\n",
       "  </thead>\n",
       "  <tbody>\n",
       "    <tr>\n",
       "      <th>0</th>\n",
       "      <td>1</td>\n",
       "      <td>0</td>\n",
       "      <td>b</td>\n",
       "    </tr>\n",
       "    <tr>\n",
       "      <th>1</th>\n",
       "      <td>2</td>\n",
       "      <td>0</td>\n",
       "      <td>a</td>\n",
       "    </tr>\n",
       "    <tr>\n",
       "      <th>2</th>\n",
       "      <td>3</td>\n",
       "      <td>0</td>\n",
       "      <td>a</td>\n",
       "    </tr>\n",
       "    <tr>\n",
       "      <th>3</th>\n",
       "      <td>4</td>\n",
       "      <td>0</td>\n",
       "      <td>b</td>\n",
       "    </tr>\n",
       "    <tr>\n",
       "      <th>4</th>\n",
       "      <td>5</td>\n",
       "      <td>0</td>\n",
       "      <td>b</td>\n",
       "    </tr>\n",
       "    <tr>\n",
       "      <th>...</th>\n",
       "      <td>...</td>\n",
       "      <td>...</td>\n",
       "      <td>...</td>\n",
       "    </tr>\n",
       "    <tr>\n",
       "      <th>404765</th>\n",
       "      <td>404766</td>\n",
       "      <td>0</td>\n",
       "      <td>a</td>\n",
       "    </tr>\n",
       "    <tr>\n",
       "      <th>404766</th>\n",
       "      <td>404767</td>\n",
       "      <td>0</td>\n",
       "      <td>b</td>\n",
       "    </tr>\n",
       "    <tr>\n",
       "      <th>404767</th>\n",
       "      <td>404768</td>\n",
       "      <td>231</td>\n",
       "      <td>a</td>\n",
       "    </tr>\n",
       "    <tr>\n",
       "      <th>404768</th>\n",
       "      <td>404769</td>\n",
       "      <td>0</td>\n",
       "      <td>a</td>\n",
       "    </tr>\n",
       "    <tr>\n",
       "      <th>404769</th>\n",
       "      <td>404770</td>\n",
       "      <td>0</td>\n",
       "      <td>b</td>\n",
       "    </tr>\n",
       "  </tbody>\n",
       "</table>\n",
       "<p>404770 rows × 3 columns</p>\n",
       "</div>"
      ],
      "text/plain": [
       "        user_id  revenue testgroup\n",
       "0             1        0         b\n",
       "1             2        0         a\n",
       "2             3        0         a\n",
       "3             4        0         b\n",
       "4             5        0         b\n",
       "...         ...      ...       ...\n",
       "404765   404766        0         a\n",
       "404766   404767        0         b\n",
       "404767   404768      231         a\n",
       "404768   404769        0         a\n",
       "404769   404770        0         b\n",
       "\n",
       "[404770 rows x 3 columns]"
      ]
     },
     "execution_count": 28,
     "metadata": {
      "tags": []
     },
     "output_type": "execute_result"
    }
   ],
   "source": [
    "df = pd.read_csv('https://stepik.org/media/attachments/lesson/409318/problem2.csv', sep=';')\n",
    "df"
   ]
  },
  {
   "cell_type": "markdown",
   "metadata": {
    "id": "dIaak5lqyTTV"
   },
   "source": [
    "Проверим, статичтически значимо или нет преимущество ARPU тестовой группы над ARPU контрольной группы."
   ]
  },
  {
   "cell_type": "code",
   "execution_count": 31,
   "metadata": {
    "colab": {
     "base_uri": "https://localhost:8080/",
     "height": 279
    },
    "id": "TQO_6robyUsc",
    "outputId": "afde22c8-9394-4a5a-8d0a-1efd5d07ea22"
   },
   "outputs": [
    {
     "data": {
      "image/png": "[encoded data removed]",
      "text/plain": [
       "<Figure size 432x288 with 2 Axes>"
      ]
     },
     "metadata": {
      "needs_background": "light",
      "tags": []
     },
     "output_type": "display_data"
    }
   ],
   "source": [
    "plt.subplot(1, 2, 1)\n",
    "df.query('testgroup == \"a\" and revenue > 0')['revenue'].hist(color='blue')\n",
    "plt.xlabel('Control')\n",
    "\n",
    "plt.subplot(1, 2, 2)\n",
    "df.query('testgroup == \"b\" and revenue > 0')['revenue'].hist()\n",
    "plt.xlabel('Test')\n",
    "\n",
    "sns.despine()"
   ]
  },
  {
   "cell_type": "markdown",
   "metadata": {
    "id": "JW_IjOWRywl5"
   },
   "source": [
    "Выбросы в контрольной группе. В любом случае, исключить мы их не можем, потому что не знаем природы возникновения. Значит для оценки нужен критерий, устойчивый к выбросам: обратимся к U-критерию Манна-Уитни."
   ]
  },
  {
   "cell_type": "code",
   "execution_count": 32,
   "metadata": {
    "colab": {
     "base_uri": "https://localhost:8080/"
    },
    "id": "Sps89ZjDynb7",
    "outputId": "811619d3-ebe4-41f8-aca3-80b13c7e2a91"
   },
   "outputs": [
    {
     "name": "stdout",
     "output_type": "stream",
     "text": [
      "pvalue = 0.03\n"
     ]
    }
   ],
   "source": [
    "#  Проведём тест и посмотрим на p-уровень значимости.\n",
    "statistic, pvalue = stats.mannwhitneyu(df.query('testgroup == \"a\"').revenue,\n",
    "                                       df.query('testgroup == \"b\"').revenue)\n",
    "print('pvalue =', pvalue.round(2))"
   ]
  },
  {
   "cell_type": "code",
   "execution_count": 38,
   "metadata": {
    "colab": {
     "base_uri": "https://localhost:8080/"
    },
    "id": "EGFRKZcpzFhi",
    "outputId": "9d60726d-67b9-4d19-9eb5-5a3340ff0cea"
   },
   "outputs": [
    {
     "name": "stdout",
     "output_type": "stream",
     "text": [
      "ARPU_control = 25.413719736965806\n",
      "ARPU_control = 26.75128659327863\n",
      "ARPU_test > ARPU_control на 5.0%\n"
     ]
    }
   ],
   "source": [
    "#  Посчитаем ARPU для контрольной и тестовой групп.\n",
    "ARPU_control = df.query('testgroup == \"a\"').revenue.mean()\n",
    "ARPU_test = df.query('testgroup == \"b\"').revenue.mean()\n",
    "\n",
    "print(f'ARPU_control = {ARPU_control}')\n",
    "print(f'ARPU_control = {ARPU_test}')\n",
    "print(f'ARPU_test > ARPU_control на {round((ARPU_test - ARPU_control) / ARPU_test * 100, 2)}%')"
   ]
  },
  {
   "cell_type": "markdown",
   "metadata": {
    "id": "5GHI0k7Xz8RR"
   },
   "source": [
    "Итак, с помощью U-критерия Манна-Уитни удалось определить: ARPU тестовой группы статистически значимо выше, чем ARPU контрольной группы на 5.01%. Но pvalue = 0.03... Это конечно хорошо, если α = 0.05. Но нам очень не хочется совершить ошибку первого рода, приняв альтернативную гипотезу, и отклонив при этом верную - нулевую. Поэтому, если мы примем α = 0.01 для большей уверенности, то поводов для отклонения нулевой гипотезы уже не будет.\n",
    "\n",
    "Чтобы подстраховаться, обратимся к \"универсальному инструменту\", результаты которого потенциально более точны: Bootstrap."
   ]
  },
  {
   "cell_type": "code",
   "execution_count": 39,
   "metadata": {
    "colab": {
     "base_uri": "https://localhost:8080/",
     "height": 419
    },
    "id": "kaj0bq37z7ah",
    "outputId": "ea8168e7-0cf8-4cac-bc7e-02a9cfb620d4"
   },
   "outputs": [
    {
     "data": {
      "text/html": [
       "<div>\n",
       "<style scoped>\n",
       "    .dataframe tbody tr th:only-of-type {\n",
       "        vertical-align: middle;\n",
       "    }\n",
       "\n",
       "    .dataframe tbody tr th {\n",
       "        vertical-align: top;\n",
       "    }\n",
       "\n",
       "    .dataframe thead th {\n",
       "        text-align: right;\n",
       "    }\n",
       "</style>\n",
       "<table border=\"1\" class=\"dataframe\">\n",
       "  <thead>\n",
       "    <tr style=\"text-align: right;\">\n",
       "      <th></th>\n",
       "      <th>sample_a</th>\n",
       "      <th>sample_b</th>\n",
       "    </tr>\n",
       "  </thead>\n",
       "  <tbody>\n",
       "    <tr>\n",
       "      <th>0</th>\n",
       "      <td>0.0</td>\n",
       "      <td>0.0</td>\n",
       "    </tr>\n",
       "    <tr>\n",
       "      <th>1</th>\n",
       "      <td>0.0</td>\n",
       "      <td>0.0</td>\n",
       "    </tr>\n",
       "    <tr>\n",
       "      <th>2</th>\n",
       "      <td>0.0</td>\n",
       "      <td>0.0</td>\n",
       "    </tr>\n",
       "    <tr>\n",
       "      <th>3</th>\n",
       "      <td>0.0</td>\n",
       "      <td>0.0</td>\n",
       "    </tr>\n",
       "    <tr>\n",
       "      <th>4</th>\n",
       "      <td>0.0</td>\n",
       "      <td>0.0</td>\n",
       "    </tr>\n",
       "    <tr>\n",
       "      <th>...</th>\n",
       "      <td>...</td>\n",
       "      <td>...</td>\n",
       "    </tr>\n",
       "    <tr>\n",
       "      <th>404765</th>\n",
       "      <td>0.0</td>\n",
       "      <td>0.0</td>\n",
       "    </tr>\n",
       "    <tr>\n",
       "      <th>404766</th>\n",
       "      <td>0.0</td>\n",
       "      <td>0.0</td>\n",
       "    </tr>\n",
       "    <tr>\n",
       "      <th>404767</th>\n",
       "      <td>231.0</td>\n",
       "      <td>0.0</td>\n",
       "    </tr>\n",
       "    <tr>\n",
       "      <th>404768</th>\n",
       "      <td>0.0</td>\n",
       "      <td>0.0</td>\n",
       "    </tr>\n",
       "    <tr>\n",
       "      <th>404769</th>\n",
       "      <td>0.0</td>\n",
       "      <td>0.0</td>\n",
       "    </tr>\n",
       "  </tbody>\n",
       "</table>\n",
       "<p>404770 rows × 2 columns</p>\n",
       "</div>"
      ],
      "text/plain": [
       "        sample_a  sample_b\n",
       "0            0.0       0.0\n",
       "1            0.0       0.0\n",
       "2            0.0       0.0\n",
       "3            0.0       0.0\n",
       "4            0.0       0.0\n",
       "...          ...       ...\n",
       "404765       0.0       0.0\n",
       "404766       0.0       0.0\n",
       "404767     231.0       0.0\n",
       "404768       0.0       0.0\n",
       "404769       0.0       0.0\n",
       "\n",
       "[404770 rows x 2 columns]"
      ]
     },
     "execution_count": 39,
     "metadata": {
      "tags": []
     },
     "output_type": "execute_result"
    }
   ],
   "source": [
    "sample_a = df.query('testgroup == \"a\"').revenue\n",
    "sample_b = df.query('testgroup == \"b\"').revenue\n",
    "\n",
    "samples = pd.DataFrame({\n",
    "    \"sample_a\": sample_a,\n",
    "    \"sample_b\": sample_b\n",
    "}).fillna(0)\n",
    "\n",
    "samples"
   ]
  },
  {
   "cell_type": "code",
   "execution_count": 44,
   "metadata": {
    "id": "ebu_IhNk0l57"
   },
   "outputs": [],
   "source": [
    "from tqdm.auto import tqdm\n",
    "#  Помним о выбросах, поэтому используем в качестве меры центральной тенденции медиану.\n",
    "\n",
    "def get_bootstrap(\n",
    "    data_column_1,\n",
    "    data_column_2,\n",
    "    boot_it = 1000,\n",
    "    statistic = np.median,\n",
    "    bootstrap_conf_level = 0.99    # зададим уровень в соответствии с нашей новой α = 0.01.\n",
    "):\n",
    "      \n",
    "    \"\"\"\n",
    "        data_column_1, # числовые значения первой выборки\n",
    "        data_column_2, # числовые значения второй выборки\n",
    "        boot_it = 1000, # количество бутстрэп-подвыборок\n",
    "        statistic = np.median, # интересующая нас статистика \n",
    "    \"\"\"\n",
    "    \n",
    "    boot_len = max([len(data_column_1), len(data_column_2)])\n",
    "    boot_data = []\n",
    "    for i in tqdm(range(boot_it)):\n",
    "        samples_1 = data_column_1.sample(\n",
    "            boot_len, \n",
    "            replace = True\n",
    "        ).values\n",
    "        \n",
    "        samples_2 = data_column_2.sample(\n",
    "            boot_len, \n",
    "            replace = True\n",
    "        ).values\n",
    "        \n",
    "        boot_data.append(statistic(samples_1 - samples_2))\n",
    "        \n",
    "    pd_boot_data = pd.DataFrame(boot_data)\n",
    "        \n",
    "    left_quant = (1 - bootstrap_conf_level) / 2\n",
    "    right_quant = 1 - (1 - bootstrap_conf_level) / 2\n",
    "    quants = pd_boot_data.quantile([left_quant, right_quant])\n",
    "        \n",
    "    p_1 = stats.norm.cdf(\n",
    "        x = 0, \n",
    "        loc = np.mean(boot_data), \n",
    "        scale = np.std(boot_data)\n",
    "    )\n",
    "    p_2 = stats.norm.cdf(\n",
    "        x = 0, \n",
    "        loc = -np.mean(boot_data), \n",
    "        scale = np.std(boot_data)\n",
    "    )\n",
    "    p_value = min(p_1, p_2) * 2\n",
    "        \n",
    "    # Визуализация\n",
    "    _, _, bars = plt.hist(pd_boot_data[0], bins = 50)\n",
    "    for bar in bars:\n",
    "        if abs(bar.get_x()) <= quants.iloc[0][0] or abs(bar.get_x()) >= quants.iloc[1][0]:\n",
    "            bar.set_facecolor('red')\n",
    "        else: \n",
    "            bar.set_facecolor('grey')\n",
    "            bar.set_edgecolor('black')\n",
    "    \n",
    "    plt.style.use('ggplot')\n",
    "    plt.vlines(quants,ymin=0,ymax=50,linestyle='--')\n",
    "    plt.xlabel('boot_data')\n",
    "    plt.ylabel('frequency')\n",
    "    plt.title(\"Histogram of boot_data\")\n",
    "    plt.show()\n",
    "       \n",
    "    return {\"boot_data\": boot_data, \n",
    "            \"quants\": quants, \n",
    "            \"p_value\": p_value}"
   ]
  },
  {
   "cell_type": "code",
   "execution_count": 45,
   "metadata": {
    "colab": {
     "base_uri": "https://localhost:8080/",
     "height": 346,
     "referenced_widgets": [
      "98a6ac7ae8704f07aeaf0b9d48af0937",
      "19a29dc054ac4aeaa1b5fc168e532e40",
      "e7d5a3ebcd6e48e5953a13501c2e4922",
      "8dcdceb285e848f9b063e70044c63c81",
      "4548dc86e36b481baa0188a1157f2f3a",
      "ae8e33752a124934acd5c66c1f75dbec",
      "ff8070564f6e4badb1557f41b4f6ab5d",
      "0ecc68570eb44b92a42d602a20f96e72"
     ]
    },
    "id": "A5j6-5aV0ykH",
    "outputId": "b756958d-51ec-44bb-e725-dfc8323bf026"
   },
   "outputs": [
    {
     "data": {
      "application/vnd.jupyter.widget-view+json": {
       "model_id": "98a6ac7ae8704f07aeaf0b9d48af0937",
       "version_major": 2,
       "version_minor": 0
      },
      "text/plain": [
       "HBox(children=(FloatProgress(value=0.0, max=1000.0), HTML(value='')))"
      ]
     },
     "metadata": {
      "tags": []
     },
     "output_type": "display_data"
    },
    {
     "name": "stdout",
     "output_type": "stream",
     "text": [
      "\n"
     ]
    },
    {
     "data": {
      "image/png": "[encoded data removed]",
      "text/plain": [
       "<Figure size 432x288 with 1 Axes>"
      ]
     },
     "metadata": {
      "needs_background": "light",
      "tags": []
     },
     "output_type": "display_data"
    }
   ],
   "source": [
    "booted_data_median = get_bootstrap(samples.query('sample_a != 0').sample_a,\n",
    "                                   samples.query('sample_b != 0').sample_b)\n"
   ]
  },
  {
   "cell_type": "code",
   "execution_count": 48,
   "metadata": {
    "colab": {
     "base_uri": "https://localhost:8080/",
     "height": 111
    },
    "id": "gNckmKOE1UYx",
    "outputId": "412e7642-dd4f-4340-c378-06166faa560f"
   },
   "outputs": [
    {
     "data": {
      "text/html": [
       "<div>\n",
       "<style scoped>\n",
       "    .dataframe tbody tr th:only-of-type {\n",
       "        vertical-align: middle;\n",
       "    }\n",
       "\n",
       "    .dataframe tbody tr th {\n",
       "        vertical-align: top;\n",
       "    }\n",
       "\n",
       "    .dataframe thead th {\n",
       "        text-align: right;\n",
       "    }\n",
       "</style>\n",
       "<table border=\"1\" class=\"dataframe\">\n",
       "  <thead>\n",
       "    <tr style=\"text-align: right;\">\n",
       "      <th></th>\n",
       "      <th>0</th>\n",
       "    </tr>\n",
       "  </thead>\n",
       "  <tbody>\n",
       "    <tr>\n",
       "      <th>0.005</th>\n",
       "      <td>-2706.0100</td>\n",
       "    </tr>\n",
       "    <tr>\n",
       "      <th>0.995</th>\n",
       "      <td>-2581.9975</td>\n",
       "    </tr>\n",
       "  </tbody>\n",
       "</table>\n",
       "</div>"
      ],
      "text/plain": [
       "               0\n",
       "0.005 -2706.0100\n",
       "0.995 -2581.9975"
      ]
     },
     "execution_count": 48,
     "metadata": {
      "tags": []
     },
     "output_type": "execute_result"
    }
   ],
   "source": [
    "booted_data_median['quants']"
   ]
  },
  {
   "cell_type": "code",
   "execution_count": 49,
   "metadata": {
    "colab": {
     "base_uri": "https://localhost:8080/"
    },
    "id": "CRpVGapN2Uer",
    "outputId": "cc8e7956-0dc0-4beb-936b-17a0a232231c"
   },
   "outputs": [
    {
     "data": {
      "text/plain": [
       "0.0"
      ]
     },
     "execution_count": 49,
     "metadata": {
      "tags": []
     },
     "output_type": "execute_result"
    }
   ],
   "source": [
    "booted_data_median['p_value']"
   ]
  },
  {
   "cell_type": "markdown",
   "metadata": {
    "id": "wxRtTkno2xne"
   },
   "source": []
  },
  {
   "cell_type": "markdown",
   "metadata": {
    "id": "bWZz66Dd2YQA"
   },
   "source": [
    "Видим, что доверительный интервал вышел за 0, а p_value = 0.0.\n",
    "\n",
    "Вот так уже лучше, теперь с определённой уверенностью мы можем сказать, что в тестовой группе статистически значимо увеличился ARPU по отношению к контрольной группе.\n",
    "\n",
    "Но мы также не могли не заметить, что в тестовой группе, которая сама по себе немного больше, чем контрольная, платящих пользователей стало меньше, чем в контрольной. Нужно проверить, имеет ли такое снижение платящих пользователей статистическую значимость."
   ]
  },
  {
   "cell_type": "code",
   "execution_count": 50,
   "metadata": {
    "id": "MBmjfzwd2yWi"
   },
   "outputs": [],
   "source": [
    "# Воспользуемся А/В тестом для пропорций.\n",
    "# В контрольной группе (а) 1928 платящих из 202103.\n",
    "# В тестовой группе (b) 1805 платящих из 202667.\n",
    "\n",
    "s1, s2 = 1928, 1805\n",
    "n1, n2 = 202103, 202667"
   ]
  },
  {
   "cell_type": "code",
   "execution_count": 56,
   "metadata": {
    "colab": {
     "base_uri": "https://localhost:8080/"
    },
    "id": "nwnYjPMi27W1",
    "outputId": "04ac3f08-a4c9-4deb-f8dc-b9e564a312b5"
   },
   "outputs": [
    {
     "name": "stdout",
     "output_type": "stream",
     "text": [
      "p_value = 0.035028524642854865\n"
     ]
    }
   ],
   "source": [
    "import statsmodels.api as sm\n",
    "z, p_value = sm.stats.proportions_ztest([s1, s2], [n1, n2])\n",
    "print('p_value =', p_value)"
   ]
  },
  {
   "cell_type": "markdown",
   "metadata": {
    "id": "BD4XjeYa3u2y"
   },
   "source": [
    "И что мы видим: p_value < 0.05. Значит количество платящих пользователей статистически значимо уменьшилось(по крайней мере если опираться на α = 0.05). Это для нас нехорошо.\n",
    "\n",
    "Но мы помним про выбросы. А что если если был сбой системы, и все наши \"VIP-плательщики\" на самом деле не заплатили ничего. Тогда тест покажет другой результат."
   ]
  },
  {
   "cell_type": "code",
   "execution_count": 60,
   "metadata": {
    "colab": {
     "base_uri": "https://localhost:8080/"
    },
    "id": "K71TQSht3jLu",
    "outputId": "6b2749f5-66b4-45c8-b592-adadad20f4d3"
   },
   "outputs": [
    {
     "name": "stdout",
     "output_type": "stream",
     "text": [
      "p_value = 0.9329809027702953\n"
     ]
    }
   ],
   "source": [
    "z, p_value = sm.stats.proportions_ztest([s2, s2], [n1, n2])\n",
    "print('p_value =', p_value)"
   ]
  },
  {
   "cell_type": "markdown",
   "metadata": {
    "id": "kfhI6uR34F_D"
   },
   "source": [
    "Всё упирается в выбросы."
   ]
  },
  {
   "cell_type": "code",
   "execution_count": 62,
   "metadata": {
    "colab": {
     "base_uri": "https://localhost:8080/",
     "height": 282
    },
    "id": "kS0CHk054FCi",
    "outputId": "f56526a3-4164-4342-9d8d-87c1550d0e7a"
   },
   "outputs": [
    {
     "data": {
      "image/png": "[encoded data removed]",
      "text/plain": [
       "<Figure size 432x288 with 2 Axes>"
      ]
     },
     "metadata": {
      "tags": []
     },
     "output_type": "display_data"
    }
   ],
   "source": [
    "#  Построим распределения платящих пользователей для контрольной и тестовой групп, но теперь без учёта выбросов.\n",
    "plt.subplot(1, 2, 1)\n",
    "df.query('testgroup == \"a\" and 0 < revenue < 5000')['revenue'].hist(color='blue')\n",
    "plt.xlabel('Control')\n",
    "\n",
    "plt.subplot(1, 2, 2)\n",
    "df.query('testgroup == \"b\" and revenue > 0')['revenue'].hist()\n",
    "plt.xlabel('Test')\n",
    "\n",
    "sns.despine()"
   ]
  },
  {
   "cell_type": "markdown",
   "metadata": {
    "id": "-1Cd65Q54YUy"
   },
   "source": [
    "По графикам видно, что, если не принимать во внимание выбросы в контрольной группе, то размах Revenue в контрольной группе 200 - 400, а в тестовой 2000 - 4000. Разница очевидна. Посчитаем точно."
   ]
  },
  {
   "cell_type": "code",
   "execution_count": 63,
   "metadata": {
    "colab": {
     "base_uri": "https://localhost:8080/"
    },
    "id": "htlCcNGT4ncd",
    "outputId": "7842c2a1-e3fe-4f37-9253-11e8b707c3b7"
   },
   "outputs": [
    {
     "name": "stdout",
     "output_type": "stream",
     "text": [
      "ARPPU_control = 302.45817174515236\n",
      "ARPPU_test = 3003.6581717451522\n"
     ]
    }
   ],
   "source": [
    "#  ARPPU контрольной группы без выбросов и ARPPU тестовой группы.\n",
    "ARPPU_control = df.query('testgroup == \"a\" and 0 < revenue < 30000').revenue.mean()\n",
    "ARPPU_test = df.query('testgroup == \"b\" and revenue > 0').revenue.mean()\n",
    "\n",
    "print('ARPPU_control =', ARPPU_control)\n",
    "print('ARPPU_test =', ARPPU_test)\n",
    "#  Тут видим десятикратное превосходство ARPPU тестовой группы"
   ]
  },
  {
   "cell_type": "code",
   "execution_count": 64,
   "metadata": {
    "colab": {
     "base_uri": "https://localhost:8080/"
    },
    "id": "wFvkV3aR40YH",
    "outputId": "6ffe657e-cecf-461a-8d2e-4822f7ec99ae"
   },
   "outputs": [
    {
     "data": {
      "text/plain": [
       "count      123.000000\n",
       "mean     37319.121951\n",
       "std         25.442183\n",
       "min      37293.000000\n",
       "25%      37301.000000\n",
       "50%      37311.000000\n",
       "75%      37329.000000\n",
       "max      37433.000000\n",
       "Name: revenue, dtype: float64"
      ]
     },
     "execution_count": 64,
     "metadata": {
      "tags": []
     },
     "output_type": "execute_result"
    }
   ],
   "source": [
    "#  Посмотрим на характеристики наших \"VIP-пользователей\"\n",
    "df.query('testgroup == \"a\" and revenue > 5000').revenue.describe()\n",
    "#  Всего 123 пользователя и подозрительно маленькое стандартное отклонение."
   ]
  },
  {
   "cell_type": "markdown",
   "metadata": {
    "id": "-_4MBQnF4_hp"
   },
   "source": [
    "## Выводы:\n",
    "\n",
    " 1. Проанализировав данные, мы установили, что ARPU в тестовой группе статистически значимо увеличилось на 5% по сравнению с контрольной группой.\n",
    "\n",
    " 2. Также мы увидели выбросы в контрольной группе, которые говорят либо о наличии в ней группы пользователей, которым настолько нравится наше приложение в том виде, в котором оно есть, что они всё покупают и покупают \n",
    "самые дорогие саженцы и лейки 99 уровня, каждая из которых может полить за один раз до 1Га их любимого сада:) (это, конечно, маловероятно - выбросы слишком уж велики и мало отличаются между собой), либо это баг.\n",
    "\n",
    " 3. В любом случае: если выбросы — реальные пользователи; баг программы, записавший в \"VIP-пользователи\" тех, кто на самом деле ничего не заплатил), то мы принимаем изменения с одной лишь разницей: если \"VIP-пользователи\"\n",
    "реальны, то на них изменения пока не раскатываем (по ним лучше отдельно провести свой А/В-тест и посмотреть, нравится им или нет), если же баг, и вместо больших сумм - нули, то просто раскатываем на всех."
   ]
  }
 ],
 "metadata": {
  "colab": {
   "name": "A-B test (delivery).ipynb",
   "provenance": []
  },
  "kernelspec": {
   "display_name": "Python 3",
   "language": "python",
   "name": "python3"
  },
  "language_info": {
   "codemirror_mode": {
    "name": "ipython",
    "version": 3
   },
   "file_extension": ".py",
   "mimetype": "text/x-python",
   "name": "python",
   "nbconvert_exporter": "python",
   "pygments_lexer": "ipython3",
   "version": "3.8.3"
  },
  "widgets": {
   "application/vnd.jupyter.widget-state+json": {
    "0ecc68570eb44b92a42d602a20f96e72": {
     "model_module": "@jupyter-widgets/base",
     "model_name": "LayoutModel",
     "state": {
      "_model_module": "@jupyter-widgets/base",
      "_model_module_version": "1.2.0",
      "_model_name": "LayoutModel",
      "_view_count": null,
      "_view_module": "@jupyter-widgets/base",
      "_view_module_version": "1.2.0",
      "_view_name": "LayoutView",
      "align_content": null,
      "align_items": null,
      "align_self": null,
      "border": null,
      "bottom": null,
      "display": null,
      "flex": null,
      "flex_flow": null,
      "grid_area": null,
      "grid_auto_columns": null,
      "grid_auto_flow": null,
      "grid_auto_rows": null,
      "grid_column": null,
      "grid_gap": null,
      "grid_row": null,
      "grid_template_areas": null,
      "grid_template_columns": null,
      "grid_template_rows": null,
      "height": null,
      "justify_content": null,
      "justify_items": null,
      "left": null,
      "margin": null,
      "max_height": null,
      "max_width": null,
      "min_height": null,
      "min_width": null,
      "object_fit": null,
      "object_position": null,
      "order": null,
      "overflow": null,
      "overflow_x": null,
      "overflow_y": null,
      "padding": null,
      "right": null,
      "top": null,
      "visibility": null,
      "width": null
     }
    },
    "19a29dc054ac4aeaa1b5fc168e532e40": {
     "model_module": "@jupyter-widgets/base",
     "model_name": "LayoutModel",
     "state": {
      "_model_module": "@jupyter-widgets/base",
      "_model_module_version": "1.2.0",
      "_model_name": "LayoutModel",
      "_view_count": null,
      "_view_module": "@jupyter-widgets/base",
      "_view_module_version": "1.2.0",
      "_view_name": "LayoutView",
      "align_content": null,
      "align_items": null,
      "align_self": null,
      "border": null,
      "bottom": null,
      "display": null,
      "flex": null,
      "flex_flow": null,
      "grid_area": null,
      "grid_auto_columns": null,
      "grid_auto_flow": null,
      "grid_auto_rows": null,
      "grid_column": null,
      "grid_gap": null,
      "grid_row": null,
      "grid_template_areas": null,
      "grid_template_columns": null,
      "grid_template_rows": null,
      "height": null,
      "justify_content": null,
      "justify_items": null,
      "left": null,
      "margin": null,
      "max_height": null,
      "max_width": null,
      "min_height": null,
      "min_width": null,
      "object_fit": null,
      "object_position": null,
      "order": null,
      "overflow": null,
      "overflow_x": null,
      "overflow_y": null,
      "padding": null,
      "right": null,
      "top": null,
      "visibility": null,
      "width": null
     }
    },
    "4548dc86e36b481baa0188a1157f2f3a": {
     "model_module": "@jupyter-widgets/controls",
     "model_name": "ProgressStyleModel",
     "state": {
      "_model_module": "@jupyter-widgets/controls",
      "_model_module_version": "1.5.0",
      "_model_name": "ProgressStyleModel",
      "_view_count": null,
      "_view_module": "@jupyter-widgets/base",
      "_view_module_version": "1.2.0",
      "_view_name": "StyleView",
      "bar_color": null,
      "description_width": "initial"
     }
    },
    "8dcdceb285e848f9b063e70044c63c81": {
     "model_module": "@jupyter-widgets/controls",
     "model_name": "HTMLModel",
     "state": {
      "_dom_classes": [],
      "_model_module": "@jupyter-widgets/controls",
      "_model_module_version": "1.5.0",
      "_model_name": "HTMLModel",
      "_view_count": null,
      "_view_module": "@jupyter-widgets/controls",
      "_view_module_version": "1.5.0",
      "_view_name": "HTMLView",
      "description": "",
      "description_tooltip": null,
      "layout": "IPY_MODEL_0ecc68570eb44b92a42d602a20f96e72",
      "placeholder": "​",
      "style": "IPY_MODEL_ff8070564f6e4badb1557f41b4f6ab5d",
      "value": " 1000/1000 [00:00&lt;00:00, 2111.95it/s]"
     }
    },
    "98a6ac7ae8704f07aeaf0b9d48af0937": {
     "model_module": "@jupyter-widgets/controls",
     "model_name": "HBoxModel",
     "state": {
      "_dom_classes": [],
      "_model_module": "@jupyter-widgets/controls",
      "_model_module_version": "1.5.0",
      "_model_name": "HBoxModel",
      "_view_count": null,
      "_view_module": "@jupyter-widgets/controls",
      "_view_module_version": "1.5.0",
      "_view_name": "HBoxView",
      "box_style": "",
      "children": [
       "IPY_MODEL_e7d5a3ebcd6e48e5953a13501c2e4922",
       "IPY_MODEL_8dcdceb285e848f9b063e70044c63c81"
      ],
      "layout": "IPY_MODEL_19a29dc054ac4aeaa1b5fc168e532e40"
     }
    },
    "ae8e33752a124934acd5c66c1f75dbec": {
     "model_module": "@jupyter-widgets/base",
     "model_name": "LayoutModel",
     "state": {
      "_model_module": "@jupyter-widgets/base",
      "_model_module_version": "1.2.0",
      "_model_name": "LayoutModel",
      "_view_count": null,
      "_view_module": "@jupyter-widgets/base",
      "_view_module_version": "1.2.0",
      "_view_name": "LayoutView",
      "align_content": null,
      "align_items": null,
      "align_self": null,
      "border": null,
      "bottom": null,
      "display": null,
      "flex": null,
      "flex_flow": null,
      "grid_area": null,
      "grid_auto_columns": null,
      "grid_auto_flow": null,
      "grid_auto_rows": null,
      "grid_column": null,
      "grid_gap": null,
      "grid_row": null,
      "grid_template_areas": null,
      "grid_template_columns": null,
      "grid_template_rows": null,
      "height": null,
      "justify_content": null,
      "justify_items": null,
      "left": null,
      "margin": null,
      "max_height": null,
      "max_width": null,
      "min_height": null,
      "min_width": null,
      "object_fit": null,
      "object_position": null,
      "order": null,
      "overflow": null,
      "overflow_x": null,
      "overflow_y": null,
      "padding": null,
      "right": null,
      "top": null,
      "visibility": null,
      "width": null
     }
    },
    "e7d5a3ebcd6e48e5953a13501c2e4922": {
     "model_module": "@jupyter-widgets/controls",
     "model_name": "FloatProgressModel",
     "state": {
      "_dom_classes": [],
      "_model_module": "@jupyter-widgets/controls",
      "_model_module_version": "1.5.0",
      "_model_name": "FloatProgressModel",
      "_view_count": null,
      "_view_module": "@jupyter-widgets/controls",
      "_view_module_version": "1.5.0",
      "_view_name": "ProgressView",
      "bar_style": "success",
      "description": "100%",
      "description_tooltip": null,
      "layout": "IPY_MODEL_ae8e33752a124934acd5c66c1f75dbec",
      "max": 1000,
      "min": 0,
      "orientation": "horizontal",
      "style": "IPY_MODEL_4548dc86e36b481baa0188a1157f2f3a",
      "value": 1000
     }
    },
    "ff8070564f6e4badb1557f41b4f6ab5d": {
     "model_module": "@jupyter-widgets/controls",
     "model_name": "DescriptionStyleModel",
     "state": {
      "_model_module": "@jupyter-widgets/controls",
      "_model_module_version": "1.5.0",
      "_model_name": "DescriptionStyleModel",
      "_view_count": null,
      "_view_module": "@jupyter-widgets/base",
      "_view_module_version": "1.2.0",
      "_view_name": "StyleView",
      "description_width": ""
     }
    }
   }
  }
 },
 "nbformat": 4,
 "nbformat_minor": 1
}
